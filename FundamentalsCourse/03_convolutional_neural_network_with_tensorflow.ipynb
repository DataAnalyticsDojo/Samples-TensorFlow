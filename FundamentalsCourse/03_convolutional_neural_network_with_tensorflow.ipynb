{
 "metadata": {
  "language_info": {
   "codemirror_mode": {
    "name": "ipython",
    "version": 3
   },
   "file_extension": ".py",
   "mimetype": "text/x-python",
   "name": "python",
   "nbconvert_exporter": "python",
   "pygments_lexer": "ipython3",
   "version": "3.7.3"
  },
  "orig_nbformat": 2,
  "kernelspec": {
   "name": "python373jvsc74a57bd031f2aee4e71d21fbe5cf8b01ff0e069b9275f58929596ceb00d14d90e3e16cd6",
   "display_name": "Python 3.7.3 64-bit"
  },
  "metadata": {
   "interpreter": {
    "hash": "31f2aee4e71d21fbe5cf8b01ff0e069b9275f58929596ceb00d14d90e3e16cd6"
   }
  }
 },
 "nbformat": 4,
 "nbformat_minor": 2,
 "cells": [
  {
   "source": [
    "# Introduction to Convolutional Neural Networks and Computer Vision with Tensorflow\n",
    "\n",
    "Computer vision is the practice of writing algorithms which can discover patterns in visual data. Such as the camera of a self driving car recognizing the car in front of it."
   ],
   "cell_type": "markdown",
   "metadata": {}
  },
  {
   "source": [
    "# Get Data\n",
    "\n",
    "* The source data set is from the [Kaggle Food 101 Data Set](https://www.kaggle.com/dansbecker/food-101)\n",
    "* Daniel modified the data set [using this script](https://github.com/mrdbourke/tensorflow-deep-learning/blob/main/extras/image_data_modification.ipynb).\n",
    "* The resulting zip file we use in this notbnook [is here](https://storage.googleapis.com/ztm_tf_course/food_vision/pizza_steak.zip).\n"
   ],
   "cell_type": "markdown",
   "metadata": {}
  },
  {
   "cell_type": "code",
   "execution_count": 2,
   "metadata": {},
   "outputs": [
    {
     "output_type": "stream",
     "name": "stdout",
     "text": [
      "--2021-04-11 15:45:05--  https://storage.googleapis.com/ztm_tf_course/food_vision/pizza_steak.zip\n",
      "Resolving storage.googleapis.com (storage.googleapis.com)... 172.217.4.80, 172.217.4.240, 172.217.5.16, ...\n",
      "Connecting to storage.googleapis.com (storage.googleapis.com)|172.217.4.80|:443... connected.\n",
      "HTTP request sent, awaiting response... 200 OK\n",
      "Length: 109579078 (105M) [application/zip]\n",
      "Saving to: ‘/home/pi/Dev/data/pizza_steak/pizza_steak.zip’\n",
      "\n",
      "/home/pi/Dev/data/p 100%[===================>] 104.50M  3.22MB/s    in 34s     \n",
      "\n",
      "2021-04-11 15:45:40 (3.05 MB/s) - ‘/home/pi/Dev/data/pizza_steak/pizza_steak.zip’ saved [109579078/109579078]\n",
      "\n"
     ]
    }
   ],
   "source": [
    "# Get the data set\n",
    "# !wget https://storage.googleapis.com/ztm_tf_course/food_vision/pizza_steak.zip -O /home/pi/Dev/data/pizza_steak/pizza_steak.zip\n"
   ]
  },
  {
   "cell_type": "code",
   "execution_count": 3,
   "metadata": {},
   "outputs": [],
   "source": [
    "# Unzip the data\n",
    "import zipfile\n",
    "zip_ref = zipfile.ZipFile(\"/home/pi/Dev/data/pizza_steak/pizza_steak.zip\")\n",
    "zip_ref.extractall(path=\"/home/pi/Dev/data/pizza_steak/\")\n",
    "zip_ref.close()\n"
   ]
  }
 ]
}