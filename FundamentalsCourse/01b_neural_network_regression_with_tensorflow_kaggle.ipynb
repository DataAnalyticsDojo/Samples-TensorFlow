{
 "metadata": {
  "language_info": {
   "codemirror_mode": {
    "name": "ipython",
    "version": 3
   },
   "file_extension": ".py",
   "mimetype": "text/x-python",
   "name": "python",
   "nbconvert_exporter": "python",
   "pygments_lexer": "ipython3",
   "version": "3.7.3"
  },
  "orig_nbformat": 2,
  "kernelspec": {
   "name": "python373jvsc74a57bd031f2aee4e71d21fbe5cf8b01ff0e069b9275f58929596ceb00d14d90e3e16cd6",
   "display_name": "Python 3.7.3 64-bit"
  },
  "metadata": {
   "interpreter": {
    "hash": "31f2aee4e71d21fbe5cf8b01ff0e069b9275f58929596ceb00d14d90e3e16cd6"
   }
  }
 },
 "nbformat": 4,
 "nbformat_minor": 2,
 "cells": [
  {
   "source": [
    "# Kaggle Example\n",
    "\n",
    "https://www.kaggle.com/mirichoi0218/insurance\n",
    "\n",
    "We will use this dataset to try to predict the charges.\n"
   ],
   "cell_type": "markdown",
   "metadata": {}
  },
  {
   "cell_type": "code",
   "execution_count": 146,
   "metadata": {},
   "outputs": [],
   "source": [
    "#Import sklearn before tensorflow\n",
    "from sklearn.model_selection import train_test_split\n",
    "import sklearn\n",
    "import tensorflow as tf\n",
    "import matplotlib.pyplot as plt\n",
    "import pandas as pd\n",
    "from sklearn.compose import make_column_transformer\n",
    "from sklearn.preprocessing import MinMaxScaler, OneHotEncoder\n"
   ]
  },
  {
   "cell_type": "code",
   "execution_count": 147,
   "metadata": {},
   "outputs": [
    {
     "output_type": "stream",
     "name": "stdout",
     "text": [
      "2.4.1\n\nSystem:\n    python: 3.7.3 (default, Jan 22 2021, 20:04:44)  [GCC 8.3.0]\nexecutable: /usr/bin/python3\n   machine: Linux-5.10.17-v8+-aarch64-with-debian-10.9\n\nPython dependencies:\n          pip: 21.0.1\n   setuptools: 54.1.2\n      sklearn: 0.24.1\n        numpy: 1.19.5\n        scipy: 1.6.1\n       Cython: 0.29.22\n       pandas: 1.2.3\n   matplotlib: 3.3.4\n       joblib: 1.0.1\nthreadpoolctl: 2.1.0\n\nBuilt with OpenMP: True\n"
     ]
    },
    {
     "output_type": "execute_result",
     "data": {
      "text/plain": [
       "(None, '3.7.3 (default, Jan 22 2021, 20:04:44) \\n[GCC 8.3.0]', None)"
      ]
     },
     "metadata": {},
     "execution_count": 147
    }
   ],
   "source": [
    "print(tf.__version__), sys.version, sklearn.show_versions()"
   ]
  },
  {
   "cell_type": "code",
   "execution_count": 148,
   "metadata": {},
   "outputs": [],
   "source": [
    "# Build a plotting function to visualize our results\n",
    "def plot_predictions (train_data, # = X_train,\n",
    "                      train_labels, # = y_train,\n",
    "                      test_data, # = X_test,\n",
    "                      test_labels, # = y_test,\n",
    "                      predictions):\n",
    "    \"\"\"\n",
    "    Plots training data, test data, and compares predictions to ground truth labels.\n",
    "    \"\"\"\n",
    "    plt.figure(figsize=(10,7))\n",
    "    #Plot trainging data in blue\n",
    "    plt.scatter(train_data, train_labels, c=\"b\", label=\"Training Data\")\n",
    "    # Plot testing data in green\n",
    "    plt.scatter(test_data, test_labels, c=\"g\", label=\"Testing Data\")\n",
    "    # Plot models predictions in red\n",
    "    plt.scatter(test_data, predictions, c=\"r\", label=\"Predictions\")\n",
    "    # Show the legend\n",
    "    plt.legend()\n",
    "\n",
    "# Make some functions to reuse MAE and MSE\n",
    "def mae(y_true, y_pred):\n",
    "    return tf.metrics.mean_absolute_error(y_true = y_true, y_pred = tf.squeeze(y_pred)).numpy()\n",
    "\n",
    "def mse(y_true, y_pred):\n",
    "    return tf.metrics.mean_squared_error(y_true = y_true, y_pred = tf.squeeze(y_pred)).numpy()"
   ]
  },
  {
   "cell_type": "code",
   "execution_count": 149,
   "metadata": {},
   "outputs": [],
   "source": [
    "# Set random seed for reproducibility\n",
    "tf.random.set_seed(42)"
   ]
  },
  {
   "source": [
    "# Get Data"
   ],
   "cell_type": "markdown",
   "metadata": {}
  },
  {
   "cell_type": "code",
   "execution_count": 150,
   "metadata": {},
   "outputs": [
    {
     "output_type": "execute_result",
     "data": {
      "text/plain": [
       "      age     sex     bmi  children smoker     region      charges\n",
       "0      19  female  27.900         0    yes  southwest  16884.92400\n",
       "1      18    male  33.770         1     no  southeast   1725.55230\n",
       "2      28    male  33.000         3     no  southeast   4449.46200\n",
       "3      33    male  22.705         0     no  northwest  21984.47061\n",
       "4      32    male  28.880         0     no  northwest   3866.85520\n",
       "...   ...     ...     ...       ...    ...        ...          ...\n",
       "1333   50    male  30.970         3     no  northwest  10600.54830\n",
       "1334   18  female  31.920         0     no  northeast   2205.98080\n",
       "1335   18  female  36.850         0     no  southeast   1629.83350\n",
       "1336   21  female  25.800         0     no  southwest   2007.94500\n",
       "1337   61  female  29.070         0    yes  northwest  29141.36030\n",
       "\n",
       "[1338 rows x 7 columns]"
      ],
      "text/html": "<div>\n<style scoped>\n    .dataframe tbody tr th:only-of-type {\n        vertical-align: middle;\n    }\n\n    .dataframe tbody tr th {\n        vertical-align: top;\n    }\n\n    .dataframe thead th {\n        text-align: right;\n    }\n</style>\n<table border=\"1\" class=\"dataframe\">\n  <thead>\n    <tr style=\"text-align: right;\">\n      <th></th>\n      <th>age</th>\n      <th>sex</th>\n      <th>bmi</th>\n      <th>children</th>\n      <th>smoker</th>\n      <th>region</th>\n      <th>charges</th>\n    </tr>\n  </thead>\n  <tbody>\n    <tr>\n      <th>0</th>\n      <td>19</td>\n      <td>female</td>\n      <td>27.900</td>\n      <td>0</td>\n      <td>yes</td>\n      <td>southwest</td>\n      <td>16884.92400</td>\n    </tr>\n    <tr>\n      <th>1</th>\n      <td>18</td>\n      <td>male</td>\n      <td>33.770</td>\n      <td>1</td>\n      <td>no</td>\n      <td>southeast</td>\n      <td>1725.55230</td>\n    </tr>\n    <tr>\n      <th>2</th>\n      <td>28</td>\n      <td>male</td>\n      <td>33.000</td>\n      <td>3</td>\n      <td>no</td>\n      <td>southeast</td>\n      <td>4449.46200</td>\n    </tr>\n    <tr>\n      <th>3</th>\n      <td>33</td>\n      <td>male</td>\n      <td>22.705</td>\n      <td>0</td>\n      <td>no</td>\n      <td>northwest</td>\n      <td>21984.47061</td>\n    </tr>\n    <tr>\n      <th>4</th>\n      <td>32</td>\n      <td>male</td>\n      <td>28.880</td>\n      <td>0</td>\n      <td>no</td>\n      <td>northwest</td>\n      <td>3866.85520</td>\n    </tr>\n    <tr>\n      <th>...</th>\n      <td>...</td>\n      <td>...</td>\n      <td>...</td>\n      <td>...</td>\n      <td>...</td>\n      <td>...</td>\n      <td>...</td>\n    </tr>\n    <tr>\n      <th>1333</th>\n      <td>50</td>\n      <td>male</td>\n      <td>30.970</td>\n      <td>3</td>\n      <td>no</td>\n      <td>northwest</td>\n      <td>10600.54830</td>\n    </tr>\n    <tr>\n      <th>1334</th>\n      <td>18</td>\n      <td>female</td>\n      <td>31.920</td>\n      <td>0</td>\n      <td>no</td>\n      <td>northeast</td>\n      <td>2205.98080</td>\n    </tr>\n    <tr>\n      <th>1335</th>\n      <td>18</td>\n      <td>female</td>\n      <td>36.850</td>\n      <td>0</td>\n      <td>no</td>\n      <td>southeast</td>\n      <td>1629.83350</td>\n    </tr>\n    <tr>\n      <th>1336</th>\n      <td>21</td>\n      <td>female</td>\n      <td>25.800</td>\n      <td>0</td>\n      <td>no</td>\n      <td>southwest</td>\n      <td>2007.94500</td>\n    </tr>\n    <tr>\n      <th>1337</th>\n      <td>61</td>\n      <td>female</td>\n      <td>29.070</td>\n      <td>0</td>\n      <td>yes</td>\n      <td>northwest</td>\n      <td>29141.36030</td>\n    </tr>\n  </tbody>\n</table>\n<p>1338 rows × 7 columns</p>\n</div>"
     },
     "metadata": {},
     "execution_count": 150
    }
   ],
   "source": [
    "# Read in the insurance dataset\n",
    "insurance = pd.read_csv(\n",
    "    \"https://raw.githubusercontent.com/stedy/Machine-Learning-with-R-datasets/master/insurance.csv\"\n",
    ")\n",
    "\n",
    "insurance"
   ]
  },
  {
   "cell_type": "code",
   "execution_count": 151,
   "metadata": {},
   "outputs": [
    {
     "output_type": "execute_result",
     "data": {
      "text/plain": [
       "               age          bmi     children       charges\n",
       "count  1338.000000  1338.000000  1338.000000   1338.000000\n",
       "mean     39.207025    30.663397     1.094918  13270.422265\n",
       "std      14.049960     6.098187     1.205493  12110.011237\n",
       "min      18.000000    15.960000     0.000000   1121.873900\n",
       "25%      27.000000    26.296250     0.000000   4740.287150\n",
       "50%      39.000000    30.400000     1.000000   9382.033000\n",
       "75%      51.000000    34.693750     2.000000  16639.912515\n",
       "max      64.000000    53.130000     5.000000  63770.428010"
      ],
      "text/html": "<div>\n<style scoped>\n    .dataframe tbody tr th:only-of-type {\n        vertical-align: middle;\n    }\n\n    .dataframe tbody tr th {\n        vertical-align: top;\n    }\n\n    .dataframe thead th {\n        text-align: right;\n    }\n</style>\n<table border=\"1\" class=\"dataframe\">\n  <thead>\n    <tr style=\"text-align: right;\">\n      <th></th>\n      <th>age</th>\n      <th>bmi</th>\n      <th>children</th>\n      <th>charges</th>\n    </tr>\n  </thead>\n  <tbody>\n    <tr>\n      <th>count</th>\n      <td>1338.000000</td>\n      <td>1338.000000</td>\n      <td>1338.000000</td>\n      <td>1338.000000</td>\n    </tr>\n    <tr>\n      <th>mean</th>\n      <td>39.207025</td>\n      <td>30.663397</td>\n      <td>1.094918</td>\n      <td>13270.422265</td>\n    </tr>\n    <tr>\n      <th>std</th>\n      <td>14.049960</td>\n      <td>6.098187</td>\n      <td>1.205493</td>\n      <td>12110.011237</td>\n    </tr>\n    <tr>\n      <th>min</th>\n      <td>18.000000</td>\n      <td>15.960000</td>\n      <td>0.000000</td>\n      <td>1121.873900</td>\n    </tr>\n    <tr>\n      <th>25%</th>\n      <td>27.000000</td>\n      <td>26.296250</td>\n      <td>0.000000</td>\n      <td>4740.287150</td>\n    </tr>\n    <tr>\n      <th>50%</th>\n      <td>39.000000</td>\n      <td>30.400000</td>\n      <td>1.000000</td>\n      <td>9382.033000</td>\n    </tr>\n    <tr>\n      <th>75%</th>\n      <td>51.000000</td>\n      <td>34.693750</td>\n      <td>2.000000</td>\n      <td>16639.912515</td>\n    </tr>\n    <tr>\n      <th>max</th>\n      <td>64.000000</td>\n      <td>53.130000</td>\n      <td>5.000000</td>\n      <td>63770.428010</td>\n    </tr>\n  </tbody>\n</table>\n</div>"
     },
     "metadata": {},
     "execution_count": 151
    }
   ],
   "source": [
    "insurance.describe()"
   ]
  },
  {
   "cell_type": "code",
   "execution_count": 152,
   "metadata": {},
   "outputs": [
    {
     "output_type": "execute_result",
     "data": {
      "text/plain": [
       "array([[<AxesSubplot:title={'center':'age'}>,\n",
       "        <AxesSubplot:title={'center':'bmi'}>],\n",
       "       [<AxesSubplot:title={'center':'children'}>,\n",
       "        <AxesSubplot:title={'center':'charges'}>]], dtype=object)"
      ]
     },
     "metadata": {},
     "execution_count": 152
    },
    {
     "output_type": "display_data",
     "data": {
      "text/plain": "<Figure size 432x288 with 4 Axes>",
      "image/svg+xml": "<?xml version=\"1.0\" encoding=\"utf-8\" standalone=\"no\"?>\n<!DOCTYPE svg PUBLIC \"-//W3C//DTD SVG 1.1//EN\"\n  \"http://www.w3.org/Graphics/SVG/1.1/DTD/svg11.dtd\">\n<!-- Created with matplotlib (https://matplotlib.org/) -->\n<svg height=\"263.63625pt\" version=\"1.1\" viewBox=\"0 0 376.612906 263.63625\" width=\"376.612906pt\" xmlns=\"http://www.w3.org/2000/svg\" xmlns:xlink=\"http://www.w3.org/1999/xlink\">\n <metadata>\n  <rdf:RDF xmlns:cc=\"http://creativecommons.org/ns#\" xmlns:dc=\"http://purl.org/dc/elements/1.1/\" xmlns:rdf=\"http://www.w3.org/1999/02/22-rdf-syntax-ns#\">\n   <cc:Work>\n    <dc:type rdf:resource=\"http://purl.org/dc/dcmitype/StillImage\"/>\n    <dc:date>2021-04-04T20:13:49.031843</dc:date>\n    <dc:format>image/svg+xml</dc:format>\n    <dc:creator>\n     <cc:Agent>\n      <dc:title>Matplotlib v3.3.4, https://matplotlib.org/</dc:title>\n     </cc:Agent>\n    </dc:creator>\n   </cc:Work>\n  </rdf:RDF>\n </metadata>\n <defs>\n  <style type=\"text/css\">*{stroke-linecap:butt;stroke-linejoin:round;}</style>\n </defs>\n <g id=\"figure_1\">\n  <g id=\"patch_1\">\n   <path d=\"M 0 263.63625 \nL 376.612906 263.63625 \nL 376.612906 0 \nL 0 0 \nz\n\" style=\"fill:none;\"/>\n  </g>\n  <g id=\"axes_1\">\n   <g id=\"patch_2\">\n    <path d=\"M 33.2875 116.857255 \nL 178.852717 116.857255 \nL 178.852717 22.318125 \nL 33.2875 22.318125 \nz\n\" style=\"fill:#ffffff;\"/>\n   </g>\n   <g id=\"patch_3\">\n    <path clip-path=\"url(#pa9f83bc770)\" d=\"M 39.904101 116.857255 \nL 53.137302 116.857255 \nL 53.137302 26.819988 \nL 39.904101 26.819988 \nz\n\" style=\"fill:#1f77b4;\"/>\n   </g>\n   <g id=\"patch_4\">\n    <path clip-path=\"url(#pa9f83bc770)\" d=\"M 53.137302 116.857255 \nL 66.370504 116.857255 \nL 66.370504 60.076997 \nL 53.137302 60.076997 \nz\n\" style=\"fill:#1f77b4;\"/>\n   </g>\n   <g id=\"patch_5\">\n    <path clip-path=\"url(#pa9f83bc770)\" d=\"M 66.370504 116.857255 \nL 79.603706 116.857255 \nL 79.603706 72.649768 \nL 66.370504 72.649768 \nz\n\" style=\"fill:#1f77b4;\"/>\n   </g>\n   <g id=\"patch_6\">\n    <path clip-path=\"url(#pa9f83bc770)\" d=\"M 79.603706 116.857255 \nL 92.836907 116.857255 \nL 92.836907 64.943876 \nL 79.603706 64.943876 \nz\n\" style=\"fill:#1f77b4;\"/>\n   </g>\n   <g id=\"patch_7\">\n    <path clip-path=\"url(#pa9f83bc770)\" d=\"M 92.836907 116.857255 \nL 106.070109 116.857255 \nL 106.070109 75.488781 \nL 92.836907 75.488781 \nz\n\" style=\"fill:#1f77b4;\"/>\n   </g>\n   <g id=\"patch_8\">\n    <path clip-path=\"url(#pa9f83bc770)\" d=\"M 106.070109 116.857255 \nL 119.30331 116.857255 \nL 119.30331 61.293717 \nL 106.070109 61.293717 \nz\n\" style=\"fill:#1f77b4;\"/>\n   </g>\n   <g id=\"patch_9\">\n    <path clip-path=\"url(#pa9f83bc770)\" d=\"M 119.30331 116.857255 \nL 132.536512 116.857255 \nL 132.536512 58.454704 \nL 119.30331 58.454704 \nz\n\" style=\"fill:#1f77b4;\"/>\n   </g>\n   <g id=\"patch_10\">\n    <path clip-path=\"url(#pa9f83bc770)\" d=\"M 132.536512 116.857255 \nL 145.769713 116.857255 \nL 145.769713 70.621902 \nL 132.536512 70.621902 \nz\n\" style=\"fill:#1f77b4;\"/>\n   </g>\n   <g id=\"patch_11\">\n    <path clip-path=\"url(#pa9f83bc770)\" d=\"M 145.769713 116.857255 \nL 159.002915 116.857255 \nL 159.002915 64.943876 \nL 145.769713 64.943876 \nz\n\" style=\"fill:#1f77b4;\"/>\n   </g>\n   <g id=\"patch_12\">\n    <path clip-path=\"url(#pa9f83bc770)\" d=\"M 159.002915 116.857255 \nL 172.236117 116.857255 \nL 172.236117 70.621902 \nL 159.002915 70.621902 \nz\n\" style=\"fill:#1f77b4;\"/>\n   </g>\n   <g id=\"matplotlib.axis_1\">\n    <g id=\"xtick_1\">\n     <g id=\"line2d_1\">\n      <path clip-path=\"url(#pa9f83bc770)\" d=\"M 45.657667 116.857255 \nL 45.657667 22.318125 \n\" style=\"fill:none;stroke:#b0b0b0;stroke-linecap:square;stroke-width:0.8;\"/>\n     </g>\n     <g id=\"line2d_2\">\n      <defs>\n       <path d=\"M 0 0 \nL 0 3.5 \n\" id=\"mf686cc8877\" style=\"stroke:#000000;stroke-width:0.8;\"/>\n      </defs>\n      <g>\n       <use style=\"stroke:#000000;stroke-width:0.8;\" x=\"45.657667\" xlink:href=\"#mf686cc8877\" y=\"116.857255\"/>\n      </g>\n     </g>\n     <g id=\"text_1\">\n      <!-- 20 -->\n      <g transform=\"translate(39.295167 131.455693)scale(0.1 -0.1)\">\n       <defs>\n        <path d=\"M 19.1875 8.296875 \nL 53.609375 8.296875 \nL 53.609375 0 \nL 7.328125 0 \nL 7.328125 8.296875 \nQ 12.9375 14.109375 22.625 23.890625 \nQ 32.328125 33.6875 34.8125 36.53125 \nQ 39.546875 41.84375 41.421875 45.53125 \nQ 43.3125 49.21875 43.3125 52.78125 \nQ 43.3125 58.59375 39.234375 62.25 \nQ 35.15625 65.921875 28.609375 65.921875 \nQ 23.96875 65.921875 18.8125 64.3125 \nQ 13.671875 62.703125 7.8125 59.421875 \nL 7.8125 69.390625 \nQ 13.765625 71.78125 18.9375 73 \nQ 24.125 74.21875 28.421875 74.21875 \nQ 39.75 74.21875 46.484375 68.546875 \nQ 53.21875 62.890625 53.21875 53.421875 \nQ 53.21875 48.921875 51.53125 44.890625 \nQ 49.859375 40.875 45.40625 35.40625 \nQ 44.1875 33.984375 37.640625 27.21875 \nQ 31.109375 20.453125 19.1875 8.296875 \nz\n\" id=\"DejaVuSans-50\"/>\n        <path d=\"M 31.78125 66.40625 \nQ 24.171875 66.40625 20.328125 58.90625 \nQ 16.5 51.421875 16.5 36.375 \nQ 16.5 21.390625 20.328125 13.890625 \nQ 24.171875 6.390625 31.78125 6.390625 \nQ 39.453125 6.390625 43.28125 13.890625 \nQ 47.125 21.390625 47.125 36.375 \nQ 47.125 51.421875 43.28125 58.90625 \nQ 39.453125 66.40625 31.78125 66.40625 \nz\nM 31.78125 74.21875 \nQ 44.046875 74.21875 50.515625 64.515625 \nQ 56.984375 54.828125 56.984375 36.375 \nQ 56.984375 17.96875 50.515625 8.265625 \nQ 44.046875 -1.421875 31.78125 -1.421875 \nQ 19.53125 -1.421875 13.0625 8.265625 \nQ 6.59375 17.96875 6.59375 36.375 \nQ 6.59375 54.828125 13.0625 64.515625 \nQ 19.53125 74.21875 31.78125 74.21875 \nz\n\" id=\"DejaVuSans-48\"/>\n       </defs>\n       <use xlink:href=\"#DejaVuSans-50\"/>\n       <use x=\"63.623047\" xlink:href=\"#DejaVuSans-48\"/>\n      </g>\n     </g>\n    </g>\n    <g id=\"xtick_2\">\n     <g id=\"line2d_3\">\n      <path clip-path=\"url(#pa9f83bc770)\" d=\"M 103.193326 116.857255 \nL 103.193326 22.318125 \n\" style=\"fill:none;stroke:#b0b0b0;stroke-linecap:square;stroke-width:0.8;\"/>\n     </g>\n     <g id=\"line2d_4\">\n      <g>\n       <use style=\"stroke:#000000;stroke-width:0.8;\" x=\"103.193326\" xlink:href=\"#mf686cc8877\" y=\"116.857255\"/>\n      </g>\n     </g>\n     <g id=\"text_2\">\n      <!-- 40 -->\n      <g transform=\"translate(96.830826 131.455693)scale(0.1 -0.1)\">\n       <defs>\n        <path d=\"M 37.796875 64.3125 \nL 12.890625 25.390625 \nL 37.796875 25.390625 \nz\nM 35.203125 72.90625 \nL 47.609375 72.90625 \nL 47.609375 25.390625 \nL 58.015625 25.390625 \nL 58.015625 17.1875 \nL 47.609375 17.1875 \nL 47.609375 0 \nL 37.796875 0 \nL 37.796875 17.1875 \nL 4.890625 17.1875 \nL 4.890625 26.703125 \nz\n\" id=\"DejaVuSans-52\"/>\n       </defs>\n       <use xlink:href=\"#DejaVuSans-52\"/>\n       <use x=\"63.623047\" xlink:href=\"#DejaVuSans-48\"/>\n      </g>\n     </g>\n    </g>\n    <g id=\"xtick_3\">\n     <g id=\"line2d_5\">\n      <path clip-path=\"url(#pa9f83bc770)\" d=\"M 160.728985 116.857255 \nL 160.728985 22.318125 \n\" style=\"fill:none;stroke:#b0b0b0;stroke-linecap:square;stroke-width:0.8;\"/>\n     </g>\n     <g id=\"line2d_6\">\n      <g>\n       <use style=\"stroke:#000000;stroke-width:0.8;\" x=\"160.728985\" xlink:href=\"#mf686cc8877\" y=\"116.857255\"/>\n      </g>\n     </g>\n     <g id=\"text_3\">\n      <!-- 60 -->\n      <g transform=\"translate(154.366485 131.455693)scale(0.1 -0.1)\">\n       <defs>\n        <path d=\"M 33.015625 40.375 \nQ 26.375 40.375 22.484375 35.828125 \nQ 18.609375 31.296875 18.609375 23.390625 \nQ 18.609375 15.53125 22.484375 10.953125 \nQ 26.375 6.390625 33.015625 6.390625 \nQ 39.65625 6.390625 43.53125 10.953125 \nQ 47.40625 15.53125 47.40625 23.390625 \nQ 47.40625 31.296875 43.53125 35.828125 \nQ 39.65625 40.375 33.015625 40.375 \nz\nM 52.59375 71.296875 \nL 52.59375 62.3125 \nQ 48.875 64.0625 45.09375 64.984375 \nQ 41.3125 65.921875 37.59375 65.921875 \nQ 27.828125 65.921875 22.671875 59.328125 \nQ 17.53125 52.734375 16.796875 39.40625 \nQ 19.671875 43.65625 24.015625 45.921875 \nQ 28.375 48.1875 33.59375 48.1875 \nQ 44.578125 48.1875 50.953125 41.515625 \nQ 57.328125 34.859375 57.328125 23.390625 \nQ 57.328125 12.15625 50.6875 5.359375 \nQ 44.046875 -1.421875 33.015625 -1.421875 \nQ 20.359375 -1.421875 13.671875 8.265625 \nQ 6.984375 17.96875 6.984375 36.375 \nQ 6.984375 53.65625 15.1875 63.9375 \nQ 23.390625 74.21875 37.203125 74.21875 \nQ 40.921875 74.21875 44.703125 73.484375 \nQ 48.484375 72.75 52.59375 71.296875 \nz\n\" id=\"DejaVuSans-54\"/>\n       </defs>\n       <use xlink:href=\"#DejaVuSans-54\"/>\n       <use x=\"63.623047\" xlink:href=\"#DejaVuSans-48\"/>\n      </g>\n     </g>\n    </g>\n   </g>\n   <g id=\"matplotlib.axis_2\">\n    <g id=\"ytick_1\">\n     <g id=\"line2d_7\">\n      <path clip-path=\"url(#pa9f83bc770)\" d=\"M 33.2875 116.857255 \nL 178.852717 116.857255 \n\" style=\"fill:none;stroke:#b0b0b0;stroke-linecap:square;stroke-width:0.8;\"/>\n     </g>\n     <g id=\"line2d_8\">\n      <defs>\n       <path d=\"M 0 0 \nL -3.5 0 \n\" id=\"mfcdd531aae\" style=\"stroke:#000000;stroke-width:0.8;\"/>\n      </defs>\n      <g>\n       <use style=\"stroke:#000000;stroke-width:0.8;\" x=\"33.2875\" xlink:href=\"#mfcdd531aae\" y=\"116.857255\"/>\n      </g>\n     </g>\n     <g id=\"text_4\">\n      <!-- 0 -->\n      <g transform=\"translate(19.925 120.656474)scale(0.1 -0.1)\">\n       <use xlink:href=\"#DejaVuSans-48\"/>\n      </g>\n     </g>\n    </g>\n    <g id=\"ytick_2\">\n     <g id=\"line2d_9\">\n      <path clip-path=\"url(#pa9f83bc770)\" d=\"M 33.2875 76.299928 \nL 178.852717 76.299928 \n\" style=\"fill:none;stroke:#b0b0b0;stroke-linecap:square;stroke-width:0.8;\"/>\n     </g>\n     <g id=\"line2d_10\">\n      <g>\n       <use style=\"stroke:#000000;stroke-width:0.8;\" x=\"33.2875\" xlink:href=\"#mfcdd531aae\" y=\"76.299928\"/>\n      </g>\n     </g>\n     <g id=\"text_5\">\n      <!-- 100 -->\n      <g transform=\"translate(7.2 80.099147)scale(0.1 -0.1)\">\n       <defs>\n        <path d=\"M 12.40625 8.296875 \nL 28.515625 8.296875 \nL 28.515625 63.921875 \nL 10.984375 60.40625 \nL 10.984375 69.390625 \nL 28.421875 72.90625 \nL 38.28125 72.90625 \nL 38.28125 8.296875 \nL 54.390625 8.296875 \nL 54.390625 0 \nL 12.40625 0 \nz\n\" id=\"DejaVuSans-49\"/>\n       </defs>\n       <use xlink:href=\"#DejaVuSans-49\"/>\n       <use x=\"63.623047\" xlink:href=\"#DejaVuSans-48\"/>\n       <use x=\"127.246094\" xlink:href=\"#DejaVuSans-48\"/>\n      </g>\n     </g>\n    </g>\n    <g id=\"ytick_3\">\n     <g id=\"line2d_11\">\n      <path clip-path=\"url(#pa9f83bc770)\" d=\"M 33.2875 35.7426 \nL 178.852717 35.7426 \n\" style=\"fill:none;stroke:#b0b0b0;stroke-linecap:square;stroke-width:0.8;\"/>\n     </g>\n     <g id=\"line2d_12\">\n      <g>\n       <use style=\"stroke:#000000;stroke-width:0.8;\" x=\"33.2875\" xlink:href=\"#mfcdd531aae\" y=\"35.7426\"/>\n      </g>\n     </g>\n     <g id=\"text_6\">\n      <!-- 200 -->\n      <g transform=\"translate(7.2 39.541819)scale(0.1 -0.1)\">\n       <use xlink:href=\"#DejaVuSans-50\"/>\n       <use x=\"63.623047\" xlink:href=\"#DejaVuSans-48\"/>\n       <use x=\"127.246094\" xlink:href=\"#DejaVuSans-48\"/>\n      </g>\n     </g>\n    </g>\n   </g>\n   <g id=\"patch_13\">\n    <path d=\"M 33.2875 116.857255 \nL 33.2875 22.318125 \n\" style=\"fill:none;stroke:#000000;stroke-linecap:square;stroke-linejoin:miter;stroke-width:0.8;\"/>\n   </g>\n   <g id=\"patch_14\">\n    <path d=\"M 178.852717 116.857255 \nL 178.852717 22.318125 \n\" style=\"fill:none;stroke:#000000;stroke-linecap:square;stroke-linejoin:miter;stroke-width:0.8;\"/>\n   </g>\n   <g id=\"patch_15\">\n    <path d=\"M 33.2875 116.857255 \nL 178.852717 116.857255 \n\" style=\"fill:none;stroke:#000000;stroke-linecap:square;stroke-linejoin:miter;stroke-width:0.8;\"/>\n   </g>\n   <g id=\"patch_16\">\n    <path d=\"M 33.2875 22.318125 \nL 178.852717 22.318125 \n\" style=\"fill:none;stroke:#000000;stroke-linecap:square;stroke-linejoin:miter;stroke-width:0.8;\"/>\n   </g>\n   <g id=\"text_7\">\n    <!-- age -->\n    <g transform=\"translate(94.892296 16.318125)scale(0.12 -0.12)\">\n     <defs>\n      <path d=\"M 34.28125 27.484375 \nQ 23.390625 27.484375 19.1875 25 \nQ 14.984375 22.515625 14.984375 16.5 \nQ 14.984375 11.71875 18.140625 8.90625 \nQ 21.296875 6.109375 26.703125 6.109375 \nQ 34.1875 6.109375 38.703125 11.40625 \nQ 43.21875 16.703125 43.21875 25.484375 \nL 43.21875 27.484375 \nz\nM 52.203125 31.203125 \nL 52.203125 0 \nL 43.21875 0 \nL 43.21875 8.296875 \nQ 40.140625 3.328125 35.546875 0.953125 \nQ 30.953125 -1.421875 24.3125 -1.421875 \nQ 15.921875 -1.421875 10.953125 3.296875 \nQ 6 8.015625 6 15.921875 \nQ 6 25.140625 12.171875 29.828125 \nQ 18.359375 34.515625 30.609375 34.515625 \nL 43.21875 34.515625 \nL 43.21875 35.40625 \nQ 43.21875 41.609375 39.140625 45 \nQ 35.0625 48.390625 27.6875 48.390625 \nQ 23 48.390625 18.546875 47.265625 \nQ 14.109375 46.140625 10.015625 43.890625 \nL 10.015625 52.203125 \nQ 14.9375 54.109375 19.578125 55.046875 \nQ 24.21875 56 28.609375 56 \nQ 40.484375 56 46.34375 49.84375 \nQ 52.203125 43.703125 52.203125 31.203125 \nz\n\" id=\"DejaVuSans-97\"/>\n      <path d=\"M 45.40625 27.984375 \nQ 45.40625 37.75 41.375 43.109375 \nQ 37.359375 48.484375 30.078125 48.484375 \nQ 22.859375 48.484375 18.828125 43.109375 \nQ 14.796875 37.75 14.796875 27.984375 \nQ 14.796875 18.265625 18.828125 12.890625 \nQ 22.859375 7.515625 30.078125 7.515625 \nQ 37.359375 7.515625 41.375 12.890625 \nQ 45.40625 18.265625 45.40625 27.984375 \nz\nM 54.390625 6.78125 \nQ 54.390625 -7.171875 48.1875 -13.984375 \nQ 42 -20.796875 29.203125 -20.796875 \nQ 24.46875 -20.796875 20.265625 -20.09375 \nQ 16.0625 -19.390625 12.109375 -17.921875 \nL 12.109375 -9.1875 \nQ 16.0625 -11.328125 19.921875 -12.34375 \nQ 23.78125 -13.375 27.78125 -13.375 \nQ 36.625 -13.375 41.015625 -8.765625 \nQ 45.40625 -4.15625 45.40625 5.171875 \nL 45.40625 9.625 \nQ 42.625 4.78125 38.28125 2.390625 \nQ 33.9375 0 27.875 0 \nQ 17.828125 0 11.671875 7.65625 \nQ 5.515625 15.328125 5.515625 27.984375 \nQ 5.515625 40.671875 11.671875 48.328125 \nQ 17.828125 56 27.875 56 \nQ 33.9375 56 38.28125 53.609375 \nQ 42.625 51.21875 45.40625 46.390625 \nL 45.40625 54.6875 \nL 54.390625 54.6875 \nz\n\" id=\"DejaVuSans-103\"/>\n      <path d=\"M 56.203125 29.59375 \nL 56.203125 25.203125 \nL 14.890625 25.203125 \nQ 15.484375 15.921875 20.484375 11.0625 \nQ 25.484375 6.203125 34.421875 6.203125 \nQ 39.59375 6.203125 44.453125 7.46875 \nQ 49.3125 8.734375 54.109375 11.28125 \nL 54.109375 2.78125 \nQ 49.265625 0.734375 44.1875 -0.34375 \nQ 39.109375 -1.421875 33.890625 -1.421875 \nQ 20.796875 -1.421875 13.15625 6.1875 \nQ 5.515625 13.8125 5.515625 26.8125 \nQ 5.515625 40.234375 12.765625 48.109375 \nQ 20.015625 56 32.328125 56 \nQ 43.359375 56 49.78125 48.890625 \nQ 56.203125 41.796875 56.203125 29.59375 \nz\nM 47.21875 32.234375 \nQ 47.125 39.59375 43.09375 43.984375 \nQ 39.0625 48.390625 32.421875 48.390625 \nQ 24.90625 48.390625 20.390625 44.140625 \nQ 15.875 39.890625 15.1875 32.171875 \nz\n\" id=\"DejaVuSans-101\"/>\n     </defs>\n     <use xlink:href=\"#DejaVuSans-97\"/>\n     <use x=\"61.279297\" xlink:href=\"#DejaVuSans-103\"/>\n     <use x=\"124.755859\" xlink:href=\"#DejaVuSans-101\"/>\n    </g>\n   </g>\n  </g>\n  <g id=\"axes_2\">\n   <g id=\"patch_17\">\n    <path d=\"M 222.522283 116.857255 \nL 368.0875 116.857255 \nL 368.0875 22.318125 \nL 222.522283 22.318125 \nz\n\" style=\"fill:#ffffff;\"/>\n   </g>\n   <g id=\"patch_18\">\n    <path clip-path=\"url(#p628941ff2d)\" d=\"M 229.138883 116.857255 \nL 242.372085 116.857255 \nL 242.372085 108.389801 \nL 229.138883 108.389801 \nz\n\" style=\"fill:#1f77b4;\"/>\n   </g>\n   <g id=\"patch_19\">\n    <path clip-path=\"url(#p628941ff2d)\" d=\"M 242.372085 116.857255 \nL 255.605287 116.857255 \nL 255.605287 81.011698 \nL 242.372085 81.011698 \nz\n\" style=\"fill:#1f77b4;\"/>\n   </g>\n   <g id=\"patch_20\">\n    <path clip-path=\"url(#p628941ff2d)\" d=\"M 255.605287 116.857255 \nL 268.838488 116.857255 \nL 268.838488 50.81111 \nL 255.605287 50.81111 \nz\n\" style=\"fill:#1f77b4;\"/>\n   </g>\n   <g id=\"patch_21\">\n    <path clip-path=\"url(#p628941ff2d)\" d=\"M 268.838488 116.857255 \nL 282.07169 116.857255 \nL 282.07169 26.819988 \nL 268.838488 26.819988 \nz\n\" style=\"fill:#1f77b4;\"/>\n   </g>\n   <g id=\"patch_22\">\n    <path clip-path=\"url(#p628941ff2d)\" d=\"M 282.07169 116.857255 \nL 295.304891 116.857255 \nL 295.304891 35.569691 \nL 282.07169 35.569691 \nz\n\" style=\"fill:#1f77b4;\"/>\n   </g>\n   <g id=\"patch_23\">\n    <path clip-path=\"url(#p628941ff2d)\" d=\"M 295.304891 116.857255 \nL 308.538093 116.857255 \nL 308.538093 61.818801 \nL 295.304891 61.818801 \nz\n\" style=\"fill:#1f77b4;\"/>\n   </g>\n   <g id=\"patch_24\">\n    <path clip-path=\"url(#p628941ff2d)\" d=\"M 308.538093 116.857255 \nL 321.771294 116.857255 \nL 321.771294 89.761401 \nL 308.538093 89.761401 \nz\n\" style=\"fill:#1f77b4;\"/>\n   </g>\n   <g id=\"patch_25\">\n    <path clip-path=\"url(#p628941ff2d)\" d=\"M 321.771294 116.857255 \nL 335.004496 116.857255 \nL 335.004496 107.825304 \nL 321.771294 107.825304 \nz\n\" style=\"fill:#1f77b4;\"/>\n   </g>\n   <g id=\"patch_26\">\n    <path clip-path=\"url(#p628941ff2d)\" d=\"M 335.004496 116.857255 \nL 348.237698 116.857255 \nL 348.237698 112.905777 \nL 335.004496 112.905777 \nz\n\" style=\"fill:#1f77b4;\"/>\n   </g>\n   <g id=\"patch_27\">\n    <path clip-path=\"url(#p628941ff2d)\" d=\"M 348.237698 116.857255 \nL 361.470899 116.857255 \nL 361.470899 116.01051 \nL 348.237698 116.01051 \nz\n\" style=\"fill:#1f77b4;\"/>\n   </g>\n   <g id=\"matplotlib.axis_3\">\n    <g id=\"xtick_4\">\n     <g id=\"line2d_13\">\n      <path clip-path=\"url(#p628941ff2d)\" d=\"M 243.522024 116.857255 \nL 243.522024 22.318125 \n\" style=\"fill:none;stroke:#b0b0b0;stroke-linecap:square;stroke-width:0.8;\"/>\n     </g>\n     <g id=\"line2d_14\">\n      <g>\n       <use style=\"stroke:#000000;stroke-width:0.8;\" x=\"243.522024\" xlink:href=\"#mf686cc8877\" y=\"116.857255\"/>\n      </g>\n     </g>\n     <g id=\"text_8\">\n      <!-- 20 -->\n      <g transform=\"translate(237.159524 131.455693)scale(0.1 -0.1)\">\n       <use xlink:href=\"#DejaVuSans-50\"/>\n       <use x=\"63.623047\" xlink:href=\"#DejaVuSans-48\"/>\n      </g>\n     </g>\n    </g>\n    <g id=\"xtick_5\">\n     <g id=\"line2d_15\">\n      <path clip-path=\"url(#p628941ff2d)\" d=\"M 314.725692 116.857255 \nL 314.725692 22.318125 \n\" style=\"fill:none;stroke:#b0b0b0;stroke-linecap:square;stroke-width:0.8;\"/>\n     </g>\n     <g id=\"line2d_16\">\n      <g>\n       <use style=\"stroke:#000000;stroke-width:0.8;\" x=\"314.725692\" xlink:href=\"#mf686cc8877\" y=\"116.857255\"/>\n      </g>\n     </g>\n     <g id=\"text_9\">\n      <!-- 40 -->\n      <g transform=\"translate(308.363192 131.455693)scale(0.1 -0.1)\">\n       <use xlink:href=\"#DejaVuSans-52\"/>\n       <use x=\"63.623047\" xlink:href=\"#DejaVuSans-48\"/>\n      </g>\n     </g>\n    </g>\n   </g>\n   <g id=\"matplotlib.axis_4\">\n    <g id=\"ytick_4\">\n     <g id=\"line2d_17\">\n      <path clip-path=\"url(#p628941ff2d)\" d=\"M 222.522283 116.857255 \nL 368.0875 116.857255 \n\" style=\"fill:none;stroke:#b0b0b0;stroke-linecap:square;stroke-width:0.8;\"/>\n     </g>\n     <g id=\"line2d_18\">\n      <g>\n       <use style=\"stroke:#000000;stroke-width:0.8;\" x=\"222.522283\" xlink:href=\"#mfcdd531aae\" y=\"116.857255\"/>\n      </g>\n     </g>\n     <g id=\"text_10\">\n      <!-- 0 -->\n      <g transform=\"translate(209.159783 120.656474)scale(0.1 -0.1)\">\n       <use xlink:href=\"#DejaVuSans-48\"/>\n      </g>\n     </g>\n    </g>\n    <g id=\"ytick_5\">\n     <g id=\"line2d_19\">\n      <path clip-path=\"url(#p628941ff2d)\" d=\"M 222.522283 88.632407 \nL 368.0875 88.632407 \n\" style=\"fill:none;stroke:#b0b0b0;stroke-linecap:square;stroke-width:0.8;\"/>\n     </g>\n     <g id=\"line2d_20\">\n      <g>\n       <use style=\"stroke:#000000;stroke-width:0.8;\" x=\"222.522283\" xlink:href=\"#mfcdd531aae\" y=\"88.632407\"/>\n      </g>\n     </g>\n     <g id=\"text_11\">\n      <!-- 100 -->\n      <g transform=\"translate(196.434783 92.431626)scale(0.1 -0.1)\">\n       <use xlink:href=\"#DejaVuSans-49\"/>\n       <use x=\"63.623047\" xlink:href=\"#DejaVuSans-48\"/>\n       <use x=\"127.246094\" xlink:href=\"#DejaVuSans-48\"/>\n      </g>\n     </g>\n    </g>\n    <g id=\"ytick_6\">\n     <g id=\"line2d_21\">\n      <path clip-path=\"url(#p628941ff2d)\" d=\"M 222.522283 60.407558 \nL 368.0875 60.407558 \n\" style=\"fill:none;stroke:#b0b0b0;stroke-linecap:square;stroke-width:0.8;\"/>\n     </g>\n     <g id=\"line2d_22\">\n      <g>\n       <use style=\"stroke:#000000;stroke-width:0.8;\" x=\"222.522283\" xlink:href=\"#mfcdd531aae\" y=\"60.407558\"/>\n      </g>\n     </g>\n     <g id=\"text_12\">\n      <!-- 200 -->\n      <g transform=\"translate(196.434783 64.206777)scale(0.1 -0.1)\">\n       <use xlink:href=\"#DejaVuSans-50\"/>\n       <use x=\"63.623047\" xlink:href=\"#DejaVuSans-48\"/>\n       <use x=\"127.246094\" xlink:href=\"#DejaVuSans-48\"/>\n      </g>\n     </g>\n    </g>\n    <g id=\"ytick_7\">\n     <g id=\"line2d_23\">\n      <path clip-path=\"url(#p628941ff2d)\" d=\"M 222.522283 32.18271 \nL 368.0875 32.18271 \n\" style=\"fill:none;stroke:#b0b0b0;stroke-linecap:square;stroke-width:0.8;\"/>\n     </g>\n     <g id=\"line2d_24\">\n      <g>\n       <use style=\"stroke:#000000;stroke-width:0.8;\" x=\"222.522283\" xlink:href=\"#mfcdd531aae\" y=\"32.18271\"/>\n      </g>\n     </g>\n     <g id=\"text_13\">\n      <!-- 300 -->\n      <g transform=\"translate(196.434783 35.981928)scale(0.1 -0.1)\">\n       <defs>\n        <path d=\"M 40.578125 39.3125 \nQ 47.65625 37.796875 51.625 33 \nQ 55.609375 28.21875 55.609375 21.1875 \nQ 55.609375 10.40625 48.1875 4.484375 \nQ 40.765625 -1.421875 27.09375 -1.421875 \nQ 22.515625 -1.421875 17.65625 -0.515625 \nQ 12.796875 0.390625 7.625 2.203125 \nL 7.625 11.71875 \nQ 11.71875 9.328125 16.59375 8.109375 \nQ 21.484375 6.890625 26.8125 6.890625 \nQ 36.078125 6.890625 40.9375 10.546875 \nQ 45.796875 14.203125 45.796875 21.1875 \nQ 45.796875 27.640625 41.28125 31.265625 \nQ 36.765625 34.90625 28.71875 34.90625 \nL 20.21875 34.90625 \nL 20.21875 43.015625 \nL 29.109375 43.015625 \nQ 36.375 43.015625 40.234375 45.921875 \nQ 44.09375 48.828125 44.09375 54.296875 \nQ 44.09375 59.90625 40.109375 62.90625 \nQ 36.140625 65.921875 28.71875 65.921875 \nQ 24.65625 65.921875 20.015625 65.03125 \nQ 15.375 64.15625 9.8125 62.3125 \nL 9.8125 71.09375 \nQ 15.4375 72.65625 20.34375 73.4375 \nQ 25.25 74.21875 29.59375 74.21875 \nQ 40.828125 74.21875 47.359375 69.109375 \nQ 53.90625 64.015625 53.90625 55.328125 \nQ 53.90625 49.265625 50.4375 45.09375 \nQ 46.96875 40.921875 40.578125 39.3125 \nz\n\" id=\"DejaVuSans-51\"/>\n       </defs>\n       <use xlink:href=\"#DejaVuSans-51\"/>\n       <use x=\"63.623047\" xlink:href=\"#DejaVuSans-48\"/>\n       <use x=\"127.246094\" xlink:href=\"#DejaVuSans-48\"/>\n      </g>\n     </g>\n    </g>\n   </g>\n   <g id=\"patch_28\">\n    <path d=\"M 222.522283 116.857255 \nL 222.522283 22.318125 \n\" style=\"fill:none;stroke:#000000;stroke-linecap:square;stroke-linejoin:miter;stroke-width:0.8;\"/>\n   </g>\n   <g id=\"patch_29\">\n    <path d=\"M 368.0875 116.857255 \nL 368.0875 22.318125 \n\" style=\"fill:none;stroke:#000000;stroke-linecap:square;stroke-linejoin:miter;stroke-width:0.8;\"/>\n   </g>\n   <g id=\"patch_30\">\n    <path d=\"M 222.522283 116.857255 \nL 368.0875 116.857255 \n\" style=\"fill:none;stroke:#000000;stroke-linecap:square;stroke-linejoin:miter;stroke-width:0.8;\"/>\n   </g>\n   <g id=\"patch_31\">\n    <path d=\"M 222.522283 22.318125 \nL 368.0875 22.318125 \n\" style=\"fill:none;stroke:#000000;stroke-linecap:square;stroke-linejoin:miter;stroke-width:0.8;\"/>\n   </g>\n   <g id=\"text_14\">\n    <!-- bmi -->\n    <g transform=\"translate(283.984579 16.318125)scale(0.12 -0.12)\">\n     <defs>\n      <path d=\"M 48.6875 27.296875 \nQ 48.6875 37.203125 44.609375 42.84375 \nQ 40.53125 48.484375 33.40625 48.484375 \nQ 26.265625 48.484375 22.1875 42.84375 \nQ 18.109375 37.203125 18.109375 27.296875 \nQ 18.109375 17.390625 22.1875 11.75 \nQ 26.265625 6.109375 33.40625 6.109375 \nQ 40.53125 6.109375 44.609375 11.75 \nQ 48.6875 17.390625 48.6875 27.296875 \nz\nM 18.109375 46.390625 \nQ 20.953125 51.265625 25.265625 53.625 \nQ 29.59375 56 35.59375 56 \nQ 45.5625 56 51.78125 48.09375 \nQ 58.015625 40.1875 58.015625 27.296875 \nQ 58.015625 14.40625 51.78125 6.484375 \nQ 45.5625 -1.421875 35.59375 -1.421875 \nQ 29.59375 -1.421875 25.265625 0.953125 \nQ 20.953125 3.328125 18.109375 8.203125 \nL 18.109375 0 \nL 9.078125 0 \nL 9.078125 75.984375 \nL 18.109375 75.984375 \nz\n\" id=\"DejaVuSans-98\"/>\n      <path d=\"M 52 44.1875 \nQ 55.375 50.25 60.0625 53.125 \nQ 64.75 56 71.09375 56 \nQ 79.640625 56 84.28125 50.015625 \nQ 88.921875 44.046875 88.921875 33.015625 \nL 88.921875 0 \nL 79.890625 0 \nL 79.890625 32.71875 \nQ 79.890625 40.578125 77.09375 44.375 \nQ 74.3125 48.1875 68.609375 48.1875 \nQ 61.625 48.1875 57.5625 43.546875 \nQ 53.515625 38.921875 53.515625 30.90625 \nL 53.515625 0 \nL 44.484375 0 \nL 44.484375 32.71875 \nQ 44.484375 40.625 41.703125 44.40625 \nQ 38.921875 48.1875 33.109375 48.1875 \nQ 26.21875 48.1875 22.15625 43.53125 \nQ 18.109375 38.875 18.109375 30.90625 \nL 18.109375 0 \nL 9.078125 0 \nL 9.078125 54.6875 \nL 18.109375 54.6875 \nL 18.109375 46.1875 \nQ 21.1875 51.21875 25.484375 53.609375 \nQ 29.78125 56 35.6875 56 \nQ 41.65625 56 45.828125 52.96875 \nQ 50 49.953125 52 44.1875 \nz\n\" id=\"DejaVuSans-109\"/>\n      <path d=\"M 9.421875 54.6875 \nL 18.40625 54.6875 \nL 18.40625 0 \nL 9.421875 0 \nz\nM 9.421875 75.984375 \nL 18.40625 75.984375 \nL 18.40625 64.59375 \nL 9.421875 64.59375 \nz\n\" id=\"DejaVuSans-105\"/>\n     </defs>\n     <use xlink:href=\"#DejaVuSans-98\"/>\n     <use x=\"63.476562\" xlink:href=\"#DejaVuSans-109\"/>\n     <use x=\"160.888672\" xlink:href=\"#DejaVuSans-105\"/>\n    </g>\n   </g>\n  </g>\n  <g id=\"axes_3\">\n   <g id=\"patch_32\">\n    <path d=\"M 33.2875 239.758125 \nL 178.852717 239.758125 \nL 178.852717 145.218995 \nL 33.2875 145.218995 \nz\n\" style=\"fill:#ffffff;\"/>\n   </g>\n   <g id=\"patch_33\">\n    <path clip-path=\"url(#pb1e2133e44)\" d=\"M 39.904101 239.758125 \nL 53.137302 239.758125 \nL 53.137302 149.720858 \nL 39.904101 149.720858 \nz\n\" style=\"fill:#1f77b4;\"/>\n   </g>\n   <g id=\"patch_34\">\n    <path clip-path=\"url(#pb1e2133e44)\" d=\"M 53.137302 239.758125 \nL 66.370504 239.758125 \nL 66.370504 239.758125 \nL 53.137302 239.758125 \nz\n\" style=\"fill:#1f77b4;\"/>\n   </g>\n   <g id=\"patch_35\">\n    <path clip-path=\"url(#pb1e2133e44)\" d=\"M 66.370504 239.758125 \nL 79.603706 239.758125 \nL 79.603706 188.935695 \nL 66.370504 188.935695 \nz\n\" style=\"fill:#1f77b4;\"/>\n   </g>\n   <g id=\"patch_36\">\n    <path clip-path=\"url(#pb1e2133e44)\" d=\"M 79.603706 239.758125 \nL 92.836907 239.758125 \nL 92.836907 239.758125 \nL 79.603706 239.758125 \nz\n\" style=\"fill:#1f77b4;\"/>\n   </g>\n   <g id=\"patch_37\">\n    <path clip-path=\"url(#pb1e2133e44)\" d=\"M 92.836907 239.758125 \nL 106.070109 239.758125 \nL 106.070109 202.111881 \nL 92.836907 202.111881 \nz\n\" style=\"fill:#1f77b4;\"/>\n   </g>\n   <g id=\"patch_38\">\n    <path clip-path=\"url(#pb1e2133e44)\" d=\"M 106.070109 239.758125 \nL 119.30331 239.758125 \nL 119.30331 239.758125 \nL 106.070109 239.758125 \nz\n\" style=\"fill:#1f77b4;\"/>\n   </g>\n   <g id=\"patch_39\">\n    <path clip-path=\"url(#pb1e2133e44)\" d=\"M 119.30331 239.758125 \nL 132.536512 239.758125 \nL 132.536512 215.131207 \nL 119.30331 215.131207 \nz\n\" style=\"fill:#1f77b4;\"/>\n   </g>\n   <g id=\"patch_40\">\n    <path clip-path=\"url(#pb1e2133e44)\" d=\"M 132.536512 239.758125 \nL 145.769713 239.758125 \nL 145.769713 239.758125 \nL 132.536512 239.758125 \nz\n\" style=\"fill:#1f77b4;\"/>\n   </g>\n   <g id=\"patch_41\">\n    <path clip-path=\"url(#pb1e2133e44)\" d=\"M 145.769713 239.758125 \nL 159.002915 239.758125 \nL 159.002915 235.836641 \nL 145.769713 235.836641 \nz\n\" style=\"fill:#1f77b4;\"/>\n   </g>\n   <g id=\"patch_42\">\n    <path clip-path=\"url(#pb1e2133e44)\" d=\"M 159.002915 239.758125 \nL 172.236117 239.758125 \nL 172.236117 236.934657 \nL 159.002915 236.934657 \nz\n\" style=\"fill:#1f77b4;\"/>\n   </g>\n   <g id=\"matplotlib.axis_5\">\n    <g id=\"xtick_6\">\n     <g id=\"line2d_25\">\n      <path clip-path=\"url(#pb1e2133e44)\" d=\"M 39.904101 239.758125 \nL 39.904101 145.218995 \n\" style=\"fill:none;stroke:#b0b0b0;stroke-linecap:square;stroke-width:0.8;\"/>\n     </g>\n     <g id=\"line2d_26\">\n      <g>\n       <use style=\"stroke:#000000;stroke-width:0.8;\" x=\"39.904101\" xlink:href=\"#mf686cc8877\" y=\"239.758125\"/>\n      </g>\n     </g>\n     <g id=\"text_15\">\n      <!-- 0 -->\n      <g transform=\"translate(36.722851 254.356563)scale(0.1 -0.1)\">\n       <use xlink:href=\"#DejaVuSans-48\"/>\n      </g>\n     </g>\n    </g>\n    <g id=\"xtick_7\">\n     <g id=\"line2d_27\">\n      <path clip-path=\"url(#pb1e2133e44)\" d=\"M 92.836907 239.758125 \nL 92.836907 145.218995 \n\" style=\"fill:none;stroke:#b0b0b0;stroke-linecap:square;stroke-width:0.8;\"/>\n     </g>\n     <g id=\"line2d_28\">\n      <g>\n       <use style=\"stroke:#000000;stroke-width:0.8;\" x=\"92.836907\" xlink:href=\"#mf686cc8877\" y=\"239.758125\"/>\n      </g>\n     </g>\n     <g id=\"text_16\">\n      <!-- 2 -->\n      <g transform=\"translate(89.655657 254.356563)scale(0.1 -0.1)\">\n       <use xlink:href=\"#DejaVuSans-50\"/>\n      </g>\n     </g>\n    </g>\n    <g id=\"xtick_8\">\n     <g id=\"line2d_29\">\n      <path clip-path=\"url(#pb1e2133e44)\" d=\"M 145.769713 239.758125 \nL 145.769713 145.218995 \n\" style=\"fill:none;stroke:#b0b0b0;stroke-linecap:square;stroke-width:0.8;\"/>\n     </g>\n     <g id=\"line2d_30\">\n      <g>\n       <use style=\"stroke:#000000;stroke-width:0.8;\" x=\"145.769713\" xlink:href=\"#mf686cc8877\" y=\"239.758125\"/>\n      </g>\n     </g>\n     <g id=\"text_17\">\n      <!-- 4 -->\n      <g transform=\"translate(142.588463 254.356563)scale(0.1 -0.1)\">\n       <use xlink:href=\"#DejaVuSans-52\"/>\n      </g>\n     </g>\n    </g>\n   </g>\n   <g id=\"matplotlib.axis_6\">\n    <g id=\"ytick_8\">\n     <g id=\"line2d_31\">\n      <path clip-path=\"url(#pb1e2133e44)\" d=\"M 33.2875 239.758125 \nL 178.852717 239.758125 \n\" style=\"fill:none;stroke:#b0b0b0;stroke-linecap:square;stroke-width:0.8;\"/>\n     </g>\n     <g id=\"line2d_32\">\n      <g>\n       <use style=\"stroke:#000000;stroke-width:0.8;\" x=\"33.2875\" xlink:href=\"#mfcdd531aae\" y=\"239.758125\"/>\n      </g>\n     </g>\n     <g id=\"text_18\">\n      <!-- 0 -->\n      <g transform=\"translate(19.925 243.557344)scale(0.1 -0.1)\">\n       <use xlink:href=\"#DejaVuSans-48\"/>\n      </g>\n     </g>\n    </g>\n    <g id=\"ytick_9\">\n     <g id=\"line2d_33\">\n      <path clip-path=\"url(#pb1e2133e44)\" d=\"M 33.2875 208.386255 \nL 178.852717 208.386255 \n\" style=\"fill:none;stroke:#b0b0b0;stroke-linecap:square;stroke-width:0.8;\"/>\n     </g>\n     <g id=\"line2d_34\">\n      <g>\n       <use style=\"stroke:#000000;stroke-width:0.8;\" x=\"33.2875\" xlink:href=\"#mfcdd531aae\" y=\"208.386255\"/>\n      </g>\n     </g>\n     <g id=\"text_19\">\n      <!-- 200 -->\n      <g transform=\"translate(7.2 212.185474)scale(0.1 -0.1)\">\n       <use xlink:href=\"#DejaVuSans-50\"/>\n       <use x=\"63.623047\" xlink:href=\"#DejaVuSans-48\"/>\n       <use x=\"127.246094\" xlink:href=\"#DejaVuSans-48\"/>\n      </g>\n     </g>\n    </g>\n    <g id=\"ytick_10\">\n     <g id=\"line2d_35\">\n      <path clip-path=\"url(#pb1e2133e44)\" d=\"M 33.2875 177.014385 \nL 178.852717 177.014385 \n\" style=\"fill:none;stroke:#b0b0b0;stroke-linecap:square;stroke-width:0.8;\"/>\n     </g>\n     <g id=\"line2d_36\">\n      <g>\n       <use style=\"stroke:#000000;stroke-width:0.8;\" x=\"33.2875\" xlink:href=\"#mfcdd531aae\" y=\"177.014385\"/>\n      </g>\n     </g>\n     <g id=\"text_20\">\n      <!-- 400 -->\n      <g transform=\"translate(7.2 180.813604)scale(0.1 -0.1)\">\n       <use xlink:href=\"#DejaVuSans-52\"/>\n       <use x=\"63.623047\" xlink:href=\"#DejaVuSans-48\"/>\n       <use x=\"127.246094\" xlink:href=\"#DejaVuSans-48\"/>\n      </g>\n     </g>\n    </g>\n    <g id=\"ytick_11\">\n     <g id=\"line2d_37\">\n      <path clip-path=\"url(#pb1e2133e44)\" d=\"M 33.2875 145.642515 \nL 178.852717 145.642515 \n\" style=\"fill:none;stroke:#b0b0b0;stroke-linecap:square;stroke-width:0.8;\"/>\n     </g>\n     <g id=\"line2d_38\">\n      <g>\n       <use style=\"stroke:#000000;stroke-width:0.8;\" x=\"33.2875\" xlink:href=\"#mfcdd531aae\" y=\"145.642515\"/>\n      </g>\n     </g>\n     <g id=\"text_21\">\n      <!-- 600 -->\n      <g transform=\"translate(7.2 149.441734)scale(0.1 -0.1)\">\n       <use xlink:href=\"#DejaVuSans-54\"/>\n       <use x=\"63.623047\" xlink:href=\"#DejaVuSans-48\"/>\n       <use x=\"127.246094\" xlink:href=\"#DejaVuSans-48\"/>\n      </g>\n     </g>\n    </g>\n   </g>\n   <g id=\"patch_43\">\n    <path d=\"M 33.2875 239.758125 \nL 33.2875 145.218995 \n\" style=\"fill:none;stroke:#000000;stroke-linecap:square;stroke-linejoin:miter;stroke-width:0.8;\"/>\n   </g>\n   <g id=\"patch_44\">\n    <path d=\"M 178.852717 239.758125 \nL 178.852717 145.218995 \n\" style=\"fill:none;stroke:#000000;stroke-linecap:square;stroke-linejoin:miter;stroke-width:0.8;\"/>\n   </g>\n   <g id=\"patch_45\">\n    <path d=\"M 33.2875 239.758125 \nL 178.852717 239.758125 \n\" style=\"fill:none;stroke:#000000;stroke-linecap:square;stroke-linejoin:miter;stroke-width:0.8;\"/>\n   </g>\n   <g id=\"patch_46\">\n    <path d=\"M 33.2875 145.218995 \nL 178.852717 145.218995 \n\" style=\"fill:none;stroke:#000000;stroke-linecap:square;stroke-linejoin:miter;stroke-width:0.8;\"/>\n   </g>\n   <g id=\"text_22\">\n    <!-- children -->\n    <g transform=\"translate(81.999796 139.218995)scale(0.12 -0.12)\">\n     <defs>\n      <path d=\"M 48.78125 52.59375 \nL 48.78125 44.1875 \nQ 44.96875 46.296875 41.140625 47.34375 \nQ 37.3125 48.390625 33.40625 48.390625 \nQ 24.65625 48.390625 19.8125 42.84375 \nQ 14.984375 37.3125 14.984375 27.296875 \nQ 14.984375 17.28125 19.8125 11.734375 \nQ 24.65625 6.203125 33.40625 6.203125 \nQ 37.3125 6.203125 41.140625 7.25 \nQ 44.96875 8.296875 48.78125 10.40625 \nL 48.78125 2.09375 \nQ 45.015625 0.34375 40.984375 -0.53125 \nQ 36.96875 -1.421875 32.421875 -1.421875 \nQ 20.0625 -1.421875 12.78125 6.34375 \nQ 5.515625 14.109375 5.515625 27.296875 \nQ 5.515625 40.671875 12.859375 48.328125 \nQ 20.21875 56 33.015625 56 \nQ 37.15625 56 41.109375 55.140625 \nQ 45.0625 54.296875 48.78125 52.59375 \nz\n\" id=\"DejaVuSans-99\"/>\n      <path d=\"M 54.890625 33.015625 \nL 54.890625 0 \nL 45.90625 0 \nL 45.90625 32.71875 \nQ 45.90625 40.484375 42.875 44.328125 \nQ 39.84375 48.1875 33.796875 48.1875 \nQ 26.515625 48.1875 22.3125 43.546875 \nQ 18.109375 38.921875 18.109375 30.90625 \nL 18.109375 0 \nL 9.078125 0 \nL 9.078125 75.984375 \nL 18.109375 75.984375 \nL 18.109375 46.1875 \nQ 21.34375 51.125 25.703125 53.5625 \nQ 30.078125 56 35.796875 56 \nQ 45.21875 56 50.046875 50.171875 \nQ 54.890625 44.34375 54.890625 33.015625 \nz\n\" id=\"DejaVuSans-104\"/>\n      <path d=\"M 9.421875 75.984375 \nL 18.40625 75.984375 \nL 18.40625 0 \nL 9.421875 0 \nz\n\" id=\"DejaVuSans-108\"/>\n      <path d=\"M 45.40625 46.390625 \nL 45.40625 75.984375 \nL 54.390625 75.984375 \nL 54.390625 0 \nL 45.40625 0 \nL 45.40625 8.203125 \nQ 42.578125 3.328125 38.25 0.953125 \nQ 33.9375 -1.421875 27.875 -1.421875 \nQ 17.96875 -1.421875 11.734375 6.484375 \nQ 5.515625 14.40625 5.515625 27.296875 \nQ 5.515625 40.1875 11.734375 48.09375 \nQ 17.96875 56 27.875 56 \nQ 33.9375 56 38.25 53.625 \nQ 42.578125 51.265625 45.40625 46.390625 \nz\nM 14.796875 27.296875 \nQ 14.796875 17.390625 18.875 11.75 \nQ 22.953125 6.109375 30.078125 6.109375 \nQ 37.203125 6.109375 41.296875 11.75 \nQ 45.40625 17.390625 45.40625 27.296875 \nQ 45.40625 37.203125 41.296875 42.84375 \nQ 37.203125 48.484375 30.078125 48.484375 \nQ 22.953125 48.484375 18.875 42.84375 \nQ 14.796875 37.203125 14.796875 27.296875 \nz\n\" id=\"DejaVuSans-100\"/>\n      <path d=\"M 41.109375 46.296875 \nQ 39.59375 47.171875 37.8125 47.578125 \nQ 36.03125 48 33.890625 48 \nQ 26.265625 48 22.1875 43.046875 \nQ 18.109375 38.09375 18.109375 28.8125 \nL 18.109375 0 \nL 9.078125 0 \nL 9.078125 54.6875 \nL 18.109375 54.6875 \nL 18.109375 46.1875 \nQ 20.953125 51.171875 25.484375 53.578125 \nQ 30.03125 56 36.53125 56 \nQ 37.453125 56 38.578125 55.875 \nQ 39.703125 55.765625 41.0625 55.515625 \nz\n\" id=\"DejaVuSans-114\"/>\n      <path d=\"M 54.890625 33.015625 \nL 54.890625 0 \nL 45.90625 0 \nL 45.90625 32.71875 \nQ 45.90625 40.484375 42.875 44.328125 \nQ 39.84375 48.1875 33.796875 48.1875 \nQ 26.515625 48.1875 22.3125 43.546875 \nQ 18.109375 38.921875 18.109375 30.90625 \nL 18.109375 0 \nL 9.078125 0 \nL 9.078125 54.6875 \nL 18.109375 54.6875 \nL 18.109375 46.1875 \nQ 21.34375 51.125 25.703125 53.5625 \nQ 30.078125 56 35.796875 56 \nQ 45.21875 56 50.046875 50.171875 \nQ 54.890625 44.34375 54.890625 33.015625 \nz\n\" id=\"DejaVuSans-110\"/>\n     </defs>\n     <use xlink:href=\"#DejaVuSans-99\"/>\n     <use x=\"54.980469\" xlink:href=\"#DejaVuSans-104\"/>\n     <use x=\"118.359375\" xlink:href=\"#DejaVuSans-105\"/>\n     <use x=\"146.142578\" xlink:href=\"#DejaVuSans-108\"/>\n     <use x=\"173.925781\" xlink:href=\"#DejaVuSans-100\"/>\n     <use x=\"237.402344\" xlink:href=\"#DejaVuSans-114\"/>\n     <use x=\"276.265625\" xlink:href=\"#DejaVuSans-101\"/>\n     <use x=\"337.789062\" xlink:href=\"#DejaVuSans-110\"/>\n    </g>\n   </g>\n  </g>\n  <g id=\"axes_4\">\n   <g id=\"patch_47\">\n    <path d=\"M 222.522283 239.758125 \nL 368.0875 239.758125 \nL 368.0875 145.218995 \nL 222.522283 145.218995 \nz\n\" style=\"fill:#ffffff;\"/>\n   </g>\n   <g id=\"patch_48\">\n    <path clip-path=\"url(#pb50c0eee05)\" d=\"M 229.138883 239.758125 \nL 242.372085 239.758125 \nL 242.372085 149.720858 \nL 229.138883 149.720858 \nz\n\" style=\"fill:#1f77b4;\"/>\n   </g>\n   <g id=\"patch_49\">\n    <path clip-path=\"url(#pb50c0eee05)\" d=\"M 242.372085 239.758125 \nL 255.605287 239.758125 \nL 255.605287 172.902095 \nL 242.372085 172.902095 \nz\n\" style=\"fill:#1f77b4;\"/>\n   </g>\n   <g id=\"patch_50\">\n    <path clip-path=\"url(#pb50c0eee05)\" d=\"M 255.605287 239.758125 \nL 268.838488 239.758125 \nL 268.838488 218.088708 \nL 255.605287 218.088708 \nz\n\" style=\"fill:#1f77b4;\"/>\n   </g>\n   <g id=\"patch_51\">\n    <path clip-path=\"url(#pb50c0eee05)\" d=\"M 268.838488 239.758125 \nL 282.07169 239.758125 \nL 282.07169 225.311847 \nL 268.838488 225.311847 \nz\n\" style=\"fill:#1f77b4;\"/>\n   </g>\n   <g id=\"patch_52\">\n    <path clip-path=\"url(#pb50c0eee05)\" d=\"M 282.07169 239.758125 \nL 295.304891 239.758125 \nL 295.304891 233.878826 \nL 282.07169 233.878826 \nz\n\" style=\"fill:#1f77b4;\"/>\n   </g>\n   <g id=\"patch_53\">\n    <path clip-path=\"url(#pb50c0eee05)\" d=\"M 295.304891 239.758125 \nL 308.538093 239.758125 \nL 308.538093 229.847306 \nL 295.304891 229.847306 \nz\n\" style=\"fill:#1f77b4;\"/>\n   </g>\n   <g id=\"patch_54\">\n    <path clip-path=\"url(#pb50c0eee05)\" d=\"M 308.538093 239.758125 \nL 321.771294 239.758125 \nL 321.771294 230.183266 \nL 308.538093 230.183266 \nz\n\" style=\"fill:#1f77b4;\"/>\n   </g>\n   <g id=\"patch_55\">\n    <path clip-path=\"url(#pb50c0eee05)\" d=\"M 321.771294 239.758125 \nL 335.004496 239.758125 \nL 335.004496 234.382766 \nL 321.771294 234.382766 \nz\n\" style=\"fill:#1f77b4;\"/>\n   </g>\n   <g id=\"patch_56\">\n    <path clip-path=\"url(#pb50c0eee05)\" d=\"M 335.004496 239.758125 \nL 348.237698 239.758125 \nL 348.237698 239.422165 \nL 335.004496 239.422165 \nz\n\" style=\"fill:#1f77b4;\"/>\n   </g>\n   <g id=\"patch_57\">\n    <path clip-path=\"url(#pb50c0eee05)\" d=\"M 348.237698 239.758125 \nL 361.470899 239.758125 \nL 361.470899 239.086205 \nL 348.237698 239.086205 \nz\n\" style=\"fill:#1f77b4;\"/>\n   </g>\n   <g id=\"matplotlib.axis_7\">\n    <g id=\"xtick_9\">\n     <g id=\"line2d_39\">\n      <path clip-path=\"url(#pb50c0eee05)\" d=\"M 226.769159 239.758125 \nL 226.769159 145.218995 \n\" style=\"fill:none;stroke:#b0b0b0;stroke-linecap:square;stroke-width:0.8;\"/>\n     </g>\n     <g id=\"line2d_40\">\n      <g>\n       <use style=\"stroke:#000000;stroke-width:0.8;\" x=\"226.769159\" xlink:href=\"#mf686cc8877\" y=\"239.758125\"/>\n      </g>\n     </g>\n     <g id=\"text_23\">\n      <!-- 0 -->\n      <g transform=\"translate(223.587909 254.356563)scale(0.1 -0.1)\">\n       <use xlink:href=\"#DejaVuSans-48\"/>\n      </g>\n     </g>\n    </g>\n    <g id=\"xtick_10\">\n     <g id=\"line2d_41\">\n      <path clip-path=\"url(#pb50c0eee05)\" d=\"M 269.014991 239.758125 \nL 269.014991 145.218995 \n\" style=\"fill:none;stroke:#b0b0b0;stroke-linecap:square;stroke-width:0.8;\"/>\n     </g>\n     <g id=\"line2d_42\">\n      <g>\n       <use style=\"stroke:#000000;stroke-width:0.8;\" x=\"269.014991\" xlink:href=\"#mf686cc8877\" y=\"239.758125\"/>\n      </g>\n     </g>\n     <g id=\"text_24\">\n      <!-- 20000 -->\n      <g transform=\"translate(253.108741 254.356563)scale(0.1 -0.1)\">\n       <use xlink:href=\"#DejaVuSans-50\"/>\n       <use x=\"63.623047\" xlink:href=\"#DejaVuSans-48\"/>\n       <use x=\"127.246094\" xlink:href=\"#DejaVuSans-48\"/>\n       <use x=\"190.869141\" xlink:href=\"#DejaVuSans-48\"/>\n       <use x=\"254.492188\" xlink:href=\"#DejaVuSans-48\"/>\n      </g>\n     </g>\n    </g>\n    <g id=\"xtick_11\">\n     <g id=\"line2d_43\">\n      <path clip-path=\"url(#pb50c0eee05)\" d=\"M 311.260823 239.758125 \nL 311.260823 145.218995 \n\" style=\"fill:none;stroke:#b0b0b0;stroke-linecap:square;stroke-width:0.8;\"/>\n     </g>\n     <g id=\"line2d_44\">\n      <g>\n       <use style=\"stroke:#000000;stroke-width:0.8;\" x=\"311.260823\" xlink:href=\"#mf686cc8877\" y=\"239.758125\"/>\n      </g>\n     </g>\n     <g id=\"text_25\">\n      <!-- 40000 -->\n      <g transform=\"translate(295.354573 254.356563)scale(0.1 -0.1)\">\n       <use xlink:href=\"#DejaVuSans-52\"/>\n       <use x=\"63.623047\" xlink:href=\"#DejaVuSans-48\"/>\n       <use x=\"127.246094\" xlink:href=\"#DejaVuSans-48\"/>\n       <use x=\"190.869141\" xlink:href=\"#DejaVuSans-48\"/>\n       <use x=\"254.492188\" xlink:href=\"#DejaVuSans-48\"/>\n      </g>\n     </g>\n    </g>\n    <g id=\"xtick_12\">\n     <g id=\"line2d_45\">\n      <path clip-path=\"url(#pb50c0eee05)\" d=\"M 353.506656 239.758125 \nL 353.506656 145.218995 \n\" style=\"fill:none;stroke:#b0b0b0;stroke-linecap:square;stroke-width:0.8;\"/>\n     </g>\n     <g id=\"line2d_46\">\n      <g>\n       <use style=\"stroke:#000000;stroke-width:0.8;\" x=\"353.506656\" xlink:href=\"#mf686cc8877\" y=\"239.758125\"/>\n      </g>\n     </g>\n     <g id=\"text_26\">\n      <!-- 60000 -->\n      <g transform=\"translate(337.600406 254.356563)scale(0.1 -0.1)\">\n       <use xlink:href=\"#DejaVuSans-54\"/>\n       <use x=\"63.623047\" xlink:href=\"#DejaVuSans-48\"/>\n       <use x=\"127.246094\" xlink:href=\"#DejaVuSans-48\"/>\n       <use x=\"190.869141\" xlink:href=\"#DejaVuSans-48\"/>\n       <use x=\"254.492188\" xlink:href=\"#DejaVuSans-48\"/>\n      </g>\n     </g>\n    </g>\n   </g>\n   <g id=\"matplotlib.axis_8\">\n    <g id=\"ytick_12\">\n     <g id=\"line2d_47\">\n      <path clip-path=\"url(#pb50c0eee05)\" d=\"M 222.522283 239.758125 \nL 368.0875 239.758125 \n\" style=\"fill:none;stroke:#b0b0b0;stroke-linecap:square;stroke-width:0.8;\"/>\n     </g>\n     <g id=\"line2d_48\">\n      <g>\n       <use style=\"stroke:#000000;stroke-width:0.8;\" x=\"222.522283\" xlink:href=\"#mfcdd531aae\" y=\"239.758125\"/>\n      </g>\n     </g>\n     <g id=\"text_27\">\n      <!-- 0 -->\n      <g transform=\"translate(209.159783 243.557344)scale(0.1 -0.1)\">\n       <use xlink:href=\"#DejaVuSans-48\"/>\n      </g>\n     </g>\n    </g>\n    <g id=\"ytick_13\">\n     <g id=\"line2d_49\">\n      <path clip-path=\"url(#pb50c0eee05)\" d=\"M 222.522283 206.16213 \nL 368.0875 206.16213 \n\" style=\"fill:none;stroke:#b0b0b0;stroke-linecap:square;stroke-width:0.8;\"/>\n     </g>\n     <g id=\"line2d_50\">\n      <g>\n       <use style=\"stroke:#000000;stroke-width:0.8;\" x=\"222.522283\" xlink:href=\"#mfcdd531aae\" y=\"206.16213\"/>\n      </g>\n     </g>\n     <g id=\"text_28\">\n      <!-- 200 -->\n      <g transform=\"translate(196.434783 209.961349)scale(0.1 -0.1)\">\n       <use xlink:href=\"#DejaVuSans-50\"/>\n       <use x=\"63.623047\" xlink:href=\"#DejaVuSans-48\"/>\n       <use x=\"127.246094\" xlink:href=\"#DejaVuSans-48\"/>\n      </g>\n     </g>\n    </g>\n    <g id=\"ytick_14\">\n     <g id=\"line2d_51\">\n      <path clip-path=\"url(#pb50c0eee05)\" d=\"M 222.522283 172.566135 \nL 368.0875 172.566135 \n\" style=\"fill:none;stroke:#b0b0b0;stroke-linecap:square;stroke-width:0.8;\"/>\n     </g>\n     <g id=\"line2d_52\">\n      <g>\n       <use style=\"stroke:#000000;stroke-width:0.8;\" x=\"222.522283\" xlink:href=\"#mfcdd531aae\" y=\"172.566135\"/>\n      </g>\n     </g>\n     <g id=\"text_29\">\n      <!-- 400 -->\n      <g transform=\"translate(196.434783 176.365353)scale(0.1 -0.1)\">\n       <use xlink:href=\"#DejaVuSans-52\"/>\n       <use x=\"63.623047\" xlink:href=\"#DejaVuSans-48\"/>\n       <use x=\"127.246094\" xlink:href=\"#DejaVuSans-48\"/>\n      </g>\n     </g>\n    </g>\n   </g>\n   <g id=\"patch_58\">\n    <path d=\"M 222.522283 239.758125 \nL 222.522283 145.218995 \n\" style=\"fill:none;stroke:#000000;stroke-linecap:square;stroke-linejoin:miter;stroke-width:0.8;\"/>\n   </g>\n   <g id=\"patch_59\">\n    <path d=\"M 368.0875 239.758125 \nL 368.0875 145.218995 \n\" style=\"fill:none;stroke:#000000;stroke-linecap:square;stroke-linejoin:miter;stroke-width:0.8;\"/>\n   </g>\n   <g id=\"patch_60\">\n    <path d=\"M 222.522283 239.758125 \nL 368.0875 239.758125 \n\" style=\"fill:none;stroke:#000000;stroke-linecap:square;stroke-linejoin:miter;stroke-width:0.8;\"/>\n   </g>\n   <g id=\"patch_61\">\n    <path d=\"M 222.522283 145.218995 \nL 368.0875 145.218995 \n\" style=\"fill:none;stroke:#000000;stroke-linecap:square;stroke-linejoin:miter;stroke-width:0.8;\"/>\n   </g>\n   <g id=\"text_30\">\n    <!-- charges -->\n    <g transform=\"translate(271.538329 139.218995)scale(0.12 -0.12)\">\n     <defs>\n      <path d=\"M 44.28125 53.078125 \nL 44.28125 44.578125 \nQ 40.484375 46.53125 36.375 47.5 \nQ 32.28125 48.484375 27.875 48.484375 \nQ 21.1875 48.484375 17.84375 46.4375 \nQ 14.5 44.390625 14.5 40.28125 \nQ 14.5 37.15625 16.890625 35.375 \nQ 19.28125 33.59375 26.515625 31.984375 \nL 29.59375 31.296875 \nQ 39.15625 29.25 43.1875 25.515625 \nQ 47.21875 21.78125 47.21875 15.09375 \nQ 47.21875 7.46875 41.1875 3.015625 \nQ 35.15625 -1.421875 24.609375 -1.421875 \nQ 20.21875 -1.421875 15.453125 -0.5625 \nQ 10.6875 0.296875 5.421875 2 \nL 5.421875 11.28125 \nQ 10.40625 8.6875 15.234375 7.390625 \nQ 20.0625 6.109375 24.8125 6.109375 \nQ 31.15625 6.109375 34.5625 8.28125 \nQ 37.984375 10.453125 37.984375 14.40625 \nQ 37.984375 18.0625 35.515625 20.015625 \nQ 33.0625 21.96875 24.703125 23.78125 \nL 21.578125 24.515625 \nQ 13.234375 26.265625 9.515625 29.90625 \nQ 5.8125 33.546875 5.8125 39.890625 \nQ 5.8125 47.609375 11.28125 51.796875 \nQ 16.75 56 26.8125 56 \nQ 31.78125 56 36.171875 55.265625 \nQ 40.578125 54.546875 44.28125 53.078125 \nz\n\" id=\"DejaVuSans-115\"/>\n     </defs>\n     <use xlink:href=\"#DejaVuSans-99\"/>\n     <use x=\"54.980469\" xlink:href=\"#DejaVuSans-104\"/>\n     <use x=\"118.359375\" xlink:href=\"#DejaVuSans-97\"/>\n     <use x=\"179.638672\" xlink:href=\"#DejaVuSans-114\"/>\n     <use x=\"219.001953\" xlink:href=\"#DejaVuSans-103\"/>\n     <use x=\"282.478516\" xlink:href=\"#DejaVuSans-101\"/>\n     <use x=\"344.001953\" xlink:href=\"#DejaVuSans-115\"/>\n    </g>\n   </g>\n  </g>\n </g>\n <defs>\n  <clipPath id=\"pa9f83bc770\">\n   <rect height=\"94.53913\" width=\"145.565217\" x=\"33.2875\" y=\"22.318125\"/>\n  </clipPath>\n  <clipPath id=\"p628941ff2d\">\n   <rect height=\"94.53913\" width=\"145.565217\" x=\"222.522283\" y=\"22.318125\"/>\n  </clipPath>\n  <clipPath id=\"pb1e2133e44\">\n   <rect height=\"94.53913\" width=\"145.565217\" x=\"33.2875\" y=\"145.218995\"/>\n  </clipPath>\n  <clipPath id=\"pb50c0eee05\">\n   <rect height=\"94.53913\" width=\"145.565217\" x=\"222.522283\" y=\"145.218995\"/>\n  </clipPath>\n </defs>\n</svg>\n",
      "image/png": "[encoded data removed]"
     },
     "metadata": {
      "needs_background": "light"
     }
    }
   ],
   "source": [
    "insurance.hist()"
   ]
  },
  {
   "cell_type": "code",
   "execution_count": 153,
   "metadata": {},
   "outputs": [
    {
     "output_type": "execute_result",
     "data": {
      "text/plain": [
       "   age     bmi  children      charges  sex_female  sex_male  smoker_no  \\\n",
       "0   19  27.900         0  16884.92400           1         0          0   \n",
       "1   18  33.770         1   1725.55230           0         1          1   \n",
       "2   28  33.000         3   4449.46200           0         1          1   \n",
       "3   33  22.705         0  21984.47061           0         1          1   \n",
       "4   32  28.880         0   3866.85520           0         1          1   \n",
       "\n",
       "   smoker_yes  region_northeast  region_northwest  region_southeast  \\\n",
       "0           1                 0                 0                 0   \n",
       "1           0                 0                 0                 1   \n",
       "2           0                 0                 0                 1   \n",
       "3           0                 0                 1                 0   \n",
       "4           0                 0                 1                 0   \n",
       "\n",
       "   region_southwest  \n",
       "0                 1  \n",
       "1                 0  \n",
       "2                 0  \n",
       "3                 0  \n",
       "4                 0  "
      ],
      "text/html": "<div>\n<style scoped>\n    .dataframe tbody tr th:only-of-type {\n        vertical-align: middle;\n    }\n\n    .dataframe tbody tr th {\n        vertical-align: top;\n    }\n\n    .dataframe thead th {\n        text-align: right;\n    }\n</style>\n<table border=\"1\" class=\"dataframe\">\n  <thead>\n    <tr style=\"text-align: right;\">\n      <th></th>\n      <th>age</th>\n      <th>bmi</th>\n      <th>children</th>\n      <th>charges</th>\n      <th>sex_female</th>\n      <th>sex_male</th>\n      <th>smoker_no</th>\n      <th>smoker_yes</th>\n      <th>region_northeast</th>\n      <th>region_northwest</th>\n      <th>region_southeast</th>\n      <th>region_southwest</th>\n    </tr>\n  </thead>\n  <tbody>\n    <tr>\n      <th>0</th>\n      <td>19</td>\n      <td>27.900</td>\n      <td>0</td>\n      <td>16884.92400</td>\n      <td>1</td>\n      <td>0</td>\n      <td>0</td>\n      <td>1</td>\n      <td>0</td>\n      <td>0</td>\n      <td>0</td>\n      <td>1</td>\n    </tr>\n    <tr>\n      <th>1</th>\n      <td>18</td>\n      <td>33.770</td>\n      <td>1</td>\n      <td>1725.55230</td>\n      <td>0</td>\n      <td>1</td>\n      <td>1</td>\n      <td>0</td>\n      <td>0</td>\n      <td>0</td>\n      <td>1</td>\n      <td>0</td>\n    </tr>\n    <tr>\n      <th>2</th>\n      <td>28</td>\n      <td>33.000</td>\n      <td>3</td>\n      <td>4449.46200</td>\n      <td>0</td>\n      <td>1</td>\n      <td>1</td>\n      <td>0</td>\n      <td>0</td>\n      <td>0</td>\n      <td>1</td>\n      <td>0</td>\n    </tr>\n    <tr>\n      <th>3</th>\n      <td>33</td>\n      <td>22.705</td>\n      <td>0</td>\n      <td>21984.47061</td>\n      <td>0</td>\n      <td>1</td>\n      <td>1</td>\n      <td>0</td>\n      <td>0</td>\n      <td>1</td>\n      <td>0</td>\n      <td>0</td>\n    </tr>\n    <tr>\n      <th>4</th>\n      <td>32</td>\n      <td>28.880</td>\n      <td>0</td>\n      <td>3866.85520</td>\n      <td>0</td>\n      <td>1</td>\n      <td>1</td>\n      <td>0</td>\n      <td>0</td>\n      <td>1</td>\n      <td>0</td>\n      <td>0</td>\n    </tr>\n  </tbody>\n</table>\n</div>"
     },
     "metadata": {},
     "execution_count": 153
    }
   ],
   "source": [
    "# One hot encode the categorical variables so they are all numbers\n",
    "insurance_one_hot = pd.get_dummies(insurance)\n",
    "insurance_one_hot.reset_index(drop=True, inplace=True)\n",
    "insurance_one_hot.head()"
   ]
  },
  {
   "cell_type": "code",
   "execution_count": 154,
   "metadata": {},
   "outputs": [
    {
     "output_type": "execute_result",
     "data": {
      "text/plain": [
       "(      age     bmi  children  sex_female  sex_male  smoker_no  smoker_yes  \\\n",
       " 560    46  19.950         2           1         0          1           0   \n",
       " 1285   47  24.320         0           1         0          1           0   \n",
       " 1142   52  24.860         0           1         0          1           0   \n",
       " 969    39  34.320         5           1         0          1           0   \n",
       " 486    54  21.470         3           1         0          1           0   \n",
       " ...   ...     ...       ...         ...       ...        ...         ...   \n",
       " 1095   18  31.350         4           1         0          1           0   \n",
       " 1130   39  23.870         5           1         0          1           0   \n",
       " 1294   58  25.175         0           0         1          1           0   \n",
       " 860    37  47.600         2           1         0          0           1   \n",
       " 1126   55  29.900         0           0         1          1           0   \n",
       " \n",
       "       region_northeast  region_northwest  region_southeast  region_southwest  \n",
       " 560                  0                 1                 0                 0  \n",
       " 1285                 1                 0                 0                 0  \n",
       " 1142                 0                 0                 1                 0  \n",
       " 969                  0                 0                 1                 0  \n",
       " 486                  0                 1                 0                 0  \n",
       " ...                ...               ...               ...               ...  \n",
       " 1095                 1                 0                 0                 0  \n",
       " 1130                 0                 0                 1                 0  \n",
       " 1294                 1                 0                 0                 0  \n",
       " 860                  0                 0                 0                 1  \n",
       " 1126                 0                 0                 0                 1  \n",
       " \n",
       " [1070 rows x 11 columns],\n",
       " 560      9193.83850\n",
       " 1285     8534.67180\n",
       " 1142    27117.99378\n",
       " 969      8596.82780\n",
       " 486     12475.35130\n",
       "            ...     \n",
       " 1095     4561.18850\n",
       " 1130     8582.30230\n",
       " 1294    11931.12525\n",
       " 860     46113.51100\n",
       " 1126    10214.63600\n",
       " Name: charges, Length: 1070, dtype: float64,\n",
       " 1338,\n",
       " 1070,\n",
       " 268)"
      ]
     },
     "metadata": {},
     "execution_count": 154
    }
   ],
   "source": [
    "# Create X and y variables (features and labels)\n",
    "# Create training and test sets\n",
    "X = insurance_one_hot.drop(['charges'], axis=1)\n",
    "y = insurance_one_hot[\"charges\"]\n",
    "X_train, X_test, y_train, y_test = train_test_split(X, y, test_size = 0.2, random_state = 42)\n",
    "\n",
    "X_train, y_train, len(X), len(X_train), len(X_test)\n"
   ]
  },
  {
   "source": [
    "# insurance_model_1 - First training pass"
   ],
   "cell_type": "markdown",
   "metadata": {}
  },
  {
   "cell_type": "code",
   "execution_count": 155,
   "metadata": {},
   "outputs": [
    {
     "output_type": "stream",
     "name": "stdout",
     "text": [
      "Epoch 1/100\n",
      "34/34 [==============================] - 2s 3ms/step - loss: 10200.7270 - mean_absolute_error: 10200.7270 - mean_squared_error: 232906844.3429\n",
      "Epoch 2/100\n",
      "34/34 [==============================] - 0s 3ms/step - loss: 7718.1925 - mean_absolute_error: 7718.1925 - mean_squared_error: 166405425.8286\n",
      "Epoch 3/100\n",
      "34/34 [==============================] - 0s 3ms/step - loss: 6983.7826 - mean_absolute_error: 6983.7826 - mean_squared_error: 144605303.0857\n",
      "Epoch 4/100\n",
      "34/34 [==============================] - 0s 3ms/step - loss: 8083.4822 - mean_absolute_error: 8083.4822 - mean_squared_error: 186700500.5714\n",
      "Epoch 5/100\n",
      "34/34 [==============================] - 0s 3ms/step - loss: 7793.8446 - mean_absolute_error: 7793.8446 - mean_squared_error: 165165009.3714\n",
      "Epoch 6/100\n",
      "34/34 [==============================] - 0s 3ms/step - loss: 7618.4116 - mean_absolute_error: 7618.4116 - mean_squared_error: 167119723.6571\n",
      "Epoch 7/100\n",
      "34/34 [==============================] - 0s 3ms/step - loss: 7678.4980 - mean_absolute_error: 7678.4980 - mean_squared_error: 171115767.3143\n",
      "Epoch 8/100\n",
      "34/34 [==============================] - 0s 3ms/step - loss: 7780.4300 - mean_absolute_error: 7780.4300 - mean_squared_error: 162392053.0286\n",
      "Epoch 9/100\n",
      "34/34 [==============================] - 0s 4ms/step - loss: 7588.8138 - mean_absolute_error: 7588.8138 - mean_squared_error: 166288436.1143\n",
      "Epoch 10/100\n",
      "34/34 [==============================] - 0s 3ms/step - loss: 7520.6841 - mean_absolute_error: 7520.6841 - mean_squared_error: 177595170.7429\n",
      "Epoch 11/100\n",
      "34/34 [==============================] - 0s 4ms/step - loss: 8309.7823 - mean_absolute_error: 8309.7823 - mean_squared_error: 171649774.6286\n",
      "Epoch 12/100\n",
      "34/34 [==============================] - 0s 3ms/step - loss: 7748.0194 - mean_absolute_error: 7748.0194 - mean_squared_error: 167392439.7714\n",
      "Epoch 13/100\n",
      "34/34 [==============================] - 0s 3ms/step - loss: 7888.3562 - mean_absolute_error: 7888.3562 - mean_squared_error: 177067226.5143\n",
      "Epoch 14/100\n",
      "34/34 [==============================] - 0s 3ms/step - loss: 7731.1163 - mean_absolute_error: 7731.1163 - mean_squared_error: 161458572.3429\n",
      "Epoch 15/100\n",
      "34/34 [==============================] - 0s 3ms/step - loss: 7786.1038 - mean_absolute_error: 7786.1038 - mean_squared_error: 168940986.0571\n",
      "Epoch 16/100\n",
      "34/34 [==============================] - 0s 3ms/step - loss: 8343.8855 - mean_absolute_error: 8343.8855 - mean_squared_error: 184881824.4571\n",
      "Epoch 17/100\n",
      "34/34 [==============================] - 0s 3ms/step - loss: 7142.3615 - mean_absolute_error: 7142.3615 - mean_squared_error: 144202251.2000\n",
      "Epoch 18/100\n",
      "34/34 [==============================] - 0s 3ms/step - loss: 8070.0514 - mean_absolute_error: 8070.0514 - mean_squared_error: 167691151.5429\n",
      "Epoch 19/100\n",
      "34/34 [==============================] - 0s 3ms/step - loss: 7604.8295 - mean_absolute_error: 7604.8295 - mean_squared_error: 165816377.6000\n",
      "Epoch 20/100\n",
      "34/34 [==============================] - 0s 3ms/step - loss: 7945.1269 - mean_absolute_error: 7945.1269 - mean_squared_error: 157365593.1429\n",
      "Epoch 21/100\n",
      "34/34 [==============================] - 0s 3ms/step - loss: 6864.6832 - mean_absolute_error: 6864.6832 - mean_squared_error: 135038389.7143\n",
      "Epoch 22/100\n",
      "34/34 [==============================] - 0s 3ms/step - loss: 7505.7918 - mean_absolute_error: 7505.7918 - mean_squared_error: 142529181.2571\n",
      "Epoch 23/100\n",
      "34/34 [==============================] - 0s 3ms/step - loss: 7621.7376 - mean_absolute_error: 7621.7376 - mean_squared_error: 155257806.1714\n",
      "Epoch 24/100\n",
      "34/34 [==============================] - 0s 3ms/step - loss: 7262.7541 - mean_absolute_error: 7262.7541 - mean_squared_error: 153455703.3143\n",
      "Epoch 25/100\n",
      "34/34 [==============================] - 0s 3ms/step - loss: 8156.1948 - mean_absolute_error: 8156.1948 - mean_squared_error: 166149153.1429\n",
      "Epoch 26/100\n",
      "34/34 [==============================] - 0s 3ms/step - loss: 7246.2713 - mean_absolute_error: 7246.2713 - mean_squared_error: 144457478.8571\n",
      "Epoch 27/100\n",
      "34/34 [==============================] - 0s 3ms/step - loss: 7562.7819 - mean_absolute_error: 7562.7819 - mean_squared_error: 148035459.6571\n",
      "Epoch 28/100\n",
      "34/34 [==============================] - 0s 3ms/step - loss: 7842.6217 - mean_absolute_error: 7842.6217 - mean_squared_error: 173809132.3429\n",
      "Epoch 29/100\n",
      "34/34 [==============================] - 0s 3ms/step - loss: 7153.8771 - mean_absolute_error: 7153.8771 - mean_squared_error: 153167039.0857\n",
      "Epoch 30/100\n",
      "34/34 [==============================] - 0s 3ms/step - loss: 7723.4957 - mean_absolute_error: 7723.4957 - mean_squared_error: 159385982.6286\n",
      "Epoch 31/100\n",
      "34/34 [==============================] - 0s 3ms/step - loss: 8310.0627 - mean_absolute_error: 8310.0627 - mean_squared_error: 184691104.0000\n",
      "Epoch 32/100\n",
      "34/34 [==============================] - 0s 3ms/step - loss: 7734.9663 - mean_absolute_error: 7734.9663 - mean_squared_error: 149404010.0571\n",
      "Epoch 33/100\n",
      "34/34 [==============================] - 0s 3ms/step - loss: 7403.4657 - mean_absolute_error: 7403.4657 - mean_squared_error: 157618298.9714\n",
      "Epoch 34/100\n",
      "34/34 [==============================] - 0s 3ms/step - loss: 7482.6285 - mean_absolute_error: 7482.6285 - mean_squared_error: 148039142.8571\n",
      "Epoch 35/100\n",
      "34/34 [==============================] - 0s 3ms/step - loss: 7198.8917 - mean_absolute_error: 7198.8917 - mean_squared_error: 150949096.6857\n",
      "Epoch 36/100\n",
      "34/34 [==============================] - 0s 3ms/step - loss: 7484.1018 - mean_absolute_error: 7484.1018 - mean_squared_error: 150062855.5429\n",
      "Epoch 37/100\n",
      "34/34 [==============================] - 0s 3ms/step - loss: 7701.6283 - mean_absolute_error: 7701.6283 - mean_squared_error: 156932441.1429\n",
      "Epoch 38/100\n",
      "34/34 [==============================] - 0s 3ms/step - loss: 6923.6146 - mean_absolute_error: 6923.6146 - mean_squared_error: 144762574.6286\n",
      "Epoch 39/100\n",
      "34/34 [==============================] - 0s 3ms/step - loss: 7673.7909 - mean_absolute_error: 7673.7909 - mean_squared_error: 165720718.6286\n",
      "Epoch 40/100\n",
      "34/34 [==============================] - 0s 3ms/step - loss: 7670.9190 - mean_absolute_error: 7670.9190 - mean_squared_error: 164353187.6571\n",
      "Epoch 41/100\n",
      "34/34 [==============================] - 0s 3ms/step - loss: 7774.5878 - mean_absolute_error: 7774.5878 - mean_squared_error: 165611495.7714\n",
      "Epoch 42/100\n",
      "34/34 [==============================] - 0s 3ms/step - loss: 7413.0882 - mean_absolute_error: 7413.0882 - mean_squared_error: 156373436.3429\n",
      "Epoch 43/100\n",
      "34/34 [==============================] - 0s 3ms/step - loss: 7793.8666 - mean_absolute_error: 7793.8666 - mean_squared_error: 156673013.0286\n",
      "Epoch 44/100\n",
      "34/34 [==============================] - 0s 3ms/step - loss: 7239.3580 - mean_absolute_error: 7239.3580 - mean_squared_error: 148966383.0857\n",
      "Epoch 45/100\n",
      "34/34 [==============================] - 0s 3ms/step - loss: 7402.6563 - mean_absolute_error: 7402.6563 - mean_squared_error: 144176948.3429\n",
      "Epoch 46/100\n",
      "34/34 [==============================] - 0s 4ms/step - loss: 7167.7290 - mean_absolute_error: 7167.7290 - mean_squared_error: 145069118.1714\n",
      "Epoch 47/100\n",
      "34/34 [==============================] - 0s 3ms/step - loss: 7716.9021 - mean_absolute_error: 7716.9021 - mean_squared_error: 156590642.2857\n",
      "Epoch 48/100\n",
      "34/34 [==============================] - 0s 3ms/step - loss: 7509.9137 - mean_absolute_error: 7509.9137 - mean_squared_error: 151349742.6286\n",
      "Epoch 49/100\n",
      "34/34 [==============================] - 0s 3ms/step - loss: 7216.6763 - mean_absolute_error: 7216.6763 - mean_squared_error: 136967378.7429\n",
      "Epoch 50/100\n",
      "34/34 [==============================] - 0s 4ms/step - loss: 7354.2576 - mean_absolute_error: 7354.2576 - mean_squared_error: 154545448.9143\n",
      "Epoch 51/100\n",
      "34/34 [==============================] - 0s 4ms/step - loss: 7587.3338 - mean_absolute_error: 7587.3338 - mean_squared_error: 154801834.2857\n",
      "Epoch 52/100\n",
      "34/34 [==============================] - 0s 4ms/step - loss: 7697.7624 - mean_absolute_error: 7697.7624 - mean_squared_error: 161879636.1143\n",
      "Epoch 53/100\n",
      "34/34 [==============================] - 0s 3ms/step - loss: 7084.7633 - mean_absolute_error: 7084.7633 - mean_squared_error: 145403124.5714\n",
      "Epoch 54/100\n",
      "34/34 [==============================] - 0s 3ms/step - loss: 7366.1161 - mean_absolute_error: 7366.1161 - mean_squared_error: 152404697.6000\n",
      "Epoch 55/100\n",
      "34/34 [==============================] - 0s 3ms/step - loss: 7354.5018 - mean_absolute_error: 7354.5018 - mean_squared_error: 137853452.1143\n",
      "Epoch 56/100\n",
      "34/34 [==============================] - 0s 3ms/step - loss: 7201.4705 - mean_absolute_error: 7201.4705 - mean_squared_error: 137785063.5429\n",
      "Epoch 57/100\n",
      "34/34 [==============================] - 0s 3ms/step - loss: 7612.1700 - mean_absolute_error: 7612.1700 - mean_squared_error: 158276768.4571\n",
      "Epoch 58/100\n",
      "34/34 [==============================] - 0s 3ms/step - loss: 7684.3353 - mean_absolute_error: 7684.3353 - mean_squared_error: 157625060.5714\n",
      "Epoch 59/100\n",
      "34/34 [==============================] - 0s 3ms/step - loss: 7315.3648 - mean_absolute_error: 7315.3648 - mean_squared_error: 144545498.9714\n",
      "Epoch 60/100\n",
      "34/34 [==============================] - 0s 3ms/step - loss: 7381.6651 - mean_absolute_error: 7381.6651 - mean_squared_error: 146249283.6571\n",
      "Epoch 61/100\n",
      "34/34 [==============================] - 0s 3ms/step - loss: 7842.5250 - mean_absolute_error: 7842.5250 - mean_squared_error: 155684492.1143\n",
      "Epoch 62/100\n",
      "34/34 [==============================] - 0s 3ms/step - loss: 7346.2643 - mean_absolute_error: 7346.2643 - mean_squared_error: 145350797.7143\n",
      "Epoch 63/100\n",
      "34/34 [==============================] - 0s 4ms/step - loss: 7634.5374 - mean_absolute_error: 7634.5374 - mean_squared_error: 148362216.6857\n",
      "Epoch 64/100\n",
      "34/34 [==============================] - 0s 5ms/step - loss: 6976.2137 - mean_absolute_error: 6976.2137 - mean_squared_error: 138817266.9714\n",
      "Epoch 65/100\n",
      "34/34 [==============================] - 0s 4ms/step - loss: 7608.7971 - mean_absolute_error: 7608.7971 - mean_squared_error: 153205022.8571\n",
      "Epoch 66/100\n",
      "34/34 [==============================] - 0s 3ms/step - loss: 7275.7899 - mean_absolute_error: 7275.7899 - mean_squared_error: 146349727.3143\n",
      "Epoch 67/100\n",
      "34/34 [==============================] - 0s 3ms/step - loss: 7244.1644 - mean_absolute_error: 7244.1644 - mean_squared_error: 146296767.0857\n",
      "Epoch 68/100\n",
      "34/34 [==============================] - 0s 3ms/step - loss: 7553.0948 - mean_absolute_error: 7553.0948 - mean_squared_error: 149718716.8000\n",
      "Epoch 69/100\n",
      "34/34 [==============================] - 0s 3ms/step - loss: 8028.1964 - mean_absolute_error: 8028.1964 - mean_squared_error: 153841073.3714\n",
      "Epoch 70/100\n",
      "34/34 [==============================] - 0s 3ms/step - loss: 7150.7139 - mean_absolute_error: 7150.7139 - mean_squared_error: 136933839.0857\n",
      "Epoch 71/100\n",
      "34/34 [==============================] - 0s 3ms/step - loss: 7137.5195 - mean_absolute_error: 7137.5195 - mean_squared_error: 144632670.1714\n",
      "Epoch 72/100\n",
      "34/34 [==============================] - 0s 3ms/step - loss: 6708.9295 - mean_absolute_error: 6708.9295 - mean_squared_error: 126306535.3143\n",
      "Epoch 73/100\n",
      "34/34 [==============================] - 0s 3ms/step - loss: 7554.2732 - mean_absolute_error: 7554.2732 - mean_squared_error: 148335045.0286\n",
      "Epoch 74/100\n",
      "34/34 [==============================] - 0s 3ms/step - loss: 7060.4082 - mean_absolute_error: 7060.4082 - mean_squared_error: 146470039.5429\n",
      "Epoch 75/100\n",
      "34/34 [==============================] - 0s 3ms/step - loss: 7564.8165 - mean_absolute_error: 7564.8165 - mean_squared_error: 154816837.4857\n",
      "Epoch 76/100\n",
      "34/34 [==============================] - 0s 3ms/step - loss: 7016.7831 - mean_absolute_error: 7016.7831 - mean_squared_error: 138378836.3429\n",
      "Epoch 77/100\n",
      "34/34 [==============================] - 0s 3ms/step - loss: 7936.9772 - mean_absolute_error: 7936.9772 - mean_squared_error: 158228797.7143\n",
      "Epoch 78/100\n",
      "34/34 [==============================] - 0s 3ms/step - loss: 6828.1385 - mean_absolute_error: 6828.1385 - mean_squared_error: 131837394.2857\n",
      "Epoch 79/100\n",
      "34/34 [==============================] - 0s 3ms/step - loss: 6875.0798 - mean_absolute_error: 6875.0798 - mean_squared_error: 115537451.4286\n",
      "Epoch 80/100\n",
      "34/34 [==============================] - 0s 3ms/step - loss: 6770.6311 - mean_absolute_error: 6770.6311 - mean_squared_error: 118854600.2286\n",
      "Epoch 81/100\n",
      "34/34 [==============================] - 0s 3ms/step - loss: 7216.2092 - mean_absolute_error: 7216.2092 - mean_squared_error: 143872879.3143\n",
      "Epoch 82/100\n",
      "34/34 [==============================] - 0s 3ms/step - loss: 7774.2738 - mean_absolute_error: 7774.2738 - mean_squared_error: 149552515.8857\n",
      "Epoch 83/100\n",
      "34/34 [==============================] - 0s 3ms/step - loss: 7156.2553 - mean_absolute_error: 7156.2553 - mean_squared_error: 149784874.9714\n",
      "Epoch 84/100\n",
      "34/34 [==============================] - 0s 3ms/step - loss: 7436.0039 - mean_absolute_error: 7436.0039 - mean_squared_error: 141612256.2286\n",
      "Epoch 85/100\n",
      "34/34 [==============================] - 0s 3ms/step - loss: 6855.7935 - mean_absolute_error: 6855.7935 - mean_squared_error: 129987537.1429\n",
      "Epoch 86/100\n",
      "34/34 [==============================] - 0s 3ms/step - loss: 7768.8272 - mean_absolute_error: 7768.8272 - mean_squared_error: 153538476.3429\n",
      "Epoch 87/100\n",
      "34/34 [==============================] - 0s 3ms/step - loss: 7014.5803 - mean_absolute_error: 7014.5803 - mean_squared_error: 133041910.6286\n",
      "Epoch 88/100\n",
      "34/34 [==============================] - 0s 3ms/step - loss: 7525.7779 - mean_absolute_error: 7525.7779 - mean_squared_error: 148238417.1429\n",
      "Epoch 89/100\n",
      "34/34 [==============================] - 0s 4ms/step - loss: 6994.6070 - mean_absolute_error: 6994.6070 - mean_squared_error: 135674984.4571\n",
      "Epoch 90/100\n",
      "34/34 [==============================] - 0s 3ms/step - loss: 7677.9610 - mean_absolute_error: 7677.9610 - mean_squared_error: 149626719.0857\n",
      "Epoch 91/100\n",
      "34/34 [==============================] - 0s 3ms/step - loss: 7210.0508 - mean_absolute_error: 7210.0508 - mean_squared_error: 141118154.5143\n",
      "Epoch 92/100\n",
      "34/34 [==============================] - 0s 3ms/step - loss: 7335.2228 - mean_absolute_error: 7335.2228 - mean_squared_error: 140542542.1714\n",
      "Epoch 93/100\n",
      "34/34 [==============================] - 0s 3ms/step - loss: 7235.0913 - mean_absolute_error: 7235.0913 - mean_squared_error: 135202899.8857\n",
      "Epoch 94/100\n",
      "34/34 [==============================] - 0s 3ms/step - loss: 6728.8875 - mean_absolute_error: 6728.8875 - mean_squared_error: 120388139.6571\n",
      "Epoch 95/100\n",
      "34/34 [==============================] - 0s 3ms/step - loss: 7811.5183 - mean_absolute_error: 7811.5183 - mean_squared_error: 141510563.2000\n",
      "Epoch 96/100\n",
      "34/34 [==============================] - 0s 3ms/step - loss: 7430.2758 - mean_absolute_error: 7430.2758 - mean_squared_error: 135569153.6000\n",
      "Epoch 97/100\n",
      "34/34 [==============================] - 0s 3ms/step - loss: 6876.5980 - mean_absolute_error: 6876.5980 - mean_squared_error: 126666595.4286\n",
      "Epoch 98/100\n",
      "34/34 [==============================] - 0s 3ms/step - loss: 7070.8702 - mean_absolute_error: 7070.8702 - mean_squared_error: 131399583.0857\n",
      "Epoch 99/100\n",
      "34/34 [==============================] - 0s 3ms/step - loss: 7118.6878 - mean_absolute_error: 7118.6878 - mean_squared_error: 131338487.3143\n",
      "Epoch 100/100\n",
      "34/34 [==============================] - 0s 3ms/step - loss: 6880.6745 - mean_absolute_error: 6880.6745 - mean_squared_error: 129417072.6857\n"
     ]
    },
    {
     "output_type": "execute_result",
     "data": {
      "text/plain": [
       "<tensorflow.python.keras.callbacks.History at 0x7ec9d365c0>"
      ]
     },
     "metadata": {},
     "execution_count": 155
    }
   ],
   "source": [
    "# 1. Build model\n",
    "insurance_model_1 = tf.keras.Sequential([\n",
    "    tf.keras.layers.Dense(10),\n",
    "    tf.keras.layers.Dense(1)    \n",
    "])\n",
    "\n",
    "# 2. Compile model\n",
    "insurance_model_1.compile (\n",
    "    loss = tf.keras.losses.mae,\n",
    "    optimizer = tf.keras.optimizers.SGD(),\n",
    "    metrics = [tf.keras.metrics.mae, tf.keras.metrics.mse]\n",
    ")\n",
    "\n",
    "# 3. Fit model\n",
    "insurance_model_1.fit(X_train, y_train, epochs = 100)"
   ]
  },
  {
   "cell_type": "code",
   "execution_count": 156,
   "metadata": {},
   "outputs": [
    {
     "output_type": "stream",
     "name": "stdout",
     "text": [
      "9/9 [==============================] - 0s 3ms/step - loss: 7023.3296 - mean_absolute_error: 7023.3296 - mean_squared_error: 111577832.0000\n"
     ]
    },
    {
     "output_type": "execute_result",
     "data": {
      "text/plain": [
       "[7023.32958984375, 7023.32958984375, 111577832.0]"
      ]
     },
     "metadata": {},
     "execution_count": 156
    }
   ],
   "source": [
    "# Check the results of the insurance model on the test data\n",
    "insurance_model.evaluate(X_test, y_test)"
   ]
  },
  {
   "cell_type": "code",
   "execution_count": 157,
   "metadata": {},
   "outputs": [
    {
     "output_type": "execute_result",
     "data": {
      "text/plain": [
       "(13346.089736364485, 7023.33, 111577830.0)"
      ]
     },
     "metadata": {},
     "execution_count": 157
    }
   ],
   "source": [
    "# Make and plot predictions for model_1\n",
    "y_preds_1 = insurance_model_1.predict(X_test)\n",
    "#Our average cost is 13346, and our overage error is 7023. So the model is very inaccurate\n",
    "y_train.mean(), mae(y_test, y_preds_1), mse(y_test, y_preds_1)"
   ]
  },
  {
   "source": [
    "# insurance_model_2 - Try to improve the model\n",
    "\n",
    "Change hidden layers and optimizer"
   ],
   "cell_type": "markdown",
   "metadata": {}
  },
  {
   "cell_type": "code",
   "execution_count": 158,
   "metadata": {},
   "outputs": [
    {
     "output_type": "execute_result",
     "data": {
      "text/plain": [
       "<tensorflow.python.keras.callbacks.History at 0x7efe855400>"
      ]
     },
     "metadata": {},
     "execution_count": 158
    }
   ],
   "source": [
    "# 1. Build model\n",
    "insurance_model_2 = tf.keras.Sequential([\n",
    "    tf.keras.layers.Dense(100),\n",
    "    tf.keras.layers.Dense(10),\n",
    "    tf.keras.layers.Dense(1)    \n",
    "])\n",
    "\n",
    "# 2. Compile model\n",
    "insurance_model_2.compile (\n",
    "    loss = tf.keras.losses.mae,\n",
    "    optimizer = tf.keras.optimizers.Adam(learning_rate = 0.001),\n",
    "    metrics = [tf.keras.metrics.mae, tf.keras.metrics.mse]\n",
    ")\n",
    "\n",
    "# 3. Fit model\n",
    "insurance_model_2.fit(X_train, y_train, epochs = 100, verbose = 0)"
   ]
  },
  {
   "cell_type": "code",
   "execution_count": 159,
   "metadata": {},
   "outputs": [
    {
     "output_type": "execute_result",
     "data": {
      "text/plain": [
       "(13346.089736364485, 4853.852, 97747416.0)"
      ]
     },
     "metadata": {},
     "execution_count": 159
    }
   ],
   "source": [
    "# Evaluate the model\n",
    "y_preds_2 = insurance_model_2.predict(X_test)\n",
    "#Our average cost is 13346, and our overage error is 7023. So the model is very inaccurate\n",
    "y_train.mean(), mae(y_test, y_preds_2), mse(y_test, y_preds_2)"
   ]
  },
  {
   "source": [
    "# insurance_model_3 - Further improve the model\n",
    "\n",
    "Train for longer"
   ],
   "cell_type": "markdown",
   "metadata": {}
  },
  {
   "cell_type": "code",
   "execution_count": 160,
   "metadata": {},
   "outputs": [],
   "source": [
    "# 1. Build model\n",
    "insurance_model_3 = tf.keras.Sequential([\n",
    "    tf.keras.layers.Dense(100),\n",
    "    tf.keras.layers.Dense(10),\n",
    "    tf.keras.layers.Dense(1)    \n",
    "])\n",
    "\n",
    "# 2. Compile model\n",
    "insurance_model_3.compile (\n",
    "    loss = tf.keras.losses.mae,\n",
    "    optimizer = tf.keras.optimizers.Adam(learning_rate = 0.001),\n",
    "    metrics = [tf.keras.metrics.mae] #, tf.keras.metrics.mse]\n",
    ")\n",
    "\n",
    "# 3. Fit model\n",
    "history = insurance_model_3.fit(X_train, y_train, epochs = 300, verbose = 0)"
   ]
  },
  {
   "cell_type": "code",
   "execution_count": 161,
   "metadata": {},
   "outputs": [
    {
     "output_type": "execute_result",
     "data": {
      "text/plain": [
       "(13346.089736364485, 3230.5403, 38610880.0)"
      ]
     },
     "metadata": {},
     "execution_count": 161
    }
   ],
   "source": [
    "# Evaluate the model\n",
    "y_preds_3 = insurance_model_3.predict(X_test)\n",
    "#Our average cost is 13346, and our overage error is 7023. So the model is very inaccurate\n",
    "y_train.mean(), mae(y_test, y_preds_3), mse(y_test, y_preds_3)"
   ]
  },
  {
   "cell_type": "code",
   "execution_count": 162,
   "metadata": {},
   "outputs": [
    {
     "output_type": "execute_result",
     "data": {
      "text/plain": [
       "Text(0.5, 0, 'epochs')"
      ]
     },
     "metadata": {},
     "execution_count": 162
    },
    {
     "output_type": "display_data",
     "data": {
      "text/plain": "<Figure size 432x288 with 1 Axes>",
      "image/svg+xml": "<?xml version=\"1.0\" encoding=\"utf-8\" standalone=\"no\"?>\n<!DOCTYPE svg PUBLIC \"-//W3C//DTD SVG 1.1//EN\"\n  \"http://www.w3.org/Graphics/SVG/1.1/DTD/svg11.dtd\">\n<!-- Created with matplotlib (https://matplotlib.org/) -->\n<svg height=\"262.19625pt\" version=\"1.1\" viewBox=\"0 0 401.690625 262.19625\" width=\"401.690625pt\" xmlns=\"http://www.w3.org/2000/svg\" xmlns:xlink=\"http://www.w3.org/1999/xlink\">\n <metadata>\n  <rdf:RDF xmlns:cc=\"http://creativecommons.org/ns#\" xmlns:dc=\"http://purl.org/dc/elements/1.1/\" xmlns:rdf=\"http://www.w3.org/1999/02/22-rdf-syntax-ns#\">\n   <cc:Work>\n    <dc:type rdf:resource=\"http://purl.org/dc/dcmitype/StillImage\"/>\n    <dc:date>2021-04-04T20:14:45.593439</dc:date>\n    <dc:format>image/svg+xml</dc:format>\n    <dc:creator>\n     <cc:Agent>\n      <dc:title>Matplotlib v3.3.4, https://matplotlib.org/</dc:title>\n     </cc:Agent>\n    </dc:creator>\n   </cc:Work>\n  </rdf:RDF>\n </metadata>\n <defs>\n  <style type=\"text/css\">*{stroke-linecap:butt;stroke-linejoin:round;}</style>\n </defs>\n <g id=\"figure_1\">\n  <g id=\"patch_1\">\n   <path d=\"M 0 262.19625 \nL 401.690625 262.19625 \nL 401.690625 0 \nL 0 0 \nz\n\" style=\"fill:none;\"/>\n  </g>\n  <g id=\"axes_1\">\n   <g id=\"patch_2\">\n    <path d=\"M 59.690625 224.64 \nL 394.490625 224.64 \nL 394.490625 7.2 \nL 59.690625 7.2 \nz\n\" style=\"fill:#ffffff;\"/>\n   </g>\n   <g id=\"matplotlib.axis_1\">\n    <g id=\"xtick_1\">\n     <g id=\"line2d_1\">\n      <defs>\n       <path d=\"M 0 0 \nL 0 3.5 \n\" id=\"m550586285b\" style=\"stroke:#000000;stroke-width:0.8;\"/>\n      </defs>\n      <g>\n       <use style=\"stroke:#000000;stroke-width:0.8;\" x=\"74.908807\" xlink:href=\"#m550586285b\" y=\"224.64\"/>\n      </g>\n     </g>\n     <g id=\"text_1\">\n      <!-- 0 -->\n      <g transform=\"translate(71.727557 239.238437)scale(0.1 -0.1)\">\n       <defs>\n        <path d=\"M 31.78125 66.40625 \nQ 24.171875 66.40625 20.328125 58.90625 \nQ 16.5 51.421875 16.5 36.375 \nQ 16.5 21.390625 20.328125 13.890625 \nQ 24.171875 6.390625 31.78125 6.390625 \nQ 39.453125 6.390625 43.28125 13.890625 \nQ 47.125 21.390625 47.125 36.375 \nQ 47.125 51.421875 43.28125 58.90625 \nQ 39.453125 66.40625 31.78125 66.40625 \nz\nM 31.78125 74.21875 \nQ 44.046875 74.21875 50.515625 64.515625 \nQ 56.984375 54.828125 56.984375 36.375 \nQ 56.984375 17.96875 50.515625 8.265625 \nQ 44.046875 -1.421875 31.78125 -1.421875 \nQ 19.53125 -1.421875 13.0625 8.265625 \nQ 6.59375 17.96875 6.59375 36.375 \nQ 6.59375 54.828125 13.0625 64.515625 \nQ 19.53125 74.21875 31.78125 74.21875 \nz\n\" id=\"DejaVuSans-48\"/>\n       </defs>\n       <use xlink:href=\"#DejaVuSans-48\"/>\n      </g>\n     </g>\n    </g>\n    <g id=\"xtick_2\">\n     <g id=\"line2d_2\">\n      <g>\n       <use style=\"stroke:#000000;stroke-width:0.8;\" x=\"125.805736\" xlink:href=\"#m550586285b\" y=\"224.64\"/>\n      </g>\n     </g>\n     <g id=\"text_2\">\n      <!-- 50 -->\n      <g transform=\"translate(119.443236 239.238437)scale(0.1 -0.1)\">\n       <defs>\n        <path d=\"M 10.796875 72.90625 \nL 49.515625 72.90625 \nL 49.515625 64.59375 \nL 19.828125 64.59375 \nL 19.828125 46.734375 \nQ 21.96875 47.46875 24.109375 47.828125 \nQ 26.265625 48.1875 28.421875 48.1875 \nQ 40.625 48.1875 47.75 41.5 \nQ 54.890625 34.8125 54.890625 23.390625 \nQ 54.890625 11.625 47.5625 5.09375 \nQ 40.234375 -1.421875 26.90625 -1.421875 \nQ 22.3125 -1.421875 17.546875 -0.640625 \nQ 12.796875 0.140625 7.71875 1.703125 \nL 7.71875 11.625 \nQ 12.109375 9.234375 16.796875 8.0625 \nQ 21.484375 6.890625 26.703125 6.890625 \nQ 35.15625 6.890625 40.078125 11.328125 \nQ 45.015625 15.765625 45.015625 23.390625 \nQ 45.015625 31 40.078125 35.4375 \nQ 35.15625 39.890625 26.703125 39.890625 \nQ 22.75 39.890625 18.8125 39.015625 \nQ 14.890625 38.140625 10.796875 36.28125 \nz\n\" id=\"DejaVuSans-53\"/>\n       </defs>\n       <use xlink:href=\"#DejaVuSans-53\"/>\n       <use x=\"63.623047\" xlink:href=\"#DejaVuSans-48\"/>\n      </g>\n     </g>\n    </g>\n    <g id=\"xtick_3\">\n     <g id=\"line2d_3\">\n      <g>\n       <use style=\"stroke:#000000;stroke-width:0.8;\" x=\"176.702665\" xlink:href=\"#m550586285b\" y=\"224.64\"/>\n      </g>\n     </g>\n     <g id=\"text_3\">\n      <!-- 100 -->\n      <g transform=\"translate(167.158915 239.238437)scale(0.1 -0.1)\">\n       <defs>\n        <path d=\"M 12.40625 8.296875 \nL 28.515625 8.296875 \nL 28.515625 63.921875 \nL 10.984375 60.40625 \nL 10.984375 69.390625 \nL 28.421875 72.90625 \nL 38.28125 72.90625 \nL 38.28125 8.296875 \nL 54.390625 8.296875 \nL 54.390625 0 \nL 12.40625 0 \nz\n\" id=\"DejaVuSans-49\"/>\n       </defs>\n       <use xlink:href=\"#DejaVuSans-49\"/>\n       <use x=\"63.623047\" xlink:href=\"#DejaVuSans-48\"/>\n       <use x=\"127.246094\" xlink:href=\"#DejaVuSans-48\"/>\n      </g>\n     </g>\n    </g>\n    <g id=\"xtick_4\">\n     <g id=\"line2d_4\">\n      <g>\n       <use style=\"stroke:#000000;stroke-width:0.8;\" x=\"227.599594\" xlink:href=\"#m550586285b\" y=\"224.64\"/>\n      </g>\n     </g>\n     <g id=\"text_4\">\n      <!-- 150 -->\n      <g transform=\"translate(218.055844 239.238437)scale(0.1 -0.1)\">\n       <use xlink:href=\"#DejaVuSans-49\"/>\n       <use x=\"63.623047\" xlink:href=\"#DejaVuSans-53\"/>\n       <use x=\"127.246094\" xlink:href=\"#DejaVuSans-48\"/>\n      </g>\n     </g>\n    </g>\n    <g id=\"xtick_5\">\n     <g id=\"line2d_5\">\n      <g>\n       <use style=\"stroke:#000000;stroke-width:0.8;\" x=\"278.496523\" xlink:href=\"#m550586285b\" y=\"224.64\"/>\n      </g>\n     </g>\n     <g id=\"text_5\">\n      <!-- 200 -->\n      <g transform=\"translate(268.952773 239.238437)scale(0.1 -0.1)\">\n       <defs>\n        <path d=\"M 19.1875 8.296875 \nL 53.609375 8.296875 \nL 53.609375 0 \nL 7.328125 0 \nL 7.328125 8.296875 \nQ 12.9375 14.109375 22.625 23.890625 \nQ 32.328125 33.6875 34.8125 36.53125 \nQ 39.546875 41.84375 41.421875 45.53125 \nQ 43.3125 49.21875 43.3125 52.78125 \nQ 43.3125 58.59375 39.234375 62.25 \nQ 35.15625 65.921875 28.609375 65.921875 \nQ 23.96875 65.921875 18.8125 64.3125 \nQ 13.671875 62.703125 7.8125 59.421875 \nL 7.8125 69.390625 \nQ 13.765625 71.78125 18.9375 73 \nQ 24.125 74.21875 28.421875 74.21875 \nQ 39.75 74.21875 46.484375 68.546875 \nQ 53.21875 62.890625 53.21875 53.421875 \nQ 53.21875 48.921875 51.53125 44.890625 \nQ 49.859375 40.875 45.40625 35.40625 \nQ 44.1875 33.984375 37.640625 27.21875 \nQ 31.109375 20.453125 19.1875 8.296875 \nz\n\" id=\"DejaVuSans-50\"/>\n       </defs>\n       <use xlink:href=\"#DejaVuSans-50\"/>\n       <use x=\"63.623047\" xlink:href=\"#DejaVuSans-48\"/>\n       <use x=\"127.246094\" xlink:href=\"#DejaVuSans-48\"/>\n      </g>\n     </g>\n    </g>\n    <g id=\"xtick_6\">\n     <g id=\"line2d_6\">\n      <g>\n       <use style=\"stroke:#000000;stroke-width:0.8;\" x=\"329.393453\" xlink:href=\"#m550586285b\" y=\"224.64\"/>\n      </g>\n     </g>\n     <g id=\"text_6\">\n      <!-- 250 -->\n      <g transform=\"translate(319.849703 239.238437)scale(0.1 -0.1)\">\n       <use xlink:href=\"#DejaVuSans-50\"/>\n       <use x=\"63.623047\" xlink:href=\"#DejaVuSans-53\"/>\n       <use x=\"127.246094\" xlink:href=\"#DejaVuSans-48\"/>\n      </g>\n     </g>\n    </g>\n    <g id=\"xtick_7\">\n     <g id=\"line2d_7\">\n      <g>\n       <use style=\"stroke:#000000;stroke-width:0.8;\" x=\"380.290382\" xlink:href=\"#m550586285b\" y=\"224.64\"/>\n      </g>\n     </g>\n     <g id=\"text_7\">\n      <!-- 300 -->\n      <g transform=\"translate(370.746632 239.238437)scale(0.1 -0.1)\">\n       <defs>\n        <path d=\"M 40.578125 39.3125 \nQ 47.65625 37.796875 51.625 33 \nQ 55.609375 28.21875 55.609375 21.1875 \nQ 55.609375 10.40625 48.1875 4.484375 \nQ 40.765625 -1.421875 27.09375 -1.421875 \nQ 22.515625 -1.421875 17.65625 -0.515625 \nQ 12.796875 0.390625 7.625 2.203125 \nL 7.625 11.71875 \nQ 11.71875 9.328125 16.59375 8.109375 \nQ 21.484375 6.890625 26.8125 6.890625 \nQ 36.078125 6.890625 40.9375 10.546875 \nQ 45.796875 14.203125 45.796875 21.1875 \nQ 45.796875 27.640625 41.28125 31.265625 \nQ 36.765625 34.90625 28.71875 34.90625 \nL 20.21875 34.90625 \nL 20.21875 43.015625 \nL 29.109375 43.015625 \nQ 36.375 43.015625 40.234375 45.921875 \nQ 44.09375 48.828125 44.09375 54.296875 \nQ 44.09375 59.90625 40.109375 62.90625 \nQ 36.140625 65.921875 28.71875 65.921875 \nQ 24.65625 65.921875 20.015625 65.03125 \nQ 15.375 64.15625 9.8125 62.3125 \nL 9.8125 71.09375 \nQ 15.4375 72.65625 20.34375 73.4375 \nQ 25.25 74.21875 29.59375 74.21875 \nQ 40.828125 74.21875 47.359375 69.109375 \nQ 53.90625 64.015625 53.90625 55.328125 \nQ 53.90625 49.265625 50.4375 45.09375 \nQ 46.96875 40.921875 40.578125 39.3125 \nz\n\" id=\"DejaVuSans-51\"/>\n       </defs>\n       <use xlink:href=\"#DejaVuSans-51\"/>\n       <use x=\"63.623047\" xlink:href=\"#DejaVuSans-48\"/>\n       <use x=\"127.246094\" xlink:href=\"#DejaVuSans-48\"/>\n      </g>\n     </g>\n    </g>\n    <g id=\"text_8\">\n     <!-- epochs -->\n     <g transform=\"translate(209.257813 252.916562)scale(0.1 -0.1)\">\n      <defs>\n       <path d=\"M 56.203125 29.59375 \nL 56.203125 25.203125 \nL 14.890625 25.203125 \nQ 15.484375 15.921875 20.484375 11.0625 \nQ 25.484375 6.203125 34.421875 6.203125 \nQ 39.59375 6.203125 44.453125 7.46875 \nQ 49.3125 8.734375 54.109375 11.28125 \nL 54.109375 2.78125 \nQ 49.265625 0.734375 44.1875 -0.34375 \nQ 39.109375 -1.421875 33.890625 -1.421875 \nQ 20.796875 -1.421875 13.15625 6.1875 \nQ 5.515625 13.8125 5.515625 26.8125 \nQ 5.515625 40.234375 12.765625 48.109375 \nQ 20.015625 56 32.328125 56 \nQ 43.359375 56 49.78125 48.890625 \nQ 56.203125 41.796875 56.203125 29.59375 \nz\nM 47.21875 32.234375 \nQ 47.125 39.59375 43.09375 43.984375 \nQ 39.0625 48.390625 32.421875 48.390625 \nQ 24.90625 48.390625 20.390625 44.140625 \nQ 15.875 39.890625 15.1875 32.171875 \nz\n\" id=\"DejaVuSans-101\"/>\n       <path d=\"M 18.109375 8.203125 \nL 18.109375 -20.796875 \nL 9.078125 -20.796875 \nL 9.078125 54.6875 \nL 18.109375 54.6875 \nL 18.109375 46.390625 \nQ 20.953125 51.265625 25.265625 53.625 \nQ 29.59375 56 35.59375 56 \nQ 45.5625 56 51.78125 48.09375 \nQ 58.015625 40.1875 58.015625 27.296875 \nQ 58.015625 14.40625 51.78125 6.484375 \nQ 45.5625 -1.421875 35.59375 -1.421875 \nQ 29.59375 -1.421875 25.265625 0.953125 \nQ 20.953125 3.328125 18.109375 8.203125 \nz\nM 48.6875 27.296875 \nQ 48.6875 37.203125 44.609375 42.84375 \nQ 40.53125 48.484375 33.40625 48.484375 \nQ 26.265625 48.484375 22.1875 42.84375 \nQ 18.109375 37.203125 18.109375 27.296875 \nQ 18.109375 17.390625 22.1875 11.75 \nQ 26.265625 6.109375 33.40625 6.109375 \nQ 40.53125 6.109375 44.609375 11.75 \nQ 48.6875 17.390625 48.6875 27.296875 \nz\n\" id=\"DejaVuSans-112\"/>\n       <path d=\"M 30.609375 48.390625 \nQ 23.390625 48.390625 19.1875 42.75 \nQ 14.984375 37.109375 14.984375 27.296875 \nQ 14.984375 17.484375 19.15625 11.84375 \nQ 23.34375 6.203125 30.609375 6.203125 \nQ 37.796875 6.203125 41.984375 11.859375 \nQ 46.1875 17.53125 46.1875 27.296875 \nQ 46.1875 37.015625 41.984375 42.703125 \nQ 37.796875 48.390625 30.609375 48.390625 \nz\nM 30.609375 56 \nQ 42.328125 56 49.015625 48.375 \nQ 55.71875 40.765625 55.71875 27.296875 \nQ 55.71875 13.875 49.015625 6.21875 \nQ 42.328125 -1.421875 30.609375 -1.421875 \nQ 18.84375 -1.421875 12.171875 6.21875 \nQ 5.515625 13.875 5.515625 27.296875 \nQ 5.515625 40.765625 12.171875 48.375 \nQ 18.84375 56 30.609375 56 \nz\n\" id=\"DejaVuSans-111\"/>\n       <path d=\"M 48.78125 52.59375 \nL 48.78125 44.1875 \nQ 44.96875 46.296875 41.140625 47.34375 \nQ 37.3125 48.390625 33.40625 48.390625 \nQ 24.65625 48.390625 19.8125 42.84375 \nQ 14.984375 37.3125 14.984375 27.296875 \nQ 14.984375 17.28125 19.8125 11.734375 \nQ 24.65625 6.203125 33.40625 6.203125 \nQ 37.3125 6.203125 41.140625 7.25 \nQ 44.96875 8.296875 48.78125 10.40625 \nL 48.78125 2.09375 \nQ 45.015625 0.34375 40.984375 -0.53125 \nQ 36.96875 -1.421875 32.421875 -1.421875 \nQ 20.0625 -1.421875 12.78125 6.34375 \nQ 5.515625 14.109375 5.515625 27.296875 \nQ 5.515625 40.671875 12.859375 48.328125 \nQ 20.21875 56 33.015625 56 \nQ 37.15625 56 41.109375 55.140625 \nQ 45.0625 54.296875 48.78125 52.59375 \nz\n\" id=\"DejaVuSans-99\"/>\n       <path d=\"M 54.890625 33.015625 \nL 54.890625 0 \nL 45.90625 0 \nL 45.90625 32.71875 \nQ 45.90625 40.484375 42.875 44.328125 \nQ 39.84375 48.1875 33.796875 48.1875 \nQ 26.515625 48.1875 22.3125 43.546875 \nQ 18.109375 38.921875 18.109375 30.90625 \nL 18.109375 0 \nL 9.078125 0 \nL 9.078125 75.984375 \nL 18.109375 75.984375 \nL 18.109375 46.1875 \nQ 21.34375 51.125 25.703125 53.5625 \nQ 30.078125 56 35.796875 56 \nQ 45.21875 56 50.046875 50.171875 \nQ 54.890625 44.34375 54.890625 33.015625 \nz\n\" id=\"DejaVuSans-104\"/>\n       <path d=\"M 44.28125 53.078125 \nL 44.28125 44.578125 \nQ 40.484375 46.53125 36.375 47.5 \nQ 32.28125 48.484375 27.875 48.484375 \nQ 21.1875 48.484375 17.84375 46.4375 \nQ 14.5 44.390625 14.5 40.28125 \nQ 14.5 37.15625 16.890625 35.375 \nQ 19.28125 33.59375 26.515625 31.984375 \nL 29.59375 31.296875 \nQ 39.15625 29.25 43.1875 25.515625 \nQ 47.21875 21.78125 47.21875 15.09375 \nQ 47.21875 7.46875 41.1875 3.015625 \nQ 35.15625 -1.421875 24.609375 -1.421875 \nQ 20.21875 -1.421875 15.453125 -0.5625 \nQ 10.6875 0.296875 5.421875 2 \nL 5.421875 11.28125 \nQ 10.40625 8.6875 15.234375 7.390625 \nQ 20.0625 6.109375 24.8125 6.109375 \nQ 31.15625 6.109375 34.5625 8.28125 \nQ 37.984375 10.453125 37.984375 14.40625 \nQ 37.984375 18.0625 35.515625 20.015625 \nQ 33.0625 21.96875 24.703125 23.78125 \nL 21.578125 24.515625 \nQ 13.234375 26.265625 9.515625 29.90625 \nQ 5.8125 33.546875 5.8125 39.890625 \nQ 5.8125 47.609375 11.28125 51.796875 \nQ 16.75 56 26.8125 56 \nQ 31.78125 56 36.171875 55.265625 \nQ 40.578125 54.546875 44.28125 53.078125 \nz\n\" id=\"DejaVuSans-115\"/>\n      </defs>\n      <use xlink:href=\"#DejaVuSans-101\"/>\n      <use x=\"61.523438\" xlink:href=\"#DejaVuSans-112\"/>\n      <use x=\"125\" xlink:href=\"#DejaVuSans-111\"/>\n      <use x=\"186.181641\" xlink:href=\"#DejaVuSans-99\"/>\n      <use x=\"241.162109\" xlink:href=\"#DejaVuSans-104\"/>\n      <use x=\"304.541016\" xlink:href=\"#DejaVuSans-115\"/>\n     </g>\n    </g>\n   </g>\n   <g id=\"matplotlib.axis_2\">\n    <g id=\"ytick_1\">\n     <g id=\"line2d_8\">\n      <defs>\n       <path d=\"M 0 0 \nL -3.5 0 \n\" id=\"mfe656b1fb5\" style=\"stroke:#000000;stroke-width:0.8;\"/>\n      </defs>\n      <g>\n       <use style=\"stroke:#000000;stroke-width:0.8;\" x=\"59.690625\" xlink:href=\"#mfe656b1fb5\" y=\"204.961384\"/>\n      </g>\n     </g>\n     <g id=\"text_9\">\n      <!-- 4000 -->\n      <g transform=\"translate(27.240625 208.760603)scale(0.1 -0.1)\">\n       <defs>\n        <path d=\"M 37.796875 64.3125 \nL 12.890625 25.390625 \nL 37.796875 25.390625 \nz\nM 35.203125 72.90625 \nL 47.609375 72.90625 \nL 47.609375 25.390625 \nL 58.015625 25.390625 \nL 58.015625 17.1875 \nL 47.609375 17.1875 \nL 47.609375 0 \nL 37.796875 0 \nL 37.796875 17.1875 \nL 4.890625 17.1875 \nL 4.890625 26.703125 \nz\n\" id=\"DejaVuSans-52\"/>\n       </defs>\n       <use xlink:href=\"#DejaVuSans-52\"/>\n       <use x=\"63.623047\" xlink:href=\"#DejaVuSans-48\"/>\n       <use x=\"127.246094\" xlink:href=\"#DejaVuSans-48\"/>\n       <use x=\"190.869141\" xlink:href=\"#DejaVuSans-48\"/>\n      </g>\n     </g>\n    </g>\n    <g id=\"ytick_2\">\n     <g id=\"line2d_9\">\n      <g>\n       <use style=\"stroke:#000000;stroke-width:0.8;\" x=\"59.690625\" xlink:href=\"#mfe656b1fb5\" y=\"164.562497\"/>\n      </g>\n     </g>\n     <g id=\"text_10\">\n      <!-- 6000 -->\n      <g transform=\"translate(27.240625 168.361716)scale(0.1 -0.1)\">\n       <defs>\n        <path d=\"M 33.015625 40.375 \nQ 26.375 40.375 22.484375 35.828125 \nQ 18.609375 31.296875 18.609375 23.390625 \nQ 18.609375 15.53125 22.484375 10.953125 \nQ 26.375 6.390625 33.015625 6.390625 \nQ 39.65625 6.390625 43.53125 10.953125 \nQ 47.40625 15.53125 47.40625 23.390625 \nQ 47.40625 31.296875 43.53125 35.828125 \nQ 39.65625 40.375 33.015625 40.375 \nz\nM 52.59375 71.296875 \nL 52.59375 62.3125 \nQ 48.875 64.0625 45.09375 64.984375 \nQ 41.3125 65.921875 37.59375 65.921875 \nQ 27.828125 65.921875 22.671875 59.328125 \nQ 17.53125 52.734375 16.796875 39.40625 \nQ 19.671875 43.65625 24.015625 45.921875 \nQ 28.375 48.1875 33.59375 48.1875 \nQ 44.578125 48.1875 50.953125 41.515625 \nQ 57.328125 34.859375 57.328125 23.390625 \nQ 57.328125 12.15625 50.6875 5.359375 \nQ 44.046875 -1.421875 33.015625 -1.421875 \nQ 20.359375 -1.421875 13.671875 8.265625 \nQ 6.984375 17.96875 6.984375 36.375 \nQ 6.984375 53.65625 15.1875 63.9375 \nQ 23.390625 74.21875 37.203125 74.21875 \nQ 40.921875 74.21875 44.703125 73.484375 \nQ 48.484375 72.75 52.59375 71.296875 \nz\n\" id=\"DejaVuSans-54\"/>\n       </defs>\n       <use xlink:href=\"#DejaVuSans-54\"/>\n       <use x=\"63.623047\" xlink:href=\"#DejaVuSans-48\"/>\n       <use x=\"127.246094\" xlink:href=\"#DejaVuSans-48\"/>\n       <use x=\"190.869141\" xlink:href=\"#DejaVuSans-48\"/>\n      </g>\n     </g>\n    </g>\n    <g id=\"ytick_3\">\n     <g id=\"line2d_10\">\n      <g>\n       <use style=\"stroke:#000000;stroke-width:0.8;\" x=\"59.690625\" xlink:href=\"#mfe656b1fb5\" y=\"124.163609\"/>\n      </g>\n     </g>\n     <g id=\"text_11\">\n      <!-- 8000 -->\n      <g transform=\"translate(27.240625 127.962828)scale(0.1 -0.1)\">\n       <defs>\n        <path d=\"M 31.78125 34.625 \nQ 24.75 34.625 20.71875 30.859375 \nQ 16.703125 27.09375 16.703125 20.515625 \nQ 16.703125 13.921875 20.71875 10.15625 \nQ 24.75 6.390625 31.78125 6.390625 \nQ 38.8125 6.390625 42.859375 10.171875 \nQ 46.921875 13.96875 46.921875 20.515625 \nQ 46.921875 27.09375 42.890625 30.859375 \nQ 38.875 34.625 31.78125 34.625 \nz\nM 21.921875 38.8125 \nQ 15.578125 40.375 12.03125 44.71875 \nQ 8.5 49.078125 8.5 55.328125 \nQ 8.5 64.0625 14.71875 69.140625 \nQ 20.953125 74.21875 31.78125 74.21875 \nQ 42.671875 74.21875 48.875 69.140625 \nQ 55.078125 64.0625 55.078125 55.328125 \nQ 55.078125 49.078125 51.53125 44.71875 \nQ 48 40.375 41.703125 38.8125 \nQ 48.828125 37.15625 52.796875 32.3125 \nQ 56.78125 27.484375 56.78125 20.515625 \nQ 56.78125 9.90625 50.3125 4.234375 \nQ 43.84375 -1.421875 31.78125 -1.421875 \nQ 19.734375 -1.421875 13.25 4.234375 \nQ 6.78125 9.90625 6.78125 20.515625 \nQ 6.78125 27.484375 10.78125 32.3125 \nQ 14.796875 37.15625 21.921875 38.8125 \nz\nM 18.3125 54.390625 \nQ 18.3125 48.734375 21.84375 45.5625 \nQ 25.390625 42.390625 31.78125 42.390625 \nQ 38.140625 42.390625 41.71875 45.5625 \nQ 45.3125 48.734375 45.3125 54.390625 \nQ 45.3125 60.0625 41.71875 63.234375 \nQ 38.140625 66.40625 31.78125 66.40625 \nQ 25.390625 66.40625 21.84375 63.234375 \nQ 18.3125 60.0625 18.3125 54.390625 \nz\n\" id=\"DejaVuSans-56\"/>\n       </defs>\n       <use xlink:href=\"#DejaVuSans-56\"/>\n       <use x=\"63.623047\" xlink:href=\"#DejaVuSans-48\"/>\n       <use x=\"127.246094\" xlink:href=\"#DejaVuSans-48\"/>\n       <use x=\"190.869141\" xlink:href=\"#DejaVuSans-48\"/>\n      </g>\n     </g>\n    </g>\n    <g id=\"ytick_4\">\n     <g id=\"line2d_11\">\n      <g>\n       <use style=\"stroke:#000000;stroke-width:0.8;\" x=\"59.690625\" xlink:href=\"#mfe656b1fb5\" y=\"83.764722\"/>\n      </g>\n     </g>\n     <g id=\"text_12\">\n      <!-- 10000 -->\n      <g transform=\"translate(20.878125 87.563941)scale(0.1 -0.1)\">\n       <use xlink:href=\"#DejaVuSans-49\"/>\n       <use x=\"63.623047\" xlink:href=\"#DejaVuSans-48\"/>\n       <use x=\"127.246094\" xlink:href=\"#DejaVuSans-48\"/>\n       <use x=\"190.869141\" xlink:href=\"#DejaVuSans-48\"/>\n       <use x=\"254.492188\" xlink:href=\"#DejaVuSans-48\"/>\n      </g>\n     </g>\n    </g>\n    <g id=\"ytick_5\">\n     <g id=\"line2d_12\">\n      <g>\n       <use style=\"stroke:#000000;stroke-width:0.8;\" x=\"59.690625\" xlink:href=\"#mfe656b1fb5\" y=\"43.365835\"/>\n      </g>\n     </g>\n     <g id=\"text_13\">\n      <!-- 12000 -->\n      <g transform=\"translate(20.878125 47.165054)scale(0.1 -0.1)\">\n       <use xlink:href=\"#DejaVuSans-49\"/>\n       <use x=\"63.623047\" xlink:href=\"#DejaVuSans-50\"/>\n       <use x=\"127.246094\" xlink:href=\"#DejaVuSans-48\"/>\n       <use x=\"190.869141\" xlink:href=\"#DejaVuSans-48\"/>\n       <use x=\"254.492188\" xlink:href=\"#DejaVuSans-48\"/>\n      </g>\n     </g>\n    </g>\n    <g id=\"text_14\">\n     <!-- loss -->\n     <g transform=\"translate(14.798438 125.577812)rotate(-90)scale(0.1 -0.1)\">\n      <defs>\n       <path d=\"M 9.421875 75.984375 \nL 18.40625 75.984375 \nL 18.40625 0 \nL 9.421875 0 \nz\n\" id=\"DejaVuSans-108\"/>\n      </defs>\n      <use xlink:href=\"#DejaVuSans-108\"/>\n      <use x=\"27.783203\" xlink:href=\"#DejaVuSans-111\"/>\n      <use x=\"88.964844\" xlink:href=\"#DejaVuSans-115\"/>\n      <use x=\"141.064453\" xlink:href=\"#DejaVuSans-115\"/>\n     </g>\n    </g>\n   </g>\n   <g id=\"line2d_13\">\n    <path clip-path=\"url(#p2965245fa3)\" d=\"M 74.908807 17.083636 \nL 75.926745 20.066684 \nL 76.944684 26.575935 \nL 77.962623 39.590038 \nL 78.980561 61.715412 \nL 81.016438 118.13664 \nL 82.034377 132.626387 \nL 83.052315 135.372515 \nL 88.142008 137.481266 \nL 91.195824 138.712426 \nL 100.357271 142.992282 \nL 108.50078 147.682962 \nL 112.572534 150.389411 \nL 114.608412 151.869297 \nL 116.644289 153.118427 \nL 118.680166 154.205893 \nL 126.823675 156.546957 \nL 139.038938 159.972045 \nL 148.200385 163.082503 \nL 150.236262 164.032212 \nL 151.254201 164.286974 \nL 152.272139 164.946977 \nL 154.308016 165.852756 \nL 160.415648 169.145029 \nL 164.487402 171.911987 \nL 169.577095 175.939597 \nL 170.595034 176.971337 \nL 171.612972 177.794365 \nL 173.648849 180.012556 \nL 176.702665 183.550802 \nL 178.738542 186.151984 \nL 180.774419 189.199604 \nL 183.828235 194.139049 \nL 186.882051 199.290489 \nL 189.935867 203.771259 \nL 190.953805 205.011602 \nL 191.971744 205.881213 \nL 192.989682 206.207935 \nL 195.02556 207.437557 \nL 196.043498 207.893474 \nL 201.133191 208.874518 \nL 202.15113 208.639517 \nL 204.187007 209.008922 \nL 205.204945 208.879174 \nL 206.222884 209.13792 \nL 210.294638 209.506111 \nL 212.330516 209.580133 \nL 214.366393 209.264714 \nL 215.384331 209.678324 \nL 217.420208 209.646176 \nL 218.438147 209.673398 \nL 220.474024 209.908088 \nL 224.545779 209.792577 \nL 225.563717 210.04725 \nL 226.581656 210.158184 \nL 229.635471 210.077169 \nL 230.65341 210.17543 \nL 231.671349 210.118061 \nL 234.725164 210.340216 \nL 235.743103 210.378583 \nL 236.761042 210.269912 \nL 239.814857 210.473263 \nL 240.832796 210.391587 \nL 241.850734 210.613663 \nL 243.886612 210.496416 \nL 246.940427 210.765958 \nL 253.048059 210.769168 \nL 254.065997 210.949227 \nL 255.083936 210.981519 \nL 257.119813 210.699402 \nL 258.137752 210.994089 \nL 260.173629 211.078122 \nL 261.191568 210.988156 \nL 264.245383 211.15528 \nL 265.263322 211.014358 \nL 266.28126 211.219548 \nL 267.299199 211.272739 \nL 268.317138 210.988516 \nL 270.353015 211.419239 \nL 273.406831 211.286394 \nL 274.424769 211.598159 \nL 276.460646 211.339694 \nL 277.478585 211.567949 \nL 280.532401 211.630312 \nL 281.550339 211.824969 \nL 282.568278 211.651182 \nL 284.604155 211.782844 \nL 286.640032 211.847806 \nL 287.657971 211.752022 \nL 288.675909 211.834442 \nL 289.693848 211.53363 \nL 290.711786 211.758921 \nL 291.729725 211.381587 \nL 292.747664 211.868198 \nL 293.765602 212.006433 \nL 296.819418 211.832119 \nL 297.837357 212.085155 \nL 299.873234 211.949829 \nL 300.891172 212.196903 \nL 301.909111 212.175683 \nL 304.962927 212.456315 \nL 305.980865 212.274623 \nL 306.998804 212.277572 \nL 308.016742 212.540846 \nL 311.070558 212.649048 \nL 312.088497 212.388797 \nL 313.106435 212.384428 \nL 314.124374 212.565405 \nL 315.142312 212.548899 \nL 316.160251 212.91206 \nL 317.17819 212.726255 \nL 321.249944 213.009896 \nL 322.267883 212.742041 \nL 323.285821 213.043277 \nL 325.321698 213.127631 \nL 326.339637 212.74575 \nL 327.357575 213.107357 \nL 329.393453 213.322031 \nL 330.411391 213.214445 \nL 332.447268 213.421578 \nL 333.465207 213.505754 \nL 335.501084 213.476998 \nL 336.519023 213.133445 \nL 337.536961 213.625629 \nL 339.572838 213.587094 \nL 341.608716 213.701539 \nL 342.626654 213.649389 \nL 344.662531 213.70618 \nL 345.68047 213.716433 \nL 346.698409 213.871977 \nL 347.716347 213.773066 \nL 348.734286 213.9578 \nL 349.752224 213.9078 \nL 351.788101 214.026185 \nL 358.913672 214.248355 \nL 359.93161 214.086848 \nL 360.949549 214.265324 \nL 361.967487 214.179639 \nL 362.985426 214.308741 \nL 364.003364 214.238812 \nL 365.021303 214.459956 \nL 371.128935 214.372229 \nL 372.146873 214.551652 \nL 373.164812 214.312967 \nL 374.18275 214.309012 \nL 375.200689 214.620841 \nL 376.218627 214.756364 \nL 377.236566 214.710077 \nL 378.254505 214.487823 \nL 379.272443 214.678401 \nL 379.272443 214.678401 \n\" style=\"fill:none;stroke:#1f77b4;stroke-linecap:square;stroke-width:1.5;\"/>\n   </g>\n   <g id=\"line2d_14\">\n    <path clip-path=\"url(#p2965245fa3)\" d=\"M 74.908807 17.083636 \nL 75.926745 20.066684 \nL 76.944684 26.575935 \nL 77.962623 39.590038 \nL 78.980561 61.715412 \nL 81.016438 118.13664 \nL 82.034377 132.626387 \nL 83.052315 135.372515 \nL 88.142008 137.481266 \nL 91.195824 138.712426 \nL 100.357271 142.992282 \nL 108.50078 147.682962 \nL 112.572534 150.389411 \nL 114.608412 151.869297 \nL 116.644289 153.118427 \nL 118.680166 154.205893 \nL 126.823675 156.546957 \nL 139.038938 159.972045 \nL 148.200385 163.082503 \nL 150.236262 164.032212 \nL 151.254201 164.286974 \nL 152.272139 164.946977 \nL 154.308016 165.852756 \nL 160.415648 169.145029 \nL 164.487402 171.911987 \nL 169.577095 175.939597 \nL 170.595034 176.971337 \nL 171.612972 177.794365 \nL 173.648849 180.012556 \nL 176.702665 183.550802 \nL 178.738542 186.151984 \nL 180.774419 189.199604 \nL 183.828235 194.139049 \nL 186.882051 199.290489 \nL 189.935867 203.771259 \nL 190.953805 205.011602 \nL 191.971744 205.881213 \nL 192.989682 206.207935 \nL 195.02556 207.437557 \nL 196.043498 207.893474 \nL 201.133191 208.874518 \nL 202.15113 208.639517 \nL 204.187007 209.008922 \nL 205.204945 208.879174 \nL 206.222884 209.13792 \nL 210.294638 209.506111 \nL 212.330516 209.580133 \nL 214.366393 209.264714 \nL 215.384331 209.678324 \nL 217.420208 209.646176 \nL 218.438147 209.673398 \nL 220.474024 209.908088 \nL 224.545779 209.792577 \nL 225.563717 210.04725 \nL 226.581656 210.158184 \nL 229.635471 210.077169 \nL 230.65341 210.17543 \nL 231.671349 210.118061 \nL 234.725164 210.340216 \nL 235.743103 210.378583 \nL 236.761042 210.269912 \nL 239.814857 210.473263 \nL 240.832796 210.391587 \nL 241.850734 210.613663 \nL 243.886612 210.496416 \nL 246.940427 210.765958 \nL 253.048059 210.769168 \nL 254.065997 210.949227 \nL 255.083936 210.981519 \nL 257.119813 210.699402 \nL 258.137752 210.994089 \nL 260.173629 211.078122 \nL 261.191568 210.988156 \nL 264.245383 211.15528 \nL 265.263322 211.014358 \nL 266.28126 211.219548 \nL 267.299199 211.272739 \nL 268.317138 210.988516 \nL 270.353015 211.419239 \nL 273.406831 211.286394 \nL 274.424769 211.598159 \nL 276.460646 211.339694 \nL 277.478585 211.567949 \nL 280.532401 211.630312 \nL 281.550339 211.824969 \nL 282.568278 211.651182 \nL 284.604155 211.782844 \nL 286.640032 211.847806 \nL 287.657971 211.752022 \nL 288.675909 211.834442 \nL 289.693848 211.53363 \nL 290.711786 211.758921 \nL 291.729725 211.381587 \nL 292.747664 211.868198 \nL 293.765602 212.006433 \nL 296.819418 211.832119 \nL 297.837357 212.085155 \nL 299.873234 211.949829 \nL 300.891172 212.196903 \nL 301.909111 212.175683 \nL 304.962927 212.456315 \nL 305.980865 212.274623 \nL 306.998804 212.277572 \nL 308.016742 212.540846 \nL 311.070558 212.649048 \nL 312.088497 212.388797 \nL 313.106435 212.384428 \nL 314.124374 212.565405 \nL 315.142312 212.548899 \nL 316.160251 212.91206 \nL 317.17819 212.726255 \nL 321.249944 213.009896 \nL 322.267883 212.742041 \nL 323.285821 213.043277 \nL 325.321698 213.127631 \nL 326.339637 212.74575 \nL 327.357575 213.107357 \nL 329.393453 213.322031 \nL 330.411391 213.214445 \nL 332.447268 213.421578 \nL 333.465207 213.505754 \nL 335.501084 213.476998 \nL 336.519023 213.133445 \nL 337.536961 213.625629 \nL 339.572838 213.587094 \nL 341.608716 213.701539 \nL 342.626654 213.649389 \nL 344.662531 213.70618 \nL 345.68047 213.716433 \nL 346.698409 213.871977 \nL 347.716347 213.773066 \nL 348.734286 213.9578 \nL 349.752224 213.9078 \nL 351.788101 214.026185 \nL 358.913672 214.248355 \nL 359.93161 214.086848 \nL 360.949549 214.265324 \nL 361.967487 214.179639 \nL 362.985426 214.308741 \nL 364.003364 214.238812 \nL 365.021303 214.459956 \nL 371.128935 214.372229 \nL 372.146873 214.551652 \nL 373.164812 214.312967 \nL 374.18275 214.309012 \nL 375.200689 214.620841 \nL 376.218627 214.756364 \nL 377.236566 214.710077 \nL 378.254505 214.487823 \nL 379.272443 214.678401 \nL 379.272443 214.678401 \n\" style=\"fill:none;stroke:#ff7f0e;stroke-linecap:square;stroke-width:1.5;\"/>\n   </g>\n   <g id=\"patch_3\">\n    <path d=\"M 59.690625 224.64 \nL 59.690625 7.2 \n\" style=\"fill:none;stroke:#000000;stroke-linecap:square;stroke-linejoin:miter;stroke-width:0.8;\"/>\n   </g>\n   <g id=\"patch_4\">\n    <path d=\"M 394.490625 224.64 \nL 394.490625 7.2 \n\" style=\"fill:none;stroke:#000000;stroke-linecap:square;stroke-linejoin:miter;stroke-width:0.8;\"/>\n   </g>\n   <g id=\"patch_5\">\n    <path d=\"M 59.690625 224.64 \nL 394.490625 224.64 \n\" style=\"fill:none;stroke:#000000;stroke-linecap:square;stroke-linejoin:miter;stroke-width:0.8;\"/>\n   </g>\n   <g id=\"patch_6\">\n    <path d=\"M 59.690625 7.2 \nL 394.490625 7.2 \n\" style=\"fill:none;stroke:#000000;stroke-linecap:square;stroke-linejoin:miter;stroke-width:0.8;\"/>\n   </g>\n   <g id=\"legend_1\">\n    <g id=\"patch_7\">\n     <path d=\"M 249.932813 44.834375 \nL 387.490625 44.834375 \nQ 389.490625 44.834375 389.490625 42.834375 \nL 389.490625 14.2 \nQ 389.490625 12.2 387.490625 12.2 \nL 249.932813 12.2 \nQ 247.932813 12.2 247.932813 14.2 \nL 247.932813 42.834375 \nQ 247.932813 44.834375 249.932813 44.834375 \nz\n\" style=\"fill:#ffffff;opacity:0.8;stroke:#cccccc;stroke-linejoin:miter;\"/>\n    </g>\n    <g id=\"line2d_15\">\n     <path d=\"M 251.932813 20.298437 \nL 271.932813 20.298437 \n\" style=\"fill:none;stroke:#1f77b4;stroke-linecap:square;stroke-width:1.5;\"/>\n    </g>\n    <g id=\"line2d_16\"/>\n    <g id=\"text_15\">\n     <!-- loss -->\n     <g transform=\"translate(279.932813 23.798437)scale(0.1 -0.1)\">\n      <use xlink:href=\"#DejaVuSans-108\"/>\n      <use x=\"27.783203\" xlink:href=\"#DejaVuSans-111\"/>\n      <use x=\"88.964844\" xlink:href=\"#DejaVuSans-115\"/>\n      <use x=\"141.064453\" xlink:href=\"#DejaVuSans-115\"/>\n     </g>\n    </g>\n    <g id=\"line2d_17\">\n     <path d=\"M 251.932813 34.976562 \nL 271.932813 34.976562 \n\" style=\"fill:none;stroke:#ff7f0e;stroke-linecap:square;stroke-width:1.5;\"/>\n    </g>\n    <g id=\"line2d_18\"/>\n    <g id=\"text_16\">\n     <!-- mean_absolute_error -->\n     <g transform=\"translate(279.932813 38.476562)scale(0.1 -0.1)\">\n      <defs>\n       <path d=\"M 52 44.1875 \nQ 55.375 50.25 60.0625 53.125 \nQ 64.75 56 71.09375 56 \nQ 79.640625 56 84.28125 50.015625 \nQ 88.921875 44.046875 88.921875 33.015625 \nL 88.921875 0 \nL 79.890625 0 \nL 79.890625 32.71875 \nQ 79.890625 40.578125 77.09375 44.375 \nQ 74.3125 48.1875 68.609375 48.1875 \nQ 61.625 48.1875 57.5625 43.546875 \nQ 53.515625 38.921875 53.515625 30.90625 \nL 53.515625 0 \nL 44.484375 0 \nL 44.484375 32.71875 \nQ 44.484375 40.625 41.703125 44.40625 \nQ 38.921875 48.1875 33.109375 48.1875 \nQ 26.21875 48.1875 22.15625 43.53125 \nQ 18.109375 38.875 18.109375 30.90625 \nL 18.109375 0 \nL 9.078125 0 \nL 9.078125 54.6875 \nL 18.109375 54.6875 \nL 18.109375 46.1875 \nQ 21.1875 51.21875 25.484375 53.609375 \nQ 29.78125 56 35.6875 56 \nQ 41.65625 56 45.828125 52.96875 \nQ 50 49.953125 52 44.1875 \nz\n\" id=\"DejaVuSans-109\"/>\n       <path d=\"M 34.28125 27.484375 \nQ 23.390625 27.484375 19.1875 25 \nQ 14.984375 22.515625 14.984375 16.5 \nQ 14.984375 11.71875 18.140625 8.90625 \nQ 21.296875 6.109375 26.703125 6.109375 \nQ 34.1875 6.109375 38.703125 11.40625 \nQ 43.21875 16.703125 43.21875 25.484375 \nL 43.21875 27.484375 \nz\nM 52.203125 31.203125 \nL 52.203125 0 \nL 43.21875 0 \nL 43.21875 8.296875 \nQ 40.140625 3.328125 35.546875 0.953125 \nQ 30.953125 -1.421875 24.3125 -1.421875 \nQ 15.921875 -1.421875 10.953125 3.296875 \nQ 6 8.015625 6 15.921875 \nQ 6 25.140625 12.171875 29.828125 \nQ 18.359375 34.515625 30.609375 34.515625 \nL 43.21875 34.515625 \nL 43.21875 35.40625 \nQ 43.21875 41.609375 39.140625 45 \nQ 35.0625 48.390625 27.6875 48.390625 \nQ 23 48.390625 18.546875 47.265625 \nQ 14.109375 46.140625 10.015625 43.890625 \nL 10.015625 52.203125 \nQ 14.9375 54.109375 19.578125 55.046875 \nQ 24.21875 56 28.609375 56 \nQ 40.484375 56 46.34375 49.84375 \nQ 52.203125 43.703125 52.203125 31.203125 \nz\n\" id=\"DejaVuSans-97\"/>\n       <path d=\"M 54.890625 33.015625 \nL 54.890625 0 \nL 45.90625 0 \nL 45.90625 32.71875 \nQ 45.90625 40.484375 42.875 44.328125 \nQ 39.84375 48.1875 33.796875 48.1875 \nQ 26.515625 48.1875 22.3125 43.546875 \nQ 18.109375 38.921875 18.109375 30.90625 \nL 18.109375 0 \nL 9.078125 0 \nL 9.078125 54.6875 \nL 18.109375 54.6875 \nL 18.109375 46.1875 \nQ 21.34375 51.125 25.703125 53.5625 \nQ 30.078125 56 35.796875 56 \nQ 45.21875 56 50.046875 50.171875 \nQ 54.890625 44.34375 54.890625 33.015625 \nz\n\" id=\"DejaVuSans-110\"/>\n       <path d=\"M 50.984375 -16.609375 \nL 50.984375 -23.578125 \nL -0.984375 -23.578125 \nL -0.984375 -16.609375 \nz\n\" id=\"DejaVuSans-95\"/>\n       <path d=\"M 48.6875 27.296875 \nQ 48.6875 37.203125 44.609375 42.84375 \nQ 40.53125 48.484375 33.40625 48.484375 \nQ 26.265625 48.484375 22.1875 42.84375 \nQ 18.109375 37.203125 18.109375 27.296875 \nQ 18.109375 17.390625 22.1875 11.75 \nQ 26.265625 6.109375 33.40625 6.109375 \nQ 40.53125 6.109375 44.609375 11.75 \nQ 48.6875 17.390625 48.6875 27.296875 \nz\nM 18.109375 46.390625 \nQ 20.953125 51.265625 25.265625 53.625 \nQ 29.59375 56 35.59375 56 \nQ 45.5625 56 51.78125 48.09375 \nQ 58.015625 40.1875 58.015625 27.296875 \nQ 58.015625 14.40625 51.78125 6.484375 \nQ 45.5625 -1.421875 35.59375 -1.421875 \nQ 29.59375 -1.421875 25.265625 0.953125 \nQ 20.953125 3.328125 18.109375 8.203125 \nL 18.109375 0 \nL 9.078125 0 \nL 9.078125 75.984375 \nL 18.109375 75.984375 \nz\n\" id=\"DejaVuSans-98\"/>\n       <path d=\"M 8.5 21.578125 \nL 8.5 54.6875 \nL 17.484375 54.6875 \nL 17.484375 21.921875 \nQ 17.484375 14.15625 20.5 10.265625 \nQ 23.53125 6.390625 29.59375 6.390625 \nQ 36.859375 6.390625 41.078125 11.03125 \nQ 45.3125 15.671875 45.3125 23.6875 \nL 45.3125 54.6875 \nL 54.296875 54.6875 \nL 54.296875 0 \nL 45.3125 0 \nL 45.3125 8.40625 \nQ 42.046875 3.421875 37.71875 1 \nQ 33.40625 -1.421875 27.6875 -1.421875 \nQ 18.265625 -1.421875 13.375 4.4375 \nQ 8.5 10.296875 8.5 21.578125 \nz\nM 31.109375 56 \nz\n\" id=\"DejaVuSans-117\"/>\n       <path d=\"M 18.3125 70.21875 \nL 18.3125 54.6875 \nL 36.8125 54.6875 \nL 36.8125 47.703125 \nL 18.3125 47.703125 \nL 18.3125 18.015625 \nQ 18.3125 11.328125 20.140625 9.421875 \nQ 21.96875 7.515625 27.59375 7.515625 \nL 36.8125 7.515625 \nL 36.8125 0 \nL 27.59375 0 \nQ 17.1875 0 13.234375 3.875 \nQ 9.28125 7.765625 9.28125 18.015625 \nL 9.28125 47.703125 \nL 2.6875 47.703125 \nL 2.6875 54.6875 \nL 9.28125 54.6875 \nL 9.28125 70.21875 \nz\n\" id=\"DejaVuSans-116\"/>\n       <path d=\"M 41.109375 46.296875 \nQ 39.59375 47.171875 37.8125 47.578125 \nQ 36.03125 48 33.890625 48 \nQ 26.265625 48 22.1875 43.046875 \nQ 18.109375 38.09375 18.109375 28.8125 \nL 18.109375 0 \nL 9.078125 0 \nL 9.078125 54.6875 \nL 18.109375 54.6875 \nL 18.109375 46.1875 \nQ 20.953125 51.171875 25.484375 53.578125 \nQ 30.03125 56 36.53125 56 \nQ 37.453125 56 38.578125 55.875 \nQ 39.703125 55.765625 41.0625 55.515625 \nz\n\" id=\"DejaVuSans-114\"/>\n      </defs>\n      <use xlink:href=\"#DejaVuSans-109\"/>\n      <use x=\"97.412109\" xlink:href=\"#DejaVuSans-101\"/>\n      <use x=\"158.935547\" xlink:href=\"#DejaVuSans-97\"/>\n      <use x=\"220.214844\" xlink:href=\"#DejaVuSans-110\"/>\n      <use x=\"283.59375\" xlink:href=\"#DejaVuSans-95\"/>\n      <use x=\"333.59375\" xlink:href=\"#DejaVuSans-97\"/>\n      <use x=\"394.873047\" xlink:href=\"#DejaVuSans-98\"/>\n      <use x=\"458.349609\" xlink:href=\"#DejaVuSans-115\"/>\n      <use x=\"510.449219\" xlink:href=\"#DejaVuSans-111\"/>\n      <use x=\"571.630859\" xlink:href=\"#DejaVuSans-108\"/>\n      <use x=\"599.414062\" xlink:href=\"#DejaVuSans-117\"/>\n      <use x=\"662.792969\" xlink:href=\"#DejaVuSans-116\"/>\n      <use x=\"702.001953\" xlink:href=\"#DejaVuSans-101\"/>\n      <use x=\"763.525391\" xlink:href=\"#DejaVuSans-95\"/>\n      <use x=\"813.525391\" xlink:href=\"#DejaVuSans-101\"/>\n      <use x=\"875.048828\" xlink:href=\"#DejaVuSans-114\"/>\n      <use x=\"914.412109\" xlink:href=\"#DejaVuSans-114\"/>\n      <use x=\"953.275391\" xlink:href=\"#DejaVuSans-111\"/>\n      <use x=\"1014.457031\" xlink:href=\"#DejaVuSans-114\"/>\n     </g>\n    </g>\n   </g>\n  </g>\n </g>\n <defs>\n  <clipPath id=\"p2965245fa3\">\n   <rect height=\"217.44\" width=\"334.8\" x=\"59.690625\" y=\"7.2\"/>\n  </clipPath>\n </defs>\n</svg>\n",
      "image/png": "[encoded data removed]"
     },
     "metadata": {
      "needs_background": "light"
     }
    }
   ],
   "source": [
    "# Plot history (also known as a loss curve or a training curve)\n",
    "pd.DataFrame(history.history).plot()\n",
    "plt.ylabel(\"loss\")\n",
    "plt.xlabel(\"epochs\")"
   ]
  },
  {
   "source": [
    "# Preprocessing Data (normalization and standardization)\n",
    "\n",
    "In terms of scaling values, neural networks tend to prefer normalization (as opposed to standardization).\n",
    "\n",
    "If youre not sure of which to use, you could try both and see which performs better.\n"
   ],
   "cell_type": "markdown",
   "metadata": {}
  },
  {
   "cell_type": "code",
   "execution_count": 163,
   "metadata": {},
   "outputs": [
    {
     "output_type": "execute_result",
     "data": {
      "text/plain": [
       "<AxesSubplot:ylabel='Frequency'>"
      ]
     },
     "metadata": {},
     "execution_count": 163
    },
    {
     "output_type": "display_data",
     "data": {
      "text/plain": "<Figure size 432x288 with 1 Axes>",
      "image/svg+xml": "<?xml version=\"1.0\" encoding=\"utf-8\" standalone=\"no\"?>\n<!DOCTYPE svg PUBLIC \"-//W3C//DTD SVG 1.1//EN\"\n  \"http://www.w3.org/Graphics/SVG/1.1/DTD/svg11.dtd\">\n<!-- Created with matplotlib (https://matplotlib.org/) -->\n<svg height=\"248.518125pt\" version=\"1.1\" viewBox=\"0 0 388.965625 248.518125\" width=\"388.965625pt\" xmlns=\"http://www.w3.org/2000/svg\" xmlns:xlink=\"http://www.w3.org/1999/xlink\">\n <metadata>\n  <rdf:RDF xmlns:cc=\"http://creativecommons.org/ns#\" xmlns:dc=\"http://purl.org/dc/elements/1.1/\" xmlns:rdf=\"http://www.w3.org/1999/02/22-rdf-syntax-ns#\">\n   <cc:Work>\n    <dc:type rdf:resource=\"http://purl.org/dc/dcmitype/StillImage\"/>\n    <dc:date>2021-04-04T20:14:46.693769</dc:date>\n    <dc:format>image/svg+xml</dc:format>\n    <dc:creator>\n     <cc:Agent>\n      <dc:title>Matplotlib v3.3.4, https://matplotlib.org/</dc:title>\n     </cc:Agent>\n    </dc:creator>\n   </cc:Work>\n  </rdf:RDF>\n </metadata>\n <defs>\n  <style type=\"text/css\">*{stroke-linecap:butt;stroke-linejoin:round;}</style>\n </defs>\n <g id=\"figure_1\">\n  <g id=\"patch_1\">\n   <path d=\"M 0 248.518125 \nL 388.965625 248.518125 \nL 388.965625 0 \nL 0 0 \nz\n\" style=\"fill:none;\"/>\n  </g>\n  <g id=\"axes_1\">\n   <g id=\"patch_2\">\n    <path d=\"M 46.965625 224.64 \nL 381.765625 224.64 \nL 381.765625 7.2 \nL 46.965625 7.2 \nz\n\" style=\"fill:#ffffff;\"/>\n   </g>\n   <g id=\"patch_3\">\n    <path clip-path=\"url(#p55bd50a96a)\" d=\"M 62.183807 224.64 \nL 92.62017 224.64 \nL 92.62017 17.554286 \nL 62.183807 17.554286 \nz\n\" style=\"fill:#1f77b4;\"/>\n   </g>\n   <g id=\"patch_4\">\n    <path clip-path=\"url(#p55bd50a96a)\" d=\"M 92.62017 224.64 \nL 123.056534 224.64 \nL 123.056534 94.045405 \nL 92.62017 94.045405 \nz\n\" style=\"fill:#1f77b4;\"/>\n   </g>\n   <g id=\"patch_5\">\n    <path clip-path=\"url(#p55bd50a96a)\" d=\"M 123.056534 224.64 \nL 153.492898 224.64 \nL 153.492898 122.96278 \nL 123.056534 122.96278 \nz\n\" style=\"fill:#1f77b4;\"/>\n   </g>\n   <g id=\"patch_6\">\n    <path clip-path=\"url(#p55bd50a96a)\" d=\"M 153.492898 224.64 \nL 183.929261 224.64 \nL 183.929261 105.239228 \nL 153.492898 105.239228 \nz\n\" style=\"fill:#1f77b4;\"/>\n   </g>\n   <g id=\"patch_7\">\n    <path clip-path=\"url(#p55bd50a96a)\" d=\"M 183.929261 224.64 \nL 214.365625 224.64 \nL 214.365625 129.49251 \nL 183.929261 129.49251 \nz\n\" style=\"fill:#1f77b4;\"/>\n   </g>\n   <g id=\"patch_8\">\n    <path clip-path=\"url(#p55bd50a96a)\" d=\"M 214.365625 224.64 \nL 244.801989 224.64 \nL 244.801989 96.843861 \nL 214.365625 96.843861 \nz\n\" style=\"fill:#1f77b4;\"/>\n   </g>\n   <g id=\"patch_9\">\n    <path clip-path=\"url(#p55bd50a96a)\" d=\"M 244.801989 224.64 \nL 275.238352 224.64 \nL 275.238352 90.314131 \nL 244.801989 90.314131 \nz\n\" style=\"fill:#1f77b4;\"/>\n   </g>\n   <g id=\"patch_10\">\n    <path clip-path=\"url(#p55bd50a96a)\" d=\"M 275.238352 224.64 \nL 305.674716 224.64 \nL 305.674716 118.298687 \nL 275.238352 118.298687 \nz\n\" style=\"fill:#1f77b4;\"/>\n   </g>\n   <g id=\"patch_11\">\n    <path clip-path=\"url(#p55bd50a96a)\" d=\"M 305.674716 224.64 \nL 336.11108 224.64 \nL 336.11108 105.239228 \nL 305.674716 105.239228 \nz\n\" style=\"fill:#1f77b4;\"/>\n   </g>\n   <g id=\"patch_12\">\n    <path clip-path=\"url(#p55bd50a96a)\" d=\"M 336.11108 224.64 \nL 366.547443 224.64 \nL 366.547443 118.298687 \nL 336.11108 118.298687 \nz\n\" style=\"fill:#1f77b4;\"/>\n   </g>\n   <g id=\"matplotlib.axis_1\">\n    <g id=\"xtick_1\">\n     <g id=\"line2d_1\">\n      <defs>\n       <path d=\"M 0 0 \nL 0 3.5 \n\" id=\"ma1be583cc7\" style=\"stroke:#000000;stroke-width:0.8;\"/>\n      </defs>\n      <g>\n       <use style=\"stroke:#000000;stroke-width:0.8;\" x=\"75.417008\" xlink:href=\"#ma1be583cc7\" y=\"224.64\"/>\n      </g>\n     </g>\n     <g id=\"text_1\">\n      <!-- 20 -->\n      <g transform=\"translate(69.054508 239.238437)scale(0.1 -0.1)\">\n       <defs>\n        <path d=\"M 19.1875 8.296875 \nL 53.609375 8.296875 \nL 53.609375 0 \nL 7.328125 0 \nL 7.328125 8.296875 \nQ 12.9375 14.109375 22.625 23.890625 \nQ 32.328125 33.6875 34.8125 36.53125 \nQ 39.546875 41.84375 41.421875 45.53125 \nQ 43.3125 49.21875 43.3125 52.78125 \nQ 43.3125 58.59375 39.234375 62.25 \nQ 35.15625 65.921875 28.609375 65.921875 \nQ 23.96875 65.921875 18.8125 64.3125 \nQ 13.671875 62.703125 7.8125 59.421875 \nL 7.8125 69.390625 \nQ 13.765625 71.78125 18.9375 73 \nQ 24.125 74.21875 28.421875 74.21875 \nQ 39.75 74.21875 46.484375 68.546875 \nQ 53.21875 62.890625 53.21875 53.421875 \nQ 53.21875 48.921875 51.53125 44.890625 \nQ 49.859375 40.875 45.40625 35.40625 \nQ 44.1875 33.984375 37.640625 27.21875 \nQ 31.109375 20.453125 19.1875 8.296875 \nz\n\" id=\"DejaVuSans-50\"/>\n        <path d=\"M 31.78125 66.40625 \nQ 24.171875 66.40625 20.328125 58.90625 \nQ 16.5 51.421875 16.5 36.375 \nQ 16.5 21.390625 20.328125 13.890625 \nQ 24.171875 6.390625 31.78125 6.390625 \nQ 39.453125 6.390625 43.28125 13.890625 \nQ 47.125 21.390625 47.125 36.375 \nQ 47.125 51.421875 43.28125 58.90625 \nQ 39.453125 66.40625 31.78125 66.40625 \nz\nM 31.78125 74.21875 \nQ 44.046875 74.21875 50.515625 64.515625 \nQ 56.984375 54.828125 56.984375 36.375 \nQ 56.984375 17.96875 50.515625 8.265625 \nQ 44.046875 -1.421875 31.78125 -1.421875 \nQ 19.53125 -1.421875 13.0625 8.265625 \nQ 6.59375 17.96875 6.59375 36.375 \nQ 6.59375 54.828125 13.0625 64.515625 \nQ 19.53125 74.21875 31.78125 74.21875 \nz\n\" id=\"DejaVuSans-48\"/>\n       </defs>\n       <use xlink:href=\"#DejaVuSans-50\"/>\n       <use x=\"63.623047\" xlink:href=\"#DejaVuSans-48\"/>\n      </g>\n     </g>\n    </g>\n    <g id=\"xtick_2\">\n     <g id=\"line2d_2\">\n      <g>\n       <use style=\"stroke:#000000;stroke-width:0.8;\" x=\"141.583016\" xlink:href=\"#ma1be583cc7\" y=\"224.64\"/>\n      </g>\n     </g>\n     <g id=\"text_2\">\n      <!-- 30 -->\n      <g transform=\"translate(135.220516 239.238437)scale(0.1 -0.1)\">\n       <defs>\n        <path d=\"M 40.578125 39.3125 \nQ 47.65625 37.796875 51.625 33 \nQ 55.609375 28.21875 55.609375 21.1875 \nQ 55.609375 10.40625 48.1875 4.484375 \nQ 40.765625 -1.421875 27.09375 -1.421875 \nQ 22.515625 -1.421875 17.65625 -0.515625 \nQ 12.796875 0.390625 7.625 2.203125 \nL 7.625 11.71875 \nQ 11.71875 9.328125 16.59375 8.109375 \nQ 21.484375 6.890625 26.8125 6.890625 \nQ 36.078125 6.890625 40.9375 10.546875 \nQ 45.796875 14.203125 45.796875 21.1875 \nQ 45.796875 27.640625 41.28125 31.265625 \nQ 36.765625 34.90625 28.71875 34.90625 \nL 20.21875 34.90625 \nL 20.21875 43.015625 \nL 29.109375 43.015625 \nQ 36.375 43.015625 40.234375 45.921875 \nQ 44.09375 48.828125 44.09375 54.296875 \nQ 44.09375 59.90625 40.109375 62.90625 \nQ 36.140625 65.921875 28.71875 65.921875 \nQ 24.65625 65.921875 20.015625 65.03125 \nQ 15.375 64.15625 9.8125 62.3125 \nL 9.8125 71.09375 \nQ 15.4375 72.65625 20.34375 73.4375 \nQ 25.25 74.21875 29.59375 74.21875 \nQ 40.828125 74.21875 47.359375 69.109375 \nQ 53.90625 64.015625 53.90625 55.328125 \nQ 53.90625 49.265625 50.4375 45.09375 \nQ 46.96875 40.921875 40.578125 39.3125 \nz\n\" id=\"DejaVuSans-51\"/>\n       </defs>\n       <use xlink:href=\"#DejaVuSans-51\"/>\n       <use x=\"63.623047\" xlink:href=\"#DejaVuSans-48\"/>\n      </g>\n     </g>\n    </g>\n    <g id=\"xtick_3\">\n     <g id=\"line2d_3\">\n      <g>\n       <use style=\"stroke:#000000;stroke-width:0.8;\" x=\"207.749024\" xlink:href=\"#ma1be583cc7\" y=\"224.64\"/>\n      </g>\n     </g>\n     <g id=\"text_3\">\n      <!-- 40 -->\n      <g transform=\"translate(201.386524 239.238437)scale(0.1 -0.1)\">\n       <defs>\n        <path d=\"M 37.796875 64.3125 \nL 12.890625 25.390625 \nL 37.796875 25.390625 \nz\nM 35.203125 72.90625 \nL 47.609375 72.90625 \nL 47.609375 25.390625 \nL 58.015625 25.390625 \nL 58.015625 17.1875 \nL 47.609375 17.1875 \nL 47.609375 0 \nL 37.796875 0 \nL 37.796875 17.1875 \nL 4.890625 17.1875 \nL 4.890625 26.703125 \nz\n\" id=\"DejaVuSans-52\"/>\n       </defs>\n       <use xlink:href=\"#DejaVuSans-52\"/>\n       <use x=\"63.623047\" xlink:href=\"#DejaVuSans-48\"/>\n      </g>\n     </g>\n    </g>\n    <g id=\"xtick_4\">\n     <g id=\"line2d_4\">\n      <g>\n       <use style=\"stroke:#000000;stroke-width:0.8;\" x=\"273.915032\" xlink:href=\"#ma1be583cc7\" y=\"224.64\"/>\n      </g>\n     </g>\n     <g id=\"text_4\">\n      <!-- 50 -->\n      <g transform=\"translate(267.552532 239.238437)scale(0.1 -0.1)\">\n       <defs>\n        <path d=\"M 10.796875 72.90625 \nL 49.515625 72.90625 \nL 49.515625 64.59375 \nL 19.828125 64.59375 \nL 19.828125 46.734375 \nQ 21.96875 47.46875 24.109375 47.828125 \nQ 26.265625 48.1875 28.421875 48.1875 \nQ 40.625 48.1875 47.75 41.5 \nQ 54.890625 34.8125 54.890625 23.390625 \nQ 54.890625 11.625 47.5625 5.09375 \nQ 40.234375 -1.421875 26.90625 -1.421875 \nQ 22.3125 -1.421875 17.546875 -0.640625 \nQ 12.796875 0.140625 7.71875 1.703125 \nL 7.71875 11.625 \nQ 12.109375 9.234375 16.796875 8.0625 \nQ 21.484375 6.890625 26.703125 6.890625 \nQ 35.15625 6.890625 40.078125 11.328125 \nQ 45.015625 15.765625 45.015625 23.390625 \nQ 45.015625 31 40.078125 35.4375 \nQ 35.15625 39.890625 26.703125 39.890625 \nQ 22.75 39.890625 18.8125 39.015625 \nQ 14.890625 38.140625 10.796875 36.28125 \nz\n\" id=\"DejaVuSans-53\"/>\n       </defs>\n       <use xlink:href=\"#DejaVuSans-53\"/>\n       <use x=\"63.623047\" xlink:href=\"#DejaVuSans-48\"/>\n      </g>\n     </g>\n    </g>\n    <g id=\"xtick_5\">\n     <g id=\"line2d_5\">\n      <g>\n       <use style=\"stroke:#000000;stroke-width:0.8;\" x=\"340.08104\" xlink:href=\"#ma1be583cc7\" y=\"224.64\"/>\n      </g>\n     </g>\n     <g id=\"text_5\">\n      <!-- 60 -->\n      <g transform=\"translate(333.71854 239.238437)scale(0.1 -0.1)\">\n       <defs>\n        <path d=\"M 33.015625 40.375 \nQ 26.375 40.375 22.484375 35.828125 \nQ 18.609375 31.296875 18.609375 23.390625 \nQ 18.609375 15.53125 22.484375 10.953125 \nQ 26.375 6.390625 33.015625 6.390625 \nQ 39.65625 6.390625 43.53125 10.953125 \nQ 47.40625 15.53125 47.40625 23.390625 \nQ 47.40625 31.296875 43.53125 35.828125 \nQ 39.65625 40.375 33.015625 40.375 \nz\nM 52.59375 71.296875 \nL 52.59375 62.3125 \nQ 48.875 64.0625 45.09375 64.984375 \nQ 41.3125 65.921875 37.59375 65.921875 \nQ 27.828125 65.921875 22.671875 59.328125 \nQ 17.53125 52.734375 16.796875 39.40625 \nQ 19.671875 43.65625 24.015625 45.921875 \nQ 28.375 48.1875 33.59375 48.1875 \nQ 44.578125 48.1875 50.953125 41.515625 \nQ 57.328125 34.859375 57.328125 23.390625 \nQ 57.328125 12.15625 50.6875 5.359375 \nQ 44.046875 -1.421875 33.015625 -1.421875 \nQ 20.359375 -1.421875 13.671875 8.265625 \nQ 6.984375 17.96875 6.984375 36.375 \nQ 6.984375 53.65625 15.1875 63.9375 \nQ 23.390625 74.21875 37.203125 74.21875 \nQ 40.921875 74.21875 44.703125 73.484375 \nQ 48.484375 72.75 52.59375 71.296875 \nz\n\" id=\"DejaVuSans-54\"/>\n       </defs>\n       <use xlink:href=\"#DejaVuSans-54\"/>\n       <use x=\"63.623047\" xlink:href=\"#DejaVuSans-48\"/>\n      </g>\n     </g>\n    </g>\n   </g>\n   <g id=\"matplotlib.axis_2\">\n    <g id=\"ytick_1\">\n     <g id=\"line2d_6\">\n      <defs>\n       <path d=\"M 0 0 \nL -3.5 0 \n\" id=\"mf1fafdd1b4\" style=\"stroke:#000000;stroke-width:0.8;\"/>\n      </defs>\n      <g>\n       <use style=\"stroke:#000000;stroke-width:0.8;\" x=\"46.965625\" xlink:href=\"#mf1fafdd1b4\" y=\"224.64\"/>\n      </g>\n     </g>\n     <g id=\"text_6\">\n      <!-- 0 -->\n      <g transform=\"translate(33.603125 228.439219)scale(0.1 -0.1)\">\n       <use xlink:href=\"#DejaVuSans-48\"/>\n      </g>\n     </g>\n    </g>\n    <g id=\"ytick_2\">\n     <g id=\"line2d_7\">\n      <g>\n       <use style=\"stroke:#000000;stroke-width:0.8;\" x=\"46.965625\" xlink:href=\"#mf1fafdd1b4\" y=\"177.999073\"/>\n      </g>\n     </g>\n     <g id=\"text_7\">\n      <!-- 50 -->\n      <g transform=\"translate(27.240625 181.798292)scale(0.1 -0.1)\">\n       <use xlink:href=\"#DejaVuSans-53\"/>\n       <use x=\"63.623047\" xlink:href=\"#DejaVuSans-48\"/>\n      </g>\n     </g>\n    </g>\n    <g id=\"ytick_3\">\n     <g id=\"line2d_8\">\n      <g>\n       <use style=\"stroke:#000000;stroke-width:0.8;\" x=\"46.965625\" xlink:href=\"#mf1fafdd1b4\" y=\"131.358147\"/>\n      </g>\n     </g>\n     <g id=\"text_8\">\n      <!-- 100 -->\n      <g transform=\"translate(20.878125 135.157365)scale(0.1 -0.1)\">\n       <defs>\n        <path d=\"M 12.40625 8.296875 \nL 28.515625 8.296875 \nL 28.515625 63.921875 \nL 10.984375 60.40625 \nL 10.984375 69.390625 \nL 28.421875 72.90625 \nL 38.28125 72.90625 \nL 38.28125 8.296875 \nL 54.390625 8.296875 \nL 54.390625 0 \nL 12.40625 0 \nz\n\" id=\"DejaVuSans-49\"/>\n       </defs>\n       <use xlink:href=\"#DejaVuSans-49\"/>\n       <use x=\"63.623047\" xlink:href=\"#DejaVuSans-48\"/>\n       <use x=\"127.246094\" xlink:href=\"#DejaVuSans-48\"/>\n      </g>\n     </g>\n    </g>\n    <g id=\"ytick_4\">\n     <g id=\"line2d_9\">\n      <g>\n       <use style=\"stroke:#000000;stroke-width:0.8;\" x=\"46.965625\" xlink:href=\"#mf1fafdd1b4\" y=\"84.71722\"/>\n      </g>\n     </g>\n     <g id=\"text_9\">\n      <!-- 150 -->\n      <g transform=\"translate(20.878125 88.516439)scale(0.1 -0.1)\">\n       <use xlink:href=\"#DejaVuSans-49\"/>\n       <use x=\"63.623047\" xlink:href=\"#DejaVuSans-53\"/>\n       <use x=\"127.246094\" xlink:href=\"#DejaVuSans-48\"/>\n      </g>\n     </g>\n    </g>\n    <g id=\"ytick_5\">\n     <g id=\"line2d_10\">\n      <g>\n       <use style=\"stroke:#000000;stroke-width:0.8;\" x=\"46.965625\" xlink:href=\"#mf1fafdd1b4\" y=\"38.076293\"/>\n      </g>\n     </g>\n     <g id=\"text_10\">\n      <!-- 200 -->\n      <g transform=\"translate(20.878125 41.875512)scale(0.1 -0.1)\">\n       <use xlink:href=\"#DejaVuSans-50\"/>\n       <use x=\"63.623047\" xlink:href=\"#DejaVuSans-48\"/>\n       <use x=\"127.246094\" xlink:href=\"#DejaVuSans-48\"/>\n      </g>\n     </g>\n    </g>\n    <g id=\"text_11\">\n     <!-- Frequency -->\n     <g transform=\"translate(14.798438 141.749687)rotate(-90)scale(0.1 -0.1)\">\n      <defs>\n       <path d=\"M 9.8125 72.90625 \nL 51.703125 72.90625 \nL 51.703125 64.59375 \nL 19.671875 64.59375 \nL 19.671875 43.109375 \nL 48.578125 43.109375 \nL 48.578125 34.8125 \nL 19.671875 34.8125 \nL 19.671875 0 \nL 9.8125 0 \nz\n\" id=\"DejaVuSans-70\"/>\n       <path d=\"M 41.109375 46.296875 \nQ 39.59375 47.171875 37.8125 47.578125 \nQ 36.03125 48 33.890625 48 \nQ 26.265625 48 22.1875 43.046875 \nQ 18.109375 38.09375 18.109375 28.8125 \nL 18.109375 0 \nL 9.078125 0 \nL 9.078125 54.6875 \nL 18.109375 54.6875 \nL 18.109375 46.1875 \nQ 20.953125 51.171875 25.484375 53.578125 \nQ 30.03125 56 36.53125 56 \nQ 37.453125 56 38.578125 55.875 \nQ 39.703125 55.765625 41.0625 55.515625 \nz\n\" id=\"DejaVuSans-114\"/>\n       <path d=\"M 56.203125 29.59375 \nL 56.203125 25.203125 \nL 14.890625 25.203125 \nQ 15.484375 15.921875 20.484375 11.0625 \nQ 25.484375 6.203125 34.421875 6.203125 \nQ 39.59375 6.203125 44.453125 7.46875 \nQ 49.3125 8.734375 54.109375 11.28125 \nL 54.109375 2.78125 \nQ 49.265625 0.734375 44.1875 -0.34375 \nQ 39.109375 -1.421875 33.890625 -1.421875 \nQ 20.796875 -1.421875 13.15625 6.1875 \nQ 5.515625 13.8125 5.515625 26.8125 \nQ 5.515625 40.234375 12.765625 48.109375 \nQ 20.015625 56 32.328125 56 \nQ 43.359375 56 49.78125 48.890625 \nQ 56.203125 41.796875 56.203125 29.59375 \nz\nM 47.21875 32.234375 \nQ 47.125 39.59375 43.09375 43.984375 \nQ 39.0625 48.390625 32.421875 48.390625 \nQ 24.90625 48.390625 20.390625 44.140625 \nQ 15.875 39.890625 15.1875 32.171875 \nz\n\" id=\"DejaVuSans-101\"/>\n       <path d=\"M 14.796875 27.296875 \nQ 14.796875 17.390625 18.875 11.75 \nQ 22.953125 6.109375 30.078125 6.109375 \nQ 37.203125 6.109375 41.296875 11.75 \nQ 45.40625 17.390625 45.40625 27.296875 \nQ 45.40625 37.203125 41.296875 42.84375 \nQ 37.203125 48.484375 30.078125 48.484375 \nQ 22.953125 48.484375 18.875 42.84375 \nQ 14.796875 37.203125 14.796875 27.296875 \nz\nM 45.40625 8.203125 \nQ 42.578125 3.328125 38.25 0.953125 \nQ 33.9375 -1.421875 27.875 -1.421875 \nQ 17.96875 -1.421875 11.734375 6.484375 \nQ 5.515625 14.40625 5.515625 27.296875 \nQ 5.515625 40.1875 11.734375 48.09375 \nQ 17.96875 56 27.875 56 \nQ 33.9375 56 38.25 53.625 \nQ 42.578125 51.265625 45.40625 46.390625 \nL 45.40625 54.6875 \nL 54.390625 54.6875 \nL 54.390625 -20.796875 \nL 45.40625 -20.796875 \nz\n\" id=\"DejaVuSans-113\"/>\n       <path d=\"M 8.5 21.578125 \nL 8.5 54.6875 \nL 17.484375 54.6875 \nL 17.484375 21.921875 \nQ 17.484375 14.15625 20.5 10.265625 \nQ 23.53125 6.390625 29.59375 6.390625 \nQ 36.859375 6.390625 41.078125 11.03125 \nQ 45.3125 15.671875 45.3125 23.6875 \nL 45.3125 54.6875 \nL 54.296875 54.6875 \nL 54.296875 0 \nL 45.3125 0 \nL 45.3125 8.40625 \nQ 42.046875 3.421875 37.71875 1 \nQ 33.40625 -1.421875 27.6875 -1.421875 \nQ 18.265625 -1.421875 13.375 4.4375 \nQ 8.5 10.296875 8.5 21.578125 \nz\nM 31.109375 56 \nz\n\" id=\"DejaVuSans-117\"/>\n       <path d=\"M 54.890625 33.015625 \nL 54.890625 0 \nL 45.90625 0 \nL 45.90625 32.71875 \nQ 45.90625 40.484375 42.875 44.328125 \nQ 39.84375 48.1875 33.796875 48.1875 \nQ 26.515625 48.1875 22.3125 43.546875 \nQ 18.109375 38.921875 18.109375 30.90625 \nL 18.109375 0 \nL 9.078125 0 \nL 9.078125 54.6875 \nL 18.109375 54.6875 \nL 18.109375 46.1875 \nQ 21.34375 51.125 25.703125 53.5625 \nQ 30.078125 56 35.796875 56 \nQ 45.21875 56 50.046875 50.171875 \nQ 54.890625 44.34375 54.890625 33.015625 \nz\n\" id=\"DejaVuSans-110\"/>\n       <path d=\"M 48.78125 52.59375 \nL 48.78125 44.1875 \nQ 44.96875 46.296875 41.140625 47.34375 \nQ 37.3125 48.390625 33.40625 48.390625 \nQ 24.65625 48.390625 19.8125 42.84375 \nQ 14.984375 37.3125 14.984375 27.296875 \nQ 14.984375 17.28125 19.8125 11.734375 \nQ 24.65625 6.203125 33.40625 6.203125 \nQ 37.3125 6.203125 41.140625 7.25 \nQ 44.96875 8.296875 48.78125 10.40625 \nL 48.78125 2.09375 \nQ 45.015625 0.34375 40.984375 -0.53125 \nQ 36.96875 -1.421875 32.421875 -1.421875 \nQ 20.0625 -1.421875 12.78125 6.34375 \nQ 5.515625 14.109375 5.515625 27.296875 \nQ 5.515625 40.671875 12.859375 48.328125 \nQ 20.21875 56 33.015625 56 \nQ 37.15625 56 41.109375 55.140625 \nQ 45.0625 54.296875 48.78125 52.59375 \nz\n\" id=\"DejaVuSans-99\"/>\n       <path d=\"M 32.171875 -5.078125 \nQ 28.375 -14.84375 24.75 -17.8125 \nQ 21.140625 -20.796875 15.09375 -20.796875 \nL 7.90625 -20.796875 \nL 7.90625 -13.28125 \nL 13.1875 -13.28125 \nQ 16.890625 -13.28125 18.9375 -11.515625 \nQ 21 -9.765625 23.484375 -3.21875 \nL 25.09375 0.875 \nL 2.984375 54.6875 \nL 12.5 54.6875 \nL 29.59375 11.921875 \nL 46.6875 54.6875 \nL 56.203125 54.6875 \nz\n\" id=\"DejaVuSans-121\"/>\n      </defs>\n      <use xlink:href=\"#DejaVuSans-70\"/>\n      <use x=\"50.269531\" xlink:href=\"#DejaVuSans-114\"/>\n      <use x=\"89.132812\" xlink:href=\"#DejaVuSans-101\"/>\n      <use x=\"150.65625\" xlink:href=\"#DejaVuSans-113\"/>\n      <use x=\"214.132812\" xlink:href=\"#DejaVuSans-117\"/>\n      <use x=\"277.511719\" xlink:href=\"#DejaVuSans-101\"/>\n      <use x=\"339.035156\" xlink:href=\"#DejaVuSans-110\"/>\n      <use x=\"402.414062\" xlink:href=\"#DejaVuSans-99\"/>\n      <use x=\"457.394531\" xlink:href=\"#DejaVuSans-121\"/>\n     </g>\n    </g>\n   </g>\n   <g id=\"patch_13\">\n    <path d=\"M 46.965625 224.64 \nL 46.965625 7.2 \n\" style=\"fill:none;stroke:#000000;stroke-linecap:square;stroke-linejoin:miter;stroke-width:0.8;\"/>\n   </g>\n   <g id=\"patch_14\">\n    <path d=\"M 381.765625 224.64 \nL 381.765625 7.2 \n\" style=\"fill:none;stroke:#000000;stroke-linecap:square;stroke-linejoin:miter;stroke-width:0.8;\"/>\n   </g>\n   <g id=\"patch_15\">\n    <path d=\"M 46.965625 224.64 \nL 381.765625 224.64 \n\" style=\"fill:none;stroke:#000000;stroke-linecap:square;stroke-linejoin:miter;stroke-width:0.8;\"/>\n   </g>\n   <g id=\"patch_16\">\n    <path d=\"M 46.965625 7.2 \nL 381.765625 7.2 \n\" style=\"fill:none;stroke:#000000;stroke-linecap:square;stroke-linejoin:miter;stroke-width:0.8;\"/>\n   </g>\n  </g>\n </g>\n <defs>\n  <clipPath id=\"p55bd50a96a\">\n   <rect height=\"217.44\" width=\"334.8\" x=\"46.965625\" y=\"7.2\"/>\n  </clipPath>\n </defs>\n</svg>\n",
      "image/png": "[encoded data removed]"
     },
     "metadata": {
      "needs_background": "light"
     }
    }
   ],
   "source": [
    "X[\"age\"].plot(kind=\"hist\")"
   ]
  },
  {
   "cell_type": "code",
   "execution_count": 164,
   "metadata": {},
   "outputs": [
    {
     "output_type": "execute_result",
     "data": {
      "text/plain": [
       "0    574\n",
       "1    324\n",
       "2    240\n",
       "3    157\n",
       "4     25\n",
       "5     18\n",
       "Name: children, dtype: int64"
      ]
     },
     "metadata": {},
     "execution_count": 164
    }
   ],
   "source": [
    "X[\"children\"].value_counts()"
   ]
  },
  {
   "cell_type": "code",
   "execution_count": 165,
   "metadata": {},
   "outputs": [],
   "source": [
    "# Create a column transformer\n",
    "ct = make_column_transformer(\n",
    "    (MinMaxScaler(), [\"age\", \"bmi\", \"children\"]), # turn all values in these columns to be between 0 and 1\n",
    "    (OneHotEncoder(handle_unknown=\"ignore\"), [\"sex\", \"smoker\", \"region\"])\n",
    ")\n",
    "\n",
    "X = insurance.drop(\"charges\", axis = 1)\n",
    "y = insurance[\"charges\"]\n",
    "\n",
    "X_train, X_test, y_train, y_test = train_test_split(X, y, test_size=0.2, random_state=42)\n",
    "\n",
    "# Fit the column transformer to our training data\n",
    "ct.fit(X_train)\n",
    "\n",
    "# Transfortm training and test data with nmormalization (MinMaxScaler) and OneHotEncoder\n",
    "X_train_normal = ct.transform(X_train)\n",
    "X_test_normal = ct.transform(X_test)"
   ]
  },
  {
   "cell_type": "code",
   "execution_count": 166,
   "metadata": {},
   "outputs": [
    {
     "output_type": "execute_result",
     "data": {
      "text/plain": [
       "array([0.60869565, 0.10734463, 0.4       , 1.        , 0.        ,\n",
       "       1.        , 0.        , 0.        , 1.        , 0.        ,\n",
       "       0.        ])"
      ]
     },
     "metadata": {},
     "execution_count": 166
    }
   ],
   "source": [
    "# What does our data look like now?\n",
    "X_train_normal[0]"
   ]
  },
  {
   "cell_type": "code",
   "execution_count": 170,
   "metadata": {
    "tags": [
     "outputPrepend"
    ]
   },
   "outputs": [
    {
     "output_type": "stream",
     "name": "stdout",
     "text": [
      "s/step - loss: 3705.1190 - mean_absolute_error: 3705.1190\n",
      "Epoch 332/500\n",
      "34/34 [==============================] - 0s 4ms/step - loss: 3383.7073 - mean_absolute_error: 3383.7073\n",
      "Epoch 333/500\n",
      "34/34 [==============================] - 0s 4ms/step - loss: 3422.2709 - mean_absolute_error: 3422.2709\n",
      "Epoch 334/500\n",
      "34/34 [==============================] - 0s 4ms/step - loss: 3455.9071 - mean_absolute_error: 3455.9071\n",
      "Epoch 335/500\n",
      "34/34 [==============================] - 0s 4ms/step - loss: 3292.8007 - mean_absolute_error: 3292.8007\n",
      "Epoch 336/500\n",
      "34/34 [==============================] - 0s 3ms/step - loss: 3276.1673 - mean_absolute_error: 3276.1673\n",
      "Epoch 337/500\n",
      "34/34 [==============================] - 0s 4ms/step - loss: 3713.4364 - mean_absolute_error: 3713.4364\n",
      "Epoch 338/500\n",
      "34/34 [==============================] - 0s 4ms/step - loss: 3655.8888 - mean_absolute_error: 3655.8888\n",
      "Epoch 339/500\n",
      "34/34 [==============================] - 0s 4ms/step - loss: 3410.8722 - mean_absolute_error: 3410.8722\n",
      "Epoch 340/500\n",
      "34/34 [==============================] - 0s 4ms/step - loss: 3689.2687 - mean_absolute_error: 3689.2687\n",
      "Epoch 341/500\n",
      "34/34 [==============================] - 0s 4ms/step - loss: 3335.1096 - mean_absolute_error: 3335.1096\n",
      "Epoch 342/500\n",
      "34/34 [==============================] - 0s 5ms/step - loss: 3265.3466 - mean_absolute_error: 3265.3466\n",
      "Epoch 343/500\n",
      "34/34 [==============================] - 0s 7ms/step - loss: 3368.0630 - mean_absolute_error: 3368.0630\n",
      "Epoch 344/500\n",
      "34/34 [==============================] - 0s 7ms/step - loss: 3511.0458 - mean_absolute_error: 3511.0458\n",
      "Epoch 345/500\n",
      "34/34 [==============================] - 0s 6ms/step - loss: 3318.1847 - mean_absolute_error: 3318.1847\n",
      "Epoch 346/500\n",
      "34/34 [==============================] - 0s 4ms/step - loss: 3270.6671 - mean_absolute_error: 3270.6671\n",
      "Epoch 347/500\n",
      "34/34 [==============================] - 0s 4ms/step - loss: 3569.5692 - mean_absolute_error: 3569.5692\n",
      "Epoch 348/500\n",
      "34/34 [==============================] - 0s 4ms/step - loss: 3862.2986 - mean_absolute_error: 3862.2986\n",
      "Epoch 349/500\n",
      "34/34 [==============================] - 0s 4ms/step - loss: 3490.2914 - mean_absolute_error: 3490.2914\n",
      "Epoch 350/500\n",
      "34/34 [==============================] - 0s 4ms/step - loss: 3690.4842 - mean_absolute_error: 3690.4842\n",
      "Epoch 351/500\n",
      "34/34 [==============================] - 0s 3ms/step - loss: 3536.2139 - mean_absolute_error: 3536.2139\n",
      "Epoch 352/500\n",
      "34/34 [==============================] - 0s 4ms/step - loss: 3828.1295 - mean_absolute_error: 3828.1295\n",
      "Epoch 353/500\n",
      "34/34 [==============================] - 0s 4ms/step - loss: 3378.1080 - mean_absolute_error: 3378.1080\n",
      "Epoch 354/500\n",
      "34/34 [==============================] - 0s 4ms/step - loss: 3268.8383 - mean_absolute_error: 3268.8383\n",
      "Epoch 355/500\n",
      "34/34 [==============================] - 0s 4ms/step - loss: 3497.9017 - mean_absolute_error: 3497.9017\n",
      "Epoch 356/500\n",
      "34/34 [==============================] - 0s 3ms/step - loss: 3338.6946 - mean_absolute_error: 3338.6946\n",
      "Epoch 357/500\n",
      "34/34 [==============================] - 0s 4ms/step - loss: 3852.1292 - mean_absolute_error: 3852.1292\n",
      "Epoch 358/500\n",
      "34/34 [==============================] - 0s 4ms/step - loss: 3632.5256 - mean_absolute_error: 3632.5256\n",
      "Epoch 359/500\n",
      "34/34 [==============================] - 0s 4ms/step - loss: 3839.7705 - mean_absolute_error: 3839.7705\n",
      "Epoch 360/500\n",
      "34/34 [==============================] - 0s 4ms/step - loss: 3801.8325 - mean_absolute_error: 3801.8325\n",
      "Epoch 361/500\n",
      "34/34 [==============================] - 0s 4ms/step - loss: 3394.2164 - mean_absolute_error: 3394.2164\n",
      "Epoch 362/500\n",
      "34/34 [==============================] - 0s 3ms/step - loss: 3574.0596 - mean_absolute_error: 3574.0596\n",
      "Epoch 363/500\n",
      "34/34 [==============================] - 0s 4ms/step - loss: 3549.2321 - mean_absolute_error: 3549.2321\n",
      "Epoch 364/500\n",
      "34/34 [==============================] - 0s 4ms/step - loss: 3460.2051 - mean_absolute_error: 3460.2051\n",
      "Epoch 365/500\n",
      "34/34 [==============================] - 0s 4ms/step - loss: 3483.5476 - mean_absolute_error: 3483.5476\n",
      "Epoch 366/500\n",
      "34/34 [==============================] - 0s 4ms/step - loss: 3631.2872 - mean_absolute_error: 3631.2872\n",
      "Epoch 367/500\n",
      "34/34 [==============================] - 0s 3ms/step - loss: 3320.6820 - mean_absolute_error: 3320.6820\n",
      "Epoch 368/500\n",
      "34/34 [==============================] - 0s 4ms/step - loss: 3573.3157 - mean_absolute_error: 3573.3157\n",
      "Epoch 369/500\n",
      "34/34 [==============================] - 0s 4ms/step - loss: 3240.2469 - mean_absolute_error: 3240.2469\n",
      "Epoch 370/500\n",
      "34/34 [==============================] - 0s 4ms/step - loss: 3110.2894 - mean_absolute_error: 3110.2894\n",
      "Epoch 371/500\n",
      "34/34 [==============================] - 0s 3ms/step - loss: 3556.1178 - mean_absolute_error: 3556.1178\n",
      "Epoch 372/500\n",
      "34/34 [==============================] - 0s 4ms/step - loss: 3402.3160 - mean_absolute_error: 3402.3160\n",
      "Epoch 373/500\n",
      "34/34 [==============================] - 0s 4ms/step - loss: 3374.4199 - mean_absolute_error: 3374.4199\n",
      "Epoch 374/500\n",
      "34/34 [==============================] - 0s 4ms/step - loss: 3363.4826 - mean_absolute_error: 3363.4826\n",
      "Epoch 375/500\n",
      "34/34 [==============================] - 0s 5ms/step - loss: 3349.7232 - mean_absolute_error: 3349.7232\n",
      "Epoch 376/500\n",
      "34/34 [==============================] - 0s 4ms/step - loss: 3357.5758 - mean_absolute_error: 3357.5758\n",
      "Epoch 377/500\n",
      "34/34 [==============================] - 0s 4ms/step - loss: 3714.9231 - mean_absolute_error: 3714.9231\n",
      "Epoch 378/500\n",
      "34/34 [==============================] - 0s 4ms/step - loss: 3529.1876 - mean_absolute_error: 3529.1876\n",
      "Epoch 379/500\n",
      "34/34 [==============================] - 0s 3ms/step - loss: 3212.8691 - mean_absolute_error: 3212.8691\n",
      "Epoch 380/500\n",
      "34/34 [==============================] - 0s 4ms/step - loss: 3637.2351 - mean_absolute_error: 3637.2351\n",
      "Epoch 381/500\n",
      "34/34 [==============================] - 0s 4ms/step - loss: 3407.5522 - mean_absolute_error: 3407.5522\n",
      "Epoch 382/500\n",
      "34/34 [==============================] - 0s 4ms/step - loss: 3363.4938 - mean_absolute_error: 3363.4938\n",
      "Epoch 383/500\n",
      "34/34 [==============================] - 0s 4ms/step - loss: 3515.1576 - mean_absolute_error: 3515.1576\n",
      "Epoch 384/500\n",
      "34/34 [==============================] - 0s 4ms/step - loss: 3612.8829 - mean_absolute_error: 3612.8829\n",
      "Epoch 385/500\n",
      "34/34 [==============================] - 0s 4ms/step - loss: 3710.4067 - mean_absolute_error: 3710.4067\n",
      "Epoch 386/500\n",
      "34/34 [==============================] - 0s 4ms/step - loss: 3913.1041 - mean_absolute_error: 3913.1041\n",
      "Epoch 387/500\n",
      "34/34 [==============================] - 0s 4ms/step - loss: 3267.1287 - mean_absolute_error: 3267.1287\n",
      "Epoch 388/500\n",
      "34/34 [==============================] - 0s 4ms/step - loss: 3439.6685 - mean_absolute_error: 3439.6685\n",
      "Epoch 389/500\n",
      "34/34 [==============================] - 0s 4ms/step - loss: 3373.5982 - mean_absolute_error: 3373.5982\n",
      "Epoch 390/500\n",
      "34/34 [==============================] - 0s 3ms/step - loss: 3606.5145 - mean_absolute_error: 3606.5145\n",
      "Epoch 391/500\n",
      "34/34 [==============================] - 0s 4ms/step - loss: 3540.2755 - mean_absolute_error: 3540.2755\n",
      "Epoch 392/500\n",
      "34/34 [==============================] - 0s 3ms/step - loss: 3635.8983 - mean_absolute_error: 3635.8983\n",
      "Epoch 393/500\n",
      "34/34 [==============================] - 0s 4ms/step - loss: 3646.5598 - mean_absolute_error: 3646.5598\n",
      "Epoch 394/500\n",
      "34/34 [==============================] - 0s 4ms/step - loss: 3654.3750 - mean_absolute_error: 3654.3750\n",
      "Epoch 395/500\n",
      "34/34 [==============================] - 0s 4ms/step - loss: 3480.3025 - mean_absolute_error: 3480.3025\n",
      "Epoch 396/500\n",
      "34/34 [==============================] - 0s 3ms/step - loss: 3292.2313 - mean_absolute_error: 3292.2313\n",
      "Epoch 397/500\n",
      "34/34 [==============================] - 0s 4ms/step - loss: 3491.2936 - mean_absolute_error: 3491.2936\n",
      "Epoch 398/500\n",
      "34/34 [==============================] - 0s 4ms/step - loss: 3428.1321 - mean_absolute_error: 3428.1321\n",
      "Epoch 399/500\n",
      "34/34 [==============================] - 0s 4ms/step - loss: 3591.7540 - mean_absolute_error: 3591.7540\n",
      "Epoch 400/500\n",
      "34/34 [==============================] - 0s 4ms/step - loss: 3686.9816 - mean_absolute_error: 3686.9816\n",
      "Epoch 401/500\n",
      "34/34 [==============================] - 0s 4ms/step - loss: 3525.3155 - mean_absolute_error: 3525.3155\n",
      "Epoch 402/500\n",
      "34/34 [==============================] - 0s 4ms/step - loss: 3440.7942 - mean_absolute_error: 3440.7942\n",
      "Epoch 403/500\n",
      "34/34 [==============================] - 0s 3ms/step - loss: 3525.3419 - mean_absolute_error: 3525.3419\n",
      "Epoch 404/500\n",
      "34/34 [==============================] - 0s 4ms/step - loss: 3326.5802 - mean_absolute_error: 3326.5802\n",
      "Epoch 405/500\n",
      "34/34 [==============================] - 0s 4ms/step - loss: 3437.5341 - mean_absolute_error: 3437.5341\n",
      "Epoch 406/500\n",
      "34/34 [==============================] - 0s 4ms/step - loss: 3592.0373 - mean_absolute_error: 3592.0373\n",
      "Epoch 407/500\n",
      "34/34 [==============================] - 0s 4ms/step - loss: 3493.6352 - mean_absolute_error: 3493.6352\n",
      "Epoch 408/500\n",
      "34/34 [==============================] - 0s 3ms/step - loss: 3684.7935 - mean_absolute_error: 3684.7935\n",
      "Epoch 409/500\n",
      "34/34 [==============================] - 0s 3ms/step - loss: 3691.1122 - mean_absolute_error: 3691.1122\n",
      "Epoch 410/500\n",
      "34/34 [==============================] - 0s 4ms/step - loss: 3303.2710 - mean_absolute_error: 3303.2710\n",
      "Epoch 411/500\n",
      "34/34 [==============================] - 0s 3ms/step - loss: 3531.4884 - mean_absolute_error: 3531.4884\n",
      "Epoch 412/500\n",
      "34/34 [==============================] - 0s 4ms/step - loss: 3530.9412 - mean_absolute_error: 3530.9412\n",
      "Epoch 413/500\n",
      "34/34 [==============================] - 0s 4ms/step - loss: 3609.3227 - mean_absolute_error: 3609.3227\n",
      "Epoch 414/500\n",
      "34/34 [==============================] - 0s 4ms/step - loss: 3310.3679 - mean_absolute_error: 3310.3679\n",
      "Epoch 415/500\n",
      "34/34 [==============================] - 0s 4ms/step - loss: 3536.8506 - mean_absolute_error: 3536.8506\n",
      "Epoch 416/500\n",
      "34/34 [==============================] - 0s 4ms/step - loss: 3528.7764 - mean_absolute_error: 3528.7764\n",
      "Epoch 417/500\n",
      "34/34 [==============================] - 0s 4ms/step - loss: 3706.5907 - mean_absolute_error: 3706.5907\n",
      "Epoch 418/500\n",
      "34/34 [==============================] - 0s 3ms/step - loss: 3518.7732 - mean_absolute_error: 3518.7732\n",
      "Epoch 419/500\n",
      "34/34 [==============================] - 0s 3ms/step - loss: 3499.5960 - mean_absolute_error: 3499.5960\n",
      "Epoch 420/500\n",
      "34/34 [==============================] - 0s 4ms/step - loss: 3534.4356 - mean_absolute_error: 3534.4356\n",
      "Epoch 421/500\n",
      "34/34 [==============================] - 0s 5ms/step - loss: 3841.1116 - mean_absolute_error: 3841.1116\n",
      "Epoch 422/500\n",
      "34/34 [==============================] - 0s 4ms/step - loss: 3813.2902 - mean_absolute_error: 3813.2902\n",
      "Epoch 423/500\n",
      "34/34 [==============================] - 0s 4ms/step - loss: 3822.3154 - mean_absolute_error: 3822.3154\n",
      "Epoch 424/500\n",
      "34/34 [==============================] - 0s 4ms/step - loss: 3725.6495 - mean_absolute_error: 3725.6495\n",
      "Epoch 425/500\n",
      "34/34 [==============================] - 0s 4ms/step - loss: 3466.8436 - mean_absolute_error: 3466.8436\n",
      "Epoch 426/500\n",
      "34/34 [==============================] - 0s 4ms/step - loss: 3304.9438 - mean_absolute_error: 3304.9438\n",
      "Epoch 427/500\n",
      "34/34 [==============================] - 0s 4ms/step - loss: 3404.5373 - mean_absolute_error: 3404.5373\n",
      "Epoch 428/500\n",
      "34/34 [==============================] - 0s 4ms/step - loss: 3592.5092 - mean_absolute_error: 3592.5092\n",
      "Epoch 429/500\n",
      "34/34 [==============================] - 0s 4ms/step - loss: 3443.2923 - mean_absolute_error: 3443.2923\n",
      "Epoch 430/500\n",
      "34/34 [==============================] - 0s 4ms/step - loss: 3887.1631 - mean_absolute_error: 3887.1631\n",
      "Epoch 431/500\n",
      "34/34 [==============================] - 0s 4ms/step - loss: 3524.8430 - mean_absolute_error: 3524.8430\n",
      "Epoch 432/500\n",
      "34/34 [==============================] - 0s 4ms/step - loss: 3488.7969 - mean_absolute_error: 3488.7969\n",
      "Epoch 433/500\n",
      "34/34 [==============================] - 0s 4ms/step - loss: 3313.4362 - mean_absolute_error: 3313.4362\n",
      "Epoch 434/500\n",
      "34/34 [==============================] - 0s 4ms/step - loss: 3257.8118 - mean_absolute_error: 3257.8118\n",
      "Epoch 435/500\n",
      "34/34 [==============================] - 0s 4ms/step - loss: 3406.9056 - mean_absolute_error: 3406.9056\n",
      "Epoch 436/500\n",
      "34/34 [==============================] - 0s 4ms/step - loss: 3494.9495 - mean_absolute_error: 3494.9495\n",
      "Epoch 437/500\n",
      "34/34 [==============================] - 0s 3ms/step - loss: 3324.1524 - mean_absolute_error: 3324.1524\n",
      "Epoch 438/500\n",
      "34/34 [==============================] - 0s 3ms/step - loss: 3379.0429 - mean_absolute_error: 3379.0429\n",
      "Epoch 439/500\n",
      "34/34 [==============================] - 0s 4ms/step - loss: 3396.3568 - mean_absolute_error: 3396.3568\n",
      "Epoch 440/500\n",
      "34/34 [==============================] - 0s 4ms/step - loss: 3323.3336 - mean_absolute_error: 3323.3336\n",
      "Epoch 441/500\n",
      "34/34 [==============================] - 0s 3ms/step - loss: 3368.9775 - mean_absolute_error: 3368.9775\n",
      "Epoch 442/500\n",
      "34/34 [==============================] - 0s 4ms/step - loss: 3267.6321 - mean_absolute_error: 3267.6321\n",
      "Epoch 443/500\n",
      "34/34 [==============================] - 0s 4ms/step - loss: 3646.0836 - mean_absolute_error: 3646.0836\n",
      "Epoch 444/500\n",
      "34/34 [==============================] - 0s 4ms/step - loss: 3636.4476 - mean_absolute_error: 3636.4476\n",
      "Epoch 445/500\n",
      "34/34 [==============================] - 0s 4ms/step - loss: 3368.5442 - mean_absolute_error: 3368.5442\n",
      "Epoch 446/500\n",
      "34/34 [==============================] - 0s 4ms/step - loss: 3444.7278 - mean_absolute_error: 3444.7278\n",
      "Epoch 447/500\n",
      "34/34 [==============================] - 0s 3ms/step - loss: 3745.5624 - mean_absolute_error: 3745.5624\n",
      "Epoch 448/500\n",
      "34/34 [==============================] - 0s 4ms/step - loss: 3550.0655 - mean_absolute_error: 3550.0655\n",
      "Epoch 449/500\n",
      "34/34 [==============================] - 0s 4ms/step - loss: 3419.9987 - mean_absolute_error: 3419.9987\n",
      "Epoch 450/500\n",
      "34/34 [==============================] - 0s 4ms/step - loss: 3609.7021 - mean_absolute_error: 3609.7021\n",
      "Epoch 451/500\n",
      "34/34 [==============================] - 0s 4ms/step - loss: 3487.9760 - mean_absolute_error: 3487.9760\n",
      "Epoch 452/500\n",
      "34/34 [==============================] - 0s 4ms/step - loss: 3621.4610 - mean_absolute_error: 3621.4610\n",
      "Epoch 453/500\n",
      "34/34 [==============================] - 0s 4ms/step - loss: 3526.3193 - mean_absolute_error: 3526.3193\n",
      "Epoch 454/500\n",
      "34/34 [==============================] - 0s 4ms/step - loss: 3248.8147 - mean_absolute_error: 3248.8147\n",
      "Epoch 455/500\n",
      "34/34 [==============================] - 0s 4ms/step - loss: 3557.9295 - mean_absolute_error: 3557.9295\n",
      "Epoch 456/500\n",
      "34/34 [==============================] - 0s 4ms/step - loss: 3323.1724 - mean_absolute_error: 3323.1724\n",
      "Epoch 457/500\n",
      "34/34 [==============================] - 0s 3ms/step - loss: 3293.3313 - mean_absolute_error: 3293.3313\n",
      "Epoch 458/500\n",
      "34/34 [==============================] - 0s 4ms/step - loss: 3398.0960 - mean_absolute_error: 3398.0960\n",
      "Epoch 459/500\n",
      "34/34 [==============================] - 0s 4ms/step - loss: 3435.1873 - mean_absolute_error: 3435.1873\n",
      "Epoch 460/500\n",
      "34/34 [==============================] - 0s 4ms/step - loss: 3624.6244 - mean_absolute_error: 3624.6244\n",
      "Epoch 461/500\n",
      "34/34 [==============================] - 0s 4ms/step - loss: 3253.7358 - mean_absolute_error: 3253.7358\n",
      "Epoch 462/500\n",
      "34/34 [==============================] - 0s 4ms/step - loss: 3142.9461 - mean_absolute_error: 3142.9461\n",
      "Epoch 463/500\n",
      "34/34 [==============================] - 0s 3ms/step - loss: 3702.0290 - mean_absolute_error: 3702.0290\n",
      "Epoch 464/500\n",
      "34/34 [==============================] - 0s 4ms/step - loss: 3189.8282 - mean_absolute_error: 3189.8282\n",
      "Epoch 465/500\n",
      "34/34 [==============================] - 0s 4ms/step - loss: 3573.8108 - mean_absolute_error: 3573.8108\n",
      "Epoch 466/500\n",
      "34/34 [==============================] - 0s 4ms/step - loss: 3377.3541 - mean_absolute_error: 3377.3541\n",
      "Epoch 467/500\n",
      "34/34 [==============================] - 0s 4ms/step - loss: 3512.4701 - mean_absolute_error: 3512.4701\n",
      "Epoch 468/500\n",
      "34/34 [==============================] - 0s 5ms/step - loss: 3374.4125 - mean_absolute_error: 3374.4125\n",
      "Epoch 469/500\n",
      "34/34 [==============================] - 0s 7ms/step - loss: 3500.2620 - mean_absolute_error: 3500.2620\n",
      "Epoch 470/500\n",
      "34/34 [==============================] - 0s 4ms/step - loss: 3385.2081 - mean_absolute_error: 3385.2081\n",
      "Epoch 471/500\n",
      "34/34 [==============================] - 0s 4ms/step - loss: 3754.5992 - mean_absolute_error: 3754.5992\n",
      "Epoch 472/500\n",
      "34/34 [==============================] - 0s 4ms/step - loss: 3507.1789 - mean_absolute_error: 3507.1789\n",
      "Epoch 473/500\n",
      "34/34 [==============================] - 0s 4ms/step - loss: 3211.3819 - mean_absolute_error: 3211.3819\n",
      "Epoch 474/500\n",
      "34/34 [==============================] - 0s 4ms/step - loss: 3469.7617 - mean_absolute_error: 3469.7617\n",
      "Epoch 475/500\n",
      "34/34 [==============================] - 0s 4ms/step - loss: 2936.0872 - mean_absolute_error: 2936.0872\n",
      "Epoch 476/500\n",
      "34/34 [==============================] - 0s 4ms/step - loss: 3403.4054 - mean_absolute_error: 3403.4054\n",
      "Epoch 477/500\n",
      "34/34 [==============================] - 0s 3ms/step - loss: 3091.2454 - mean_absolute_error: 3091.2454\n",
      "Epoch 478/500\n",
      "34/34 [==============================] - 0s 4ms/step - loss: 3645.5697 - mean_absolute_error: 3645.5697\n",
      "Epoch 479/500\n",
      "34/34 [==============================] - 0s 4ms/step - loss: 3213.5941 - mean_absolute_error: 3213.5941\n",
      "Epoch 480/500\n",
      "34/34 [==============================] - 0s 4ms/step - loss: 3624.6015 - mean_absolute_error: 3624.6015\n",
      "Epoch 481/500\n",
      "34/34 [==============================] - 0s 4ms/step - loss: 3473.9034 - mean_absolute_error: 3473.9034\n",
      "Epoch 482/500\n",
      "34/34 [==============================] - 0s 4ms/step - loss: 3842.6718 - mean_absolute_error: 3842.6718\n",
      "Epoch 483/500\n",
      "34/34 [==============================] - 0s 3ms/step - loss: 3442.4266 - mean_absolute_error: 3442.4266\n",
      "Epoch 484/500\n",
      "34/34 [==============================] - 0s 3ms/step - loss: 3708.9220 - mean_absolute_error: 3708.9220\n",
      "Epoch 485/500\n",
      "34/34 [==============================] - 0s 3ms/step - loss: 3527.1062 - mean_absolute_error: 3527.1062\n",
      "Epoch 486/500\n",
      "34/34 [==============================] - 0s 4ms/step - loss: 3178.3759 - mean_absolute_error: 3178.3759\n",
      "Epoch 487/500\n",
      "34/34 [==============================] - 0s 4ms/step - loss: 3385.8247 - mean_absolute_error: 3385.8247\n",
      "Epoch 488/500\n",
      "34/34 [==============================] - 0s 4ms/step - loss: 3629.1956 - mean_absolute_error: 3629.1956\n",
      "Epoch 489/500\n",
      "34/34 [==============================] - 0s 4ms/step - loss: 3497.3977 - mean_absolute_error: 3497.3977\n",
      "Epoch 490/500\n",
      "34/34 [==============================] - 0s 4ms/step - loss: 3274.7942 - mean_absolute_error: 3274.7942\n",
      "Epoch 491/500\n",
      "34/34 [==============================] - 0s 3ms/step - loss: 3200.9444 - mean_absolute_error: 3200.9444\n",
      "Epoch 492/500\n",
      "34/34 [==============================] - 0s 3ms/step - loss: 3561.7394 - mean_absolute_error: 3561.7394\n",
      "Epoch 493/500\n",
      "34/34 [==============================] - 0s 4ms/step - loss: 3532.8958 - mean_absolute_error: 3532.8958\n",
      "Epoch 494/500\n",
      "34/34 [==============================] - 0s 4ms/step - loss: 3591.4798 - mean_absolute_error: 3591.4798\n",
      "Epoch 495/500\n",
      "34/34 [==============================] - 0s 4ms/step - loss: 3519.4389 - mean_absolute_error: 3519.4389\n",
      "Epoch 496/500\n",
      "34/34 [==============================] - 0s 4ms/step - loss: 3548.0862 - mean_absolute_error: 3548.0862\n",
      "Epoch 497/500\n",
      "34/34 [==============================] - 0s 4ms/step - loss: 3447.8741 - mean_absolute_error: 3447.8741\n",
      "Epoch 498/500\n",
      "34/34 [==============================] - 0s 3ms/step - loss: 3445.4599 - mean_absolute_error: 3445.4599\n",
      "Epoch 499/500\n",
      "34/34 [==============================] - 0s 4ms/step - loss: 3508.1203 - mean_absolute_error: 3508.1203\n",
      "Epoch 500/500\n",
      "34/34 [==============================] - 0s 4ms/step - loss: 3746.1278 - mean_absolute_error: 3746.1278\n"
     ]
    }
   ],
   "source": [
    "# Now that the data has been normalized and one hot encoded, build a neural network model\n",
    "# 1. Build the model\n",
    "insurance_model_4 = tf.keras.Sequential([\n",
    "    tf.keras.layers.Dense(100),\n",
    "    tf.keras.layers.Dense(10),\n",
    "    tf.keras.layers.Dense(1)\n",
    "])\n",
    "\n",
    "# 2. Compile the model\n",
    "insurance_model_4.compile(\n",
    "    loss = tf.keras.losses.mae,\n",
    "    optimizer = tf.keras.optimizers.Adam(),\n",
    "    metrics = [tf.keras.metrics.mae]\n",
    ")\n",
    "\n",
    "# 3. Fit the model\n",
    "history = insurance_model_4.fit(X_train_normal, y_train, epochs = 100)"
   ]
  },
  {
   "cell_type": "code",
   "execution_count": 171,
   "metadata": {},
   "outputs": [
    {
     "output_type": "stream",
     "name": "stdout",
     "text": [
      "9/9 [==============================] - 0s 3ms/step - loss: 3160.9441 - mean_absolute_error: 3160.9441\n"
     ]
    },
    {
     "output_type": "execute_result",
     "data": {
      "text/plain": [
       "[3160.944091796875, 3160.944091796875]"
      ]
     },
     "metadata": {},
     "execution_count": 171
    }
   ],
   "source": [
    "# Evaluate our insurance model trained on normalized data\n",
    "insurance_model_4.evaluate(X_test_normal, y_test)"
   ]
  },
  {
   "cell_type": "code",
   "execution_count": 172,
   "metadata": {},
   "outputs": [
    {
     "output_type": "execute_result",
     "data": {
      "text/plain": [
       "Text(0.5, 0, 'epochs')"
      ]
     },
     "metadata": {},
     "execution_count": 172
    },
    {
     "output_type": "display_data",
     "data": {
      "text/plain": "<Figure size 432x288 with 1 Axes>",
      "image/svg+xml": "<?xml version=\"1.0\" encoding=\"utf-8\" standalone=\"no\"?>\n<!DOCTYPE svg PUBLIC \"-//W3C//DTD SVG 1.1//EN\"\n  \"http://www.w3.org/Graphics/SVG/1.1/DTD/svg11.dtd\">\n<!-- Created with matplotlib (https://matplotlib.org/) -->\n<svg height=\"262.19625pt\" version=\"1.1\" viewBox=\"0 0 401.690625 262.19625\" width=\"401.690625pt\" xmlns=\"http://www.w3.org/2000/svg\" xmlns:xlink=\"http://www.w3.org/1999/xlink\">\n <metadata>\n  <rdf:RDF xmlns:cc=\"http://creativecommons.org/ns#\" xmlns:dc=\"http://purl.org/dc/elements/1.1/\" xmlns:rdf=\"http://www.w3.org/1999/02/22-rdf-syntax-ns#\">\n   <cc:Work>\n    <dc:type rdf:resource=\"http://purl.org/dc/dcmitype/StillImage\"/>\n    <dc:date>2021-04-04T20:17:07.093522</dc:date>\n    <dc:format>image/svg+xml</dc:format>\n    <dc:creator>\n     <cc:Agent>\n      <dc:title>Matplotlib v3.3.4, https://matplotlib.org/</dc:title>\n     </cc:Agent>\n    </dc:creator>\n   </cc:Work>\n  </rdf:RDF>\n </metadata>\n <defs>\n  <style type=\"text/css\">*{stroke-linecap:butt;stroke-linejoin:round;}</style>\n </defs>\n <g id=\"figure_1\">\n  <g id=\"patch_1\">\n   <path d=\"M 0 262.19625 \nL 401.690625 262.19625 \nL 401.690625 0 \nL 0 0 \nz\n\" style=\"fill:none;\"/>\n  </g>\n  <g id=\"axes_1\">\n   <g id=\"patch_2\">\n    <path d=\"M 59.690625 224.64 \nL 394.490625 224.64 \nL 394.490625 7.2 \nL 59.690625 7.2 \nz\n\" style=\"fill:#ffffff;\"/>\n   </g>\n   <g id=\"matplotlib.axis_1\">\n    <g id=\"xtick_1\">\n     <g id=\"line2d_1\">\n      <defs>\n       <path d=\"M 0 0 \nL 0 3.5 \n\" id=\"me4604bdd74\" style=\"stroke:#000000;stroke-width:0.8;\"/>\n      </defs>\n      <g>\n       <use style=\"stroke:#000000;stroke-width:0.8;\" x=\"74.908807\" xlink:href=\"#me4604bdd74\" y=\"224.64\"/>\n      </g>\n     </g>\n     <g id=\"text_1\">\n      <!-- 0 -->\n      <g transform=\"translate(71.727557 239.238438)scale(0.1 -0.1)\">\n       <defs>\n        <path d=\"M 31.78125 66.40625 \nQ 24.171875 66.40625 20.328125 58.90625 \nQ 16.5 51.421875 16.5 36.375 \nQ 16.5 21.390625 20.328125 13.890625 \nQ 24.171875 6.390625 31.78125 6.390625 \nQ 39.453125 6.390625 43.28125 13.890625 \nQ 47.125 21.390625 47.125 36.375 \nQ 47.125 51.421875 43.28125 58.90625 \nQ 39.453125 66.40625 31.78125 66.40625 \nz\nM 31.78125 74.21875 \nQ 44.046875 74.21875 50.515625 64.515625 \nQ 56.984375 54.828125 56.984375 36.375 \nQ 56.984375 17.96875 50.515625 8.265625 \nQ 44.046875 -1.421875 31.78125 -1.421875 \nQ 19.53125 -1.421875 13.0625 8.265625 \nQ 6.59375 17.96875 6.59375 36.375 \nQ 6.59375 54.828125 13.0625 64.515625 \nQ 19.53125 74.21875 31.78125 74.21875 \nz\n\" id=\"DejaVuSans-48\"/>\n       </defs>\n       <use xlink:href=\"#DejaVuSans-48\"/>\n      </g>\n     </g>\n    </g>\n    <g id=\"xtick_2\">\n     <g id=\"line2d_2\">\n      <g>\n       <use style=\"stroke:#000000;stroke-width:0.8;\" x=\"135.903524\" xlink:href=\"#me4604bdd74\" y=\"224.64\"/>\n      </g>\n     </g>\n     <g id=\"text_2\">\n      <!-- 100 -->\n      <g transform=\"translate(126.359774 239.238438)scale(0.1 -0.1)\">\n       <defs>\n        <path d=\"M 12.40625 8.296875 \nL 28.515625 8.296875 \nL 28.515625 63.921875 \nL 10.984375 60.40625 \nL 10.984375 69.390625 \nL 28.421875 72.90625 \nL 38.28125 72.90625 \nL 38.28125 8.296875 \nL 54.390625 8.296875 \nL 54.390625 0 \nL 12.40625 0 \nz\n\" id=\"DejaVuSans-49\"/>\n       </defs>\n       <use xlink:href=\"#DejaVuSans-49\"/>\n       <use x=\"63.623047\" xlink:href=\"#DejaVuSans-48\"/>\n       <use x=\"127.246094\" xlink:href=\"#DejaVuSans-48\"/>\n      </g>\n     </g>\n    </g>\n    <g id=\"xtick_3\">\n     <g id=\"line2d_3\">\n      <g>\n       <use style=\"stroke:#000000;stroke-width:0.8;\" x=\"196.89824\" xlink:href=\"#me4604bdd74\" y=\"224.64\"/>\n      </g>\n     </g>\n     <g id=\"text_3\">\n      <!-- 200 -->\n      <g transform=\"translate(187.35449 239.238438)scale(0.1 -0.1)\">\n       <defs>\n        <path d=\"M 19.1875 8.296875 \nL 53.609375 8.296875 \nL 53.609375 0 \nL 7.328125 0 \nL 7.328125 8.296875 \nQ 12.9375 14.109375 22.625 23.890625 \nQ 32.328125 33.6875 34.8125 36.53125 \nQ 39.546875 41.84375 41.421875 45.53125 \nQ 43.3125 49.21875 43.3125 52.78125 \nQ 43.3125 58.59375 39.234375 62.25 \nQ 35.15625 65.921875 28.609375 65.921875 \nQ 23.96875 65.921875 18.8125 64.3125 \nQ 13.671875 62.703125 7.8125 59.421875 \nL 7.8125 69.390625 \nQ 13.765625 71.78125 18.9375 73 \nQ 24.125 74.21875 28.421875 74.21875 \nQ 39.75 74.21875 46.484375 68.546875 \nQ 53.21875 62.890625 53.21875 53.421875 \nQ 53.21875 48.921875 51.53125 44.890625 \nQ 49.859375 40.875 45.40625 35.40625 \nQ 44.1875 33.984375 37.640625 27.21875 \nQ 31.109375 20.453125 19.1875 8.296875 \nz\n\" id=\"DejaVuSans-50\"/>\n       </defs>\n       <use xlink:href=\"#DejaVuSans-50\"/>\n       <use x=\"63.623047\" xlink:href=\"#DejaVuSans-48\"/>\n       <use x=\"127.246094\" xlink:href=\"#DejaVuSans-48\"/>\n      </g>\n     </g>\n    </g>\n    <g id=\"xtick_4\">\n     <g id=\"line2d_4\">\n      <g>\n       <use style=\"stroke:#000000;stroke-width:0.8;\" x=\"257.892957\" xlink:href=\"#me4604bdd74\" y=\"224.64\"/>\n      </g>\n     </g>\n     <g id=\"text_4\">\n      <!-- 300 -->\n      <g transform=\"translate(248.349207 239.238438)scale(0.1 -0.1)\">\n       <defs>\n        <path d=\"M 40.578125 39.3125 \nQ 47.65625 37.796875 51.625 33 \nQ 55.609375 28.21875 55.609375 21.1875 \nQ 55.609375 10.40625 48.1875 4.484375 \nQ 40.765625 -1.421875 27.09375 -1.421875 \nQ 22.515625 -1.421875 17.65625 -0.515625 \nQ 12.796875 0.390625 7.625 2.203125 \nL 7.625 11.71875 \nQ 11.71875 9.328125 16.59375 8.109375 \nQ 21.484375 6.890625 26.8125 6.890625 \nQ 36.078125 6.890625 40.9375 10.546875 \nQ 45.796875 14.203125 45.796875 21.1875 \nQ 45.796875 27.640625 41.28125 31.265625 \nQ 36.765625 34.90625 28.71875 34.90625 \nL 20.21875 34.90625 \nL 20.21875 43.015625 \nL 29.109375 43.015625 \nQ 36.375 43.015625 40.234375 45.921875 \nQ 44.09375 48.828125 44.09375 54.296875 \nQ 44.09375 59.90625 40.109375 62.90625 \nQ 36.140625 65.921875 28.71875 65.921875 \nQ 24.65625 65.921875 20.015625 65.03125 \nQ 15.375 64.15625 9.8125 62.3125 \nL 9.8125 71.09375 \nQ 15.4375 72.65625 20.34375 73.4375 \nQ 25.25 74.21875 29.59375 74.21875 \nQ 40.828125 74.21875 47.359375 69.109375 \nQ 53.90625 64.015625 53.90625 55.328125 \nQ 53.90625 49.265625 50.4375 45.09375 \nQ 46.96875 40.921875 40.578125 39.3125 \nz\n\" id=\"DejaVuSans-51\"/>\n       </defs>\n       <use xlink:href=\"#DejaVuSans-51\"/>\n       <use x=\"63.623047\" xlink:href=\"#DejaVuSans-48\"/>\n       <use x=\"127.246094\" xlink:href=\"#DejaVuSans-48\"/>\n      </g>\n     </g>\n    </g>\n    <g id=\"xtick_5\">\n     <g id=\"line2d_5\">\n      <g>\n       <use style=\"stroke:#000000;stroke-width:0.8;\" x=\"318.887674\" xlink:href=\"#me4604bdd74\" y=\"224.64\"/>\n      </g>\n     </g>\n     <g id=\"text_5\">\n      <!-- 400 -->\n      <g transform=\"translate(309.343924 239.238438)scale(0.1 -0.1)\">\n       <defs>\n        <path d=\"M 37.796875 64.3125 \nL 12.890625 25.390625 \nL 37.796875 25.390625 \nz\nM 35.203125 72.90625 \nL 47.609375 72.90625 \nL 47.609375 25.390625 \nL 58.015625 25.390625 \nL 58.015625 17.1875 \nL 47.609375 17.1875 \nL 47.609375 0 \nL 37.796875 0 \nL 37.796875 17.1875 \nL 4.890625 17.1875 \nL 4.890625 26.703125 \nz\n\" id=\"DejaVuSans-52\"/>\n       </defs>\n       <use xlink:href=\"#DejaVuSans-52\"/>\n       <use x=\"63.623047\" xlink:href=\"#DejaVuSans-48\"/>\n       <use x=\"127.246094\" xlink:href=\"#DejaVuSans-48\"/>\n      </g>\n     </g>\n    </g>\n    <g id=\"xtick_6\">\n     <g id=\"line2d_6\">\n      <g>\n       <use style=\"stroke:#000000;stroke-width:0.8;\" x=\"379.88239\" xlink:href=\"#me4604bdd74\" y=\"224.64\"/>\n      </g>\n     </g>\n     <g id=\"text_6\">\n      <!-- 500 -->\n      <g transform=\"translate(370.33864 239.238438)scale(0.1 -0.1)\">\n       <defs>\n        <path d=\"M 10.796875 72.90625 \nL 49.515625 72.90625 \nL 49.515625 64.59375 \nL 19.828125 64.59375 \nL 19.828125 46.734375 \nQ 21.96875 47.46875 24.109375 47.828125 \nQ 26.265625 48.1875 28.421875 48.1875 \nQ 40.625 48.1875 47.75 41.5 \nQ 54.890625 34.8125 54.890625 23.390625 \nQ 54.890625 11.625 47.5625 5.09375 \nQ 40.234375 -1.421875 26.90625 -1.421875 \nQ 22.3125 -1.421875 17.546875 -0.640625 \nQ 12.796875 0.140625 7.71875 1.703125 \nL 7.71875 11.625 \nQ 12.109375 9.234375 16.796875 8.0625 \nQ 21.484375 6.890625 26.703125 6.890625 \nQ 35.15625 6.890625 40.078125 11.328125 \nQ 45.015625 15.765625 45.015625 23.390625 \nQ 45.015625 31 40.078125 35.4375 \nQ 35.15625 39.890625 26.703125 39.890625 \nQ 22.75 39.890625 18.8125 39.015625 \nQ 14.890625 38.140625 10.796875 36.28125 \nz\n\" id=\"DejaVuSans-53\"/>\n       </defs>\n       <use xlink:href=\"#DejaVuSans-53\"/>\n       <use x=\"63.623047\" xlink:href=\"#DejaVuSans-48\"/>\n       <use x=\"127.246094\" xlink:href=\"#DejaVuSans-48\"/>\n      </g>\n     </g>\n    </g>\n    <g id=\"text_7\">\n     <!-- epochs -->\n     <g transform=\"translate(209.257813 252.916563)scale(0.1 -0.1)\">\n      <defs>\n       <path d=\"M 56.203125 29.59375 \nL 56.203125 25.203125 \nL 14.890625 25.203125 \nQ 15.484375 15.921875 20.484375 11.0625 \nQ 25.484375 6.203125 34.421875 6.203125 \nQ 39.59375 6.203125 44.453125 7.46875 \nQ 49.3125 8.734375 54.109375 11.28125 \nL 54.109375 2.78125 \nQ 49.265625 0.734375 44.1875 -0.34375 \nQ 39.109375 -1.421875 33.890625 -1.421875 \nQ 20.796875 -1.421875 13.15625 6.1875 \nQ 5.515625 13.8125 5.515625 26.8125 \nQ 5.515625 40.234375 12.765625 48.109375 \nQ 20.015625 56 32.328125 56 \nQ 43.359375 56 49.78125 48.890625 \nQ 56.203125 41.796875 56.203125 29.59375 \nz\nM 47.21875 32.234375 \nQ 47.125 39.59375 43.09375 43.984375 \nQ 39.0625 48.390625 32.421875 48.390625 \nQ 24.90625 48.390625 20.390625 44.140625 \nQ 15.875 39.890625 15.1875 32.171875 \nz\n\" id=\"DejaVuSans-101\"/>\n       <path d=\"M 18.109375 8.203125 \nL 18.109375 -20.796875 \nL 9.078125 -20.796875 \nL 9.078125 54.6875 \nL 18.109375 54.6875 \nL 18.109375 46.390625 \nQ 20.953125 51.265625 25.265625 53.625 \nQ 29.59375 56 35.59375 56 \nQ 45.5625 56 51.78125 48.09375 \nQ 58.015625 40.1875 58.015625 27.296875 \nQ 58.015625 14.40625 51.78125 6.484375 \nQ 45.5625 -1.421875 35.59375 -1.421875 \nQ 29.59375 -1.421875 25.265625 0.953125 \nQ 20.953125 3.328125 18.109375 8.203125 \nz\nM 48.6875 27.296875 \nQ 48.6875 37.203125 44.609375 42.84375 \nQ 40.53125 48.484375 33.40625 48.484375 \nQ 26.265625 48.484375 22.1875 42.84375 \nQ 18.109375 37.203125 18.109375 27.296875 \nQ 18.109375 17.390625 22.1875 11.75 \nQ 26.265625 6.109375 33.40625 6.109375 \nQ 40.53125 6.109375 44.609375 11.75 \nQ 48.6875 17.390625 48.6875 27.296875 \nz\n\" id=\"DejaVuSans-112\"/>\n       <path d=\"M 30.609375 48.390625 \nQ 23.390625 48.390625 19.1875 42.75 \nQ 14.984375 37.109375 14.984375 27.296875 \nQ 14.984375 17.484375 19.15625 11.84375 \nQ 23.34375 6.203125 30.609375 6.203125 \nQ 37.796875 6.203125 41.984375 11.859375 \nQ 46.1875 17.53125 46.1875 27.296875 \nQ 46.1875 37.015625 41.984375 42.703125 \nQ 37.796875 48.390625 30.609375 48.390625 \nz\nM 30.609375 56 \nQ 42.328125 56 49.015625 48.375 \nQ 55.71875 40.765625 55.71875 27.296875 \nQ 55.71875 13.875 49.015625 6.21875 \nQ 42.328125 -1.421875 30.609375 -1.421875 \nQ 18.84375 -1.421875 12.171875 6.21875 \nQ 5.515625 13.875 5.515625 27.296875 \nQ 5.515625 40.765625 12.171875 48.375 \nQ 18.84375 56 30.609375 56 \nz\n\" id=\"DejaVuSans-111\"/>\n       <path d=\"M 48.78125 52.59375 \nL 48.78125 44.1875 \nQ 44.96875 46.296875 41.140625 47.34375 \nQ 37.3125 48.390625 33.40625 48.390625 \nQ 24.65625 48.390625 19.8125 42.84375 \nQ 14.984375 37.3125 14.984375 27.296875 \nQ 14.984375 17.28125 19.8125 11.734375 \nQ 24.65625 6.203125 33.40625 6.203125 \nQ 37.3125 6.203125 41.140625 7.25 \nQ 44.96875 8.296875 48.78125 10.40625 \nL 48.78125 2.09375 \nQ 45.015625 0.34375 40.984375 -0.53125 \nQ 36.96875 -1.421875 32.421875 -1.421875 \nQ 20.0625 -1.421875 12.78125 6.34375 \nQ 5.515625 14.109375 5.515625 27.296875 \nQ 5.515625 40.671875 12.859375 48.328125 \nQ 20.21875 56 33.015625 56 \nQ 37.15625 56 41.109375 55.140625 \nQ 45.0625 54.296875 48.78125 52.59375 \nz\n\" id=\"DejaVuSans-99\"/>\n       <path d=\"M 54.890625 33.015625 \nL 54.890625 0 \nL 45.90625 0 \nL 45.90625 32.71875 \nQ 45.90625 40.484375 42.875 44.328125 \nQ 39.84375 48.1875 33.796875 48.1875 \nQ 26.515625 48.1875 22.3125 43.546875 \nQ 18.109375 38.921875 18.109375 30.90625 \nL 18.109375 0 \nL 9.078125 0 \nL 9.078125 75.984375 \nL 18.109375 75.984375 \nL 18.109375 46.1875 \nQ 21.34375 51.125 25.703125 53.5625 \nQ 30.078125 56 35.796875 56 \nQ 45.21875 56 50.046875 50.171875 \nQ 54.890625 44.34375 54.890625 33.015625 \nz\n\" id=\"DejaVuSans-104\"/>\n       <path d=\"M 44.28125 53.078125 \nL 44.28125 44.578125 \nQ 40.484375 46.53125 36.375 47.5 \nQ 32.28125 48.484375 27.875 48.484375 \nQ 21.1875 48.484375 17.84375 46.4375 \nQ 14.5 44.390625 14.5 40.28125 \nQ 14.5 37.15625 16.890625 35.375 \nQ 19.28125 33.59375 26.515625 31.984375 \nL 29.59375 31.296875 \nQ 39.15625 29.25 43.1875 25.515625 \nQ 47.21875 21.78125 47.21875 15.09375 \nQ 47.21875 7.46875 41.1875 3.015625 \nQ 35.15625 -1.421875 24.609375 -1.421875 \nQ 20.21875 -1.421875 15.453125 -0.5625 \nQ 10.6875 0.296875 5.421875 2 \nL 5.421875 11.28125 \nQ 10.40625 8.6875 15.234375 7.390625 \nQ 20.0625 6.109375 24.8125 6.109375 \nQ 31.15625 6.109375 34.5625 8.28125 \nQ 37.984375 10.453125 37.984375 14.40625 \nQ 37.984375 18.0625 35.515625 20.015625 \nQ 33.0625 21.96875 24.703125 23.78125 \nL 21.578125 24.515625 \nQ 13.234375 26.265625 9.515625 29.90625 \nQ 5.8125 33.546875 5.8125 39.890625 \nQ 5.8125 47.609375 11.28125 51.796875 \nQ 16.75 56 26.8125 56 \nQ 31.78125 56 36.171875 55.265625 \nQ 40.578125 54.546875 44.28125 53.078125 \nz\n\" id=\"DejaVuSans-115\"/>\n      </defs>\n      <use xlink:href=\"#DejaVuSans-101\"/>\n      <use x=\"61.523438\" xlink:href=\"#DejaVuSans-112\"/>\n      <use x=\"125\" xlink:href=\"#DejaVuSans-111\"/>\n      <use x=\"186.181641\" xlink:href=\"#DejaVuSans-99\"/>\n      <use x=\"241.162109\" xlink:href=\"#DejaVuSans-104\"/>\n      <use x=\"304.541016\" xlink:href=\"#DejaVuSans-115\"/>\n     </g>\n    </g>\n   </g>\n   <g id=\"matplotlib.axis_2\">\n    <g id=\"ytick_1\">\n     <g id=\"line2d_7\">\n      <defs>\n       <path d=\"M 0 0 \nL -3.5 0 \n\" id=\"m63fd4595d5\" style=\"stroke:#000000;stroke-width:0.8;\"/>\n      </defs>\n      <g>\n       <use style=\"stroke:#000000;stroke-width:0.8;\" x=\"59.690625\" xlink:href=\"#m63fd4595d5\" y=\"204.157086\"/>\n      </g>\n     </g>\n     <g id=\"text_8\">\n      <!-- 4000 -->\n      <g transform=\"translate(27.240625 207.956304)scale(0.1 -0.1)\">\n       <use xlink:href=\"#DejaVuSans-52\"/>\n       <use x=\"63.623047\" xlink:href=\"#DejaVuSans-48\"/>\n       <use x=\"127.246094\" xlink:href=\"#DejaVuSans-48\"/>\n       <use x=\"190.869141\" xlink:href=\"#DejaVuSans-48\"/>\n      </g>\n     </g>\n    </g>\n    <g id=\"ytick_2\">\n     <g id=\"line2d_8\">\n      <g>\n       <use style=\"stroke:#000000;stroke-width:0.8;\" x=\"59.690625\" xlink:href=\"#m63fd4595d5\" y=\"164.114416\"/>\n      </g>\n     </g>\n     <g id=\"text_9\">\n      <!-- 6000 -->\n      <g transform=\"translate(27.240625 167.913634)scale(0.1 -0.1)\">\n       <defs>\n        <path d=\"M 33.015625 40.375 \nQ 26.375 40.375 22.484375 35.828125 \nQ 18.609375 31.296875 18.609375 23.390625 \nQ 18.609375 15.53125 22.484375 10.953125 \nQ 26.375 6.390625 33.015625 6.390625 \nQ 39.65625 6.390625 43.53125 10.953125 \nQ 47.40625 15.53125 47.40625 23.390625 \nQ 47.40625 31.296875 43.53125 35.828125 \nQ 39.65625 40.375 33.015625 40.375 \nz\nM 52.59375 71.296875 \nL 52.59375 62.3125 \nQ 48.875 64.0625 45.09375 64.984375 \nQ 41.3125 65.921875 37.59375 65.921875 \nQ 27.828125 65.921875 22.671875 59.328125 \nQ 17.53125 52.734375 16.796875 39.40625 \nQ 19.671875 43.65625 24.015625 45.921875 \nQ 28.375 48.1875 33.59375 48.1875 \nQ 44.578125 48.1875 50.953125 41.515625 \nQ 57.328125 34.859375 57.328125 23.390625 \nQ 57.328125 12.15625 50.6875 5.359375 \nQ 44.046875 -1.421875 33.015625 -1.421875 \nQ 20.359375 -1.421875 13.671875 8.265625 \nQ 6.984375 17.96875 6.984375 36.375 \nQ 6.984375 53.65625 15.1875 63.9375 \nQ 23.390625 74.21875 37.203125 74.21875 \nQ 40.921875 74.21875 44.703125 73.484375 \nQ 48.484375 72.75 52.59375 71.296875 \nz\n\" id=\"DejaVuSans-54\"/>\n       </defs>\n       <use xlink:href=\"#DejaVuSans-54\"/>\n       <use x=\"63.623047\" xlink:href=\"#DejaVuSans-48\"/>\n       <use x=\"127.246094\" xlink:href=\"#DejaVuSans-48\"/>\n       <use x=\"190.869141\" xlink:href=\"#DejaVuSans-48\"/>\n      </g>\n     </g>\n    </g>\n    <g id=\"ytick_3\">\n     <g id=\"line2d_9\">\n      <g>\n       <use style=\"stroke:#000000;stroke-width:0.8;\" x=\"59.690625\" xlink:href=\"#m63fd4595d5\" y=\"124.071746\"/>\n      </g>\n     </g>\n     <g id=\"text_10\">\n      <!-- 8000 -->\n      <g transform=\"translate(27.240625 127.870964)scale(0.1 -0.1)\">\n       <defs>\n        <path d=\"M 31.78125 34.625 \nQ 24.75 34.625 20.71875 30.859375 \nQ 16.703125 27.09375 16.703125 20.515625 \nQ 16.703125 13.921875 20.71875 10.15625 \nQ 24.75 6.390625 31.78125 6.390625 \nQ 38.8125 6.390625 42.859375 10.171875 \nQ 46.921875 13.96875 46.921875 20.515625 \nQ 46.921875 27.09375 42.890625 30.859375 \nQ 38.875 34.625 31.78125 34.625 \nz\nM 21.921875 38.8125 \nQ 15.578125 40.375 12.03125 44.71875 \nQ 8.5 49.078125 8.5 55.328125 \nQ 8.5 64.0625 14.71875 69.140625 \nQ 20.953125 74.21875 31.78125 74.21875 \nQ 42.671875 74.21875 48.875 69.140625 \nQ 55.078125 64.0625 55.078125 55.328125 \nQ 55.078125 49.078125 51.53125 44.71875 \nQ 48 40.375 41.703125 38.8125 \nQ 48.828125 37.15625 52.796875 32.3125 \nQ 56.78125 27.484375 56.78125 20.515625 \nQ 56.78125 9.90625 50.3125 4.234375 \nQ 43.84375 -1.421875 31.78125 -1.421875 \nQ 19.734375 -1.421875 13.25 4.234375 \nQ 6.78125 9.90625 6.78125 20.515625 \nQ 6.78125 27.484375 10.78125 32.3125 \nQ 14.796875 37.15625 21.921875 38.8125 \nz\nM 18.3125 54.390625 \nQ 18.3125 48.734375 21.84375 45.5625 \nQ 25.390625 42.390625 31.78125 42.390625 \nQ 38.140625 42.390625 41.71875 45.5625 \nQ 45.3125 48.734375 45.3125 54.390625 \nQ 45.3125 60.0625 41.71875 63.234375 \nQ 38.140625 66.40625 31.78125 66.40625 \nQ 25.390625 66.40625 21.84375 63.234375 \nQ 18.3125 60.0625 18.3125 54.390625 \nz\n\" id=\"DejaVuSans-56\"/>\n       </defs>\n       <use xlink:href=\"#DejaVuSans-56\"/>\n       <use x=\"63.623047\" xlink:href=\"#DejaVuSans-48\"/>\n       <use x=\"127.246094\" xlink:href=\"#DejaVuSans-48\"/>\n       <use x=\"190.869141\" xlink:href=\"#DejaVuSans-48\"/>\n      </g>\n     </g>\n    </g>\n    <g id=\"ytick_4\">\n     <g id=\"line2d_10\">\n      <g>\n       <use style=\"stroke:#000000;stroke-width:0.8;\" x=\"59.690625\" xlink:href=\"#m63fd4595d5\" y=\"84.029076\"/>\n      </g>\n     </g>\n     <g id=\"text_11\">\n      <!-- 10000 -->\n      <g transform=\"translate(20.878125 87.828294)scale(0.1 -0.1)\">\n       <use xlink:href=\"#DejaVuSans-49\"/>\n       <use x=\"63.623047\" xlink:href=\"#DejaVuSans-48\"/>\n       <use x=\"127.246094\" xlink:href=\"#DejaVuSans-48\"/>\n       <use x=\"190.869141\" xlink:href=\"#DejaVuSans-48\"/>\n       <use x=\"254.492188\" xlink:href=\"#DejaVuSans-48\"/>\n      </g>\n     </g>\n    </g>\n    <g id=\"ytick_5\">\n     <g id=\"line2d_11\">\n      <g>\n       <use style=\"stroke:#000000;stroke-width:0.8;\" x=\"59.690625\" xlink:href=\"#m63fd4595d5\" y=\"43.986406\"/>\n      </g>\n     </g>\n     <g id=\"text_12\">\n      <!-- 12000 -->\n      <g transform=\"translate(20.878125 47.785625)scale(0.1 -0.1)\">\n       <use xlink:href=\"#DejaVuSans-49\"/>\n       <use x=\"63.623047\" xlink:href=\"#DejaVuSans-50\"/>\n       <use x=\"127.246094\" xlink:href=\"#DejaVuSans-48\"/>\n       <use x=\"190.869141\" xlink:href=\"#DejaVuSans-48\"/>\n       <use x=\"254.492188\" xlink:href=\"#DejaVuSans-48\"/>\n      </g>\n     </g>\n    </g>\n    <g id=\"text_13\">\n     <!-- loss -->\n     <g transform=\"translate(14.798438 125.577813)rotate(-90)scale(0.1 -0.1)\">\n      <defs>\n       <path d=\"M 9.421875 75.984375 \nL 18.40625 75.984375 \nL 18.40625 0 \nL 9.421875 0 \nz\n\" id=\"DejaVuSans-108\"/>\n      </defs>\n      <use xlink:href=\"#DejaVuSans-108\"/>\n      <use x=\"27.783203\" xlink:href=\"#DejaVuSans-111\"/>\n      <use x=\"88.964844\" xlink:href=\"#DejaVuSans-115\"/>\n      <use x=\"141.064453\" xlink:href=\"#DejaVuSans-115\"/>\n     </g>\n    </g>\n   </g>\n   <g id=\"line2d_12\">\n    <path clip-path=\"url(#p09fab68f55)\" d=\"M 74.908807 17.083636 \nL 75.518754 17.270984 \nL 76.128701 17.731553 \nL 76.738648 18.680064 \nL 77.348595 20.34205 \nL 77.958543 22.947463 \nL 78.56849 26.703634 \nL 79.178437 31.807842 \nL 79.788384 38.459872 \nL 81.008278 56.31421 \nL 83.448067 95.672812 \nL 84.667961 110.660599 \nL 85.277909 116.150922 \nL 85.887856 120.20448 \nL 86.497803 123.02042 \nL 87.10775 125.117176 \nL 88.327644 127.70117 \nL 88.937592 128.749455 \nL 89.547539 129.531274 \nL 90.767433 131.433536 \nL 94.427116 136.7907 \nL 97.476852 141.90006 \nL 99.916641 146.599677 \nL 101.746482 150.698762 \nL 103.576324 155.29926 \nL 105.406165 160.534908 \nL 107.236007 166.60148 \nL 109.675795 175.858434 \nL 115.16532 198.020879 \nL 116.385214 201.937357 \nL 117.605109 205.175666 \nL 118.825003 207.538951 \nL 119.43495 208.451936 \nL 120.654844 209.576777 \nL 121.264792 209.985533 \nL 122.484686 210.430269 \nL 123.70458 210.70437 \nL 138.343312 211.701038 \nL 145.662678 212.124247 \nL 146.272625 212.197631 \nL 146.882573 212.15012 \nL 149.932308 212.418741 \nL 159.691463 213.013002 \nL 161.521305 213.058764 \nL 163.961093 213.199299 \nL 189.578874 214.333799 \nL 190.798769 214.195625 \nL 191.408716 214.389865 \nL 193.848504 214.438901 \nL 195.678346 214.558863 \nL 197.508187 214.626308 \nL 199.947976 214.701852 \nL 202.387765 214.706696 \nL 208.487236 214.733942 \nL 209.707131 214.696691 \nL 212.756867 214.735687 \nL 214.586708 214.680726 \nL 216.41655 214.724572 \nL 226.785651 214.722876 \nL 229.835387 214.713496 \nL 231.055282 214.654839 \nL 232.275176 214.686147 \nL 234.105017 214.714385 \nL 379.272443 214.618243 \nL 379.272443 214.618243 \n\" style=\"fill:none;stroke:#1f77b4;stroke-linecap:square;stroke-width:1.5;\"/>\n   </g>\n   <g id=\"line2d_13\">\n    <path clip-path=\"url(#p09fab68f55)\" d=\"M 74.908807 17.083636 \nL 75.518754 17.270984 \nL 76.128701 17.731553 \nL 76.738648 18.680064 \nL 77.348595 20.34205 \nL 77.958543 22.947463 \nL 78.56849 26.703634 \nL 79.178437 31.807842 \nL 79.788384 38.459872 \nL 81.008278 56.31421 \nL 83.448067 95.672812 \nL 84.667961 110.660599 \nL 85.277909 116.150922 \nL 85.887856 120.20448 \nL 86.497803 123.02042 \nL 87.10775 125.117176 \nL 88.327644 127.70117 \nL 88.937592 128.749455 \nL 89.547539 129.531274 \nL 90.767433 131.433536 \nL 94.427116 136.7907 \nL 97.476852 141.90006 \nL 99.916641 146.599677 \nL 101.746482 150.698762 \nL 103.576324 155.29926 \nL 105.406165 160.534908 \nL 107.236007 166.60148 \nL 109.675795 175.858434 \nL 115.16532 198.020879 \nL 116.385214 201.937357 \nL 117.605109 205.175666 \nL 118.825003 207.538951 \nL 119.43495 208.451936 \nL 120.654844 209.576777 \nL 121.264792 209.985533 \nL 122.484686 210.430269 \nL 123.70458 210.70437 \nL 138.343312 211.701038 \nL 145.662678 212.124247 \nL 146.272625 212.197631 \nL 146.882573 212.15012 \nL 149.932308 212.418741 \nL 159.691463 213.013002 \nL 161.521305 213.058764 \nL 163.961093 213.199299 \nL 189.578874 214.333799 \nL 190.798769 214.195625 \nL 191.408716 214.389865 \nL 193.848504 214.438901 \nL 195.678346 214.558863 \nL 197.508187 214.626308 \nL 199.947976 214.701852 \nL 202.387765 214.706696 \nL 208.487236 214.733942 \nL 209.707131 214.696691 \nL 212.756867 214.735687 \nL 214.586708 214.680726 \nL 216.41655 214.724572 \nL 226.785651 214.722876 \nL 229.835387 214.713496 \nL 231.055282 214.654839 \nL 232.275176 214.686147 \nL 234.105017 214.714385 \nL 379.272443 214.618243 \nL 379.272443 214.618243 \n\" style=\"fill:none;stroke:#ff7f0e;stroke-linecap:square;stroke-width:1.5;\"/>\n   </g>\n   <g id=\"patch_3\">\n    <path d=\"M 59.690625 224.64 \nL 59.690625 7.2 \n\" style=\"fill:none;stroke:#000000;stroke-linecap:square;stroke-linejoin:miter;stroke-width:0.8;\"/>\n   </g>\n   <g id=\"patch_4\">\n    <path d=\"M 394.490625 224.64 \nL 394.490625 7.2 \n\" style=\"fill:none;stroke:#000000;stroke-linecap:square;stroke-linejoin:miter;stroke-width:0.8;\"/>\n   </g>\n   <g id=\"patch_5\">\n    <path d=\"M 59.690625 224.64 \nL 394.490625 224.64 \n\" style=\"fill:none;stroke:#000000;stroke-linecap:square;stroke-linejoin:miter;stroke-width:0.8;\"/>\n   </g>\n   <g id=\"patch_6\">\n    <path d=\"M 59.690625 7.2 \nL 394.490625 7.2 \n\" style=\"fill:none;stroke:#000000;stroke-linecap:square;stroke-linejoin:miter;stroke-width:0.8;\"/>\n   </g>\n   <g id=\"legend_1\">\n    <g id=\"patch_7\">\n     <path d=\"M 249.932813 44.834375 \nL 387.490625 44.834375 \nQ 389.490625 44.834375 389.490625 42.834375 \nL 389.490625 14.2 \nQ 389.490625 12.2 387.490625 12.2 \nL 249.932813 12.2 \nQ 247.932813 12.2 247.932813 14.2 \nL 247.932813 42.834375 \nQ 247.932813 44.834375 249.932813 44.834375 \nz\n\" style=\"fill:#ffffff;opacity:0.8;stroke:#cccccc;stroke-linejoin:miter;\"/>\n    </g>\n    <g id=\"line2d_14\">\n     <path d=\"M 251.932813 20.298438 \nL 271.932813 20.298438 \n\" style=\"fill:none;stroke:#1f77b4;stroke-linecap:square;stroke-width:1.5;\"/>\n    </g>\n    <g id=\"line2d_15\"/>\n    <g id=\"text_14\">\n     <!-- loss -->\n     <g transform=\"translate(279.932813 23.798438)scale(0.1 -0.1)\">\n      <use xlink:href=\"#DejaVuSans-108\"/>\n      <use x=\"27.783203\" xlink:href=\"#DejaVuSans-111\"/>\n      <use x=\"88.964844\" xlink:href=\"#DejaVuSans-115\"/>\n      <use x=\"141.064453\" xlink:href=\"#DejaVuSans-115\"/>\n     </g>\n    </g>\n    <g id=\"line2d_16\">\n     <path d=\"M 251.932813 34.976563 \nL 271.932813 34.976563 \n\" style=\"fill:none;stroke:#ff7f0e;stroke-linecap:square;stroke-width:1.5;\"/>\n    </g>\n    <g id=\"line2d_17\"/>\n    <g id=\"text_15\">\n     <!-- mean_absolute_error -->\n     <g transform=\"translate(279.932813 38.476563)scale(0.1 -0.1)\">\n      <defs>\n       <path d=\"M 52 44.1875 \nQ 55.375 50.25 60.0625 53.125 \nQ 64.75 56 71.09375 56 \nQ 79.640625 56 84.28125 50.015625 \nQ 88.921875 44.046875 88.921875 33.015625 \nL 88.921875 0 \nL 79.890625 0 \nL 79.890625 32.71875 \nQ 79.890625 40.578125 77.09375 44.375 \nQ 74.3125 48.1875 68.609375 48.1875 \nQ 61.625 48.1875 57.5625 43.546875 \nQ 53.515625 38.921875 53.515625 30.90625 \nL 53.515625 0 \nL 44.484375 0 \nL 44.484375 32.71875 \nQ 44.484375 40.625 41.703125 44.40625 \nQ 38.921875 48.1875 33.109375 48.1875 \nQ 26.21875 48.1875 22.15625 43.53125 \nQ 18.109375 38.875 18.109375 30.90625 \nL 18.109375 0 \nL 9.078125 0 \nL 9.078125 54.6875 \nL 18.109375 54.6875 \nL 18.109375 46.1875 \nQ 21.1875 51.21875 25.484375 53.609375 \nQ 29.78125 56 35.6875 56 \nQ 41.65625 56 45.828125 52.96875 \nQ 50 49.953125 52 44.1875 \nz\n\" id=\"DejaVuSans-109\"/>\n       <path d=\"M 34.28125 27.484375 \nQ 23.390625 27.484375 19.1875 25 \nQ 14.984375 22.515625 14.984375 16.5 \nQ 14.984375 11.71875 18.140625 8.90625 \nQ 21.296875 6.109375 26.703125 6.109375 \nQ 34.1875 6.109375 38.703125 11.40625 \nQ 43.21875 16.703125 43.21875 25.484375 \nL 43.21875 27.484375 \nz\nM 52.203125 31.203125 \nL 52.203125 0 \nL 43.21875 0 \nL 43.21875 8.296875 \nQ 40.140625 3.328125 35.546875 0.953125 \nQ 30.953125 -1.421875 24.3125 -1.421875 \nQ 15.921875 -1.421875 10.953125 3.296875 \nQ 6 8.015625 6 15.921875 \nQ 6 25.140625 12.171875 29.828125 \nQ 18.359375 34.515625 30.609375 34.515625 \nL 43.21875 34.515625 \nL 43.21875 35.40625 \nQ 43.21875 41.609375 39.140625 45 \nQ 35.0625 48.390625 27.6875 48.390625 \nQ 23 48.390625 18.546875 47.265625 \nQ 14.109375 46.140625 10.015625 43.890625 \nL 10.015625 52.203125 \nQ 14.9375 54.109375 19.578125 55.046875 \nQ 24.21875 56 28.609375 56 \nQ 40.484375 56 46.34375 49.84375 \nQ 52.203125 43.703125 52.203125 31.203125 \nz\n\" id=\"DejaVuSans-97\"/>\n       <path d=\"M 54.890625 33.015625 \nL 54.890625 0 \nL 45.90625 0 \nL 45.90625 32.71875 \nQ 45.90625 40.484375 42.875 44.328125 \nQ 39.84375 48.1875 33.796875 48.1875 \nQ 26.515625 48.1875 22.3125 43.546875 \nQ 18.109375 38.921875 18.109375 30.90625 \nL 18.109375 0 \nL 9.078125 0 \nL 9.078125 54.6875 \nL 18.109375 54.6875 \nL 18.109375 46.1875 \nQ 21.34375 51.125 25.703125 53.5625 \nQ 30.078125 56 35.796875 56 \nQ 45.21875 56 50.046875 50.171875 \nQ 54.890625 44.34375 54.890625 33.015625 \nz\n\" id=\"DejaVuSans-110\"/>\n       <path d=\"M 50.984375 -16.609375 \nL 50.984375 -23.578125 \nL -0.984375 -23.578125 \nL -0.984375 -16.609375 \nz\n\" id=\"DejaVuSans-95\"/>\n       <path d=\"M 48.6875 27.296875 \nQ 48.6875 37.203125 44.609375 42.84375 \nQ 40.53125 48.484375 33.40625 48.484375 \nQ 26.265625 48.484375 22.1875 42.84375 \nQ 18.109375 37.203125 18.109375 27.296875 \nQ 18.109375 17.390625 22.1875 11.75 \nQ 26.265625 6.109375 33.40625 6.109375 \nQ 40.53125 6.109375 44.609375 11.75 \nQ 48.6875 17.390625 48.6875 27.296875 \nz\nM 18.109375 46.390625 \nQ 20.953125 51.265625 25.265625 53.625 \nQ 29.59375 56 35.59375 56 \nQ 45.5625 56 51.78125 48.09375 \nQ 58.015625 40.1875 58.015625 27.296875 \nQ 58.015625 14.40625 51.78125 6.484375 \nQ 45.5625 -1.421875 35.59375 -1.421875 \nQ 29.59375 -1.421875 25.265625 0.953125 \nQ 20.953125 3.328125 18.109375 8.203125 \nL 18.109375 0 \nL 9.078125 0 \nL 9.078125 75.984375 \nL 18.109375 75.984375 \nz\n\" id=\"DejaVuSans-98\"/>\n       <path d=\"M 8.5 21.578125 \nL 8.5 54.6875 \nL 17.484375 54.6875 \nL 17.484375 21.921875 \nQ 17.484375 14.15625 20.5 10.265625 \nQ 23.53125 6.390625 29.59375 6.390625 \nQ 36.859375 6.390625 41.078125 11.03125 \nQ 45.3125 15.671875 45.3125 23.6875 \nL 45.3125 54.6875 \nL 54.296875 54.6875 \nL 54.296875 0 \nL 45.3125 0 \nL 45.3125 8.40625 \nQ 42.046875 3.421875 37.71875 1 \nQ 33.40625 -1.421875 27.6875 -1.421875 \nQ 18.265625 -1.421875 13.375 4.4375 \nQ 8.5 10.296875 8.5 21.578125 \nz\nM 31.109375 56 \nz\n\" id=\"DejaVuSans-117\"/>\n       <path d=\"M 18.3125 70.21875 \nL 18.3125 54.6875 \nL 36.8125 54.6875 \nL 36.8125 47.703125 \nL 18.3125 47.703125 \nL 18.3125 18.015625 \nQ 18.3125 11.328125 20.140625 9.421875 \nQ 21.96875 7.515625 27.59375 7.515625 \nL 36.8125 7.515625 \nL 36.8125 0 \nL 27.59375 0 \nQ 17.1875 0 13.234375 3.875 \nQ 9.28125 7.765625 9.28125 18.015625 \nL 9.28125 47.703125 \nL 2.6875 47.703125 \nL 2.6875 54.6875 \nL 9.28125 54.6875 \nL 9.28125 70.21875 \nz\n\" id=\"DejaVuSans-116\"/>\n       <path d=\"M 41.109375 46.296875 \nQ 39.59375 47.171875 37.8125 47.578125 \nQ 36.03125 48 33.890625 48 \nQ 26.265625 48 22.1875 43.046875 \nQ 18.109375 38.09375 18.109375 28.8125 \nL 18.109375 0 \nL 9.078125 0 \nL 9.078125 54.6875 \nL 18.109375 54.6875 \nL 18.109375 46.1875 \nQ 20.953125 51.171875 25.484375 53.578125 \nQ 30.03125 56 36.53125 56 \nQ 37.453125 56 38.578125 55.875 \nQ 39.703125 55.765625 41.0625 55.515625 \nz\n\" id=\"DejaVuSans-114\"/>\n      </defs>\n      <use xlink:href=\"#DejaVuSans-109\"/>\n      <use x=\"97.412109\" xlink:href=\"#DejaVuSans-101\"/>\n      <use x=\"158.935547\" xlink:href=\"#DejaVuSans-97\"/>\n      <use x=\"220.214844\" xlink:href=\"#DejaVuSans-110\"/>\n      <use x=\"283.59375\" xlink:href=\"#DejaVuSans-95\"/>\n      <use x=\"333.59375\" xlink:href=\"#DejaVuSans-97\"/>\n      <use x=\"394.873047\" xlink:href=\"#DejaVuSans-98\"/>\n      <use x=\"458.349609\" xlink:href=\"#DejaVuSans-115\"/>\n      <use x=\"510.449219\" xlink:href=\"#DejaVuSans-111\"/>\n      <use x=\"571.630859\" xlink:href=\"#DejaVuSans-108\"/>\n      <use x=\"599.414062\" xlink:href=\"#DejaVuSans-117\"/>\n      <use x=\"662.792969\" xlink:href=\"#DejaVuSans-116\"/>\n      <use x=\"702.001953\" xlink:href=\"#DejaVuSans-101\"/>\n      <use x=\"763.525391\" xlink:href=\"#DejaVuSans-95\"/>\n      <use x=\"813.525391\" xlink:href=\"#DejaVuSans-101\"/>\n      <use x=\"875.048828\" xlink:href=\"#DejaVuSans-114\"/>\n      <use x=\"914.412109\" xlink:href=\"#DejaVuSans-114\"/>\n      <use x=\"953.275391\" xlink:href=\"#DejaVuSans-111\"/>\n      <use x=\"1014.457031\" xlink:href=\"#DejaVuSans-114\"/>\n     </g>\n    </g>\n   </g>\n  </g>\n </g>\n <defs>\n  <clipPath id=\"p09fab68f55\">\n   <rect height=\"217.44\" width=\"334.8\" x=\"59.690625\" y=\"7.2\"/>\n  </clipPath>\n </defs>\n</svg>\n",
      "image/png": "[encoded data removed]"
     },
     "metadata": {
      "needs_background": "light"
     }
    }
   ],
   "source": [
    "# Plot history (also known as a loss curve or a training curve)\n",
    "pd.DataFrame(history.history).plot()\n",
    "plt.ylabel(\"loss\")\n",
    "plt.xlabel(\"epochs\")"
   ]
  }
 ]
}