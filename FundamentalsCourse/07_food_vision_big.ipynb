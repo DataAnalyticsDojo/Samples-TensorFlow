{
 "metadata": {
  "language_info": {
   "codemirror_mode": {
    "name": "ipython",
    "version": 3
   },
   "file_extension": ".py",
   "mimetype": "text/x-python",
   "name": "python",
   "nbconvert_exporter": "python",
   "pygments_lexer": "ipython3",
   "version": "3.8.8"
  },
  "orig_nbformat": 2,
  "kernelspec": {
   "name": "python388jvsc74a57bd03379e8676e9631a4a1e94b23c6f48e2a21e107e996b6372d116f44d0b3df3f41",
   "display_name": "Python 3.8.8 64-bit"
  },
  "metadata": {
   "interpreter": {
    "hash": "3379e8676e9631a4a1e94b23c6f48e2a21e107e996b6372d116f44d0b3df3f41"
   }
  }
 },
 "nbformat": 4,
 "nbformat_minor": 2,
 "cells": [
  {
   "source": [
    "# Food Vision Big\n",
    "\n",
    "In this workbook we will use all of the data from the Food101 DataSet to train our model.\n",
    "\n",
    "Out goal is to beat the original [Food101 paper](https://data.vision.ee.ethz.ch/cvl/datasets_extra/food-101/static/bossard_eccv14_food-101.pdf) with 10% of the training (leveraging the power of deep learning). Their accuracy was 50.76%.\n",
    "\n",
    "More details [here](https://data.vision.ee.ethz.ch/cvl/datasets_extra/food-101/).\n"
   ],
   "cell_type": "markdown",
   "metadata": {}
  },
  {
   "source": [
    "# Setup Notebook Imports and Ensure Correct Versions of Software"
   ],
   "cell_type": "markdown",
   "metadata": {}
  },
  {
   "cell_type": "code",
   "execution_count": 1,
   "metadata": {},
   "outputs": [],
   "source": [
    "import sklearn\n",
    "from sklearn.model_selection import train_test_split\n",
    "from sklearn.compose import make_column_transformer\n",
    "from sklearn.preprocessing import MinMaxScaler, OneHotEncoder\n",
    "from sklearn.metrics import confusion_matrix\n",
    "from sklearn.metrics import classification_report\n",
    "import tensorflow as tf\n",
    "import matplotlib.pyplot as plt\n",
    "import matplotlib.image as mpimg\n",
    "import pandas as pd\n",
    "import numpy as np\n",
    "from tensorflow.keras.preprocessing.image import ImageDataGenerator\n",
    "import zipfile\n",
    "import sys\n",
    "import os\n",
    "import pathlib\n",
    "import random\n",
    "import urllib.request\n",
    "import datetime\n"
   ]
  },
  {
   "cell_type": "code",
   "execution_count": 2,
   "metadata": {},
   "outputs": [
    {
     "output_type": "stream",
     "name": "stdout",
     "text": [
      "Setting Up Libraries\n",
      "\n",
      "Python Version: 3.8.8 (tags/v3.8.8:024d805, Feb 19 2021, 13:18:16) [MSC v.1928 64 bit (AMD64)]\n",
      "\n",
      "\n",
      "Tensorflow Version: 2.4.1\n",
      "\n",
      "\n",
      "SciKit Learn Versions:\n",
      "\n",
      "System:\n",
      "    python: 3.8.8 (tags/v3.8.8:024d805, Feb 19 2021, 13:18:16) [MSC v.1928 64 bit (AMD64)]\n",
      "executable: C:\\Users\\timar\\AppData\\Local\\Programs\\Python\\Python38\\python.exe\n",
      "   machine: Windows-10-10.0.19041-SP0\n",
      "\n",
      "Python dependencies:\n",
      "          pip: 21.0.1\n",
      "   setuptools: 49.2.1\n",
      "      sklearn: 0.24.1\n",
      "        numpy: 1.19.5\n",
      "        scipy: 1.6.2\n",
      "       Cython: None\n",
      "       pandas: 1.2.3\n",
      "   matplotlib: 3.4.1\n",
      "       joblib: 1.0.1\n",
      "threadpoolctl: 2.1.0\n",
      "\n",
      "Built with OpenMP: True\n",
      "C:\\Users\\timar\\AppData\\Local\\Programs\\Python\\Python38\\lib\\site-packages\\setuptools\\distutils_patch.py:25: UserWarning: Distutils was imported before Setuptools. This usage is discouraged and may exhibit undesirable behaviors or errors. Please use Setuptools' objects directly or at least import Setuptools first.\n",
      "  warnings.warn(\n",
      "\n",
      "\n",
      "GPU Device Name: /device:GPU:0, Physical GPU Device List: [PhysicalDevice(name='/physical_device:GPU:0', device_type='GPU')]\n",
      "Default GPU Device:/device:GPU:0\n"
     ]
    }
   ],
   "source": [
    "import helpers.tf_classification_helper_functions as helpers\n",
    "import imp\n",
    "imp.reload(helpers)\n",
    "helpers.show_environment()\n",
    "helpers.show_gpu_info()"
   ]
  },
  {
   "cell_type": "code",
   "execution_count": 3,
   "metadata": {},
   "outputs": [
    {
     "output_type": "stream",
     "name": "stdout",
     "text": [
      "GPU 0: GeForce RTX 2080 Ti (UUID: GPU-30bd7d38-6b4b-ccf0-e238-1cb4edd477dd)\n",
      "Sun Apr 18 22:27:58 2021       \n",
      "+-----------------------------------------------------------------------------+\n",
      "| NVIDIA-SMI 461.72       Driver Version: 461.72       CUDA Version: 11.2     |\n",
      "|-------------------------------+----------------------+----------------------+\n",
      "| GPU  Name            TCC/WDDM | Bus-Id        Disp.A | Volatile Uncorr. ECC |\n",
      "| Fan  Temp  Perf  Pwr:Usage/Cap|         Memory-Usage | GPU-Util  Compute M. |\n",
      "|                               |                      |               MIG M. |\n",
      "|===============================+======================+======================|\n",
      "|   0  GeForce RTX 208... WDDM  | 00000000:2C:00.0  On |                  N/A |\n",
      "|  0%   36C    P2    61W / 300W |    969MiB / 11264MiB |     21%      Default |\n",
      "|                               |                      |                  N/A |\n",
      "+-------------------------------+----------------------+----------------------+\n",
      "                                                                               \n",
      "+-----------------------------------------------------------------------------+\n",
      "| Processes:                                                                  |\n",
      "|  GPU   GI   CI        PID   Type   Process name                  GPU Memory |\n",
      "|        ID   ID                                                   Usage      |\n",
      "|=============================================================================|\n",
      "|    0   N/A  N/A      1384    C+G   Insufficient Permissions        N/A      |\n",
      "|    0   N/A  N/A      4316    C+G   Insufficient Permissions        N/A      |\n",
      "|    0   N/A  N/A      5864    C+G   ...perience\\NVIDIA Share.exe    N/A      |\n",
      "|    0   N/A  N/A      8208    C+G   ...wekyb3d8bbwe\\Video.UI.exe    N/A      |\n",
      "|    0   N/A  N/A      8696    C+G   C:\\Windows\\explorer.exe         N/A      |\n",
      "|    0   N/A  N/A     10496    C+G   ...b3d8bbwe\\WinStore.App.exe    N/A      |\n",
      "|    0   N/A  N/A     11856    C+G   ...artMenuExperienceHost.exe    N/A      |\n",
      "|    0   N/A  N/A     12872    C+G   ...5n1h2txyewy\\SearchApp.exe    N/A      |\n",
      "|    0   N/A  N/A     13908    C+G   ...nputApp\\TextInputHost.exe    N/A      |\n",
      "|    0   N/A  N/A     14008    C+G   ...cw5n1h2txyewy\\LockApp.exe    N/A      |\n",
      "|    0   N/A  N/A     14180    C+G   ...ekyb3d8bbwe\\YourPhone.exe    N/A      |\n",
      "|    0   N/A  N/A     15144    C+G   ...perience\\NVIDIA Share.exe    N/A      |\n",
      "|    0   N/A  N/A     16796    C+G   ...y\\ShellExperienceHost.exe    N/A      |\n",
      "|    0   N/A  N/A     16968    C+G   ...StreamDeck\\StreamDeck.exe    N/A      |\n",
      "|    0   N/A  N/A     17320    C+G   ...\\Snagit 2021\\Snagit32.exe    N/A      |\n",
      "|    0   N/A  N/A     17436    C+G   ...bbwe\\Microsoft.Photos.exe    N/A      |\n",
      "|    0   N/A  N/A     18028    C+G   ...git 2021\\SnagitEditor.exe    N/A      |\n",
      "|    0   N/A  N/A     19016    C+G   ...n64\\EpicGamesLauncher.exe    N/A      |\n",
      "|    0   N/A  N/A     19560    C+G   ...s\\Win64\\EpicWebHelper.exe    N/A      |\n",
      "|    0   N/A  N/A     19948    C+G   ...in7x64\\steamwebhelper.exe    N/A      |\n",
      "|    0   N/A  N/A     22436    C+G   ...\\app-1.0.9001\\Discord.exe    N/A      |\n",
      "|    0   N/A  N/A     23172    C+G   ...hoto\\Ttp.Windows.Tray.exe    N/A      |\n",
      "|    0   N/A  N/A     23540    C+G   ...IR iCUE Software\\iCUE.exe    N/A      |\n",
      "|    0   N/A  N/A     24020    C+G   ...batNotificationClient.exe    N/A      |\n",
      "|    0   N/A  N/A     24092    C+G   ...lPanel\\SystemSettings.exe    N/A      |\n",
      "|    0   N/A  N/A     24960      C   ...ocateDetectionService.exe    N/A      |\n",
      "|    0   N/A  N/A     26940    C+G   ...kyb3d8bbwe\\Calculator.exe    N/A      |\n",
      "|    0   N/A  N/A     29004      C   ...ython\\Python38\\python.exe    N/A      |\n",
      "|    0   N/A  N/A     34924    C+G   ...icrosoft VS Code\\Code.exe    N/A      |\n",
      "+-----------------------------------------------------------------------------+\n"
     ]
    }
   ],
   "source": [
    "# See what GPUs we have\n",
    "!nvidia-smi -L\n",
    "!nvidia-smi"
   ]
  },
  {
   "source": [
    "# Setup Notebook Variables"
   ],
   "cell_type": "markdown",
   "metadata": {}
  },
  {
   "cell_type": "code",
   "execution_count": 4,
   "metadata": {},
   "outputs": [],
   "source": [
    "#\n",
    "# #Setup variables for our data\n",
    "#\n",
    "if os.name == \"nt\":\n",
    "    base_data_dir = \"C:/Users/timar/tensorflow_datasets/food101\"\n",
    "else:\n",
    "    base_data_dir = \"/home/pi/tensorflow_datasets/food101\"\n",
    "\n",
    "#zip_download_file = f\"{base_data_dir}/101_food_classes_10_percent.zip\"\n",
    "#zip_extract_location = base_data_dir\n",
    "#data_dir = f\"{base_data_dir}/101_food_classes_10_percent\"\n",
    "\n",
    "#train_data_dir = data_dir + \"/train\"\n",
    "#test_data_dir = data_dir + \"/test\"\n",
    "\n",
    "#data_source_url = \"https://storage.googleapis.com/ztm_tf_course/food_vision/101_food_classes_10_percent.zip\"\n",
    "\n",
    "#\n",
    "# Setup variables for our model training\n",
    "#\n",
    "# Create a tensorboard callback\n",
    "if os.name == \"nt\":\n",
    "    base_model_dir = \"c:/temp/data/06_models\"\n",
    "else:\n",
    "    base_model_dir = \"/home/pi/Dev/data/06_models\"\n",
    "\n",
    "tensorboard_dir = base_model_dir + \"/tensorboard\"\n",
    "model_checkpoint_dir = base_model_dir + \"/checkpoints\"\n",
    "saved_model_dir = base_model_dir + \"/saved\""
   ]
  },
  {
   "source": [
    "# Download the Data\n",
    "\n",
    "We will use TensorFlow DataSets to load our data.\n"
   ],
   "cell_type": "markdown",
   "metadata": {}
  },
  {
   "cell_type": "code",
   "execution_count": 5,
   "metadata": {},
   "outputs": [
    {
     "output_type": "stream",
     "name": "stdout",
     "text": [
      "True\n"
     ]
    }
   ],
   "source": [
    "# Get TensorFlow Datasets\n",
    "import tensorflow_datasets as tfds\n",
    "# List available datasets\n",
    "datasets_list = tfds.list_builders() # get all available datasets in TFDS\n",
    "print(\"food101\" in datasets_list) # is the dataset we're after available?\n"
   ]
  },
  {
   "cell_type": "code",
   "execution_count": 7,
   "metadata": {
    "tags": [
     "outputPrepend"
    ]
   },
   "outputs": [
    {
     "output_type": "stream",
     "name": "stderr",
     "text": [
      "erating validation examples...: 22821 examples [00:23, 224.79 examples/s]\u001b[A\u001b[A\n",
      "\n",
      "Generating validation examples...: 22844 examples [00:23, 220.48 examples/s]\u001b[A\u001b[A\n",
      "\n",
      "Generating validation examples...: 22867 examples [00:23, 220.36 examples/s]\u001b[A\u001b[A\n",
      "\n",
      "Generating validation examples...: 22891 examples [00:23, 224.77 examples/s]\u001b[A\u001b[A\n",
      "\n",
      "Generating validation examples...: 22915 examples [00:23, 228.22 examples/s]\u001b[A\u001b[A\n",
      "\n",
      "Generating validation examples...: 22939 examples [00:23, 229.32 examples/s]\u001b[A\u001b[A\n",
      "\n",
      "Generating validation examples...: 22962 examples [00:23, 228.85 examples/s]\u001b[A\u001b[A\n",
      "\n",
      "Generating validation examples...: 22985 examples [00:23, 222.95 examples/s]\u001b[A\u001b[A\n",
      "\n",
      "Generating validation examples...: 23009 examples [00:24, 226.26 examples/s]\u001b[A\u001b[A\n",
      "\n",
      "Generating validation examples...: 23032 examples [00:24, 227.02 examples/s]\u001b[A\u001b[A\n",
      "\n",
      "Generating validation examples...: 23055 examples [00:24, 226.23 examples/s]\u001b[A\u001b[A\n",
      "\n",
      "Generating validation examples...: 23078 examples [00:24, 224.37 examples/s]\u001b[A\u001b[A\n",
      "\n",
      "Generating validation examples...: 23101 examples [00:24, 225.36 examples/s]\u001b[A\u001b[A\n",
      "\n",
      "Generating validation examples...: 23124 examples [00:24, 225.73 examples/s]\u001b[A\u001b[A\n",
      "\n",
      "Generating validation examples...: 23147 examples [00:24, 226.32 examples/s]\u001b[A\u001b[A\n",
      "\n",
      "Generating validation examples...: 23170 examples [00:24, 224.75 examples/s]\u001b[A\u001b[A\n",
      "\n",
      "Generating validation examples...: 23193 examples [00:24, 225.63 examples/s]\u001b[A\u001b[A\n",
      "\n",
      "Generating validation examples...: 23216 examples [00:24, 223.62 examples/s]\u001b[A\u001b[A\n",
      "\n",
      "Generating validation examples...: 23239 examples [00:25, 221.59 examples/s]\u001b[A\u001b[A\n",
      "\n",
      "Generating validation examples...: 23262 examples [00:25, 221.14 examples/s]\u001b[A\u001b[A\n",
      "\n",
      "Generating validation examples...: 23285 examples [00:25, 222.43 examples/s]\u001b[A\u001b[A\n",
      "\n",
      "Generating validation examples...: 23308 examples [00:25, 219.19 examples/s]\u001b[A\u001b[A\n",
      "\n",
      "Generating validation examples...: 23331 examples [00:25, 219.46 examples/s]\u001b[A\u001b[A\n",
      "\n",
      "Generating validation examples...: 23355 examples [00:25, 223.47 examples/s]\u001b[A\u001b[A\n",
      "\n",
      "Generating validation examples...: 23379 examples [00:25, 226.64 examples/s]\u001b[A\u001b[A\n",
      "\n",
      "Generating validation examples...: 23402 examples [00:25, 226.30 examples/s]\u001b[A\u001b[A\n",
      "\n",
      "Generating validation examples...: 23425 examples [00:25, 226.39 examples/s]\u001b[A\u001b[A\n",
      "\n",
      "Generating validation examples...: 23448 examples [00:26, 225.46 examples/s]\u001b[A\u001b[A\n",
      "\n",
      "Generating validation examples...: 23472 examples [00:26, 226.74 examples/s]\u001b[A\u001b[A\n",
      "\n",
      "Generating validation examples...: 23495 examples [00:26, 224.73 examples/s]\u001b[A\u001b[A\n",
      "\n",
      "Generating validation examples...: 23519 examples [00:26, 226.22 examples/s]\u001b[A\u001b[A\n",
      "\n",
      "Generating validation examples...: 23542 examples [00:26, 225.67 examples/s]\u001b[A\u001b[A\n",
      "\n",
      "Generating validation examples...: 23565 examples [00:26, 225.62 examples/s]\u001b[A\u001b[A\n",
      "\n",
      "Generating validation examples...: 23588 examples [00:26, 225.58 examples/s]\u001b[A\u001b[A\n",
      "\n",
      "Generating validation examples...: 23611 examples [00:26, 220.39 examples/s]\u001b[A\u001b[A\n",
      "\n",
      "Generating validation examples...: 23634 examples [00:26, 221.89 examples/s]\u001b[A\u001b[A\n",
      "\n",
      "Generating validation examples...: 23657 examples [00:26, 221.67 examples/s]\u001b[A\u001b[A\n",
      "\n",
      "Generating validation examples...: 23680 examples [00:27, 220.88 examples/s]\u001b[A\u001b[A\n",
      "\n",
      "Generating validation examples...: 23703 examples [00:27, 222.24 examples/s]\u001b[A\u001b[A\n",
      "\n",
      "Generating validation examples...: 23726 examples [00:27, 224.51 examples/s]\u001b[A\u001b[A\n",
      "\n",
      "Generating validation examples...: 23749 examples [00:27, 223.17 examples/s]\u001b[A\u001b[A\n",
      "\n",
      "Generating validation examples...: 23772 examples [00:27, 223.53 examples/s]\u001b[A\u001b[A\n",
      "\n",
      "Generating validation examples...: 23795 examples [00:27, 220.57 examples/s]\u001b[A\u001b[A\n",
      "\n",
      "Generating validation examples...: 23819 examples [00:27, 225.24 examples/s]\u001b[A\u001b[A\n",
      "\n",
      "Generating validation examples...: 23843 examples [00:27, 227.90 examples/s]\u001b[A\u001b[A\n",
      "\n",
      "Generating validation examples...: 23866 examples [00:27, 223.59 examples/s]\u001b[A\u001b[A\n",
      "\n",
      "Generating validation examples...: 23889 examples [00:27, 222.23 examples/s]\u001b[A\u001b[A\n",
      "\n",
      "Generating validation examples...: 23913 examples [00:28, 226.40 examples/s]\u001b[A\u001b[A\n",
      "\n",
      "Generating validation examples...: 23937 examples [00:28, 228.71 examples/s]\u001b[A\u001b[A\n",
      "\n",
      "Generating validation examples...: 23960 examples [00:28, 228.08 examples/s]\u001b[A\u001b[A\n",
      "\n",
      "Generating validation examples...: 23984 examples [00:28, 228.56 examples/s]\u001b[A\u001b[A\n",
      "\n",
      "Generating validation examples...: 24007 examples [00:28, 227.98 examples/s]\u001b[A\u001b[A\n",
      "\n",
      "Generating validation examples...: 24031 examples [00:28, 228.83 examples/s]\u001b[A\u001b[A\n",
      "\n",
      "Generating validation examples...: 24055 examples [00:28, 229.41 examples/s]\u001b[A\u001b[A\n",
      "\n",
      "Generating validation examples...: 24078 examples [00:28, 227.92 examples/s]\u001b[A\u001b[A\n",
      "\n",
      "Generating validation examples...: 24101 examples [00:28, 227.19 examples/s]\u001b[A\u001b[A\n",
      "\n",
      "Generating validation examples...: 24124 examples [00:29, 219.62 examples/s]\u001b[A\u001b[A\n",
      "\n",
      "Generating validation examples...: 24147 examples [00:29, 222.29 examples/s]\u001b[A\u001b[A\n",
      "\n",
      "Generating validation examples...: 24170 examples [00:29, 223.88 examples/s]\u001b[A\u001b[A\n",
      "\n",
      "Generating validation examples...: 24193 examples [00:29, 223.38 examples/s]\u001b[A\u001b[A\n",
      "\n",
      "Generating validation examples...: 24216 examples [00:29, 222.71 examples/s]\u001b[A\u001b[A\n",
      "\n",
      "Generating validation examples...: 24239 examples [00:29, 224.85 examples/s]\u001b[A\u001b[A\n",
      "\n",
      "Generating validation examples...: 24262 examples [00:29, 225.37 examples/s]\u001b[A\u001b[A\n",
      "\n",
      "Generating validation examples...: 24285 examples [00:29, 224.09 examples/s]\u001b[A\u001b[A\n",
      "\n",
      "Generating validation examples...: 24308 examples [00:29, 223.85 examples/s]\u001b[A\u001b[A\n",
      "\n",
      "Generating validation examples...: 24331 examples [00:29, 219.52 examples/s]\u001b[A\u001b[A\n",
      "\n",
      "Generating validation examples...: 24354 examples [00:30, 220.01 examples/s]\u001b[A\u001b[A\n",
      "\n",
      "Generating validation examples...: 24377 examples [00:30, 220.67 examples/s]\u001b[A\u001b[A\n",
      "\n",
      "Generating validation examples...: 24400 examples [00:30, 221.77 examples/s]\u001b[A\u001b[A\n",
      "\n",
      "Generating validation examples...: 24423 examples [00:30, 216.27 examples/s]\u001b[A\u001b[A\n",
      "\n",
      "Generating validation examples...: 24445 examples [00:30, 215.80 examples/s]\u001b[A\u001b[A\n",
      "\n",
      "Generating validation examples...: 24468 examples [00:30, 217.70 examples/s]\u001b[A\u001b[A\n",
      "\n",
      "Generating validation examples...: 24491 examples [00:30, 220.00 examples/s]\u001b[A\u001b[A\n",
      "\n",
      "Generating validation examples...: 24514 examples [00:30, 219.39 examples/s]\u001b[A\u001b[A\n",
      "\n",
      "Generating validation examples...: 24536 examples [00:30, 218.93 examples/s]\u001b[A\u001b[A\n",
      "\n",
      "Generating validation examples...: 24558 examples [00:30, 217.65 examples/s]\u001b[A\u001b[A\n",
      "\n",
      "Generating validation examples...: 24580 examples [00:31, 217.70 examples/s]\u001b[A\u001b[A\n",
      "\n",
      "Generating validation examples...: 24602 examples [00:31, 218.38 examples/s]\u001b[A\u001b[A\n",
      "\n",
      "Generating validation examples...: 24624 examples [00:31, 214.72 examples/s]\u001b[A\u001b[A\n",
      "\n",
      "Generating validation examples...: 24646 examples [00:31, 215.01 examples/s]\u001b[A\u001b[A\n",
      "\n",
      "Generating validation examples...: 24668 examples [00:31, 212.72 examples/s]\u001b[A\u001b[A\n",
      "\n",
      "Generating validation examples...: 24691 examples [00:31, 214.94 examples/s]\u001b[A\u001b[A\n",
      "\n",
      "Generating validation examples...: 24714 examples [00:31, 217.75 examples/s]\u001b[A\u001b[A\n",
      "\n",
      "Generating validation examples...: 24737 examples [00:31, 220.05 examples/s]\u001b[A\u001b[A\n",
      "\n",
      "Generating validation examples...: 24761 examples [00:31, 223.94 examples/s]\u001b[A\u001b[A\n",
      "\n",
      "Generating validation examples...: 24785 examples [00:32, 226.98 examples/s]\u001b[A\u001b[A\n",
      "\n",
      "Generating validation examples...: 24809 examples [00:32, 228.46 examples/s]\u001b[A\u001b[A\n",
      "\n",
      "Generating validation examples...: 24833 examples [00:32, 228.83 examples/s]\u001b[A\u001b[A\n",
      "\n",
      "Generating validation examples...: 24856 examples [00:32, 221.39 examples/s]\u001b[A\u001b[A\n",
      "\n",
      "Generating validation examples...: 24879 examples [00:32, 216.40 examples/s]\u001b[A\u001b[A\n",
      "\n",
      "Generating validation examples...: 24901 examples [00:32, 216.50 examples/s]\u001b[A\u001b[A\n",
      "\n",
      "Generating validation examples...: 24924 examples [00:32, 218.50 examples/s]\u001b[A\u001b[A\n",
      "\n",
      "Generating validation examples...: 24947 examples [00:32, 221.19 examples/s]\u001b[A\u001b[A\n",
      "\n",
      "Generating validation examples...: 24970 examples [00:32, 219.91 examples/s]\u001b[A\u001b[A\n",
      "\n",
      "Generating validation examples...: 24993 examples [00:32, 220.60 examples/s]\u001b[A\u001b[A\n",
      "\n",
      "Generating validation examples...: 25016 examples [00:33, 220.45 examples/s]\u001b[A\u001b[A\n",
      "\n",
      "Generating validation examples...: 25039 examples [00:33, 222.58 examples/s]\u001b[A\u001b[A\n",
      "\n",
      "Generating validation examples...: 25062 examples [00:33, 219.29 examples/s]\u001b[A\u001b[A\n",
      "\n",
      "Generating validation examples...: 25085 examples [00:33, 221.11 examples/s]\u001b[A\u001b[A\n",
      "\n",
      "Generating validation examples...: 25108 examples [00:33, 221.45 examples/s]\u001b[A\u001b[A\n",
      "\n",
      "Generating validation examples...: 25132 examples [00:33, 224.90 examples/s]\u001b[A\u001b[A\n",
      "\n",
      "Generating validation examples...: 25156 examples [00:33, 228.65 examples/s]\u001b[A\u001b[A\n",
      "\n",
      "Generating validation examples...: 25179 examples [00:33, 228.04 examples/s]\u001b[A\u001b[A\n",
      "\n",
      "Generating validation examples...: 25203 examples [00:33, 230.21 examples/s]\u001b[A\u001b[A\n",
      "\n",
      "Generating validation examples...: 25227 examples [00:33, 228.71 examples/s]\u001b[A\u001b[A\n",
      "\n",
      "                                                                            \u001b[A\u001b[A\n",
      "\n",
      "Shuffling food101-validation.tfrecord...:   0%|          | 0/25250 [00:00<?, ? examples/s]\u001b[A\u001b[A\n",
      "\n",
      "Shuffling food101-validation.tfrecord...:   1%|          | 218/25250 [00:00<00:11, 2116.51 examples/s]\u001b[A\u001b[A\n",
      "\n",
      "Shuffling food101-validation.tfrecord...:   2%|▏         | 503/25250 [00:00<00:09, 2484.94 examples/s]\u001b[A\u001b[A\n",
      "\n",
      "Shuffling food101-validation.tfrecord...:   3%|▎         | 752/25250 [00:00<00:12, 2017.37 examples/s]\u001b[A\u001b[A\n",
      "\n",
      "Shuffling food101-validation.tfrecord...:   4%|▍         | 1046/25250 [00:00<00:10, 2328.63 examples/s]\u001b[A\u001b[A\n",
      "\n",
      "Shuffling food101-validation.tfrecord...:   5%|▌         | 1327/25250 [00:00<00:09, 2422.82 examples/s]\u001b[A\u001b[A\n",
      "\n",
      "Shuffling food101-validation.tfrecord...:   6%|▌         | 1576/25250 [00:00<00:10, 2362.46 examples/s]\u001b[A\u001b[A\n",
      "\n",
      "Shuffling food101-validation.tfrecord...:   7%|▋         | 1817/25250 [00:00<00:10, 2216.22 examples/s]\u001b[A\u001b[A\n",
      "\n",
      "Shuffling food101-validation.tfrecord...:   8%|▊         | 2098/25250 [00:00<00:09, 2362.84 examples/s]\u001b[A\u001b[A\n",
      "\n",
      "Shuffling food101-validation.tfrecord...:   9%|▉         | 2339/25250 [00:01<00:09, 2309.77 examples/s]\u001b[A\u001b[A\n",
      "\n",
      "Shuffling food101-validation.tfrecord...:  10%|█         | 2627/25250 [00:01<00:09, 2424.35 examples/s]\u001b[A\u001b[A\n",
      "\n",
      "Shuffling food101-validation.tfrecord...:  11%|█▏        | 2884/25250 [00:01<00:09, 2445.02 examples/s]\u001b[A\u001b[A\n",
      "\n",
      "Shuffling food101-validation.tfrecord...:  12%|█▏        | 3131/25250 [00:01<00:09, 2448.72 examples/s]\u001b[A\u001b[A\n",
      "\n",
      "Shuffling food101-validation.tfrecord...:  13%|█▎        | 3377/25250 [00:01<00:09, 2329.79 examples/s]\u001b[A\u001b[A\n",
      "\n",
      "Shuffling food101-validation.tfrecord...:  14%|█▍        | 3612/25250 [00:01<00:09, 2328.90 examples/s]\u001b[A\u001b[A\n",
      "\n",
      "Shuffling food101-validation.tfrecord...:  15%|█▌        | 3885/25250 [00:01<00:08, 2423.37 examples/s]\u001b[A\u001b[A\n",
      "\n",
      "Shuffling food101-validation.tfrecord...:  16%|█▋        | 4162/25250 [00:01<00:08, 2487.70 examples/s]\u001b[A\u001b[A\n",
      "\n",
      "Shuffling food101-validation.tfrecord...:  17%|█▋        | 4412/25250 [00:01<00:08, 2400.88 examples/s]\u001b[A\u001b[A\n",
      "\n",
      "Shuffling food101-validation.tfrecord...:  18%|█▊        | 4666/25250 [00:01<00:08, 2440.54 examples/s]\u001b[A\u001b[A\n",
      "\n",
      "Shuffling food101-validation.tfrecord...:  19%|█▉        | 4911/25250 [00:02<00:08, 2278.45 examples/s]\u001b[A\u001b[A\n",
      "\n",
      "Shuffling food101-validation.tfrecord...:  20%|██        | 5142/25250 [00:02<00:08, 2271.42 examples/s]\u001b[A\u001b[A\n",
      "\n",
      "Shuffling food101-validation.tfrecord...:  21%|██▏       | 5371/25250 [00:02<00:12, 1617.48 examples/s]\u001b[A\u001b[A\n",
      "\n",
      "Shuffling food101-validation.tfrecord...:  22%|██▏       | 5602/25250 [00:02<00:11, 1768.06 examples/s]\u001b[A\u001b[A\n",
      "\n",
      "Shuffling food101-validation.tfrecord...:  23%|██▎       | 5840/25250 [00:02<00:10, 1842.39 examples/s]\u001b[A\u001b[A\n",
      "\n",
      "Shuffling food101-validation.tfrecord...:  24%|██▍       | 6140/25250 [00:02<00:09, 2122.69 examples/s]\u001b[A\u001b[A\n",
      "\n",
      "Shuffling food101-validation.tfrecord...:  25%|██▌       | 6370/25250 [00:02<00:09, 1957.09 examples/s]\u001b[A\u001b[A\n",
      "\n",
      "Shuffling food101-validation.tfrecord...:  26%|██▌       | 6587/25250 [00:03<00:09, 1988.21 examples/s]\u001b[A\u001b[A\n",
      "\n",
      "Shuffling food101-validation.tfrecord...:  27%|██▋       | 6851/25250 [00:03<00:08, 2051.65 examples/s]\u001b[A\u001b[A\n",
      "\n",
      "Shuffling food101-validation.tfrecord...:  28%|██▊       | 7149/25250 [00:03<00:07, 2292.62 examples/s]\u001b[A\u001b[A\n",
      "\n",
      "Shuffling food101-validation.tfrecord...:  29%|██▉       | 7416/25250 [00:03<00:07, 2338.15 examples/s]\u001b[A\u001b[A\n",
      "\n",
      "Shuffling food101-validation.tfrecord...:  31%|███       | 7730/25250 [00:03<00:06, 2524.26 examples/s]\u001b[A\u001b[A\n",
      "\n",
      "Shuffling food101-validation.tfrecord...:  32%|███▏      | 7988/25250 [00:03<00:07, 2408.53 examples/s]\u001b[A\u001b[A\n",
      "\n",
      "Shuffling food101-validation.tfrecord...:  33%|███▎      | 8266/25250 [00:03<00:06, 2510.59 examples/s]\u001b[A\u001b[A\n",
      "\n",
      "Shuffling food101-validation.tfrecord...:  34%|███▍      | 8591/25250 [00:03<00:06, 2696.20 examples/s]\u001b[A\u001b[A\n",
      "\n",
      "Shuffling food101-validation.tfrecord...:  35%|███▌      | 8865/25250 [00:03<00:06, 2482.06 examples/s]\u001b[A\u001b[A\n",
      "\n",
      "Shuffling food101-validation.tfrecord...:  36%|███▌      | 9119/25250 [00:04<00:06, 2356.81 examples/s]\u001b[A\u001b[A\n",
      "\n",
      "Shuffling food101-validation.tfrecord...:  37%|███▋      | 9359/25250 [00:04<00:06, 2352.62 examples/s]\u001b[A\u001b[A\n",
      "\n",
      "Shuffling food101-validation.tfrecord...:  38%|███▊      | 9598/25250 [00:04<00:06, 2308.81 examples/s]\u001b[A\u001b[A\n",
      "\n",
      "Shuffling food101-validation.tfrecord...:  39%|███▉      | 9876/25250 [00:04<00:06, 2406.32 examples/s]\u001b[A\u001b[A\n",
      "\n",
      "Shuffling food101-validation.tfrecord...:  40%|████      | 10119/25250 [00:04<00:06, 2331.00 examples/s]\u001b[A\u001b[A\n",
      "\n",
      "Shuffling food101-validation.tfrecord...:  41%|████      | 10356/25250 [00:04<00:06, 2319.20 examples/s]\u001b[A\u001b[A\n",
      "\n",
      "Shuffling food101-validation.tfrecord...:  42%|████▏     | 10613/25250 [00:04<00:06, 2356.90 examples/s]\u001b[A\u001b[A\n",
      "\n",
      "Shuffling food101-validation.tfrecord...:  43%|████▎     | 10887/25250 [00:04<00:05, 2462.71 examples/s]\u001b[A\u001b[A\n",
      "\n",
      "Shuffling food101-validation.tfrecord...:  44%|████▍     | 11135/25250 [00:04<00:06, 2243.75 examples/s]\u001b[A\u001b[A\n",
      "\n",
      "Shuffling food101-validation.tfrecord...:  45%|████▌     | 11364/25250 [00:05<00:06, 2096.07 examples/s]\u001b[A\u001b[A\n",
      "\n",
      "Shuffling food101-validation.tfrecord...:  46%|████▋     | 11682/25250 [00:05<00:05, 2362.46 examples/s]\u001b[A\u001b[A\n",
      "\n",
      "Shuffling food101-validation.tfrecord...:  47%|████▋     | 11951/25250 [00:05<00:05, 2425.52 examples/s]\u001b[A\u001b[A\n",
      "\n",
      "Shuffling food101-validation.tfrecord...:  48%|████▊     | 12198/25250 [00:05<00:05, 2204.38 examples/s]\u001b[A\u001b[A\n",
      "\n",
      "Shuffling food101-validation.tfrecord...:  49%|████▉     | 12433/25250 [00:05<00:05, 2190.73 examples/s]\u001b[A\u001b[A\n",
      "\n",
      "Shuffling food101-validation.tfrecord...:  50%|█████     | 12657/25250 [00:05<00:05, 2163.17 examples/s]\u001b[A\u001b[A\n",
      "\n",
      "Shuffling food101-validation.tfrecord...:  51%|█████     | 12911/25250 [00:05<00:05, 2232.89 examples/s]\u001b[A\u001b[A\n",
      "\n",
      "Shuffling food101-validation.tfrecord...:  52%|█████▏    | 13166/25250 [00:05<00:05, 2314.79 examples/s]\u001b[A\u001b[A\n",
      "\n",
      "Shuffling food101-validation.tfrecord...:  53%|█████▎    | 13468/25250 [00:05<00:04, 2373.54 examples/s]\u001b[A\u001b[A\n",
      "\n",
      "Shuffling food101-validation.tfrecord...:  54%|█████▍    | 13712/25250 [00:06<00:04, 2372.22 examples/s]\u001b[A\u001b[A\n",
      "\n",
      "Shuffling food101-validation.tfrecord...:  55%|█████▌    | 13950/25250 [00:06<00:04, 2315.69 examples/s]\u001b[A\u001b[A\n",
      "\n",
      "Shuffling food101-validation.tfrecord...:  56%|█████▌    | 14203/25250 [00:06<00:04, 2273.56 examples/s]\u001b[A\u001b[A\n",
      "\n",
      "Shuffling food101-validation.tfrecord...:  57%|█████▋    | 14439/25250 [00:06<00:04, 2294.40 examples/s]\u001b[A\u001b[A\n",
      "\n",
      "Shuffling food101-validation.tfrecord...:  58%|█████▊    | 14669/25250 [00:06<00:04, 2193.19 examples/s]\u001b[A\u001b[A\n",
      "\n",
      "Shuffling food101-validation.tfrecord...:  59%|█████▉    | 14922/25250 [00:06<00:04, 2249.58 examples/s]\u001b[A\u001b[A\n",
      "\n",
      "Shuffling food101-validation.tfrecord...:  60%|██████    | 15244/25250 [00:06<00:04, 2498.48 examples/s]\u001b[A\u001b[A\n",
      "\n",
      "Shuffling food101-validation.tfrecord...:  62%|██████▏   | 15529/25250 [00:06<00:03, 2562.17 examples/s]\u001b[A\u001b[A\n",
      "\n",
      "Shuffling food101-validation.tfrecord...:  63%|██████▎   | 15787/25250 [00:06<00:03, 2424.86 examples/s]\u001b[A\u001b[A\n",
      "\n",
      "Shuffling food101-validation.tfrecord...:  64%|██████▎   | 16057/25250 [00:06<00:03, 2453.68 examples/s]\u001b[A\u001b[A\n",
      "\n",
      "Shuffling food101-validation.tfrecord...:  65%|██████▍   | 16351/25250 [00:07<00:03, 2429.88 examples/s]\u001b[A\u001b[A\n",
      "\n",
      "Shuffling food101-validation.tfrecord...:  66%|██████▌   | 16706/25250 [00:07<00:03, 2713.97 examples/s]\u001b[A\u001b[A\n",
      "\n",
      "Shuffling food101-validation.tfrecord...:  67%|██████▋   | 16981/25250 [00:07<00:03, 2679.13 examples/s]\u001b[A\u001b[A\n",
      "\n",
      "Shuffling food101-validation.tfrecord...:  68%|██████▊   | 17268/25250 [00:07<00:02, 2732.92 examples/s]\u001b[A\u001b[A\n",
      "\n",
      "Shuffling food101-validation.tfrecord...:  69%|██████▉   | 17543/25250 [00:07<00:03, 2474.96 examples/s]\u001b[A\u001b[A\n",
      "\n",
      "Shuffling food101-validation.tfrecord...:  71%|███████   | 17835/25250 [00:07<00:02, 2567.55 examples/s]\u001b[A\u001b[A\n",
      "\n",
      "Shuffling food101-validation.tfrecord...:  72%|███████▏  | 18097/25250 [00:07<00:02, 2408.87 examples/s]\u001b[A\u001b[A\n",
      "\n",
      "Shuffling food101-validation.tfrecord...:  73%|███████▎  | 18408/25250 [00:07<00:02, 2594.19 examples/s]\u001b[A\u001b[A\n",
      "\n",
      "Shuffling food101-validation.tfrecord...:  74%|███████▍  | 18722/25250 [00:07<00:02, 2697.01 examples/s]\u001b[A\u001b[A\n",
      "\n",
      "Shuffling food101-validation.tfrecord...:  75%|███████▌  | 18996/25250 [00:08<00:02, 2675.33 examples/s]\u001b[A\u001b[A\n",
      "\n",
      "Shuffling food101-validation.tfrecord...:  76%|███████▋  | 19267/25250 [00:08<00:02, 2514.16 examples/s]\u001b[A\u001b[A\n",
      "\n",
      "Shuffling food101-validation.tfrecord...:  77%|███████▋  | 19522/25250 [00:08<00:02, 2377.00 examples/s]\u001b[A\u001b[A\n",
      "\n",
      "Shuffling food101-validation.tfrecord...:  78%|███████▊  | 19787/25250 [00:08<00:02, 2444.11 examples/s]\u001b[A\u001b[A\n",
      "\n",
      "Shuffling food101-validation.tfrecord...:  80%|███████▉  | 20082/25250 [00:08<00:02, 2552.72 examples/s]\u001b[A\u001b[A\n",
      "\n",
      "Shuffling food101-validation.tfrecord...:  81%|████████  | 20402/25250 [00:08<00:01, 2731.13 examples/s]\u001b[A\u001b[A\n",
      "\n",
      "Shuffling food101-validation.tfrecord...:  82%|████████▏ | 20678/25250 [00:08<00:01, 2663.09 examples/s]\u001b[A\u001b[A\n",
      "\n",
      "Shuffling food101-validation.tfrecord...:  83%|████████▎ | 20947/25250 [00:08<00:01, 2295.07 examples/s]\u001b[A\u001b[A\n",
      "\n",
      "Shuffling food101-validation.tfrecord...:  84%|████████▍ | 21187/25250 [00:09<00:01, 2263.62 examples/s]\u001b[A\u001b[A\n",
      "\n",
      "Shuffling food101-validation.tfrecord...:  85%|████████▍ | 21445/25250 [00:09<00:01, 2322.85 examples/s]\u001b[A\u001b[A\n",
      "\n",
      "Shuffling food101-validation.tfrecord...:  86%|████████▌ | 21683/25250 [00:09<00:01, 2335.24 examples/s]\u001b[A\u001b[A\n",
      "\n",
      "Shuffling food101-validation.tfrecord...:  87%|████████▋ | 21946/25250 [00:09<00:01, 2415.95 examples/s]\u001b[A\u001b[A\n",
      "\n",
      "Shuffling food101-validation.tfrecord...:  88%|████████▊ | 22191/25250 [00:09<00:01, 2417.37 examples/s]\u001b[A\u001b[A\n",
      "\n",
      "Shuffling food101-validation.tfrecord...:  89%|████████▉ | 22436/25250 [00:09<00:01, 2405.96 examples/s]\u001b[A\u001b[A\n",
      "\n",
      "Shuffling food101-validation.tfrecord...:  90%|████████▉ | 22692/25250 [00:09<00:01, 2436.55 examples/s]\u001b[A\u001b[A\n",
      "\n",
      "Shuffling food101-validation.tfrecord...:  91%|█████████ | 23005/25250 [00:09<00:00, 2616.15 examples/s]\u001b[A\u001b[A\n",
      "\n",
      "Shuffling food101-validation.tfrecord...:  92%|█████████▏| 23295/25250 [00:09<00:00, 2675.71 examples/s]\u001b[A\u001b[A\n",
      "\n",
      "Shuffling food101-validation.tfrecord...:  93%|█████████▎| 23564/25250 [00:09<00:00, 2592.56 examples/s]\u001b[A\u001b[A\n",
      "\n",
      "Shuffling food101-validation.tfrecord...:  94%|█████████▍| 23825/25250 [00:10<00:00, 2214.64 examples/s]\u001b[A\u001b[A\n",
      "\n",
      "Shuffling food101-validation.tfrecord...:  95%|█████████▌| 24057/25250 [00:10<00:00, 2095.04 examples/s]\u001b[A\u001b[A\n",
      "\n",
      "Shuffling food101-validation.tfrecord...:  96%|█████████▋| 24359/25250 [00:10<00:00, 2216.24 examples/s]\u001b[A\u001b[A\n",
      "\n",
      "Shuffling food101-validation.tfrecord...:  98%|█████████▊| 24653/25250 [00:10<00:00, 2403.66 examples/s]\u001b[A\u001b[A\n",
      "\n",
      "Shuffling food101-validation.tfrecord...:  99%|█████████▊| 24900/25250 [00:10<00:00, 2342.51 examples/s]\u001b[A\u001b[A\n",
      "\n",
      "Shuffling food101-validation.tfrecord...: 100%|█████████▉| 25157/25250 [00:10<00:00, 2388.09 examples/s]\u001b[A\u001b[A\n",
      "\n",
      "                                                                                                        \u001b[A\u001b[A\n",
      "Generating splits...: 100%|██████████| 2/2 [01:49<00:00, 52.87s/ splits]\u001b[A\n",
      "                                                                        \u001b[A\u001b[1mDataset food101 downloaded and prepared to C:\\Users\\timar\\tensorflow_datasets\\food101\\2.0.0. Subsequent calls will reuse this data.\u001b[0m\n"
     ]
    }
   ],
   "source": [
    "# Load in the data (takes about 5-6 minutes in Google Colab)\n",
    "(train_data, test_data), ds_info = tfds.load (\n",
    "        name=\"food101\", # target dataset to get from TFDS\n",
    "        split=[\"train\", \"validation\"], # what splits of data should we get? note: not all datasets have train, valid, test\n",
    "        shuffle_files=True, # shuffle files on download?\n",
    "        as_supervised=True, # download data in tuple format (sample, label), e.g. (image, label)\n",
    "        with_info=True # include dataset metadata? if so, tfds.load() returns tuple (data, ds_info)\n",
    "    ) "
   ]
  },
  {
   "source": [
    "## Exploring the Food 101 data from TensorFlow DataSets\n",
    "\n",
    "To become one with our data, we want to find:\n",
    "* Class Names\n",
    "* The shape of our input data (image tensors)\n",
    "* The data type of our input data\n",
    "* What the labels look like (eg are they one hot encoded or are they label encoded)\n",
    "* Do the labels match with the class names?\n"
   ],
   "cell_type": "markdown",
   "metadata": {}
  },
  {
   "cell_type": "code",
   "execution_count": 10,
   "metadata": {},
   "outputs": [
    {
     "output_type": "execute_result",
     "data": {
      "text/plain": [
       "FeaturesDict({\n",
       "    'image': Image(shape=(None, None, 3), dtype=tf.uint8),\n",
       "    'label': ClassLabel(shape=(), dtype=tf.int64, num_classes=101),\n",
       "})"
      ]
     },
     "metadata": {},
     "execution_count": 10
    }
   ],
   "source": [
    "# Features of Food101 TFDS\n",
    "ds_info.features"
   ]
  },
  {
   "cell_type": "code",
   "execution_count": 11,
   "metadata": {},
   "outputs": [
    {
     "output_type": "execute_result",
     "data": {
      "text/plain": [
       "['apple_pie',\n",
       " 'baby_back_ribs',\n",
       " 'baklava',\n",
       " 'beef_carpaccio',\n",
       " 'beef_tartare',\n",
       " 'beet_salad',\n",
       " 'beignets',\n",
       " 'bibimbap',\n",
       " 'bread_pudding',\n",
       " 'breakfast_burrito']"
      ]
     },
     "metadata": {},
     "execution_count": 11
    }
   ],
   "source": [
    "# Get class names\n",
    "class_names = ds_info.features[\"label\"].names\n",
    "class_names[:10]"
   ]
  },
  {
   "cell_type": "code",
   "execution_count": 20,
   "metadata": {},
   "outputs": [],
   "source": [
    "# Take on sample from our training data\n",
    "train_one_sample = train_data.take(1) # Samples are in format (image_tensor, label)"
   ]
  },
  {
   "cell_type": "code",
   "execution_count": 21,
   "metadata": {},
   "outputs": [
    {
     "output_type": "execute_result",
     "data": {
      "text/plain": [
       "<TakeDataset shapes: ((None, None, 3), ()), types: (tf.uint8, tf.int64)>"
      ]
     },
     "metadata": {},
     "execution_count": 21
    }
   ],
   "source": [
    "# What does one sample of our training data look like\n",
    "train_one_sample"
   ]
  },
  {
   "cell_type": "code",
   "execution_count": 22,
   "metadata": {},
   "outputs": [
    {
     "output_type": "stream",
     "name": "stdout",
     "text": [
      "\n    Image Shape: (512, 512, 3)\n    Image Datatype: <dtype: 'uint8'>\n    Target Class from Food101 (tensor form): 93\n    Class Name (str form): steak\n    \n"
     ]
    }
   ],
   "source": [
    "# Output info about our training sample\n",
    "for image, label in train_one_sample:\n",
    "    print(f\"\"\"\n",
    "    Image Shape: {image.shape}\n",
    "    Image Datatype: {image.dtype}\n",
    "    Target Class from Food101 (tensor form): {label}\n",
    "    Class Name (str form): {class_names[label.numpy()]}\n",
    "    \"\"\")"
   ]
  },
  {
   "cell_type": "code",
   "execution_count": 23,
   "metadata": {},
   "outputs": [
    {
     "output_type": "execute_result",
     "data": {
      "text/plain": [
       "<tf.Tensor: shape=(512, 512, 3), dtype=uint8, numpy=\n",
       "array([[[113,  50,  41],\n",
       "        [111,  48,  39],\n",
       "        [109,  46,  37],\n",
       "        ...,\n",
       "        [243, 226, 219],\n",
       "        [242, 223, 217],\n",
       "        [241, 222, 216]],\n",
       "\n",
       "       [[117,  54,  45],\n",
       "        [114,  51,  42],\n",
       "        [111,  48,  39],\n",
       "        ...,\n",
       "        [230, 210, 201],\n",
       "        [226, 203, 197],\n",
       "        [221, 198, 190]],\n",
       "\n",
       "       [[118,  58,  50],\n",
       "        [116,  56,  48],\n",
       "        [113,  53,  45],\n",
       "        ...,\n",
       "        [179, 149, 138],\n",
       "        [169, 136, 127],\n",
       "        [159, 127, 116]],\n",
       "\n",
       "       ...,\n",
       "\n",
       "       [[232, 241, 248],\n",
       "        [232, 241, 248],\n",
       "        [232, 241, 248],\n",
       "        ...,\n",
       "        [194, 183, 179],\n",
       "        [194, 183, 179],\n",
       "        [194, 183, 179]],\n",
       "\n",
       "       [[231, 240, 247],\n",
       "        [231, 240, 247],\n",
       "        [232, 241, 248],\n",
       "        ...,\n",
       "        [194, 183, 179],\n",
       "        [194, 183, 179],\n",
       "        [194, 183, 179]],\n",
       "\n",
       "       [[231, 240, 247],\n",
       "        [231, 240, 247],\n",
       "        [231, 240, 247],\n",
       "        ...,\n",
       "        [194, 183, 179],\n",
       "        [194, 183, 179],\n",
       "        [194, 183, 179]]], dtype=uint8)>"
      ]
     },
     "metadata": {},
     "execution_count": 23
    }
   ],
   "source": [
    "# What does our image tensor look like from TFDS's Food 101 Dataset?\n",
    "image"
   ]
  },
  {
   "cell_type": "code",
   "execution_count": 24,
   "metadata": {},
   "outputs": [
    {
     "output_type": "execute_result",
     "data": {
      "text/plain": [
       "(<tf.Tensor: shape=(), dtype=uint8, numpy=0>,\n",
       " <tf.Tensor: shape=(), dtype=uint8, numpy=255>)"
      ]
     },
     "metadata": {},
     "execution_count": 24
    }
   ],
   "source": [
    "# What are the min and max values of our image tensor?\n",
    "tf.reduce_min(image), tf.reduce_max(image)"
   ]
  },
  {
   "cell_type": "code",
   "execution_count": 25,
   "metadata": {},
   "outputs": [
    {
     "output_type": "execute_result",
     "data": {
      "text/plain": [
       "(-0.5, 511.5, 511.5, -0.5)"
      ]
     },
     "metadata": {},
     "execution_count": 25
    },
    {
     "output_type": "display_data",
     "data": {
      "text/plain": "<Figure size 432x288 with 1 Axes>",
      "image/svg+xml": "<?xml version=\"1.0\" encoding=\"utf-8\" standalone=\"no\"?>\r\n<!DOCTYPE svg PUBLIC \"-//W3C//DTD SVG 1.1//EN\"\r\n  \"http://www.w3.org/Graphics/SVG/1.1/DTD/svg11.dtd\">\r\n<svg height=\"246.958125pt\" version=\"1.1\" viewBox=\"0 0 231.84 246.958125\" width=\"231.84pt\" xmlns=\"http://www.w3.org/2000/svg\" xmlns:xlink=\"http://www.w3.org/1999/xlink\">\r\n <metadata>\r\n  <rdf:RDF xmlns:cc=\"http://creativecommons.org/ns#\" xmlns:dc=\"http://purl.org/dc/elements/1.1/\" xmlns:rdf=\"http://www.w3.org/1999/02/22-rdf-syntax-ns#\">\r\n   <cc:Work>\r\n    <dc:type rdf:resource=\"http://purl.org/dc/dcmitype/StillImage\"/>\r\n    <dc:date>2021-04-18T22:57:42.252282</dc:date>\r\n    <dc:format>image/svg+xml</dc:format>\r\n    <dc:creator>\r\n     <cc:Agent>\r\n      <dc:title>Matplotlib v3.4.1, https://matplotlib.org/</dc:title>\r\n     </cc:Agent>\r\n    </dc:creator>\r\n   </cc:Work>\r\n  </rdf:RDF>\r\n </metadata>\r\n <defs>\r\n  <style type=\"text/css\">*{stroke-linecap:butt;stroke-linejoin:round;}</style>\r\n </defs>\r\n <g id=\"figure_1\">\r\n  <g id=\"patch_1\">\r\n   <path d=\"M 0 246.958125 \r\nL 231.84 246.958125 \r\nL 231.84 0 \r\nL 0 0 \r\nz\r\n\" style=\"fill:none;\"/>\r\n  </g>\r\n  <g id=\"axes_1\">\r\n   <g clip-path=\"url(#paafcfc1dd6)\">\r\n    <image height=\"218\" id=\"image7354db64ee\" transform=\"scale(1 -1)translate(0 -218)\" width=\"218\" x=\"7.2\" xlink:href=\"data:image/png;base64,\r\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\" y=\"-21.758125\"/>\r\n   </g>\r\n   <g id=\"text_1\">\r\n    <!-- steak -->\r\n    <g transform=\"translate(99.599063 16.318125)scale(0.12 -0.12)\">\r\n     <defs>\r\n      <path d=\"M 2834 3397 \r\nL 2834 2853 \r\nQ 2591 2978 2328 3040 \r\nQ 2066 3103 1784 3103 \r\nQ 1356 3103 1142 2972 \r\nQ 928 2841 928 2578 \r\nQ 928 2378 1081 2264 \r\nQ 1234 2150 1697 2047 \r\nL 1894 2003 \r\nQ 2506 1872 2764 1633 \r\nQ 3022 1394 3022 966 \r\nQ 3022 478 2636 193 \r\nQ 2250 -91 1575 -91 \r\nQ 1294 -91 989 -36 \r\nQ 684 19 347 128 \r\nL 347 722 \r\nQ 666 556 975 473 \r\nQ 1284 391 1588 391 \r\nQ 1994 391 2212 530 \r\nQ 2431 669 2431 922 \r\nQ 2431 1156 2273 1281 \r\nQ 2116 1406 1581 1522 \r\nL 1381 1569 \r\nQ 847 1681 609 1914 \r\nQ 372 2147 372 2553 \r\nQ 372 3047 722 3315 \r\nQ 1072 3584 1716 3584 \r\nQ 2034 3584 2315 3537 \r\nQ 2597 3491 2834 3397 \r\nz\r\n\" id=\"DejaVuSans-73\" transform=\"scale(0.015625)\"/>\r\n      <path d=\"M 1172 4494 \r\nL 1172 3500 \r\nL 2356 3500 \r\nL 2356 3053 \r\nL 1172 3053 \r\nL 1172 1153 \r\nQ 1172 725 1289 603 \r\nQ 1406 481 1766 481 \r\nL 2356 481 \r\nL 2356 0 \r\nL 1766 0 \r\nQ 1100 0 847 248 \r\nQ 594 497 594 1153 \r\nL 594 3053 \r\nL 172 3053 \r\nL 172 3500 \r\nL 594 3500 \r\nL 594 4494 \r\nL 1172 4494 \r\nz\r\n\" id=\"DejaVuSans-74\" transform=\"scale(0.015625)\"/>\r\n      <path d=\"M 3597 1894 \r\nL 3597 1613 \r\nL 953 1613 \r\nQ 991 1019 1311 708 \r\nQ 1631 397 2203 397 \r\nQ 2534 397 2845 478 \r\nQ 3156 559 3463 722 \r\nL 3463 178 \r\nQ 3153 47 2828 -22 \r\nQ 2503 -91 2169 -91 \r\nQ 1331 -91 842 396 \r\nQ 353 884 353 1716 \r\nQ 353 2575 817 3079 \r\nQ 1281 3584 2069 3584 \r\nQ 2775 3584 3186 3129 \r\nQ 3597 2675 3597 1894 \r\nz\r\nM 3022 2063 \r\nQ 3016 2534 2758 2815 \r\nQ 2500 3097 2075 3097 \r\nQ 1594 3097 1305 2825 \r\nQ 1016 2553 972 2059 \r\nL 3022 2063 \r\nz\r\n\" id=\"DejaVuSans-65\" transform=\"scale(0.015625)\"/>\r\n      <path d=\"M 2194 1759 \r\nQ 1497 1759 1228 1600 \r\nQ 959 1441 959 1056 \r\nQ 959 750 1161 570 \r\nQ 1363 391 1709 391 \r\nQ 2188 391 2477 730 \r\nQ 2766 1069 2766 1631 \r\nL 2766 1759 \r\nL 2194 1759 \r\nz\r\nM 3341 1997 \r\nL 3341 0 \r\nL 2766 0 \r\nL 2766 531 \r\nQ 2569 213 2275 61 \r\nQ 1981 -91 1556 -91 \r\nQ 1019 -91 701 211 \r\nQ 384 513 384 1019 \r\nQ 384 1609 779 1909 \r\nQ 1175 2209 1959 2209 \r\nL 2766 2209 \r\nL 2766 2266 \r\nQ 2766 2663 2505 2880 \r\nQ 2244 3097 1772 3097 \r\nQ 1472 3097 1187 3025 \r\nQ 903 2953 641 2809 \r\nL 641 3341 \r\nQ 956 3463 1253 3523 \r\nQ 1550 3584 1831 3584 \r\nQ 2591 3584 2966 3190 \r\nQ 3341 2797 3341 1997 \r\nz\r\n\" id=\"DejaVuSans-61\" transform=\"scale(0.015625)\"/>\r\n      <path d=\"M 581 4863 \r\nL 1159 4863 \r\nL 1159 1991 \r\nL 2875 3500 \r\nL 3609 3500 \r\nL 1753 1863 \r\nL 3688 0 \r\nL 2938 0 \r\nL 1159 1709 \r\nL 1159 0 \r\nL 581 0 \r\nL 581 4863 \r\nz\r\n\" id=\"DejaVuSans-6b\" transform=\"scale(0.015625)\"/>\r\n     </defs>\r\n     <use xlink:href=\"#DejaVuSans-73\"/>\r\n     <use x=\"52.099609\" xlink:href=\"#DejaVuSans-74\"/>\r\n     <use x=\"91.308594\" xlink:href=\"#DejaVuSans-65\"/>\r\n     <use x=\"152.832031\" xlink:href=\"#DejaVuSans-61\"/>\r\n     <use x=\"214.111328\" xlink:href=\"#DejaVuSans-6b\"/>\r\n    </g>\r\n   </g>\r\n  </g>\r\n </g>\r\n <defs>\r\n  <clipPath id=\"paafcfc1dd6\">\r\n   <rect height=\"217.44\" width=\"217.44\" x=\"7.2\" y=\"22.318125\"/>\r\n  </clipPath>\r\n </defs>\r\n</svg>\r\n",
      "image/png": "[encoded data removed]"
     },
     "metadata": {
      "needs_background": "light"
     }
    }
   ],
   "source": [
    "# Plot an image from tensorflow datasets\n",
    "plt.imshow(image)\n",
    "plt.title(class_names[label.numpy()])\n",
    "plt.axis(False)"
   ]
  },
  {
   "source": [
    "# Create Preprocesing Functions for our Data\n",
    "\n",
    "Neural networks perform best when data is in a certain way (eg batched, normalized, etc)\n",
    "\n",
    "However, not all data (including data from TensorFlow datasets) come like this.\n",
    "\n",
    "So in order to get it ready for a neural network, you'lloften have to write preprocessing functions and map it to your data.\n",
    "\n",
    "What we know about our data:\n",
    "* Its in unit8 datatype\n",
    "* Comprised of all different sized tensors (images)\n",
    "* Not scaled (so the pixel values are between 0 and 255)\n",
    "\n",
    "What we know models like:\n",
    "* Data in float32 dtype (or for mixed precision float16 and float32)\n",
    "* For batches, tensorflow likes all of the tensors witrhin a batch to be of the same size\n",
    "* Scaled (values between 0 and 1) also called normalized tensors generally perform better\n",
    "\n",
    "With these points in mind, we've got a few things we can tackle with a preprocessing function.\n",
    "\n",
    "Since we're going to be using an EfficientBx pretrained model from tf.keras.applications we dont need to rescale our data (these architectures have rescaling built in).\n",
    "\n",
    "This means our function needs to:\n",
    "* 1. Reshape our images to all the same size\n",
    "* 2. Convert the dtype of our images from uint8 to float32\n",
    "\n"
   ],
   "cell_type": "markdown",
   "metadata": {}
  },
  {
   "cell_type": "code",
   "execution_count": 27,
   "metadata": {},
   "outputs": [],
   "source": [
    "# Make a function for preprocessing images\n",
    "def preprocess_img(image,  label, img_shape=224):\n",
    "    \"\"\"\n",
    "    Converts image datatype from uint8 to float32 and reshapes image to [img_shape, img_shape, color_channels]\n",
    "    \"\"\"\n",
    "    image = tf.image.resize(image, [img_shape,img_shape])\n",
    "    #image = image/255. # Scale image values. Not required with EfficientNetBx models\n",
    "    return tf.cast(image, tf.float32), label # return a tuple of (float32_image, label)"
   ]
  },
  {
   "cell_type": "code",
   "execution_count": 28,
   "metadata": {},
   "outputs": [
    {
     "output_type": "stream",
     "name": "stdout",
     "text": [
      "Image before preprocessing:\n[[[113  50  41]\n  [111  48  39]\n  [109  46  37]\n  ...\n  [243 226 219]\n  [242 223 217]\n  [241 222 216]]\n\n [[117  54  45]\n  [114  51  42]\n  [111  48  39]\n  ...\n  [230 210 201]\n  [226 203 197]\n  [221 198 190]]]..., \nShape:(512, 512, 3)) \nDatatype: <dtype: 'uint8'>\nImage after preprocessing:\n[[[113.87245   50.87245   41.87245 ]\n  [109.091835  46.091835  37.091835]\n  [112.06633   49.06633   40.06633 ]\n  ...\n  [243.97449  228.12238  224.41829 ]\n  [238.95403  219.69382  213.59685 ]\n  [230.43864  208.86722  202.40799 ]]\n\n [[117.31122   57.908165  49.908165]\n  [112.93368   52.933674  44.933674]\n  [108.37245   48.37245   40.37245 ]\n  ...\n  [155.57123  118.78546  107.759964]\n  [141.12746  102.70395   88.056   ]\n  [121.188446  79.85681   66.16293 ]]]..., \nShape:(224, 224, 3)) \nDatatype: <dtype: 'float32'>\n"
     ]
    },
    {
     "output_type": "execute_result",
     "data": {
      "text/plain": [
       "<tf.Tensor: shape=(224, 224, 3), dtype=float32, numpy=\n",
       "array([[[113.87245 ,  50.87245 ,  41.87245 ],\n",
       "        [109.091835,  46.091835,  37.091835],\n",
       "        [112.06633 ,  49.06633 ,  40.06633 ],\n",
       "        ...,\n",
       "        [243.97449 , 228.12238 , 224.41829 ],\n",
       "        [238.95403 , 219.69382 , 213.59685 ],\n",
       "        [230.43864 , 208.86722 , 202.40799 ]],\n",
       "\n",
       "       [[117.31122 ,  57.908165,  49.908165],\n",
       "        [112.93368 ,  52.933674,  44.933674],\n",
       "        [108.37245 ,  48.37245 ,  40.37245 ],\n",
       "        ...,\n",
       "        [155.57123 , 118.78546 , 107.759964],\n",
       "        [141.12746 , 102.70395 ,  88.056   ],\n",
       "        [121.188446,  79.85681 ,  66.16293 ]],\n",
       "\n",
       "       [[110.86224 ,  54.290817,  47.719387],\n",
       "        [112.71429 ,  56.142857,  49.571426],\n",
       "        [111.35714 ,  52.571426,  47.      ],\n",
       "        ...,\n",
       "        [131.995   ,  69.831696,  50.6633  ],\n",
       "        [136.64285 ,  70.09693 ,  49.683666],\n",
       "        [138.49492 ,  71.352066,  51.13778 ]],\n",
       "\n",
       "       ...,\n",
       "\n",
       "       [[231.      , 240.      , 247.      ],\n",
       "        [231.      , 240.      , 247.      ],\n",
       "        [231.38263 , 240.38263 , 247.38263 ],\n",
       "        ...,\n",
       "        [194.      , 183.      , 179.      ],\n",
       "        [194.      , 183.      , 179.      ],\n",
       "        [194.      , 183.      , 179.      ]],\n",
       "\n",
       "       [[232.      , 241.      , 248.      ],\n",
       "        [232.      , 241.      , 248.      ],\n",
       "        [233.      , 242.      , 249.      ],\n",
       "        ...,\n",
       "        [194.      , 183.      , 179.      ],\n",
       "        [194.      , 183.      , 179.      ],\n",
       "        [194.      , 183.      , 179.      ]],\n",
       "\n",
       "       [[231.      , 240.      , 247.      ],\n",
       "        [231.64282 , 240.64282 , 247.64282 ],\n",
       "        [231.71936 , 240.71936 , 247.71936 ],\n",
       "        ...,\n",
       "        [194.      , 183.      , 179.      ],\n",
       "        [194.      , 183.      , 179.      ],\n",
       "        [194.      , 183.      , 179.      ]]], dtype=float32)>"
      ]
     },
     "metadata": {},
     "execution_count": 28
    }
   ],
   "source": [
    "# Preprocess a single sampleimage and check the outputs\n",
    "preprocessed_img = preprocess_img(image, label)[0]\n",
    "print(f\"Image before preprocessing:\\n{image[:2]}..., \\nShape:{image.shape}) \\nDatatype: {image.dtype}\")\n",
    "print(f\"Image after preprocessing:\\n{preprocessed_img[:2]}..., \\nShape:{preprocessed_img.shape}) \\nDatatype: {preprocessed_img.dtype}\")\n",
    "preprocessed_img"
   ]
  },
  {
   "cell_type": "code",
   "execution_count": null,
   "metadata": {},
   "outputs": [],
   "source": []
  },
  {
   "source": [
    "# OLD STUFF"
   ],
   "cell_type": "markdown",
   "metadata": {}
  },
  {
   "cell_type": "code",
   "execution_count": null,
   "metadata": {},
   "outputs": [],
   "source": [
    "# Make the base data directory if it doesnt exist\n",
    "if not os.path.exists(base_data_dir):\n",
    "    os.makedirs(base_data_dir)"
   ]
  },
  {
   "cell_type": "code",
   "execution_count": null,
   "metadata": {},
   "outputs": [],
   "source": [
    "# Get the data set\n",
    "# TODO: UNCOMMENT ME if you havent downloaded it yet\n",
    "if not os.path.isfile(zip_download_file):\n",
    "    !wget $data_source_url -O $zip_download_file"
   ]
  },
  {
   "cell_type": "code",
   "execution_count": null,
   "metadata": {},
   "outputs": [],
   "source": [
    "# Unzip the data\n",
    "# Get the data set\n",
    "# TODO: UNCOMMENT ME if you havent downloaded and unzipped it yet\n",
    "if not os.path.exists(data_dir):\n",
    "    zip_ref = zipfile.ZipFile(zip_download_file)\n",
    "    zip_ref.extractall(path=zip_extract_location)\n",
    "    zip_ref.close()"
   ]
  },
  {
   "cell_type": "code",
   "execution_count": null,
   "metadata": {
    "tags": [
     "outputPrepend"
    ]
   },
   "outputs": [],
   "source": [
    "# Walk through the data directory and list number of files\n",
    "helpers.walk_directory(data_dir)"
   ]
  },
  {
   "source": [
    "# 1. Visualize our Images"
   ],
   "cell_type": "markdown",
   "metadata": {}
  },
  {
   "cell_type": "code",
   "execution_count": null,
   "metadata": {},
   "outputs": [],
   "source": [
    "# Show the class names we have\n",
    "class_names = helpers.get_class_names_from_directory(data_dir+\"/train/\")\n",
    "print(class_names), len(class_names)"
   ]
  },
  {
   "cell_type": "code",
   "execution_count": null,
   "metadata": {},
   "outputs": [],
   "source": [
    "# View a random image from the training data set\n",
    "helpers.view_random_images_from_directory (\n",
    "    directory = train_data_dir, \n",
    "    class_names = class_names,\n",
    "    #Optionally pass in a specific class to show only images from that class\n",
    "    #class_to_show = random.choice(class_names),\n",
    "    num_images=4,\n",
    "    figsize=(20,20)\n",
    ")"
   ]
  },
  {
   "source": [
    "# 2. Preprocess our Images\n",
    "\n",
    "Our next step is to turn our data into batches and load our training and test sets.\n",
    "\n",
    "A batch is a small subset of data. Rather than look at all ~10k images, a model might only look at 32 at a time. \n",
    "\n",
    "It does this for a couple of reasons:\n",
    "* 10k images might not fit into the memory of the procesor\n",
    "* Trying to learn the patterns in 10k images in one hit could result in the model not being able to learn very well.\n",
    "\n",
    "Why 32?\n",
    "\n",
    "Because 32 is good for your health per Yann Lecun. (google yann lecun batchsize, see his twitter post). Yann Lecun is a professor at NYU"
   ],
   "cell_type": "markdown",
   "metadata": {}
  },
  {
   "cell_type": "code",
   "execution_count": null,
   "metadata": {},
   "outputs": [],
   "source": [
    "#Constants\n",
    "IMAGE_SIZE = (224, 224)\n",
    "BATCH_SIZE = 32\n",
    "RANDOM_SEED = 42\n",
    "\n",
    "# Set the seed for reproducibility\n",
    "tf.random.set_seed(RANDOM_SEED)\n",
    "\n",
    "# image_dataset_from_directory creates a tf.data.DataSet return type and is faster\n",
    "# than using ImageDataGenerator.flow_from_directory\n",
    "train_data = tf.keras.preprocessing.image_dataset_from_directory (\n",
    "    directory=train_data_dir,\n",
    "    # Reshape all the images to be the same size. \n",
    "    image_size=IMAGE_SIZE,\n",
    "    label_mode = \"categorical\", # categorical (2d one hot encoded labels) or binary\n",
    "    batch_size = BATCH_SIZE,\n",
    "    seed = RANDOM_SEED\n",
    ")\n",
    "\n",
    "test_data = tf.keras.preprocessing.image_dataset_from_directory (\n",
    "    directory=test_data_dir,\n",
    "    # Reshape all the images to be the same size. \n",
    "    image_size=IMAGE_SIZE,\n",
    "    label_mode = \"categorical\", # categorical (2d one hot encoded labels) or binary\n",
    "    batch_size = BATCH_SIZE,\n",
    "    seed = RANDOM_SEED,\n",
    "    shuffle=False # Dont shuffle the test data, we want it to stay in the same order so we can better evaluate it later\n",
    ")\n"
   ]
  },
  {
   "cell_type": "code",
   "execution_count": null,
   "metadata": {},
   "outputs": [],
   "source": [
    "#Shape is 224x224 image with 3 color channels, and then a 1 hot encoded label\n",
    "train_data"
   ]
  },
  {
   "cell_type": "code",
   "execution_count": null,
   "metadata": {},
   "outputs": [],
   "source": [
    "# How many batches are there. \n",
    "# Multiply this by BATCH_SIZE should get you a number equal to about the number of images in the dataset\n",
    "len(train_data)"
   ]
  },
  {
   "cell_type": "code",
   "execution_count": null,
   "metadata": {},
   "outputs": [],
   "source": [
    "# Load the specified number of batches from our image dataset, and show random images\n",
    "helpers.view_random_images_from_tf_dataset(dataset=train_data, class_names=class_names, batches=2, num_images=8, figsize=(20,15))"
   ]
  },
  {
   "source": [
    "# Model_0 - the base Feature Extraction Model"
   ],
   "cell_type": "markdown",
   "metadata": {}
  },
  {
   "source": [
    "## Create Model 0: Building a transfer learning feature extraction model using the Keras Functional API\n",
    "\n",
    "Here are the steps we're going to take:\n",
    "* Create a ModelCheckpoint callback\n",
    "* Create a data augmentation layer to build data augmentation right into the Model\n",
    "* Build a headless (no top layers) Functional EfficientNetB0 backboned-model (we'll create our own output layer)\n",
    "* Compile our model\n",
    "* Feature extract for 5 full passes (5 epochs) on the train dataset and validate on 15% of the test data to save epoch time.\n",
    "\n"
   ],
   "cell_type": "markdown",
   "metadata": {}
  },
  {
   "cell_type": "code",
   "execution_count": null,
   "metadata": {},
   "outputs": [],
   "source": [
    "#\n",
    "# Setup callbacks\n",
    "#\n",
    "# TensorBoard callback\n",
    "tensorboard_callback = helpers.create_tensorboard_callback(tensorboard_dir, \"model_0\")\n",
    "# Model Checkpoint callback\n",
    "checkpoint_callback = helpers.create_model_checkpoint_callback(model_checkpoint_dir, \"model_0\")\n",
    "\n",
    "#\n",
    "# Create data augmentation stage with horizontal flipping, rotations, zooms, etc\n",
    "# \n",
    "data_augmentation = tf.keras.Sequential([\n",
    "    tf.keras.layers.experimental.preprocessing.RandomFlip(\"horizontal\"),\n",
    "    tf.keras.layers.experimental.preprocessing.RandomRotation(0.2),\n",
    "    tf.keras.layers.experimental.preprocessing.RandomZoom(0.2),\n",
    "    tf.keras.layers.experimental.preprocessing.RandomHeight(0.2),\n",
    "    tf.keras.layers.experimental.preprocessing.RandomWidth(0.2)\n",
    "    #tf.keras.layers.experimental.preprocessing.Rescaling(1./255) # Keep for models like Resnet50V2, but EfficientNets have rescaling built in\n",
    "], name=\"data_augmentation\")\n",
    "\n",
    "\n",
    "#\n",
    "# Create a base model with tf.keras.applications\n",
    "# The top layer has 1000 output neurons for the model trained on ImageNet. We want to\n",
    "# be able to specify that our model has a different number of outputs\n",
    "#\n",
    "base_model = tf.keras.applications.EfficientNetB0(include_top=False)\n",
    "\n",
    "# Freeze the base model (so the underlying pre-trained patterns aren't updated during training)\n",
    "base_model.trainable = False\n",
    "\n",
    "# Create inputs into our model. Setup model architecture with trainable top layers\n",
    "inputs = tf.keras.layers.Input(shape=(224, 224, 3),  name=\"input_layer\")\n",
    "\n",
    "# Augment Images (only happens during training phase)\n",
    "x = data_augmentation(inputs)\n",
    "\n",
    "# Pass the inputs to the base model\n",
    "# Training = false puts the base model in inference mode so weights which need to stay frozen, stay frozen\n",
    "x = base_model(x, training=False)\n",
    "\n",
    "print(f\"Shape after passing inputs through base model: {x.shape}\")\n",
    "\n",
    "# Average pool the outputs of the base model (aggregate all the most important information, reduce the number of computations)\n",
    "x = tf.keras.layers.GlobalAveragePooling2D(name=\"global_average_pooling_layer\")(x)\n",
    "print(f\"Shape after GlobalAveragePooling2D: {x.shape}\")\n",
    "\n",
    "# Create the output activation layer\n",
    "outputs = tf.keras.layers.Dense(len(class_names), activation=\"softmax\", name=\"output_layer\")(x)\n",
    "\n",
    "# Combine the inputs with the outputs into a model\n",
    "model_0 = tf.keras.Model(inputs, outputs)\n",
    "\n",
    "# Compile the Model\n",
    "model_0.compile (\n",
    "    loss=tf.keras.losses.categorical_crossentropy,\n",
    "    optimizer=tf.keras.optimizers.Adam(),\n",
    "    metrics=[\"accuracy\"]\n",
    ")\n",
    "\n",
    "# Fit the model and save its history\n",
    "history_0 = model_0.fit(\n",
    "    train_data,\n",
    "    epochs=5,\n",
    "    steps_per_epoch=len(train_data),\n",
    "    validation_data=test_data,\n",
    "    # We can tweak the number of validation steps if we want to try to speed it up by \n",
    "    # not validating on everything in the folder.\n",
    "    #validation_steps=len(test_data),\n",
    "    # Only validate on 15% of the test data\n",
    "    validation_steps=int(0.15 * len(test_data)),\n",
    "    callbacks=[tensorboard_callback, checkpoint_callback]\n",
    ")\n"
   ]
  },
  {
   "cell_type": "code",
   "execution_count": null,
   "metadata": {},
   "outputs": [],
   "source": [
    "# Get a summary of the model we created\n",
    "model_0.summary()"
   ]
  },
  {
   "cell_type": "code",
   "execution_count": null,
   "metadata": {},
   "outputs": [],
   "source": [
    "# Layers in loaded model\n",
    "model_0.layers"
   ]
  },
  {
   "cell_type": "code",
   "execution_count": null,
   "metadata": {},
   "outputs": [],
   "source": [
    "# What layers in the model are trainable\n",
    "for i, layer in enumerate(model_0.layers):\n",
    "    print(i, layer.name, layer, layer.trainable)"
   ]
  },
  {
   "cell_type": "code",
   "execution_count": null,
   "metadata": {
    "tags": [
     "outputPrepend"
    ]
   },
   "outputs": [],
   "source": [
    "# Look at the layers within the efficient net v0 model and see if they are trainable\n",
    "for i, layer in enumerate(model_0.layers[2].layers):\n",
    "    print(i, layer.name, layer, layer.trainable)"
   ]
  },
  {
   "cell_type": "code",
   "execution_count": null,
   "metadata": {},
   "outputs": [],
   "source": [
    "#How many variables in the efficent net layer are trainable?\n",
    "print(len(model_0.layers[2].trainable_variables))"
   ]
  },
  {
   "source": [
    "## Evaluate Model 0: Building a transfer learning feature extraction model using the Keras Functional API"
   ],
   "cell_type": "markdown",
   "metadata": {}
  },
  {
   "cell_type": "code",
   "execution_count": null,
   "metadata": {},
   "outputs": [],
   "source": [
    "# Lets evaluate model_0 now\n",
    "model_0.evaluate(test_data)"
   ]
  },
  {
   "cell_type": "code",
   "execution_count": null,
   "metadata": {},
   "outputs": [],
   "source": [
    "# Checkout the loss and accuracy of the model\n",
    "# Ideally the two curves should be very close to each other.\n",
    "# If training loss is decreasing, but validation loss is increasing, then it shows our model is overfitting.\n",
    "# If the model is overfitting (learning the training data too well) it will get great results on the \n",
    "# training data, but it is failing to generalize well to unseen data and it performs poorly on the test data.\n",
    "helpers.plot_loss_curves(history_0)"
   ]
  },
  {
   "source": [
    "# Model_1 - fine tune Model_0 (the base Feature Extraction Model)"
   ],
   "cell_type": "markdown",
   "metadata": {}
  },
  {
   "cell_type": "code",
   "execution_count": null,
   "metadata": {
    "tags": []
   },
   "outputs": [],
   "source": [
    "# Make a clone of the model_0 that we can fine tune model_1\n",
    "\n",
    "# We have 3 ways we can clone the model to allow us to fine tune a new one:\n",
    "# 1. Clone the model and copy the weights (cloning does not copy weights)\n",
    "model_1 = tf.keras.models.clone_model(model_0)\n",
    "model_1.set_weights(model_0.get_weights()) \n",
    "\n",
    "# 2. Clone the model and load the weights from the checkpoint\n",
    "#model_1 = tf.keras.models.clone_model(model_0)\n",
    "#model_1.load_weights(f\"{model_checkpoint_dir}/model_0/model_0\")\n",
    "\n",
    "# 3. Save the model and reload it\n",
    "#model_0.save(f\"{saved_model_dir}/model_0\")\n",
    "#model_1 = tf.keras.models.load_model(f\"{saved_model_dir}/model_0\")\n",
    "\n",
    "\n",
    "# Unfreeze all of the layers in the base model (efficientnetb0 layer)\n",
    "model_1.layers[2].trainable = True\n",
    "\n",
    "# Refreeze every layer except the last 5\n",
    "# Layers[2] is the the efficientnetb0 layer. Find its index by looking at model_1.layers\n",
    "for layer in model_1.layers[2].layers[:-5]:\n",
    "    layer.trainable = False\n",
    "\n",
    "# Its typically best practice to lower the learning rate by 10x when fine tuning\n",
    "# Compile the Model\n",
    "model_1.compile (\n",
    "    loss=tf.keras.losses.categorical_crossentropy,\n",
    "    optimizer=tf.keras.optimizers.Adam(learning_rate=.0001),\n",
    "    metrics=[\"accuracy\"]\n",
    ")"
   ]
  },
  {
   "cell_type": "code",
   "execution_count": null,
   "metadata": {},
   "outputs": [],
   "source": [
    "# What layers in the model are trainable\n",
    "for i, layer in enumerate(model_1.layers):\n",
    "    print(i, layer.name, layer, layer.trainable)"
   ]
  },
  {
   "cell_type": "code",
   "execution_count": null,
   "metadata": {
    "tags": [
     "outputPrepend"
    ]
   },
   "outputs": [],
   "source": [
    "# What layers from the base model are now trainable\n",
    "for i, layer in enumerate(model_1.layers[2].layers):\n",
    "    print(i, layer.name, layer, layer.trainable)"
   ]
  },
  {
   "cell_type": "code",
   "execution_count": null,
   "metadata": {},
   "outputs": [],
   "source": [
    "# Fit the model and save its history\n",
    "\n",
    "# Setup callbacks\n",
    "# TensorBoard callback\n",
    "tensorboard_callback = helpers.create_tensorboard_callback(tensorboard_dir, \"model_1\")\n",
    "# Model Checkpoint callback\n",
    "checkpoint_callback = helpers.create_model_checkpoint_callback(model_checkpoint_dir, \"model_1\")\n",
    "\n",
    "# We want to fine tune for 5 more epochs from our base feature extraction model\n",
    "num_fine_tune_epochs = len(history_0.epoch) + 5\n",
    "\n",
    "history_1 = model_1.fit(\n",
    "    train_data,\n",
    "    epochs=num_fine_tune_epochs,\n",
    "    steps_per_epoch=len(train_data),\n",
    "    validation_data=test_data,\n",
    "    # We can tweak the number of validation steps if we want to try to speed it up by \n",
    "    # not validating on everything in the folder.\n",
    "    #validation_steps=len(test_data),\n",
    "    # Only validate on 15% of the test data\n",
    "    validation_steps=int(0.15 * len(test_data)),\n",
    "    callbacks=[tensorboard_callback, checkpoint_callback],\n",
    "    initial_epoch=history_0.epoch[-1]\n",
    ")"
   ]
  },
  {
   "cell_type": "code",
   "execution_count": null,
   "metadata": {},
   "outputs": [],
   "source": [
    "# Lets evaluate model_1 now\n",
    "model_1_results = model_1.evaluate(test_data)\n",
    "model_1_results"
   ]
  },
  {
   "cell_type": "code",
   "execution_count": null,
   "metadata": {},
   "outputs": [],
   "source": [
    "# The training loss continues to decline, but the validation loss has plateaued. \n",
    "# The model is still overfitting\n",
    "helpers.compare_loss_curves(history_0, history_1)"
   ]
  },
  {
   "source": [
    "# Saving and loading our model\n",
    "\n",
    "To use our model in an external application we'll need to save it and export it somewhere."
   ],
   "cell_type": "markdown",
   "metadata": {}
  },
  {
   "cell_type": "code",
   "execution_count": null,
   "metadata": {},
   "outputs": [],
   "source": [
    "# Save our fine tuned model model_1\n",
    "model_1.save(f\"{saved_model_dir}/model_1\")\n"
   ]
  },
  {
   "cell_type": "code",
   "execution_count": null,
   "metadata": {
    "tags": [
     "outputPrepend"
    ]
   },
   "outputs": [],
   "source": [
    "# Load and evaluate the saved model\n",
    "model_1_loaded = tf.keras.models.load_model(f\"{saved_model_dir}/model_1\")"
   ]
  },
  {
   "cell_type": "code",
   "execution_count": null,
   "metadata": {},
   "outputs": [],
   "source": [
    "# Evaluate loaded model and compare performance to pre-saved model\n",
    "model_1_loaded_results = model_1_loaded.evaluate(test_data)\n",
    "model_1_loaded_results"
   ]
  },
  {
   "cell_type": "code",
   "execution_count": null,
   "metadata": {},
   "outputs": [],
   "source": [
    "# The results from our initial model_1 and the model_1_loaded should be very similar\n",
    "model_1_results, model_1_loaded_results\n"
   ]
  },
  {
   "cell_type": "code",
   "execution_count": null,
   "metadata": {},
   "outputs": [],
   "source": [
    "np.isclose(model_1_results, model_1_loaded_results)"
   ]
  },
  {
   "source": [
    "# Evaluating the performance of model_1 across all different classes\n",
    "\n",
    "Let's make some predictions, visualize them, and then later find out which predictions were the \"most\" wrong."
   ],
   "cell_type": "markdown",
   "metadata": {}
  },
  {
   "cell_type": "code",
   "execution_count": null,
   "metadata": {},
   "outputs": [],
   "source": [
    "# Make predictions with model\n",
    "preds_probs = model_1.predict(test_data, verbose=1) # Set verbosity to see how long it is"
   ]
  },
  {
   "cell_type": "code",
   "execution_count": null,
   "metadata": {},
   "outputs": [],
   "source": [
    "# this is the number of batches (each with 32 images) in the test dataset\n",
    "len(test_data)"
   ]
  },
  {
   "cell_type": "code",
   "execution_count": null,
   "metadata": {},
   "outputs": [],
   "source": [
    "# Whatrs the shape of our predictions\n",
    "# 25,250 images, 101 classes\n",
    "preds_probs.shape"
   ]
  },
  {
   "cell_type": "code",
   "execution_count": null,
   "metadata": {},
   "outputs": [],
   "source": [
    "# Lets see what 10 predictions look like\n",
    "preds_probs[:10]"
   ]
  },
  {
   "cell_type": "code",
   "execution_count": null,
   "metadata": {},
   "outputs": [],
   "source": [
    "# What does the first prediction probability look like\n",
    "# Out model outputs a prediction probability array (with N number of variables, where \n",
    "# N is the number of classes) for each sample passed to the predict method.\n",
    "preds_probs[0], len(preds_probs[0])"
   ]
  },
  {
   "cell_type": "code",
   "execution_count": null,
   "metadata": {},
   "outputs": [],
   "source": [
    "# We get one prediction probability per class (in our case there are 101 prediction probabilities)\n",
    "print(f\"Number of prediction probabilities for sample 0: {len(preds_probs[0])}\")\n",
    "print(f\"What prediction probability sample 0 looks like:\\n {preds_probs[0]}\")\n",
    "print(f\"The class with the highest predicted probability by the model for sample 0: {preds_probs[0].argmax()}\")\n",
    "# Just show the class name tied to the probability\n",
    "class_names[np.argmax(preds_probs[0])]"
   ]
  },
  {
   "cell_type": "code",
   "execution_count": null,
   "metadata": {},
   "outputs": [],
   "source": [
    "\n",
    "# Get the predicted classes across all ~25k test data samples\n",
    "pred_classes = preds_probs.argmax(axis=1)\n",
    "\n",
    "# How do they look\n",
    "pred_classes[:10]"
   ]
  },
  {
   "cell_type": "code",
   "execution_count": null,
   "metadata": {},
   "outputs": [],
   "source": [
    "# How many pred classes do we have?\n",
    "len(pred_classes)"
   ]
  },
  {
   "source": [
    "Now we've got a predictions array of all of our models predictions. To evaluate them, we need to compare them to the ground truth labels."
   ],
   "cell_type": "markdown",
   "metadata": {}
  },
  {
   "cell_type": "code",
   "execution_count": null,
   "metadata": {},
   "outputs": [],
   "source": [
    "# To get our test labels, we need to unravel our test_data BatchDataset\n",
    "y_labels = []\n",
    "\n",
    "#unbatch will unbatch the whole data set, and create an aray of the ground truth label for every image\n",
    "for images, labels in test_data.unbatch():\n",
    "    y_labels.append(labels.numpy().argmax())\n",
    "\n",
    "# look at the first 10 labels\n",
    "y_labels[:10] "
   ]
  },
  {
   "cell_type": "code",
   "execution_count": null,
   "metadata": {},
   "outputs": [],
   "source": [
    "# How many y_labels are there\n",
    "len(y_labels)"
   ]
  },
  {
   "source": [
    "## Evaluating our models predictions\n",
    "\n",
    "One way to check that our model's predictions array is in the same order as our test labels array is to find the accuracy score.\n"
   ],
   "cell_type": "markdown",
   "metadata": {}
  },
  {
   "cell_type": "code",
   "execution_count": null,
   "metadata": {},
   "outputs": [],
   "source": [
    "# Accuracy score is in model_1_loaded_results[1]\n",
    "model_1_loaded_results"
   ]
  },
  {
   "cell_type": "code",
   "execution_count": null,
   "metadata": {},
   "outputs": [],
   "source": [
    "# Lets try scikit-learn's accuracy score function and see what it comes up with\n",
    "from sklearn.metrics import accuracy_score\n",
    "sklearn_accuracy = accuracy_score(\n",
    "    y_true = y_labels,\n",
    "    y_pred = pred_classes\n",
    ")\n",
    "sklearn_accuracy"
   ]
  },
  {
   "cell_type": "code",
   "execution_count": null,
   "metadata": {},
   "outputs": [],
   "source": [
    "#Does this metric come close to our models evaluate results?\n",
    "np.isclose(model_1_loaded_results[1], sklearn_accuracy)"
   ]
  },
  {
   "source": [
    "## Lets get visual: making a Confusion Matrix"
   ],
   "cell_type": "markdown",
   "metadata": {}
  },
  {
   "cell_type": "code",
   "execution_count": null,
   "metadata": {},
   "outputs": [],
   "source": [
    "imp.reload(helpers)\n",
    "helpers.make_confusion_matrix(\n",
    "    y_true = y_labels,\n",
    "    y_pred = pred_classes,\n",
    "    class_names = class_names.tolist(), #or we could use test_data.class_names and then not have to cast to a list\n",
    "    figsize=(100,100),\n",
    "    text_size=20\n",
    ")"
   ]
  },
  {
   "source": [
    "# Lets keep the evaluation train going. Time for a Classification Report\n",
    "\n",
    "Scikit learn has a helpful function for acquiring many different classification metrics per class (eg precision, recall, and F1) called classification report.\n",
    "\n",
    "Here are various classifcation model evaluation methods:\n",
    "* Accuracy - default metric for classification. Not the best for imbalanced classes.\n",
    "* Precision - higher precision leads to less false positives\n",
    "* Recall - higher recall leads to less false negatives\n",
    "* F1-Score - combination of precision and recall, usually a good overall metric for a classification model\n",
    "* Confusion matrix - When comparing predictions to truth labels to see where model gets confused. Can be hard to use with large numbers of classes."
   ],
   "cell_type": "markdown",
   "metadata": {}
  },
  {
   "cell_type": "code",
   "execution_count": null,
   "metadata": {},
   "outputs": [],
   "source": [
    "# This shows the results class by class (for al 101 classes)\n",
    "from sklearn.metrics import classification_report\n",
    "class_report = classification_report(y_true=y_labels, y_pred=pred_classes)\n",
    "print(class_report)\n"
   ]
  },
  {
   "cell_type": "code",
   "execution_count": null,
   "metadata": {},
   "outputs": [],
   "source": [
    "pred_classes"
   ]
  },
  {
   "cell_type": "code",
   "execution_count": null,
   "metadata": {},
   "outputs": [],
   "source": [
    "imp.reload(helpers)\n",
    "helpers.plot_classification_report(y_true=y_labels, y_pred=pred_classes, class_names=class_names, figsize=(30,30), text_size=15, metric=\"f1-score\")"
   ]
  },
  {
   "source": [
    "# Finding the most wrong predictions\n",
    "\n",
    "To find out where out model is most wrong, let's write some code to find out the following:\n",
    "* 1. Get all of the image file paths in the test dataset using the list_files() method\n",
    "* 2. Create a pandas DataFrame of the image filepaths, ground truth labels, predicted classes (from our model), max prediction probabilities, prediction class names and ground truth class names.\n",
    "* 3. Use our dataframe to find all the wrong predictions (where the ground truth label doesnt match the prediction).\n",
    "* 4. Sort the dataframe based on wrong predictions (have the highest prediction probability predictions at the top)\n",
    "* 5. Visualize the images with the highest prediction probabilitys but have the wrong prediction."
   ],
   "cell_type": "markdown",
   "metadata": {}
  },
  {
   "cell_type": "code",
   "execution_count": null,
   "metadata": {
    "tags": []
   },
   "outputs": [],
   "source": [
    "#TODO Make me a function. Name it plot_most_wrong_predictions\n",
    "#Params should be figsize,image_file_path, y_true, y_pred, prediction_probabilities,class_names,num_images_to_view,\n",
    "\n",
    "# 1. Get all of the image file paths in the test dataset\n",
    "filepaths = []\n",
    "#TODO is there a better way to do this then having to re-read in the file names?\n",
    "for filepath in tf.data.Dataset.list_files(f\"{test_data_dir}/*/*.jpg\", shuffle=False):\n",
    "    filepaths.append(filepath.numpy())\n",
    "#filepaths[:10]\n",
    "\n",
    "# 2. Create a pandas DataFrame of the image filepaths, ground truth labels, predicted classes (from our model), max prediction probabilities, prediction class names and ground truth class names.\n",
    "pred_df = pd.DataFrame({\n",
    "    \"img_path\": filepaths,\n",
    "    \"y_true\": y_labels,\n",
    "    \"y_pred\": pred_classes,\n",
    "    \"pred_conf\": preds_probs.max(axis=1), #Get the maximum predicted probability value\n",
    "    \"y_true_classname\": [class_names[i] for i in y_labels],\n",
    "    \"y_pred_classname\": [class_names[i] for i in pred_classes]\n",
    "})\n",
    "#pred_df\n",
    "\n",
    "# 3. Use our dataframe to find all the wrong predictions (where the ground truth label doesnt match the prediction).\n",
    "pred_df[\"pred_correct\"] = pred_df[\"y_true\"] == pred_df[\"y_pred\"]\n",
    "#pred_df\n",
    "\n",
    "# 4. Sort the dataframe based on wrong predictions (have the highest prediction probability predictions at the top)\n",
    "top_100_wrong = pred_df[pred_df[\"pred_correct\"] == False].sort_values(\"pred_conf\", ascending=False)[:100]\n",
    "#top_100_wrong\n",
    "\n",
    "# 5. Visualize the images with the highest prediction probabilitys but have the wrong prediction.\n",
    "num_images_to_view = 9\n",
    "start_index = 0\n",
    "plt.figure(figsize=(15,15))\n",
    "#Get the first N rows as defined in num_images_to_view\n",
    "for i, row in enumerate(top_100_wrong[start_index : start_index + num_images_to_view].itertuples()):\n",
    "    plt.subplot(3, 3, i+1)\n",
    "    #print(row.img_path)\n",
    "    # The image path comes in as a bytes object, needs to be converted to a string, and then we replace\n",
    "    # backslashes with slashes so we can make a url\n",
    "    img_path = row.img_path.decode(\"utf-8\") .replace('\\\\', '/')\n",
    "    url = f\"file:///{img_path}\"\n",
    "    #print(url)\n",
    "    raw_img, prepped_img = helpers.load_and_prep_image(url, normalize_image=True)\n",
    "    #print(img)\n",
    "    plt.imshow(prepped_img)\n",
    "    plt.title(f\"Actual: {row.y_true_classname}\\nPredicted: {row.y_pred_classname}\\nProbability: {row.pred_conf}\")\n",
    "    plt.axis(False)\n",
    "    #print(row)\n"
   ]
  },
  {
   "source": [
    "# Test Predictions on our Best Model using images from the Web"
   ],
   "cell_type": "markdown",
   "metadata": {}
  },
  {
   "cell_type": "code",
   "execution_count": null,
   "metadata": {},
   "outputs": [],
   "source": [
    "imp.reload(helpers)\n",
    "#\n",
    "# Make some test predictions on images from the web\n",
    "#\n",
    "def show_test_prediction (url):\n",
    "    helpers.predict_and_plot_image(\n",
    "        model_1, \n",
    "        class_names = class_names,\n",
    "        url = url,\n",
    "        normalize_image=False)\n",
    "\n",
    "#Steak\n",
    "show_test_prediction(\"https://raw.githubusercontent.com/mrdbourke/tensorflow-deep-learning/main/images/03-steak.jpeg\")\n",
    "show_test_prediction(\"https://hips.hearstapps.com/del.h-cdn.co/assets/18/08/1519155106-flank-steak-horizontal.jpg\")\n",
    "show_test_prediction(\"file:///c:/temp/data/10_food_classes_10_percent/10_food_classes_10_percent/test/chicken_curry/838.jpg\")\n",
    "\n",
    "#Pizza\n",
    "show_test_prediction(\"https://slice.seriouseats.com/images/2012/08/animatedpizzagifs-deal-with-it.gif\")\n",
    "show_test_prediction(\"https://upload.wikimedia.org/wikipedia/commons/1/10/Pepperoni_pizza.jpeg\")\n",
    "show_test_prediction(\"https://www.kindpng.com/picc/m/3-33626_download-pizza-png-picture-pizza-png-transparent-png.png\")\n",
    "\n",
    "#Curry\n",
    "show_test_prediction(\"https://images.squarespace-cdn.com/content/v1/57bb2e8cb3db2b9076db6369/1529609506001-AI7Y83VYPGIFN3SVU7AB/ke17ZwdGBToddI8pDm48kLkXF2pIyv_F2eUT9F60jBl7gQa3H78H3Y0txjaiv_0fDoOvxcdMmMKkDsyUqMSsMWxHk725yiiHCCLfrh8O1z4YTzHvnKhyp6Da-NYroOW3ZGjoBKy3azqku80C789l0iyqMbMesKd95J-X4EagrgU9L3Sa3U8cogeb0tjXbfawd0urKshkc5MgdBeJmALQKw/AdobeStock_142271660.jpeg\")\n",
    "\n"
   ]
  },
  {
   "source": [
    "# Comparing our Models Results Using Tensorboard\n",
    "\n",
    "Tensorboard.dev lets you easily host, track and view our results.\n",
    "Note that when you upload things to tensorboard.dev, your experiments are public. If you are running private experiments, do not upload to TensorBoard.dev\n",
    "\n",
    "To setup tensorboard locally do this :\n",
    "* pip3 install -U tensorboard\n",
    "* specify the path to a TensorBoard binary by setting the `TENSORBOARD_BINARY` environment variable.\n",
    "> set TENSORBOARD_BINARY=C:\\Users\\timar\\AppData\\Roaming\\Python\\Python38\\Scripts\\tensorboard.exe\n",
    "* Also put that folder in the PATH\n",
    "> set PATH=%PATH%;C:\\Users\\timar\\AppData\\Roaming\\Python\\Python38\\Scripts\\\n",
    "* Example to launch from command line:\n",
    "> C:\\Users\\timar\\AppData\\Roaming\\Python\\Python38\\Scripts\\tensorboard.exe --logdir=C:/Temp/data/tensorboard/"
   ],
   "cell_type": "markdown",
   "metadata": {}
  },
  {
   "cell_type": "code",
   "execution_count": null,
   "metadata": {},
   "outputs": [],
   "source": [
    "%load_ext tensorboard\n",
    "#%reload_ext tensorboard"
   ]
  },
  {
   "cell_type": "code",
   "execution_count": null,
   "metadata": {},
   "outputs": [],
   "source": [
    "%tensorboard --logdir=$tensorboard_dir --name \"Transfer Learning Experiments with 101 Food101 Classes\"\n",
    "#%tensorboard --logdir=C:/Temp/data/tensorboard/efficientnet_1"
   ]
  },
  {
   "cell_type": "code",
   "execution_count": null,
   "metadata": {},
   "outputs": [],
   "source": [
    "from IPython.display import IFrame\n",
    "IFrame('http://localhost:6006', width=700, height=350)"
   ]
  },
  {
   "cell_type": "code",
   "execution_count": null,
   "metadata": {},
   "outputs": [],
   "source": []
  }
 ]
}