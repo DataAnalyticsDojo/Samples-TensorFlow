{
 "metadata": {
  "language_info": {
   "codemirror_mode": {
    "name": "ipython",
    "version": 3
   },
   "file_extension": ".py",
   "mimetype": "text/x-python",
   "name": "python",
   "nbconvert_exporter": "python",
   "pygments_lexer": "ipython3",
   "version": "3.7.3"
  },
  "orig_nbformat": 2,
  "kernelspec": {
   "name": "python373jvsc74a57bd031f2aee4e71d21fbe5cf8b01ff0e069b9275f58929596ceb00d14d90e3e16cd6",
   "display_name": "Python 3.7.3 64-bit"
  },
  "metadata": {
   "interpreter": {
    "hash": "31f2aee4e71d21fbe5cf8b01ff0e069b9275f58929596ceb00d14d90e3e16cd6"
   }
  }
 },
 "nbformat": 4,
 "nbformat_minor": 2,
 "cells": [
  {
   "source": [
    "# Running experiments to improve our model\n",
    "\n",
    "```\n",
    "Build a model -> fit it -> evaluate it -> tweak it -> fit it -> evalute it -> tweak it -> etc\n",
    "```\n",
    "\n",
    "Ways to improve the model:\n",
    "\n",
    "1. Get more data - get more examples for your model to train on (more opportunities to learn patterns or relationships between features and labels)\n",
    "\n",
    "2. Make your model larger (using a more complex model) - this might come in the form of more layers or more hidden units in each layer.\n",
    "\n",
    "3. Train for longer - give your model more of a chance to find patterns in the data.\n",
    "\n",
    "Lets do 3 modeling experiments:\n",
    "\n",
    "1. model_1 - same as original model, 1 layer, but train for 100 epochs\n",
    "\n",
    "2. model_2 - 2 layers, trained for 100 epochs\n",
    "\n",
    "3. model_3 - 2 layers, trained for 500 epochs"
   ],
   "cell_type": "markdown",
   "metadata": {}
  },
  {
   "cell_type": "code",
   "execution_count": 108,
   "metadata": {},
   "outputs": [],
   "source": [
    "import tensorflow as tf\n",
    "import matplotlib.pyplot as plt\n",
    "import pandas as pd"
   ]
  },
  {
   "cell_type": "code",
   "execution_count": 109,
   "metadata": {},
   "outputs": [
    {
     "output_type": "stream",
     "name": "stdout",
     "text": [
      "2.4.1\n"
     ]
    },
    {
     "output_type": "execute_result",
     "data": {
      "text/plain": [
       "(None, '3.7.3 (default, Jan 22 2021, 20:04:44) \\n[GCC 8.3.0]')"
      ]
     },
     "metadata": {},
     "execution_count": 109
    }
   ],
   "source": [
    "print(tf.__version__), sys.version"
   ]
  },
  {
   "source": [
    "# Create Data"
   ],
   "cell_type": "markdown",
   "metadata": {}
  },
  {
   "cell_type": "code",
   "execution_count": 110,
   "metadata": {},
   "outputs": [],
   "source": [
    "# Set random seed for reproducibility\n",
    "tf.random.set_seed(42)"
   ]
  },
  {
   "cell_type": "code",
   "execution_count": 111,
   "metadata": {},
   "outputs": [],
   "source": [
    "# Create our training data\n",
    "X = tf.range(-100, 100, 4)\n",
    "y = X + 10"
   ]
  },
  {
   "cell_type": "code",
   "execution_count": 112,
   "metadata": {},
   "outputs": [
    {
     "output_type": "execute_result",
     "data": {
      "text/plain": [
       "<matplotlib.collections.PathCollection at 0x7ef356acc0>"
      ]
     },
     "metadata": {},
     "execution_count": 112
    },
    {
     "output_type": "display_data",
     "data": {
      "text/plain": "<Figure size 432x288 with 1 Axes>",
      "image/svg+xml": "<?xml version=\"1.0\" encoding=\"utf-8\" standalone=\"no\"?>\n<!DOCTYPE svg PUBLIC \"-//W3C//DTD SVG 1.1//EN\"\n  \"http://www.w3.org/Graphics/SVG/1.1/DTD/svg11.dtd\">\n<!-- Created with matplotlib (https://matplotlib.org/) -->\n<svg height=\"248.518125pt\" version=\"1.1\" viewBox=\"0 0 377.841758 248.518125\" width=\"377.841758pt\" xmlns=\"http://www.w3.org/2000/svg\" xmlns:xlink=\"http://www.w3.org/1999/xlink\">\n <metadata>\n  <rdf:RDF xmlns:cc=\"http://creativecommons.org/ns#\" xmlns:dc=\"http://purl.org/dc/elements/1.1/\" xmlns:rdf=\"http://www.w3.org/1999/02/22-rdf-syntax-ns#\">\n   <cc:Work>\n    <dc:type rdf:resource=\"http://purl.org/dc/dcmitype/StillImage\"/>\n    <dc:date>2021-04-04T09:12:18.758346</dc:date>\n    <dc:format>image/svg+xml</dc:format>\n    <dc:creator>\n     <cc:Agent>\n      <dc:title>Matplotlib v3.3.4, https://matplotlib.org/</dc:title>\n     </cc:Agent>\n    </dc:creator>\n   </cc:Work>\n  </rdf:RDF>\n </metadata>\n <defs>\n  <style type=\"text/css\">*{stroke-linecap:butt;stroke-linejoin:round;}</style>\n </defs>\n <g id=\"figure_1\">\n  <g id=\"patch_1\">\n   <path d=\"M 0 248.518125 \nL 377.841758 248.518125 \nL 377.841758 0 \nL 0 0 \nz\n\" style=\"fill:none;\"/>\n  </g>\n  <g id=\"axes_1\">\n   <g id=\"patch_2\">\n    <path d=\"M 35.304688 224.64 \nL 370.104688 224.64 \nL 370.104688 7.2 \nL 35.304688 7.2 \nz\n\" style=\"fill:#ffffff;\"/>\n   </g>\n   <g id=\"PathCollection_1\">\n    <defs>\n     <path d=\"M 0 3 \nC 0.795609 3 1.55874 2.683901 2.12132 2.12132 \nC 2.683901 1.55874 3 0.795609 3 0 \nC 3 -0.795609 2.683901 -1.55874 2.12132 -2.12132 \nC 1.55874 -2.683901 0.795609 -3 0 -3 \nC -0.795609 -3 -1.55874 -2.683901 -2.12132 -2.12132 \nC -2.683901 -1.55874 -3 -0.795609 -3 0 \nC -3 0.795609 -2.683901 1.55874 -2.12132 2.12132 \nC -1.55874 2.683901 -0.795609 3 0 3 \nz\n\" id=\"m68edcdddd4\" style=\"stroke:#1f77b4;\"/>\n    </defs>\n    <g clip-path=\"url(#p9deb8443b9)\">\n     <use style=\"fill:#1f77b4;stroke:#1f77b4;\" x=\"50.522869\" xlink:href=\"#m68edcdddd4\" y=\"214.756364\"/>\n     <use style=\"fill:#1f77b4;stroke:#1f77b4;\" x=\"56.734372\" xlink:href=\"#m68edcdddd4\" y=\"210.722226\"/>\n     <use style=\"fill:#1f77b4;stroke:#1f77b4;\" x=\"62.945875\" xlink:href=\"#m68edcdddd4\" y=\"206.688089\"/>\n     <use style=\"fill:#1f77b4;stroke:#1f77b4;\" x=\"69.157378\" xlink:href=\"#m68edcdddd4\" y=\"202.653952\"/>\n     <use style=\"fill:#1f77b4;stroke:#1f77b4;\" x=\"75.36888\" xlink:href=\"#m68edcdddd4\" y=\"198.619814\"/>\n     <use style=\"fill:#1f77b4;stroke:#1f77b4;\" x=\"81.580383\" xlink:href=\"#m68edcdddd4\" y=\"194.585677\"/>\n     <use style=\"fill:#1f77b4;stroke:#1f77b4;\" x=\"87.791886\" xlink:href=\"#m68edcdddd4\" y=\"190.55154\"/>\n     <use style=\"fill:#1f77b4;stroke:#1f77b4;\" x=\"94.003389\" xlink:href=\"#m68edcdddd4\" y=\"186.517403\"/>\n     <use style=\"fill:#1f77b4;stroke:#1f77b4;\" x=\"100.214892\" xlink:href=\"#m68edcdddd4\" y=\"182.483265\"/>\n     <use style=\"fill:#1f77b4;stroke:#1f77b4;\" x=\"106.426394\" xlink:href=\"#m68edcdddd4\" y=\"178.449128\"/>\n     <use style=\"fill:#1f77b4;stroke:#1f77b4;\" x=\"112.637897\" xlink:href=\"#m68edcdddd4\" y=\"174.414991\"/>\n     <use style=\"fill:#1f77b4;stroke:#1f77b4;\" x=\"118.8494\" xlink:href=\"#m68edcdddd4\" y=\"170.380853\"/>\n     <use style=\"fill:#1f77b4;stroke:#1f77b4;\" x=\"125.060903\" xlink:href=\"#m68edcdddd4\" y=\"166.346716\"/>\n     <use style=\"fill:#1f77b4;stroke:#1f77b4;\" x=\"131.272405\" xlink:href=\"#m68edcdddd4\" y=\"162.312579\"/>\n     <use style=\"fill:#1f77b4;stroke:#1f77b4;\" x=\"137.483908\" xlink:href=\"#m68edcdddd4\" y=\"158.278442\"/>\n     <use style=\"fill:#1f77b4;stroke:#1f77b4;\" x=\"143.695411\" xlink:href=\"#m68edcdddd4\" y=\"154.244304\"/>\n     <use style=\"fill:#1f77b4;stroke:#1f77b4;\" x=\"149.906914\" xlink:href=\"#m68edcdddd4\" y=\"150.210167\"/>\n     <use style=\"fill:#1f77b4;stroke:#1f77b4;\" x=\"156.118417\" xlink:href=\"#m68edcdddd4\" y=\"146.17603\"/>\n     <use style=\"fill:#1f77b4;stroke:#1f77b4;\" x=\"162.329919\" xlink:href=\"#m68edcdddd4\" y=\"142.141892\"/>\n     <use style=\"fill:#1f77b4;stroke:#1f77b4;\" x=\"168.541422\" xlink:href=\"#m68edcdddd4\" y=\"138.107755\"/>\n     <use style=\"fill:#1f77b4;stroke:#1f77b4;\" x=\"174.752925\" xlink:href=\"#m68edcdddd4\" y=\"134.073618\"/>\n     <use style=\"fill:#1f77b4;stroke:#1f77b4;\" x=\"180.964428\" xlink:href=\"#m68edcdddd4\" y=\"130.039481\"/>\n     <use style=\"fill:#1f77b4;stroke:#1f77b4;\" x=\"187.175931\" xlink:href=\"#m68edcdddd4\" y=\"126.005343\"/>\n     <use style=\"fill:#1f77b4;stroke:#1f77b4;\" x=\"193.387433\" xlink:href=\"#m68edcdddd4\" y=\"121.971206\"/>\n     <use style=\"fill:#1f77b4;stroke:#1f77b4;\" x=\"199.598936\" xlink:href=\"#m68edcdddd4\" y=\"117.937069\"/>\n     <use style=\"fill:#1f77b4;stroke:#1f77b4;\" x=\"205.810439\" xlink:href=\"#m68edcdddd4\" y=\"113.902931\"/>\n     <use style=\"fill:#1f77b4;stroke:#1f77b4;\" x=\"212.021942\" xlink:href=\"#m68edcdddd4\" y=\"109.868794\"/>\n     <use style=\"fill:#1f77b4;stroke:#1f77b4;\" x=\"218.233444\" xlink:href=\"#m68edcdddd4\" y=\"105.834657\"/>\n     <use style=\"fill:#1f77b4;stroke:#1f77b4;\" x=\"224.444947\" xlink:href=\"#m68edcdddd4\" y=\"101.800519\"/>\n     <use style=\"fill:#1f77b4;stroke:#1f77b4;\" x=\"230.65645\" xlink:href=\"#m68edcdddd4\" y=\"97.766382\"/>\n     <use style=\"fill:#1f77b4;stroke:#1f77b4;\" x=\"236.867953\" xlink:href=\"#m68edcdddd4\" y=\"93.732245\"/>\n     <use style=\"fill:#1f77b4;stroke:#1f77b4;\" x=\"243.079456\" xlink:href=\"#m68edcdddd4\" y=\"89.698108\"/>\n     <use style=\"fill:#1f77b4;stroke:#1f77b4;\" x=\"249.290958\" xlink:href=\"#m68edcdddd4\" y=\"85.66397\"/>\n     <use style=\"fill:#1f77b4;stroke:#1f77b4;\" x=\"255.502461\" xlink:href=\"#m68edcdddd4\" y=\"81.629833\"/>\n     <use style=\"fill:#1f77b4;stroke:#1f77b4;\" x=\"261.713964\" xlink:href=\"#m68edcdddd4\" y=\"77.595696\"/>\n     <use style=\"fill:#1f77b4;stroke:#1f77b4;\" x=\"267.925467\" xlink:href=\"#m68edcdddd4\" y=\"73.561558\"/>\n     <use style=\"fill:#1f77b4;stroke:#1f77b4;\" x=\"274.13697\" xlink:href=\"#m68edcdddd4\" y=\"69.527421\"/>\n     <use style=\"fill:#1f77b4;stroke:#1f77b4;\" x=\"280.348472\" xlink:href=\"#m68edcdddd4\" y=\"65.493284\"/>\n     <use style=\"fill:#1f77b4;stroke:#1f77b4;\" x=\"286.559975\" xlink:href=\"#m68edcdddd4\" y=\"61.459147\"/>\n     <use style=\"fill:#1f77b4;stroke:#1f77b4;\" x=\"292.771478\" xlink:href=\"#m68edcdddd4\" y=\"57.425009\"/>\n     <use style=\"fill:#1f77b4;stroke:#1f77b4;\" x=\"298.982981\" xlink:href=\"#m68edcdddd4\" y=\"53.390872\"/>\n     <use style=\"fill:#1f77b4;stroke:#1f77b4;\" x=\"305.194483\" xlink:href=\"#m68edcdddd4\" y=\"49.356735\"/>\n     <use style=\"fill:#1f77b4;stroke:#1f77b4;\" x=\"311.405986\" xlink:href=\"#m68edcdddd4\" y=\"45.322597\"/>\n     <use style=\"fill:#1f77b4;stroke:#1f77b4;\" x=\"317.617489\" xlink:href=\"#m68edcdddd4\" y=\"41.28846\"/>\n     <use style=\"fill:#1f77b4;stroke:#1f77b4;\" x=\"323.828992\" xlink:href=\"#m68edcdddd4\" y=\"37.254323\"/>\n     <use style=\"fill:#1f77b4;stroke:#1f77b4;\" x=\"330.040495\" xlink:href=\"#m68edcdddd4\" y=\"33.220186\"/>\n     <use style=\"fill:#1f77b4;stroke:#1f77b4;\" x=\"336.251997\" xlink:href=\"#m68edcdddd4\" y=\"29.186048\"/>\n     <use style=\"fill:#1f77b4;stroke:#1f77b4;\" x=\"342.4635\" xlink:href=\"#m68edcdddd4\" y=\"25.151911\"/>\n     <use style=\"fill:#1f77b4;stroke:#1f77b4;\" x=\"348.675003\" xlink:href=\"#m68edcdddd4\" y=\"21.117774\"/>\n     <use style=\"fill:#1f77b4;stroke:#1f77b4;\" x=\"354.886506\" xlink:href=\"#m68edcdddd4\" y=\"17.083636\"/>\n    </g>\n   </g>\n   <g id=\"matplotlib.axis_1\">\n    <g id=\"xtick_1\">\n     <g id=\"line2d_1\">\n      <defs>\n       <path d=\"M 0 0 \nL 0 3.5 \n\" id=\"m365f562b36\" style=\"stroke:#000000;stroke-width:0.8;\"/>\n      </defs>\n      <g>\n       <use style=\"stroke:#000000;stroke-width:0.8;\" x=\"50.522869\" xlink:href=\"#m365f562b36\" y=\"224.64\"/>\n      </g>\n     </g>\n     <g id=\"text_1\">\n      <!-- −100 -->\n      <g transform=\"translate(36.789276 239.238437)scale(0.1 -0.1)\">\n       <defs>\n        <path d=\"M 10.59375 35.5 \nL 73.1875 35.5 \nL 73.1875 27.203125 \nL 10.59375 27.203125 \nz\n\" id=\"DejaVuSans-8722\"/>\n        <path d=\"M 12.40625 8.296875 \nL 28.515625 8.296875 \nL 28.515625 63.921875 \nL 10.984375 60.40625 \nL 10.984375 69.390625 \nL 28.421875 72.90625 \nL 38.28125 72.90625 \nL 38.28125 8.296875 \nL 54.390625 8.296875 \nL 54.390625 0 \nL 12.40625 0 \nz\n\" id=\"DejaVuSans-49\"/>\n        <path d=\"M 31.78125 66.40625 \nQ 24.171875 66.40625 20.328125 58.90625 \nQ 16.5 51.421875 16.5 36.375 \nQ 16.5 21.390625 20.328125 13.890625 \nQ 24.171875 6.390625 31.78125 6.390625 \nQ 39.453125 6.390625 43.28125 13.890625 \nQ 47.125 21.390625 47.125 36.375 \nQ 47.125 51.421875 43.28125 58.90625 \nQ 39.453125 66.40625 31.78125 66.40625 \nz\nM 31.78125 74.21875 \nQ 44.046875 74.21875 50.515625 64.515625 \nQ 56.984375 54.828125 56.984375 36.375 \nQ 56.984375 17.96875 50.515625 8.265625 \nQ 44.046875 -1.421875 31.78125 -1.421875 \nQ 19.53125 -1.421875 13.0625 8.265625 \nQ 6.59375 17.96875 6.59375 36.375 \nQ 6.59375 54.828125 13.0625 64.515625 \nQ 19.53125 74.21875 31.78125 74.21875 \nz\n\" id=\"DejaVuSans-48\"/>\n       </defs>\n       <use xlink:href=\"#DejaVuSans-8722\"/>\n       <use x=\"83.789062\" xlink:href=\"#DejaVuSans-49\"/>\n       <use x=\"147.412109\" xlink:href=\"#DejaVuSans-48\"/>\n       <use x=\"211.035156\" xlink:href=\"#DejaVuSans-48\"/>\n      </g>\n     </g>\n    </g>\n    <g id=\"xtick_2\">\n     <g id=\"line2d_2\">\n      <g>\n       <use style=\"stroke:#000000;stroke-width:0.8;\" x=\"89.344762\" xlink:href=\"#m365f562b36\" y=\"224.64\"/>\n      </g>\n     </g>\n     <g id=\"text_2\">\n      <!-- −75 -->\n      <g transform=\"translate(78.792418 239.238437)scale(0.1 -0.1)\">\n       <defs>\n        <path d=\"M 8.203125 72.90625 \nL 55.078125 72.90625 \nL 55.078125 68.703125 \nL 28.609375 0 \nL 18.3125 0 \nL 43.21875 64.59375 \nL 8.203125 64.59375 \nz\n\" id=\"DejaVuSans-55\"/>\n        <path d=\"M 10.796875 72.90625 \nL 49.515625 72.90625 \nL 49.515625 64.59375 \nL 19.828125 64.59375 \nL 19.828125 46.734375 \nQ 21.96875 47.46875 24.109375 47.828125 \nQ 26.265625 48.1875 28.421875 48.1875 \nQ 40.625 48.1875 47.75 41.5 \nQ 54.890625 34.8125 54.890625 23.390625 \nQ 54.890625 11.625 47.5625 5.09375 \nQ 40.234375 -1.421875 26.90625 -1.421875 \nQ 22.3125 -1.421875 17.546875 -0.640625 \nQ 12.796875 0.140625 7.71875 1.703125 \nL 7.71875 11.625 \nQ 12.109375 9.234375 16.796875 8.0625 \nQ 21.484375 6.890625 26.703125 6.890625 \nQ 35.15625 6.890625 40.078125 11.328125 \nQ 45.015625 15.765625 45.015625 23.390625 \nQ 45.015625 31 40.078125 35.4375 \nQ 35.15625 39.890625 26.703125 39.890625 \nQ 22.75 39.890625 18.8125 39.015625 \nQ 14.890625 38.140625 10.796875 36.28125 \nz\n\" id=\"DejaVuSans-53\"/>\n       </defs>\n       <use xlink:href=\"#DejaVuSans-8722\"/>\n       <use x=\"83.789062\" xlink:href=\"#DejaVuSans-55\"/>\n       <use x=\"147.412109\" xlink:href=\"#DejaVuSans-53\"/>\n      </g>\n     </g>\n    </g>\n    <g id=\"xtick_3\">\n     <g id=\"line2d_3\">\n      <g>\n       <use style=\"stroke:#000000;stroke-width:0.8;\" x=\"128.166654\" xlink:href=\"#m365f562b36\" y=\"224.64\"/>\n      </g>\n     </g>\n     <g id=\"text_3\">\n      <!-- −50 -->\n      <g transform=\"translate(117.61431 239.238437)scale(0.1 -0.1)\">\n       <use xlink:href=\"#DejaVuSans-8722\"/>\n       <use x=\"83.789062\" xlink:href=\"#DejaVuSans-53\"/>\n       <use x=\"147.412109\" xlink:href=\"#DejaVuSans-48\"/>\n      </g>\n     </g>\n    </g>\n    <g id=\"xtick_4\">\n     <g id=\"line2d_4\">\n      <g>\n       <use style=\"stroke:#000000;stroke-width:0.8;\" x=\"166.988546\" xlink:href=\"#m365f562b36\" y=\"224.64\"/>\n      </g>\n     </g>\n     <g id=\"text_4\">\n      <!-- −25 -->\n      <g transform=\"translate(156.436203 239.238437)scale(0.1 -0.1)\">\n       <defs>\n        <path d=\"M 19.1875 8.296875 \nL 53.609375 8.296875 \nL 53.609375 0 \nL 7.328125 0 \nL 7.328125 8.296875 \nQ 12.9375 14.109375 22.625 23.890625 \nQ 32.328125 33.6875 34.8125 36.53125 \nQ 39.546875 41.84375 41.421875 45.53125 \nQ 43.3125 49.21875 43.3125 52.78125 \nQ 43.3125 58.59375 39.234375 62.25 \nQ 35.15625 65.921875 28.609375 65.921875 \nQ 23.96875 65.921875 18.8125 64.3125 \nQ 13.671875 62.703125 7.8125 59.421875 \nL 7.8125 69.390625 \nQ 13.765625 71.78125 18.9375 73 \nQ 24.125 74.21875 28.421875 74.21875 \nQ 39.75 74.21875 46.484375 68.546875 \nQ 53.21875 62.890625 53.21875 53.421875 \nQ 53.21875 48.921875 51.53125 44.890625 \nQ 49.859375 40.875 45.40625 35.40625 \nQ 44.1875 33.984375 37.640625 27.21875 \nQ 31.109375 20.453125 19.1875 8.296875 \nz\n\" id=\"DejaVuSans-50\"/>\n       </defs>\n       <use xlink:href=\"#DejaVuSans-8722\"/>\n       <use x=\"83.789062\" xlink:href=\"#DejaVuSans-50\"/>\n       <use x=\"147.412109\" xlink:href=\"#DejaVuSans-53\"/>\n      </g>\n     </g>\n    </g>\n    <g id=\"xtick_5\">\n     <g id=\"line2d_5\">\n      <g>\n       <use style=\"stroke:#000000;stroke-width:0.8;\" x=\"205.810439\" xlink:href=\"#m365f562b36\" y=\"224.64\"/>\n      </g>\n     </g>\n     <g id=\"text_5\">\n      <!-- 0 -->\n      <g transform=\"translate(202.629189 239.238437)scale(0.1 -0.1)\">\n       <use xlink:href=\"#DejaVuSans-48\"/>\n      </g>\n     </g>\n    </g>\n    <g id=\"xtick_6\">\n     <g id=\"line2d_6\">\n      <g>\n       <use style=\"stroke:#000000;stroke-width:0.8;\" x=\"244.632331\" xlink:href=\"#m365f562b36\" y=\"224.64\"/>\n      </g>\n     </g>\n     <g id=\"text_6\">\n      <!-- 25 -->\n      <g transform=\"translate(238.269831 239.238437)scale(0.1 -0.1)\">\n       <use xlink:href=\"#DejaVuSans-50\"/>\n       <use x=\"63.623047\" xlink:href=\"#DejaVuSans-53\"/>\n      </g>\n     </g>\n    </g>\n    <g id=\"xtick_7\">\n     <g id=\"line2d_7\">\n      <g>\n       <use style=\"stroke:#000000;stroke-width:0.8;\" x=\"283.454224\" xlink:href=\"#m365f562b36\" y=\"224.64\"/>\n      </g>\n     </g>\n     <g id=\"text_7\">\n      <!-- 50 -->\n      <g transform=\"translate(277.091724 239.238437)scale(0.1 -0.1)\">\n       <use xlink:href=\"#DejaVuSans-53\"/>\n       <use x=\"63.623047\" xlink:href=\"#DejaVuSans-48\"/>\n      </g>\n     </g>\n    </g>\n    <g id=\"xtick_8\">\n     <g id=\"line2d_8\">\n      <g>\n       <use style=\"stroke:#000000;stroke-width:0.8;\" x=\"322.276116\" xlink:href=\"#m365f562b36\" y=\"224.64\"/>\n      </g>\n     </g>\n     <g id=\"text_8\">\n      <!-- 75 -->\n      <g transform=\"translate(315.913616 239.238437)scale(0.1 -0.1)\">\n       <use xlink:href=\"#DejaVuSans-55\"/>\n       <use x=\"63.623047\" xlink:href=\"#DejaVuSans-53\"/>\n      </g>\n     </g>\n    </g>\n    <g id=\"xtick_9\">\n     <g id=\"line2d_9\">\n      <g>\n       <use style=\"stroke:#000000;stroke-width:0.8;\" x=\"361.098008\" xlink:href=\"#m365f562b36\" y=\"224.64\"/>\n      </g>\n     </g>\n     <g id=\"text_9\">\n      <!-- 100 -->\n      <g transform=\"translate(351.554258 239.238437)scale(0.1 -0.1)\">\n       <use xlink:href=\"#DejaVuSans-49\"/>\n       <use x=\"63.623047\" xlink:href=\"#DejaVuSans-48\"/>\n       <use x=\"127.246094\" xlink:href=\"#DejaVuSans-48\"/>\n      </g>\n     </g>\n    </g>\n   </g>\n   <g id=\"matplotlib.axis_2\">\n    <g id=\"ytick_1\">\n     <g id=\"line2d_10\">\n      <defs>\n       <path d=\"M 0 0 \nL -3.5 0 \n\" id=\"md464339e55\" style=\"stroke:#000000;stroke-width:0.8;\"/>\n      </defs>\n      <g>\n       <use style=\"stroke:#000000;stroke-width:0.8;\" x=\"35.304688\" xlink:href=\"#md464339e55\" y=\"199.628349\"/>\n      </g>\n     </g>\n     <g id=\"text_10\">\n      <!-- −75 -->\n      <g transform=\"translate(7.2 203.427568)scale(0.1 -0.1)\">\n       <use xlink:href=\"#DejaVuSans-8722\"/>\n       <use x=\"83.789062\" xlink:href=\"#DejaVuSans-55\"/>\n       <use x=\"147.412109\" xlink:href=\"#DejaVuSans-53\"/>\n      </g>\n     </g>\n    </g>\n    <g id=\"ytick_2\">\n     <g id=\"line2d_11\">\n      <g>\n       <use style=\"stroke:#000000;stroke-width:0.8;\" x=\"35.304688\" xlink:href=\"#md464339e55\" y=\"174.414991\"/>\n      </g>\n     </g>\n     <g id=\"text_11\">\n      <!-- −50 -->\n      <g transform=\"translate(7.2 178.214209)scale(0.1 -0.1)\">\n       <use xlink:href=\"#DejaVuSans-8722\"/>\n       <use x=\"83.789062\" xlink:href=\"#DejaVuSans-53\"/>\n       <use x=\"147.412109\" xlink:href=\"#DejaVuSans-48\"/>\n      </g>\n     </g>\n    </g>\n    <g id=\"ytick_3\">\n     <g id=\"line2d_12\">\n      <g>\n       <use style=\"stroke:#000000;stroke-width:0.8;\" x=\"35.304688\" xlink:href=\"#md464339e55\" y=\"149.201633\"/>\n      </g>\n     </g>\n     <g id=\"text_12\">\n      <!-- −25 -->\n      <g transform=\"translate(7.2 153.000851)scale(0.1 -0.1)\">\n       <use xlink:href=\"#DejaVuSans-8722\"/>\n       <use x=\"83.789062\" xlink:href=\"#DejaVuSans-50\"/>\n       <use x=\"147.412109\" xlink:href=\"#DejaVuSans-53\"/>\n      </g>\n     </g>\n    </g>\n    <g id=\"ytick_4\">\n     <g id=\"line2d_13\">\n      <g>\n       <use style=\"stroke:#000000;stroke-width:0.8;\" x=\"35.304688\" xlink:href=\"#md464339e55\" y=\"123.988275\"/>\n      </g>\n     </g>\n     <g id=\"text_13\">\n      <!-- 0 -->\n      <g transform=\"translate(21.942188 127.787493)scale(0.1 -0.1)\">\n       <use xlink:href=\"#DejaVuSans-48\"/>\n      </g>\n     </g>\n    </g>\n    <g id=\"ytick_5\">\n     <g id=\"line2d_14\">\n      <g>\n       <use style=\"stroke:#000000;stroke-width:0.8;\" x=\"35.304688\" xlink:href=\"#md464339e55\" y=\"98.774917\"/>\n      </g>\n     </g>\n     <g id=\"text_14\">\n      <!-- 25 -->\n      <g transform=\"translate(15.579688 102.574135)scale(0.1 -0.1)\">\n       <use xlink:href=\"#DejaVuSans-50\"/>\n       <use x=\"63.623047\" xlink:href=\"#DejaVuSans-53\"/>\n      </g>\n     </g>\n    </g>\n    <g id=\"ytick_6\">\n     <g id=\"line2d_15\">\n      <g>\n       <use style=\"stroke:#000000;stroke-width:0.8;\" x=\"35.304688\" xlink:href=\"#md464339e55\" y=\"73.561558\"/>\n      </g>\n     </g>\n     <g id=\"text_15\">\n      <!-- 50 -->\n      <g transform=\"translate(15.579688 77.360777)scale(0.1 -0.1)\">\n       <use xlink:href=\"#DejaVuSans-53\"/>\n       <use x=\"63.623047\" xlink:href=\"#DejaVuSans-48\"/>\n      </g>\n     </g>\n    </g>\n    <g id=\"ytick_7\">\n     <g id=\"line2d_16\">\n      <g>\n       <use style=\"stroke:#000000;stroke-width:0.8;\" x=\"35.304688\" xlink:href=\"#md464339e55\" y=\"48.3482\"/>\n      </g>\n     </g>\n     <g id=\"text_16\">\n      <!-- 75 -->\n      <g transform=\"translate(15.579688 52.147419)scale(0.1 -0.1)\">\n       <use xlink:href=\"#DejaVuSans-55\"/>\n       <use x=\"63.623047\" xlink:href=\"#DejaVuSans-53\"/>\n      </g>\n     </g>\n    </g>\n    <g id=\"ytick_8\">\n     <g id=\"line2d_17\">\n      <g>\n       <use style=\"stroke:#000000;stroke-width:0.8;\" x=\"35.304688\" xlink:href=\"#md464339e55\" y=\"23.134842\"/>\n      </g>\n     </g>\n     <g id=\"text_17\">\n      <!-- 100 -->\n      <g transform=\"translate(9.217188 26.934061)scale(0.1 -0.1)\">\n       <use xlink:href=\"#DejaVuSans-49\"/>\n       <use x=\"63.623047\" xlink:href=\"#DejaVuSans-48\"/>\n       <use x=\"127.246094\" xlink:href=\"#DejaVuSans-48\"/>\n      </g>\n     </g>\n    </g>\n   </g>\n   <g id=\"patch_3\">\n    <path d=\"M 35.304688 224.64 \nL 35.304688 7.2 \n\" style=\"fill:none;stroke:#000000;stroke-linecap:square;stroke-linejoin:miter;stroke-width:0.8;\"/>\n   </g>\n   <g id=\"patch_4\">\n    <path d=\"M 370.104688 224.64 \nL 370.104688 7.2 \n\" style=\"fill:none;stroke:#000000;stroke-linecap:square;stroke-linejoin:miter;stroke-width:0.8;\"/>\n   </g>\n   <g id=\"patch_5\">\n    <path d=\"M 35.304688 224.64 \nL 370.104688 224.64 \n\" style=\"fill:none;stroke:#000000;stroke-linecap:square;stroke-linejoin:miter;stroke-width:0.8;\"/>\n   </g>\n   <g id=\"patch_6\">\n    <path d=\"M 35.304688 7.2 \nL 370.104688 7.2 \n\" style=\"fill:none;stroke:#000000;stroke-linecap:square;stroke-linejoin:miter;stroke-width:0.8;\"/>\n   </g>\n  </g>\n </g>\n <defs>\n  <clipPath id=\"p9deb8443b9\">\n   <rect height=\"217.44\" width=\"334.8\" x=\"35.304688\" y=\"7.2\"/>\n  </clipPath>\n </defs>\n</svg>\n",
      "image/png": "[encoded data removed]"
     },
     "metadata": {
      "needs_background": "light"
     }
    }
   ],
   "source": [
    "# Visualize the data\n",
    "plt.scatter(X, y)"
   ]
  },
  {
   "cell_type": "code",
   "execution_count": 113,
   "metadata": {},
   "outputs": [
    {
     "output_type": "execute_result",
     "data": {
      "text/plain": [
       "(50, 50, 40, 10, 40, 10)"
      ]
     },
     "metadata": {},
     "execution_count": 113
    }
   ],
   "source": [
    "# Split the data into train and test sets\n",
    "X_train = X[:40] #first 40 are training samples (80% of the dataset)\n",
    "y_train = y[:40]\n",
    "\n",
    "X_test = X[40:] #last 10 are testing samples (20% of the data)\n",
    "y_test = y[40:] \n",
    "\n",
    "len(X), len(y), len(X_train), len(X_test), len(y_train), len(y_test)\n"
   ]
  },
  {
   "source": [
    "# Reusable Functions"
   ],
   "cell_type": "markdown",
   "metadata": {}
  },
  {
   "cell_type": "code",
   "execution_count": 114,
   "metadata": {},
   "outputs": [],
   "source": [
    "# Build a plotting function to visualize our results\n",
    "def plot_predictions (train_data, # = X_train,\n",
    "                      train_labels, # = y_train,\n",
    "                      test_data, # = X_test,\n",
    "                      test_labels, # = y_test,\n",
    "                      predictions):\n",
    "    \"\"\"\n",
    "    Plots training data, test data, and compares predictions to ground truth labels.\n",
    "    \"\"\"\n",
    "    plt.figure(figsize=(10,7))\n",
    "    #Plot trainging data in blue\n",
    "    plt.scatter(train_data, train_labels, c=\"b\", label=\"Training Data\")\n",
    "    # Plot testing data in green\n",
    "    plt.scatter(test_data, test_labels, c=\"g\", label=\"Testing Data\")\n",
    "    # Plot models predictions in red\n",
    "    plt.scatter(test_data, predictions, c=\"r\", label=\"Predictions\")\n",
    "    # Show the legend\n",
    "    plt.legend()\n",
    "\n",
    "# Make some functions to reuse MAE and MSE\n",
    "def mae(y_true, y_pred):\n",
    "    return tf.metrics.mean_absolute_error(y_true = y_true, y_pred = tf.squeeze(y_pred)).numpy()\n",
    "\n",
    "def mse(y_true, y_pred):\n",
    "    return tf.metrics.mean_squared_error(y_true = y_true, y_pred = tf.squeeze(y_pred)).numpy()"
   ]
  },
  {
   "source": [
    "# Model 1 Build and Evaluate\n",
    "\n",
    "1 Dense Layer, trained for 100 epochs"
   ],
   "cell_type": "markdown",
   "metadata": {}
  },
  {
   "cell_type": "code",
   "execution_count": 115,
   "metadata": {},
   "outputs": [
    {
     "output_type": "stream",
     "name": "stdout",
     "text": [
      "Epoch 1/100\n",
      "2/2 [==============================] - 1s 9ms/step - loss: 16.4124 - mae: 16.4124\n",
      "Epoch 2/100\n",
      "2/2 [==============================] - 0s 9ms/step - loss: 11.0829 - mae: 11.0829\n",
      "Epoch 3/100\n",
      "2/2 [==============================] - 0s 7ms/step - loss: 11.1242 - mae: 11.1242\n",
      "Epoch 4/100\n",
      "2/2 [==============================] - 0s 8ms/step - loss: 8.6945 - mae: 8.6945\n",
      "Epoch 5/100\n",
      "2/2 [==============================] - 0s 6ms/step - loss: 9.8003 - mae: 9.8003\n",
      "Epoch 6/100\n",
      "2/2 [==============================] - 0s 6ms/step - loss: 9.5263 - mae: 9.5263\n",
      "Epoch 7/100\n",
      "2/2 [==============================] - 0s 12ms/step - loss: 8.4102 - mae: 8.4102\n",
      "Epoch 8/100\n",
      "2/2 [==============================] - 0s 6ms/step - loss: 9.1449 - mae: 9.1449\n",
      "Epoch 9/100\n",
      "2/2 [==============================] - 0s 7ms/step - loss: 19.4932 - mae: 19.4932\n",
      "Epoch 10/100\n",
      "2/2 [==============================] - 0s 7ms/step - loss: 9.6061 - mae: 9.6061\n",
      "Epoch 11/100\n",
      "2/2 [==============================] - 0s 10ms/step - loss: 8.5992 - mae: 8.5992\n",
      "Epoch 12/100\n",
      "2/2 [==============================] - 0s 8ms/step - loss: 10.9324 - mae: 10.9324\n",
      "Epoch 13/100\n",
      "2/2 [==============================] - 0s 8ms/step - loss: 10.0574 - mae: 10.0574\n",
      "Epoch 14/100\n",
      "2/2 [==============================] - 0s 7ms/step - loss: 16.5679 - mae: 16.5679\n",
      "Epoch 15/100\n",
      "2/2 [==============================] - 0s 11ms/step - loss: 11.4537 - mae: 11.4537\n",
      "Epoch 16/100\n",
      "2/2 [==============================] - 0s 9ms/step - loss: 8.4056 - mae: 8.4056\n",
      "Epoch 17/100\n",
      "2/2 [==============================] - 0s 7ms/step - loss: 13.8417 - mae: 13.8417\n",
      "Epoch 18/100\n",
      "2/2 [==============================] - 0s 9ms/step - loss: 11.6621 - mae: 11.6621\n",
      "Epoch 19/100\n",
      "2/2 [==============================] - 0s 9ms/step - loss: 18.7623 - mae: 18.7623\n",
      "Epoch 20/100\n",
      "2/2 [==============================] - 0s 19ms/step - loss: 15.5702 - mae: 15.5702\n",
      "Epoch 21/100\n",
      "2/2 [==============================] - 0s 8ms/step - loss: 10.9959 - mae: 10.9959\n",
      "Epoch 22/100\n",
      "2/2 [==============================] - 0s 6ms/step - loss: 8.0023 - mae: 8.0023\n",
      "Epoch 23/100\n",
      "2/2 [==============================] - 0s 6ms/step - loss: 9.8593 - mae: 9.8593\n",
      "Epoch 24/100\n",
      "2/2 [==============================] - 0s 10ms/step - loss: 7.5796 - mae: 7.5796\n",
      "Epoch 25/100\n",
      "2/2 [==============================] - 0s 8ms/step - loss: 13.7226 - mae: 13.7226\n",
      "Epoch 26/100\n",
      "2/2 [==============================] - 0s 7ms/step - loss: 17.1740 - mae: 17.1740\n",
      "Epoch 27/100\n",
      "2/2 [==============================] - 0s 9ms/step - loss: 13.4233 - mae: 13.4233\n",
      "Epoch 28/100\n",
      "2/2 [==============================] - 0s 8ms/step - loss: 14.5473 - mae: 14.5473\n",
      "Epoch 29/100\n",
      "2/2 [==============================] - 0s 9ms/step - loss: 9.8753 - mae: 9.8753\n",
      "Epoch 30/100\n",
      "2/2 [==============================] - 0s 9ms/step - loss: 17.1187 - mae: 17.1187\n",
      "Epoch 31/100\n",
      "2/2 [==============================] - 0s 7ms/step - loss: 24.5949 - mae: 24.5949\n",
      "Epoch 32/100\n",
      "2/2 [==============================] - 0s 10ms/step - loss: 7.6765 - mae: 7.6765\n",
      "Epoch 33/100\n",
      "2/2 [==============================] - 0s 7ms/step - loss: 9.2971 - mae: 9.2971\n",
      "Epoch 34/100\n",
      "2/2 [==============================] - 0s 9ms/step - loss: 14.1703 - mae: 14.1703\n",
      "Epoch 35/100\n",
      "2/2 [==============================] - 0s 8ms/step - loss: 10.8635 - mae: 10.8635\n",
      "Epoch 36/100\n",
      "2/2 [==============================] - 0s 9ms/step - loss: 13.5689 - mae: 13.5689\n",
      "Epoch 37/100\n",
      "2/2 [==============================] - 0s 8ms/step - loss: 9.3448 - mae: 9.3448\n",
      "Epoch 38/100\n",
      "2/2 [==============================] - 0s 6ms/step - loss: 10.4804 - mae: 10.4804\n",
      "Epoch 39/100\n",
      "2/2 [==============================] - 0s 8ms/step - loss: 10.0178 - mae: 10.0178\n",
      "Epoch 40/100\n",
      "2/2 [==============================] - 0s 10ms/step - loss: 10.8005 - mae: 10.8005\n",
      "Epoch 41/100\n",
      "2/2 [==============================] - 0s 9ms/step - loss: 7.7789 - mae: 7.7789\n",
      "Epoch 42/100\n",
      "2/2 [==============================] - 0s 8ms/step - loss: 10.2844 - mae: 10.2844\n",
      "Epoch 43/100\n",
      "2/2 [==============================] - 0s 9ms/step - loss: 8.9628 - mae: 8.9628\n",
      "Epoch 44/100\n",
      "2/2 [==============================] - 0s 13ms/step - loss: 12.6243 - mae: 12.6243\n",
      "Epoch 45/100\n",
      "2/2 [==============================] - 0s 11ms/step - loss: 14.1236 - mae: 14.1236\n",
      "Epoch 46/100\n",
      "2/2 [==============================] - 0s 10ms/step - loss: 8.2681 - mae: 8.2681\n",
      "Epoch 47/100\n",
      "2/2 [==============================] - 0s 6ms/step - loss: 9.0126 - mae: 9.0126\n",
      "Epoch 48/100\n",
      "2/2 [==============================] - 0s 9ms/step - loss: 10.6882 - mae: 10.6882\n",
      "Epoch 49/100\n",
      "2/2 [==============================] - 0s 9ms/step - loss: 7.7431 - mae: 7.7431\n",
      "Epoch 50/100\n",
      "2/2 [==============================] - 0s 8ms/step - loss: 9.3950 - mae: 9.3950\n",
      "Epoch 51/100\n",
      "2/2 [==============================] - 0s 8ms/step - loss: 8.9267 - mae: 8.9267\n",
      "Epoch 52/100\n",
      "2/2 [==============================] - 0s 8ms/step - loss: 16.9818 - mae: 16.9818\n",
      "Epoch 53/100\n",
      "2/2 [==============================] - 0s 10ms/step - loss: 14.8677 - mae: 14.8677\n",
      "Epoch 54/100\n",
      "2/2 [==============================] - 0s 9ms/step - loss: 22.0413 - mae: 22.0413\n",
      "Epoch 55/100\n",
      "2/2 [==============================] - 0s 7ms/step - loss: 17.0640 - mae: 17.0640\n",
      "Epoch 56/100\n",
      "2/2 [==============================] - 0s 7ms/step - loss: 9.9520 - mae: 9.9520\n",
      "Epoch 57/100\n",
      "2/2 [==============================] - 0s 8ms/step - loss: 9.7522 - mae: 9.7522\n",
      "Epoch 58/100\n",
      "2/2 [==============================] - 0s 8ms/step - loss: 9.4378 - mae: 9.4378\n",
      "Epoch 59/100\n",
      "2/2 [==============================] - 0s 7ms/step - loss: 8.3373 - mae: 8.3373\n",
      "Epoch 60/100\n",
      "2/2 [==============================] - 0s 19ms/step - loss: 9.6425 - mae: 9.6425\n",
      "Epoch 61/100\n",
      "2/2 [==============================] - 0s 11ms/step - loss: 11.7590 - mae: 11.7590\n",
      "Epoch 62/100\n",
      "2/2 [==============================] - 0s 10ms/step - loss: 11.7187 - mae: 11.7187\n",
      "Epoch 63/100\n",
      "2/2 [==============================] - 0s 7ms/step - loss: 7.2316 - mae: 7.2316\n",
      "Epoch 64/100\n",
      "2/2 [==============================] - 0s 7ms/step - loss: 17.7848 - mae: 17.7848\n",
      "Epoch 65/100\n",
      "2/2 [==============================] - 0s 8ms/step - loss: 12.6255 - mae: 12.6255\n",
      "Epoch 66/100\n",
      "2/2 [==============================] - 0s 7ms/step - loss: 13.2840 - mae: 13.2840\n",
      "Epoch 67/100\n",
      "2/2 [==============================] - 0s 8ms/step - loss: 7.8471 - mae: 7.8471\n",
      "Epoch 68/100\n",
      "2/2 [==============================] - 0s 8ms/step - loss: 9.9708 - mae: 9.9708\n",
      "Epoch 69/100\n",
      "2/2 [==============================] - 0s 14ms/step - loss: 12.4903 - mae: 12.4903\n",
      "Epoch 70/100\n",
      "2/2 [==============================] - 0s 8ms/step - loss: 8.5001 - mae: 8.5001\n",
      "Epoch 71/100\n",
      "2/2 [==============================] - 0s 9ms/step - loss: 9.9996 - mae: 9.9996\n",
      "Epoch 72/100\n",
      "2/2 [==============================] - 0s 10ms/step - loss: 10.1797 - mae: 10.1797\n",
      "Epoch 73/100\n",
      "2/2 [==============================] - 0s 7ms/step - loss: 13.0024 - mae: 13.0024\n",
      "Epoch 74/100\n",
      "2/2 [==============================] - 0s 8ms/step - loss: 10.3812 - mae: 10.3812\n",
      "Epoch 75/100\n",
      "2/2 [==============================] - 0s 9ms/step - loss: 9.7621 - mae: 9.7621\n",
      "Epoch 76/100\n",
      "2/2 [==============================] - 0s 8ms/step - loss: 11.5186 - mae: 11.5186\n",
      "Epoch 77/100\n",
      "2/2 [==============================] - 0s 8ms/step - loss: 8.3070 - mae: 8.3070\n",
      "Epoch 78/100\n",
      "2/2 [==============================] - 0s 8ms/step - loss: 9.4436 - mae: 9.4436\n",
      "Epoch 79/100\n",
      "2/2 [==============================] - 0s 9ms/step - loss: 20.3897 - mae: 20.3897\n",
      "Epoch 80/100\n",
      "2/2 [==============================] - 0s 9ms/step - loss: 15.4751 - mae: 15.4751\n",
      "Epoch 81/100\n",
      "2/2 [==============================] - 0s 9ms/step - loss: 9.0208 - mae: 9.0208\n",
      "Epoch 82/100\n",
      "2/2 [==============================] - 0s 8ms/step - loss: 13.3869 - mae: 13.3869\n",
      "Epoch 83/100\n",
      "2/2 [==============================] - 0s 8ms/step - loss: 7.9649 - mae: 7.9649\n",
      "Epoch 84/100\n",
      "2/2 [==============================] - 0s 9ms/step - loss: 7.5702 - mae: 7.5702\n",
      "Epoch 85/100\n",
      "2/2 [==============================] - 0s 9ms/step - loss: 9.9706 - mae: 9.9706\n",
      "Epoch 86/100\n",
      "2/2 [==============================] - 0s 9ms/step - loss: 9.0533 - mae: 9.0533\n",
      "Epoch 87/100\n",
      "2/2 [==============================] - 0s 16ms/step - loss: 12.2670 - mae: 12.2670\n",
      "Epoch 88/100\n",
      "2/2 [==============================] - 0s 7ms/step - loss: 10.6052 - mae: 10.6052\n",
      "Epoch 89/100\n",
      "2/2 [==============================] - 0s 8ms/step - loss: 7.1986 - mae: 7.1986\n",
      "Epoch 90/100\n",
      "2/2 [==============================] - 0s 8ms/step - loss: 13.0379 - mae: 13.0379\n",
      "Epoch 91/100\n",
      "2/2 [==============================] - 0s 9ms/step - loss: 7.1968 - mae: 7.1968\n",
      "Epoch 92/100\n",
      "2/2 [==============================] - 0s 10ms/step - loss: 7.5386 - mae: 7.5386\n",
      "Epoch 93/100\n",
      "2/2 [==============================] - 0s 7ms/step - loss: 7.0932 - mae: 7.0932\n",
      "Epoch 94/100\n",
      "2/2 [==============================] - 0s 9ms/step - loss: 12.8860 - mae: 12.8860\n",
      "Epoch 95/100\n",
      "2/2 [==============================] - 0s 9ms/step - loss: 9.9620 - mae: 9.9620\n",
      "Epoch 96/100\n",
      "2/2 [==============================] - 0s 9ms/step - loss: 8.7739 - mae: 8.7739\n",
      "Epoch 97/100\n",
      "2/2 [==============================] - 0s 10ms/step - loss: 13.0861 - mae: 13.0861\n",
      "Epoch 98/100\n",
      "2/2 [==============================] - 0s 9ms/step - loss: 8.3848 - mae: 8.3848\n",
      "Epoch 99/100\n",
      "2/2 [==============================] - 0s 8ms/step - loss: 9.7828 - mae: 9.7828\n",
      "Epoch 100/100\n",
      "2/2 [==============================] - 0s 9ms/step - loss: 8.5252 - mae: 8.5252\n"
     ]
    },
    {
     "output_type": "execute_result",
     "data": {
      "text/plain": [
       "<tensorflow.python.keras.callbacks.History at 0x7ef19e9160>"
      ]
     },
     "metadata": {},
     "execution_count": 115
    }
   ],
   "source": [
    "# 1. Create the model\n",
    "model_1 = tf.keras.Sequential([\n",
    "    tf.keras.layers.Dense(1)\n",
    "])\n",
    "\n",
    "# 2. Compile the model\n",
    "model_1.compile(\n",
    "    loss = tf.keras.losses.mae,\n",
    "    optimizer = tf.keras.optimizers.SGD(),\n",
    "    metrics = [\"mae\"]\n",
    ")\n",
    "\n",
    "# 3. Fit the model\n",
    "model_1.fit(X_train, y_train, epochs = 100)"
   ]
  },
  {
   "cell_type": "code",
   "execution_count": 116,
   "metadata": {},
   "outputs": [
    {
     "output_type": "stream",
     "name": "stdout",
     "text": [
      "WARNING:tensorflow:5 out of the last 11 calls to <function Model.make_predict_function.<locals>.predict_function at 0x7ef1d49b70> triggered tf.function retracing. Tracing is expensive and the excessive number of tracings could be due to (1) creating @tf.function repeatedly in a loop, (2) passing tensors with different shapes, (3) passing Python objects instead of tensors. For (1), please define your @tf.function outside of the loop. For (2), @tf.function has experimental_relax_shapes=True option that relaxes argument shapes that can avoid unnecessary retracing. For (3), please refer to https://www.tensorflow.org/guide/function#controlling_retracing and https://www.tensorflow.org/api_docs/python/tf/function for  more details.\n"
     ]
    },
    {
     "output_type": "display_data",
     "data": {
      "text/plain": "<Figure size 720x504 with 1 Axes>",
      "image/svg+xml": "<?xml version=\"1.0\" encoding=\"utf-8\" standalone=\"no\"?>\n<!DOCTYPE svg PUBLIC \"-//W3C//DTD SVG 1.1//EN\"\n  \"http://www.w3.org/Graphics/SVG/1.1/DTD/svg11.dtd\">\n<!-- Created with matplotlib (https://matplotlib.org/) -->\n<svg height=\"411.598125pt\" version=\"1.1\" viewBox=\"0 0 600.504688 411.598125\" width=\"600.504688pt\" xmlns=\"http://www.w3.org/2000/svg\" xmlns:xlink=\"http://www.w3.org/1999/xlink\">\n <metadata>\n  <rdf:RDF xmlns:cc=\"http://creativecommons.org/ns#\" xmlns:dc=\"http://purl.org/dc/elements/1.1/\" xmlns:rdf=\"http://www.w3.org/1999/02/22-rdf-syntax-ns#\">\n   <cc:Work>\n    <dc:type rdf:resource=\"http://purl.org/dc/dcmitype/StillImage\"/>\n    <dc:date>2021-04-04T09:12:24.166306</dc:date>\n    <dc:format>image/svg+xml</dc:format>\n    <dc:creator>\n     <cc:Agent>\n      <dc:title>Matplotlib v3.3.4, https://matplotlib.org/</dc:title>\n     </cc:Agent>\n    </dc:creator>\n   </cc:Work>\n  </rdf:RDF>\n </metadata>\n <defs>\n  <style type=\"text/css\">*{stroke-linecap:butt;stroke-linejoin:round;}</style>\n </defs>\n <g id=\"figure_1\">\n  <g id=\"patch_1\">\n   <path d=\"M 0 411.598125 \nL 600.504688 411.598125 \nL 600.504688 0 \nL 0 0 \nz\n\" style=\"fill:none;\"/>\n  </g>\n  <g id=\"axes_1\">\n   <g id=\"patch_2\">\n    <path d=\"M 35.304688 387.72 \nL 593.304688 387.72 \nL 593.304688 7.2 \nL 35.304688 7.2 \nz\n\" style=\"fill:#ffffff;\"/>\n   </g>\n   <g id=\"PathCollection_1\">\n    <defs>\n     <path d=\"M 0 3 \nC 0.795609 3 1.55874 2.683901 2.12132 2.12132 \nC 2.683901 1.55874 3 0.795609 3 0 \nC 3 -0.795609 2.683901 -1.55874 2.12132 -2.12132 \nC 1.55874 -2.683901 0.795609 -3 0 -3 \nC -0.795609 -3 -1.55874 -2.683901 -2.12132 -2.12132 \nC -2.683901 -1.55874 -3 -0.795609 -3 0 \nC -3 0.795609 -2.683901 1.55874 -2.12132 2.12132 \nC -1.55874 2.683901 -0.795609 3 0 3 \nz\n\" id=\"m84b0204cb2\" style=\"stroke:#0000ff;\"/>\n    </defs>\n    <g clip-path=\"url(#p4468d01f18)\">\n     <use style=\"fill:#0000ff;stroke:#0000ff;\" x=\"60.668324\" xlink:href=\"#m84b0204cb2\" y=\"370.423636\"/>\n     <use style=\"fill:#0000ff;stroke:#0000ff;\" x=\"71.020829\" xlink:href=\"#m84b0204cb2\" y=\"363.363896\"/>\n     <use style=\"fill:#0000ff;stroke:#0000ff;\" x=\"81.373333\" xlink:href=\"#m84b0204cb2\" y=\"356.304156\"/>\n     <use style=\"fill:#0000ff;stroke:#0000ff;\" x=\"91.725838\" xlink:href=\"#m84b0204cb2\" y=\"349.244416\"/>\n     <use style=\"fill:#0000ff;stroke:#0000ff;\" x=\"102.078342\" xlink:href=\"#m84b0204cb2\" y=\"342.184675\"/>\n     <use style=\"fill:#0000ff;stroke:#0000ff;\" x=\"112.430847\" xlink:href=\"#m84b0204cb2\" y=\"335.124935\"/>\n     <use style=\"fill:#0000ff;stroke:#0000ff;\" x=\"122.783352\" xlink:href=\"#m84b0204cb2\" y=\"328.065195\"/>\n     <use style=\"fill:#0000ff;stroke:#0000ff;\" x=\"133.135856\" xlink:href=\"#m84b0204cb2\" y=\"321.005455\"/>\n     <use style=\"fill:#0000ff;stroke:#0000ff;\" x=\"143.488361\" xlink:href=\"#m84b0204cb2\" y=\"313.945714\"/>\n     <use style=\"fill:#0000ff;stroke:#0000ff;\" x=\"153.840866\" xlink:href=\"#m84b0204cb2\" y=\"306.885974\"/>\n     <use style=\"fill:#0000ff;stroke:#0000ff;\" x=\"164.19337\" xlink:href=\"#m84b0204cb2\" y=\"299.826234\"/>\n     <use style=\"fill:#0000ff;stroke:#0000ff;\" x=\"174.545875\" xlink:href=\"#m84b0204cb2\" y=\"292.766494\"/>\n     <use style=\"fill:#0000ff;stroke:#0000ff;\" x=\"184.89838\" xlink:href=\"#m84b0204cb2\" y=\"285.706753\"/>\n     <use style=\"fill:#0000ff;stroke:#0000ff;\" x=\"195.250884\" xlink:href=\"#m84b0204cb2\" y=\"278.647013\"/>\n     <use style=\"fill:#0000ff;stroke:#0000ff;\" x=\"205.603389\" xlink:href=\"#m84b0204cb2\" y=\"271.587273\"/>\n     <use style=\"fill:#0000ff;stroke:#0000ff;\" x=\"215.955893\" xlink:href=\"#m84b0204cb2\" y=\"264.527532\"/>\n     <use style=\"fill:#0000ff;stroke:#0000ff;\" x=\"226.308398\" xlink:href=\"#m84b0204cb2\" y=\"257.467792\"/>\n     <use style=\"fill:#0000ff;stroke:#0000ff;\" x=\"236.660903\" xlink:href=\"#m84b0204cb2\" y=\"250.408052\"/>\n     <use style=\"fill:#0000ff;stroke:#0000ff;\" x=\"247.013407\" xlink:href=\"#m84b0204cb2\" y=\"243.348312\"/>\n     <use style=\"fill:#0000ff;stroke:#0000ff;\" x=\"257.365912\" xlink:href=\"#m84b0204cb2\" y=\"236.288571\"/>\n     <use style=\"fill:#0000ff;stroke:#0000ff;\" x=\"267.718417\" xlink:href=\"#m84b0204cb2\" y=\"229.228831\"/>\n     <use style=\"fill:#0000ff;stroke:#0000ff;\" x=\"278.070921\" xlink:href=\"#m84b0204cb2\" y=\"222.169091\"/>\n     <use style=\"fill:#0000ff;stroke:#0000ff;\" x=\"288.423426\" xlink:href=\"#m84b0204cb2\" y=\"215.109351\"/>\n     <use style=\"fill:#0000ff;stroke:#0000ff;\" x=\"298.775931\" xlink:href=\"#m84b0204cb2\" y=\"208.04961\"/>\n     <use style=\"fill:#0000ff;stroke:#0000ff;\" x=\"309.128435\" xlink:href=\"#m84b0204cb2\" y=\"200.98987\"/>\n     <use style=\"fill:#0000ff;stroke:#0000ff;\" x=\"319.48094\" xlink:href=\"#m84b0204cb2\" y=\"193.93013\"/>\n     <use style=\"fill:#0000ff;stroke:#0000ff;\" x=\"329.833444\" xlink:href=\"#m84b0204cb2\" y=\"186.87039\"/>\n     <use style=\"fill:#0000ff;stroke:#0000ff;\" x=\"340.185949\" xlink:href=\"#m84b0204cb2\" y=\"179.810649\"/>\n     <use style=\"fill:#0000ff;stroke:#0000ff;\" x=\"350.538454\" xlink:href=\"#m84b0204cb2\" y=\"172.750909\"/>\n     <use style=\"fill:#0000ff;stroke:#0000ff;\" x=\"360.890958\" xlink:href=\"#m84b0204cb2\" y=\"165.691169\"/>\n     <use style=\"fill:#0000ff;stroke:#0000ff;\" x=\"371.243463\" xlink:href=\"#m84b0204cb2\" y=\"158.631429\"/>\n     <use style=\"fill:#0000ff;stroke:#0000ff;\" x=\"381.595968\" xlink:href=\"#m84b0204cb2\" y=\"151.571688\"/>\n     <use style=\"fill:#0000ff;stroke:#0000ff;\" x=\"391.948472\" xlink:href=\"#m84b0204cb2\" y=\"144.511948\"/>\n     <use style=\"fill:#0000ff;stroke:#0000ff;\" x=\"402.300977\" xlink:href=\"#m84b0204cb2\" y=\"137.452208\"/>\n     <use style=\"fill:#0000ff;stroke:#0000ff;\" x=\"412.653482\" xlink:href=\"#m84b0204cb2\" y=\"130.392468\"/>\n     <use style=\"fill:#0000ff;stroke:#0000ff;\" x=\"423.005986\" xlink:href=\"#m84b0204cb2\" y=\"123.332727\"/>\n     <use style=\"fill:#0000ff;stroke:#0000ff;\" x=\"433.358491\" xlink:href=\"#m84b0204cb2\" y=\"116.272987\"/>\n     <use style=\"fill:#0000ff;stroke:#0000ff;\" x=\"443.710995\" xlink:href=\"#m84b0204cb2\" y=\"109.213247\"/>\n     <use style=\"fill:#0000ff;stroke:#0000ff;\" x=\"454.0635\" xlink:href=\"#m84b0204cb2\" y=\"102.153506\"/>\n     <use style=\"fill:#0000ff;stroke:#0000ff;\" x=\"464.416005\" xlink:href=\"#m84b0204cb2\" y=\"95.093766\"/>\n    </g>\n   </g>\n   <g id=\"PathCollection_2\">\n    <defs>\n     <path d=\"M 0 3 \nC 0.795609 3 1.55874 2.683901 2.12132 2.12132 \nC 2.683901 1.55874 3 0.795609 3 0 \nC 3 -0.795609 2.683901 -1.55874 2.12132 -2.12132 \nC 1.55874 -2.683901 0.795609 -3 0 -3 \nC -0.795609 -3 -1.55874 -2.683901 -2.12132 -2.12132 \nC -2.683901 -1.55874 -3 -0.795609 -3 0 \nC -3 0.795609 -2.683901 1.55874 -2.12132 2.12132 \nC -1.55874 2.683901 -0.795609 3 0 3 \nz\n\" id=\"mf87399e17a\" style=\"stroke:#008000;\"/>\n    </defs>\n    <g clip-path=\"url(#p4468d01f18)\">\n     <use style=\"fill:#008000;stroke:#008000;\" x=\"474.768509\" xlink:href=\"#mf87399e17a\" y=\"88.034026\"/>\n     <use style=\"fill:#008000;stroke:#008000;\" x=\"485.121014\" xlink:href=\"#mf87399e17a\" y=\"80.974286\"/>\n     <use style=\"fill:#008000;stroke:#008000;\" x=\"495.473519\" xlink:href=\"#mf87399e17a\" y=\"73.914545\"/>\n     <use style=\"fill:#008000;stroke:#008000;\" x=\"505.826023\" xlink:href=\"#mf87399e17a\" y=\"66.854805\"/>\n     <use style=\"fill:#008000;stroke:#008000;\" x=\"516.178528\" xlink:href=\"#mf87399e17a\" y=\"59.795065\"/>\n     <use style=\"fill:#008000;stroke:#008000;\" x=\"526.531033\" xlink:href=\"#mf87399e17a\" y=\"52.735325\"/>\n     <use style=\"fill:#008000;stroke:#008000;\" x=\"536.883537\" xlink:href=\"#mf87399e17a\" y=\"45.675584\"/>\n     <use style=\"fill:#008000;stroke:#008000;\" x=\"547.236042\" xlink:href=\"#mf87399e17a\" y=\"38.615844\"/>\n     <use style=\"fill:#008000;stroke:#008000;\" x=\"557.588546\" xlink:href=\"#mf87399e17a\" y=\"31.556104\"/>\n     <use style=\"fill:#008000;stroke:#008000;\" x=\"567.941051\" xlink:href=\"#mf87399e17a\" y=\"24.496364\"/>\n    </g>\n   </g>\n   <g id=\"PathCollection_3\">\n    <defs>\n     <path d=\"M 0 3 \nC 0.795609 3 1.55874 2.683901 2.12132 2.12132 \nC 2.683901 1.55874 3 0.795609 3 0 \nC 3 -0.795609 2.683901 -1.55874 2.12132 -2.12132 \nC 1.55874 -2.683901 0.795609 -3 0 -3 \nC -0.795609 -3 -1.55874 -2.683901 -2.12132 -2.12132 \nC -2.683901 -1.55874 -3 -0.795609 -3 0 \nC -3 0.795609 -2.683901 1.55874 -2.12132 2.12132 \nC -1.55874 2.683901 -0.795609 3 0 3 \nz\n\" id=\"m836c4f7096\" style=\"stroke:#ff0000;\"/>\n    </defs>\n    <g clip-path=\"url(#p4468d01f18)\">\n     <use style=\"fill:#ff0000;stroke:#ff0000;\" x=\"474.768509\" xlink:href=\"#m836c4f7096\" y=\"117.029984\"/>\n     <use style=\"fill:#ff0000;stroke:#ff0000;\" x=\"485.121014\" xlink:href=\"#m836c4f7096\" y=\"110.87876\"/>\n     <use style=\"fill:#ff0000;stroke:#ff0000;\" x=\"495.473519\" xlink:href=\"#m836c4f7096\" y=\"104.727536\"/>\n     <use style=\"fill:#ff0000;stroke:#ff0000;\" x=\"505.826023\" xlink:href=\"#m836c4f7096\" y=\"98.576319\"/>\n     <use style=\"fill:#ff0000;stroke:#ff0000;\" x=\"516.178528\" xlink:href=\"#m836c4f7096\" y=\"92.425088\"/>\n     <use style=\"fill:#ff0000;stroke:#ff0000;\" x=\"526.531033\" xlink:href=\"#m836c4f7096\" y=\"86.273871\"/>\n     <use style=\"fill:#ff0000;stroke:#ff0000;\" x=\"536.883537\" xlink:href=\"#m836c4f7096\" y=\"80.12264\"/>\n     <use style=\"fill:#ff0000;stroke:#ff0000;\" x=\"547.236042\" xlink:href=\"#m836c4f7096\" y=\"73.971423\"/>\n     <use style=\"fill:#ff0000;stroke:#ff0000;\" x=\"557.588546\" xlink:href=\"#m836c4f7096\" y=\"67.820206\"/>\n     <use style=\"fill:#ff0000;stroke:#ff0000;\" x=\"567.941051\" xlink:href=\"#m836c4f7096\" y=\"61.668975\"/>\n    </g>\n   </g>\n   <g id=\"matplotlib.axis_1\">\n    <g id=\"xtick_1\">\n     <g id=\"line2d_1\">\n      <defs>\n       <path d=\"M 0 0 \nL 0 3.5 \n\" id=\"m2dca721bb9\" style=\"stroke:#000000;stroke-width:0.8;\"/>\n      </defs>\n      <g>\n       <use style=\"stroke:#000000;stroke-width:0.8;\" x=\"60.668324\" xlink:href=\"#m2dca721bb9\" y=\"387.72\"/>\n      </g>\n     </g>\n     <g id=\"text_1\">\n      <!-- −100 -->\n      <g transform=\"translate(46.93473 402.318437)scale(0.1 -0.1)\">\n       <defs>\n        <path d=\"M 10.59375 35.5 \nL 73.1875 35.5 \nL 73.1875 27.203125 \nL 10.59375 27.203125 \nz\n\" id=\"DejaVuSans-8722\"/>\n        <path d=\"M 12.40625 8.296875 \nL 28.515625 8.296875 \nL 28.515625 63.921875 \nL 10.984375 60.40625 \nL 10.984375 69.390625 \nL 28.421875 72.90625 \nL 38.28125 72.90625 \nL 38.28125 8.296875 \nL 54.390625 8.296875 \nL 54.390625 0 \nL 12.40625 0 \nz\n\" id=\"DejaVuSans-49\"/>\n        <path d=\"M 31.78125 66.40625 \nQ 24.171875 66.40625 20.328125 58.90625 \nQ 16.5 51.421875 16.5 36.375 \nQ 16.5 21.390625 20.328125 13.890625 \nQ 24.171875 6.390625 31.78125 6.390625 \nQ 39.453125 6.390625 43.28125 13.890625 \nQ 47.125 21.390625 47.125 36.375 \nQ 47.125 51.421875 43.28125 58.90625 \nQ 39.453125 66.40625 31.78125 66.40625 \nz\nM 31.78125 74.21875 \nQ 44.046875 74.21875 50.515625 64.515625 \nQ 56.984375 54.828125 56.984375 36.375 \nQ 56.984375 17.96875 50.515625 8.265625 \nQ 44.046875 -1.421875 31.78125 -1.421875 \nQ 19.53125 -1.421875 13.0625 8.265625 \nQ 6.59375 17.96875 6.59375 36.375 \nQ 6.59375 54.828125 13.0625 64.515625 \nQ 19.53125 74.21875 31.78125 74.21875 \nz\n\" id=\"DejaVuSans-48\"/>\n       </defs>\n       <use xlink:href=\"#DejaVuSans-8722\"/>\n       <use x=\"83.789062\" xlink:href=\"#DejaVuSans-49\"/>\n       <use x=\"147.412109\" xlink:href=\"#DejaVuSans-48\"/>\n       <use x=\"211.035156\" xlink:href=\"#DejaVuSans-48\"/>\n      </g>\n     </g>\n    </g>\n    <g id=\"xtick_2\">\n     <g id=\"line2d_2\">\n      <g>\n       <use style=\"stroke:#000000;stroke-width:0.8;\" x=\"125.371478\" xlink:href=\"#m2dca721bb9\" y=\"387.72\"/>\n      </g>\n     </g>\n     <g id=\"text_2\">\n      <!-- −75 -->\n      <g transform=\"translate(114.819134 402.318437)scale(0.1 -0.1)\">\n       <defs>\n        <path d=\"M 8.203125 72.90625 \nL 55.078125 72.90625 \nL 55.078125 68.703125 \nL 28.609375 0 \nL 18.3125 0 \nL 43.21875 64.59375 \nL 8.203125 64.59375 \nz\n\" id=\"DejaVuSans-55\"/>\n        <path d=\"M 10.796875 72.90625 \nL 49.515625 72.90625 \nL 49.515625 64.59375 \nL 19.828125 64.59375 \nL 19.828125 46.734375 \nQ 21.96875 47.46875 24.109375 47.828125 \nQ 26.265625 48.1875 28.421875 48.1875 \nQ 40.625 48.1875 47.75 41.5 \nQ 54.890625 34.8125 54.890625 23.390625 \nQ 54.890625 11.625 47.5625 5.09375 \nQ 40.234375 -1.421875 26.90625 -1.421875 \nQ 22.3125 -1.421875 17.546875 -0.640625 \nQ 12.796875 0.140625 7.71875 1.703125 \nL 7.71875 11.625 \nQ 12.109375 9.234375 16.796875 8.0625 \nQ 21.484375 6.890625 26.703125 6.890625 \nQ 35.15625 6.890625 40.078125 11.328125 \nQ 45.015625 15.765625 45.015625 23.390625 \nQ 45.015625 31 40.078125 35.4375 \nQ 35.15625 39.890625 26.703125 39.890625 \nQ 22.75 39.890625 18.8125 39.015625 \nQ 14.890625 38.140625 10.796875 36.28125 \nz\n\" id=\"DejaVuSans-53\"/>\n       </defs>\n       <use xlink:href=\"#DejaVuSans-8722\"/>\n       <use x=\"83.789062\" xlink:href=\"#DejaVuSans-55\"/>\n       <use x=\"147.412109\" xlink:href=\"#DejaVuSans-53\"/>\n      </g>\n     </g>\n    </g>\n    <g id=\"xtick_3\">\n     <g id=\"line2d_3\">\n      <g>\n       <use style=\"stroke:#000000;stroke-width:0.8;\" x=\"190.074632\" xlink:href=\"#m2dca721bb9\" y=\"387.72\"/>\n      </g>\n     </g>\n     <g id=\"text_3\">\n      <!-- −50 -->\n      <g transform=\"translate(179.522288 402.318437)scale(0.1 -0.1)\">\n       <use xlink:href=\"#DejaVuSans-8722\"/>\n       <use x=\"83.789062\" xlink:href=\"#DejaVuSans-53\"/>\n       <use x=\"147.412109\" xlink:href=\"#DejaVuSans-48\"/>\n      </g>\n     </g>\n    </g>\n    <g id=\"xtick_4\">\n     <g id=\"line2d_4\">\n      <g>\n       <use style=\"stroke:#000000;stroke-width:0.8;\" x=\"254.777786\" xlink:href=\"#m2dca721bb9\" y=\"387.72\"/>\n      </g>\n     </g>\n     <g id=\"text_4\">\n      <!-- −25 -->\n      <g transform=\"translate(244.225442 402.318437)scale(0.1 -0.1)\">\n       <defs>\n        <path d=\"M 19.1875 8.296875 \nL 53.609375 8.296875 \nL 53.609375 0 \nL 7.328125 0 \nL 7.328125 8.296875 \nQ 12.9375 14.109375 22.625 23.890625 \nQ 32.328125 33.6875 34.8125 36.53125 \nQ 39.546875 41.84375 41.421875 45.53125 \nQ 43.3125 49.21875 43.3125 52.78125 \nQ 43.3125 58.59375 39.234375 62.25 \nQ 35.15625 65.921875 28.609375 65.921875 \nQ 23.96875 65.921875 18.8125 64.3125 \nQ 13.671875 62.703125 7.8125 59.421875 \nL 7.8125 69.390625 \nQ 13.765625 71.78125 18.9375 73 \nQ 24.125 74.21875 28.421875 74.21875 \nQ 39.75 74.21875 46.484375 68.546875 \nQ 53.21875 62.890625 53.21875 53.421875 \nQ 53.21875 48.921875 51.53125 44.890625 \nQ 49.859375 40.875 45.40625 35.40625 \nQ 44.1875 33.984375 37.640625 27.21875 \nQ 31.109375 20.453125 19.1875 8.296875 \nz\n\" id=\"DejaVuSans-50\"/>\n       </defs>\n       <use xlink:href=\"#DejaVuSans-8722\"/>\n       <use x=\"83.789062\" xlink:href=\"#DejaVuSans-50\"/>\n       <use x=\"147.412109\" xlink:href=\"#DejaVuSans-53\"/>\n      </g>\n     </g>\n    </g>\n    <g id=\"xtick_5\">\n     <g id=\"line2d_5\">\n      <g>\n       <use style=\"stroke:#000000;stroke-width:0.8;\" x=\"319.48094\" xlink:href=\"#m2dca721bb9\" y=\"387.72\"/>\n      </g>\n     </g>\n     <g id=\"text_5\">\n      <!-- 0 -->\n      <g transform=\"translate(316.29969 402.318437)scale(0.1 -0.1)\">\n       <use xlink:href=\"#DejaVuSans-48\"/>\n      </g>\n     </g>\n    </g>\n    <g id=\"xtick_6\">\n     <g id=\"line2d_6\">\n      <g>\n       <use style=\"stroke:#000000;stroke-width:0.8;\" x=\"384.184094\" xlink:href=\"#m2dca721bb9\" y=\"387.72\"/>\n      </g>\n     </g>\n     <g id=\"text_6\">\n      <!-- 25 -->\n      <g transform=\"translate(377.821594 402.318437)scale(0.1 -0.1)\">\n       <use xlink:href=\"#DejaVuSans-50\"/>\n       <use x=\"63.623047\" xlink:href=\"#DejaVuSans-53\"/>\n      </g>\n     </g>\n    </g>\n    <g id=\"xtick_7\">\n     <g id=\"line2d_7\">\n      <g>\n       <use style=\"stroke:#000000;stroke-width:0.8;\" x=\"448.887248\" xlink:href=\"#m2dca721bb9\" y=\"387.72\"/>\n      </g>\n     </g>\n     <g id=\"text_7\">\n      <!-- 50 -->\n      <g transform=\"translate(442.524748 402.318437)scale(0.1 -0.1)\">\n       <use xlink:href=\"#DejaVuSans-53\"/>\n       <use x=\"63.623047\" xlink:href=\"#DejaVuSans-48\"/>\n      </g>\n     </g>\n    </g>\n    <g id=\"xtick_8\">\n     <g id=\"line2d_8\">\n      <g>\n       <use style=\"stroke:#000000;stroke-width:0.8;\" x=\"513.590402\" xlink:href=\"#m2dca721bb9\" y=\"387.72\"/>\n      </g>\n     </g>\n     <g id=\"text_8\">\n      <!-- 75 -->\n      <g transform=\"translate(507.227902 402.318437)scale(0.1 -0.1)\">\n       <use xlink:href=\"#DejaVuSans-55\"/>\n       <use x=\"63.623047\" xlink:href=\"#DejaVuSans-53\"/>\n      </g>\n     </g>\n    </g>\n    <g id=\"xtick_9\">\n     <g id=\"line2d_9\">\n      <g>\n       <use style=\"stroke:#000000;stroke-width:0.8;\" x=\"578.293556\" xlink:href=\"#m2dca721bb9\" y=\"387.72\"/>\n      </g>\n     </g>\n     <g id=\"text_9\">\n      <!-- 100 -->\n      <g transform=\"translate(568.749806 402.318437)scale(0.1 -0.1)\">\n       <use xlink:href=\"#DejaVuSans-49\"/>\n       <use x=\"63.623047\" xlink:href=\"#DejaVuSans-48\"/>\n       <use x=\"127.246094\" xlink:href=\"#DejaVuSans-48\"/>\n      </g>\n     </g>\n    </g>\n   </g>\n   <g id=\"matplotlib.axis_2\">\n    <g id=\"ytick_1\">\n     <g id=\"line2d_10\">\n      <defs>\n       <path d=\"M 0 0 \nL -3.5 0 \n\" id=\"m64c44ca812\" style=\"stroke:#000000;stroke-width:0.8;\"/>\n      </defs>\n      <g>\n       <use style=\"stroke:#000000;stroke-width:0.8;\" x=\"35.304688\" xlink:href=\"#m64c44ca812\" y=\"343.94961\"/>\n      </g>\n     </g>\n     <g id=\"text_10\">\n      <!-- −75 -->\n      <g transform=\"translate(7.2 347.748829)scale(0.1 -0.1)\">\n       <use xlink:href=\"#DejaVuSans-8722\"/>\n       <use x=\"83.789062\" xlink:href=\"#DejaVuSans-55\"/>\n       <use x=\"147.412109\" xlink:href=\"#DejaVuSans-53\"/>\n      </g>\n     </g>\n    </g>\n    <g id=\"ytick_2\">\n     <g id=\"line2d_11\">\n      <g>\n       <use style=\"stroke:#000000;stroke-width:0.8;\" x=\"35.304688\" xlink:href=\"#m64c44ca812\" y=\"299.826234\"/>\n      </g>\n     </g>\n     <g id=\"text_11\">\n      <!-- −50 -->\n      <g transform=\"translate(7.2 303.625453)scale(0.1 -0.1)\">\n       <use xlink:href=\"#DejaVuSans-8722\"/>\n       <use x=\"83.789062\" xlink:href=\"#DejaVuSans-53\"/>\n       <use x=\"147.412109\" xlink:href=\"#DejaVuSans-48\"/>\n      </g>\n     </g>\n    </g>\n    <g id=\"ytick_3\">\n     <g id=\"line2d_12\">\n      <g>\n       <use style=\"stroke:#000000;stroke-width:0.8;\" x=\"35.304688\" xlink:href=\"#m64c44ca812\" y=\"255.702857\"/>\n      </g>\n     </g>\n     <g id=\"text_12\">\n      <!-- −25 -->\n      <g transform=\"translate(7.2 259.502076)scale(0.1 -0.1)\">\n       <use xlink:href=\"#DejaVuSans-8722\"/>\n       <use x=\"83.789062\" xlink:href=\"#DejaVuSans-50\"/>\n       <use x=\"147.412109\" xlink:href=\"#DejaVuSans-53\"/>\n      </g>\n     </g>\n    </g>\n    <g id=\"ytick_4\">\n     <g id=\"line2d_13\">\n      <g>\n       <use style=\"stroke:#000000;stroke-width:0.8;\" x=\"35.304688\" xlink:href=\"#m64c44ca812\" y=\"211.579481\"/>\n      </g>\n     </g>\n     <g id=\"text_13\">\n      <!-- 0 -->\n      <g transform=\"translate(21.942187 215.378699)scale(0.1 -0.1)\">\n       <use xlink:href=\"#DejaVuSans-48\"/>\n      </g>\n     </g>\n    </g>\n    <g id=\"ytick_5\">\n     <g id=\"line2d_14\">\n      <g>\n       <use style=\"stroke:#000000;stroke-width:0.8;\" x=\"35.304688\" xlink:href=\"#m64c44ca812\" y=\"167.456104\"/>\n      </g>\n     </g>\n     <g id=\"text_14\">\n      <!-- 25 -->\n      <g transform=\"translate(15.579687 171.255323)scale(0.1 -0.1)\">\n       <use xlink:href=\"#DejaVuSans-50\"/>\n       <use x=\"63.623047\" xlink:href=\"#DejaVuSans-53\"/>\n      </g>\n     </g>\n    </g>\n    <g id=\"ytick_6\">\n     <g id=\"line2d_15\">\n      <g>\n       <use style=\"stroke:#000000;stroke-width:0.8;\" x=\"35.304688\" xlink:href=\"#m64c44ca812\" y=\"123.332727\"/>\n      </g>\n     </g>\n     <g id=\"text_15\">\n      <!-- 50 -->\n      <g transform=\"translate(15.579687 127.131946)scale(0.1 -0.1)\">\n       <use xlink:href=\"#DejaVuSans-53\"/>\n       <use x=\"63.623047\" xlink:href=\"#DejaVuSans-48\"/>\n      </g>\n     </g>\n    </g>\n    <g id=\"ytick_7\">\n     <g id=\"line2d_16\">\n      <g>\n       <use style=\"stroke:#000000;stroke-width:0.8;\" x=\"35.304688\" xlink:href=\"#m64c44ca812\" y=\"79.209351\"/>\n      </g>\n     </g>\n     <g id=\"text_16\">\n      <!-- 75 -->\n      <g transform=\"translate(15.579687 83.008569)scale(0.1 -0.1)\">\n       <use xlink:href=\"#DejaVuSans-55\"/>\n       <use x=\"63.623047\" xlink:href=\"#DejaVuSans-53\"/>\n      </g>\n     </g>\n    </g>\n    <g id=\"ytick_8\">\n     <g id=\"line2d_17\">\n      <g>\n       <use style=\"stroke:#000000;stroke-width:0.8;\" x=\"35.304688\" xlink:href=\"#m64c44ca812\" y=\"35.085974\"/>\n      </g>\n     </g>\n     <g id=\"text_17\">\n      <!-- 100 -->\n      <g transform=\"translate(9.217187 38.885193)scale(0.1 -0.1)\">\n       <use xlink:href=\"#DejaVuSans-49\"/>\n       <use x=\"63.623047\" xlink:href=\"#DejaVuSans-48\"/>\n       <use x=\"127.246094\" xlink:href=\"#DejaVuSans-48\"/>\n      </g>\n     </g>\n    </g>\n   </g>\n   <g id=\"patch_3\">\n    <path d=\"M 35.304688 387.72 \nL 35.304688 7.2 \n\" style=\"fill:none;stroke:#000000;stroke-linecap:square;stroke-linejoin:miter;stroke-width:0.8;\"/>\n   </g>\n   <g id=\"patch_4\">\n    <path d=\"M 593.304688 387.72 \nL 593.304688 7.2 \n\" style=\"fill:none;stroke:#000000;stroke-linecap:square;stroke-linejoin:miter;stroke-width:0.8;\"/>\n   </g>\n   <g id=\"patch_5\">\n    <path d=\"M 35.304688 387.72 \nL 593.304688 387.72 \n\" style=\"fill:none;stroke:#000000;stroke-linecap:square;stroke-linejoin:miter;stroke-width:0.8;\"/>\n   </g>\n   <g id=\"patch_6\">\n    <path d=\"M 35.304688 7.2 \nL 593.304688 7.2 \n\" style=\"fill:none;stroke:#000000;stroke-linecap:square;stroke-linejoin:miter;stroke-width:0.8;\"/>\n   </g>\n   <g id=\"legend_1\">\n    <g id=\"patch_7\">\n     <path d=\"M 42.304688 59.234375 \nL 140.810938 59.234375 \nQ 142.810938 59.234375 142.810938 57.234375 \nL 142.810938 14.2 \nQ 142.810938 12.2 140.810938 12.2 \nL 42.304688 12.2 \nQ 40.304688 12.2 40.304688 14.2 \nL 40.304688 57.234375 \nQ 40.304688 59.234375 42.304688 59.234375 \nz\n\" style=\"fill:#ffffff;opacity:0.8;stroke:#cccccc;stroke-linejoin:miter;\"/>\n    </g>\n    <g id=\"PathCollection_4\">\n     <g>\n      <use style=\"fill:#0000ff;stroke:#0000ff;\" x=\"54.304688\" xlink:href=\"#m84b0204cb2\" y=\"21.173437\"/>\n     </g>\n    </g>\n    <g id=\"text_18\">\n     <!-- Training Data -->\n     <g transform=\"translate(72.304688 23.798437)scale(0.1 -0.1)\">\n      <defs>\n       <path d=\"M -0.296875 72.90625 \nL 61.375 72.90625 \nL 61.375 64.59375 \nL 35.5 64.59375 \nL 35.5 0 \nL 25.59375 0 \nL 25.59375 64.59375 \nL -0.296875 64.59375 \nz\n\" id=\"DejaVuSans-84\"/>\n       <path d=\"M 41.109375 46.296875 \nQ 39.59375 47.171875 37.8125 47.578125 \nQ 36.03125 48 33.890625 48 \nQ 26.265625 48 22.1875 43.046875 \nQ 18.109375 38.09375 18.109375 28.8125 \nL 18.109375 0 \nL 9.078125 0 \nL 9.078125 54.6875 \nL 18.109375 54.6875 \nL 18.109375 46.1875 \nQ 20.953125 51.171875 25.484375 53.578125 \nQ 30.03125 56 36.53125 56 \nQ 37.453125 56 38.578125 55.875 \nQ 39.703125 55.765625 41.0625 55.515625 \nz\n\" id=\"DejaVuSans-114\"/>\n       <path d=\"M 34.28125 27.484375 \nQ 23.390625 27.484375 19.1875 25 \nQ 14.984375 22.515625 14.984375 16.5 \nQ 14.984375 11.71875 18.140625 8.90625 \nQ 21.296875 6.109375 26.703125 6.109375 \nQ 34.1875 6.109375 38.703125 11.40625 \nQ 43.21875 16.703125 43.21875 25.484375 \nL 43.21875 27.484375 \nz\nM 52.203125 31.203125 \nL 52.203125 0 \nL 43.21875 0 \nL 43.21875 8.296875 \nQ 40.140625 3.328125 35.546875 0.953125 \nQ 30.953125 -1.421875 24.3125 -1.421875 \nQ 15.921875 -1.421875 10.953125 3.296875 \nQ 6 8.015625 6 15.921875 \nQ 6 25.140625 12.171875 29.828125 \nQ 18.359375 34.515625 30.609375 34.515625 \nL 43.21875 34.515625 \nL 43.21875 35.40625 \nQ 43.21875 41.609375 39.140625 45 \nQ 35.0625 48.390625 27.6875 48.390625 \nQ 23 48.390625 18.546875 47.265625 \nQ 14.109375 46.140625 10.015625 43.890625 \nL 10.015625 52.203125 \nQ 14.9375 54.109375 19.578125 55.046875 \nQ 24.21875 56 28.609375 56 \nQ 40.484375 56 46.34375 49.84375 \nQ 52.203125 43.703125 52.203125 31.203125 \nz\n\" id=\"DejaVuSans-97\"/>\n       <path d=\"M 9.421875 54.6875 \nL 18.40625 54.6875 \nL 18.40625 0 \nL 9.421875 0 \nz\nM 9.421875 75.984375 \nL 18.40625 75.984375 \nL 18.40625 64.59375 \nL 9.421875 64.59375 \nz\n\" id=\"DejaVuSans-105\"/>\n       <path d=\"M 54.890625 33.015625 \nL 54.890625 0 \nL 45.90625 0 \nL 45.90625 32.71875 \nQ 45.90625 40.484375 42.875 44.328125 \nQ 39.84375 48.1875 33.796875 48.1875 \nQ 26.515625 48.1875 22.3125 43.546875 \nQ 18.109375 38.921875 18.109375 30.90625 \nL 18.109375 0 \nL 9.078125 0 \nL 9.078125 54.6875 \nL 18.109375 54.6875 \nL 18.109375 46.1875 \nQ 21.34375 51.125 25.703125 53.5625 \nQ 30.078125 56 35.796875 56 \nQ 45.21875 56 50.046875 50.171875 \nQ 54.890625 44.34375 54.890625 33.015625 \nz\n\" id=\"DejaVuSans-110\"/>\n       <path d=\"M 45.40625 27.984375 \nQ 45.40625 37.75 41.375 43.109375 \nQ 37.359375 48.484375 30.078125 48.484375 \nQ 22.859375 48.484375 18.828125 43.109375 \nQ 14.796875 37.75 14.796875 27.984375 \nQ 14.796875 18.265625 18.828125 12.890625 \nQ 22.859375 7.515625 30.078125 7.515625 \nQ 37.359375 7.515625 41.375 12.890625 \nQ 45.40625 18.265625 45.40625 27.984375 \nz\nM 54.390625 6.78125 \nQ 54.390625 -7.171875 48.1875 -13.984375 \nQ 42 -20.796875 29.203125 -20.796875 \nQ 24.46875 -20.796875 20.265625 -20.09375 \nQ 16.0625 -19.390625 12.109375 -17.921875 \nL 12.109375 -9.1875 \nQ 16.0625 -11.328125 19.921875 -12.34375 \nQ 23.78125 -13.375 27.78125 -13.375 \nQ 36.625 -13.375 41.015625 -8.765625 \nQ 45.40625 -4.15625 45.40625 5.171875 \nL 45.40625 9.625 \nQ 42.625 4.78125 38.28125 2.390625 \nQ 33.9375 0 27.875 0 \nQ 17.828125 0 11.671875 7.65625 \nQ 5.515625 15.328125 5.515625 27.984375 \nQ 5.515625 40.671875 11.671875 48.328125 \nQ 17.828125 56 27.875 56 \nQ 33.9375 56 38.28125 53.609375 \nQ 42.625 51.21875 45.40625 46.390625 \nL 45.40625 54.6875 \nL 54.390625 54.6875 \nz\n\" id=\"DejaVuSans-103\"/>\n       <path id=\"DejaVuSans-32\"/>\n       <path d=\"M 19.671875 64.796875 \nL 19.671875 8.109375 \nL 31.59375 8.109375 \nQ 46.6875 8.109375 53.6875 14.9375 \nQ 60.6875 21.78125 60.6875 36.53125 \nQ 60.6875 51.171875 53.6875 57.984375 \nQ 46.6875 64.796875 31.59375 64.796875 \nz\nM 9.8125 72.90625 \nL 30.078125 72.90625 \nQ 51.265625 72.90625 61.171875 64.09375 \nQ 71.09375 55.28125 71.09375 36.53125 \nQ 71.09375 17.671875 61.125 8.828125 \nQ 51.171875 0 30.078125 0 \nL 9.8125 0 \nz\n\" id=\"DejaVuSans-68\"/>\n       <path d=\"M 18.3125 70.21875 \nL 18.3125 54.6875 \nL 36.8125 54.6875 \nL 36.8125 47.703125 \nL 18.3125 47.703125 \nL 18.3125 18.015625 \nQ 18.3125 11.328125 20.140625 9.421875 \nQ 21.96875 7.515625 27.59375 7.515625 \nL 36.8125 7.515625 \nL 36.8125 0 \nL 27.59375 0 \nQ 17.1875 0 13.234375 3.875 \nQ 9.28125 7.765625 9.28125 18.015625 \nL 9.28125 47.703125 \nL 2.6875 47.703125 \nL 2.6875 54.6875 \nL 9.28125 54.6875 \nL 9.28125 70.21875 \nz\n\" id=\"DejaVuSans-116\"/>\n      </defs>\n      <use xlink:href=\"#DejaVuSans-84\"/>\n      <use x=\"46.333984\" xlink:href=\"#DejaVuSans-114\"/>\n      <use x=\"87.447266\" xlink:href=\"#DejaVuSans-97\"/>\n      <use x=\"148.726562\" xlink:href=\"#DejaVuSans-105\"/>\n      <use x=\"176.509766\" xlink:href=\"#DejaVuSans-110\"/>\n      <use x=\"239.888672\" xlink:href=\"#DejaVuSans-105\"/>\n      <use x=\"267.671875\" xlink:href=\"#DejaVuSans-110\"/>\n      <use x=\"331.050781\" xlink:href=\"#DejaVuSans-103\"/>\n      <use x=\"394.527344\" xlink:href=\"#DejaVuSans-32\"/>\n      <use x=\"426.314453\" xlink:href=\"#DejaVuSans-68\"/>\n      <use x=\"503.316406\" xlink:href=\"#DejaVuSans-97\"/>\n      <use x=\"564.595703\" xlink:href=\"#DejaVuSans-116\"/>\n      <use x=\"603.804688\" xlink:href=\"#DejaVuSans-97\"/>\n     </g>\n    </g>\n    <g id=\"PathCollection_5\">\n     <g>\n      <use style=\"fill:#008000;stroke:#008000;\" x=\"54.304688\" xlink:href=\"#mf87399e17a\" y=\"35.851562\"/>\n     </g>\n    </g>\n    <g id=\"text_19\">\n     <!-- Testing Data -->\n     <g transform=\"translate(72.304688 38.476562)scale(0.1 -0.1)\">\n      <defs>\n       <path d=\"M 56.203125 29.59375 \nL 56.203125 25.203125 \nL 14.890625 25.203125 \nQ 15.484375 15.921875 20.484375 11.0625 \nQ 25.484375 6.203125 34.421875 6.203125 \nQ 39.59375 6.203125 44.453125 7.46875 \nQ 49.3125 8.734375 54.109375 11.28125 \nL 54.109375 2.78125 \nQ 49.265625 0.734375 44.1875 -0.34375 \nQ 39.109375 -1.421875 33.890625 -1.421875 \nQ 20.796875 -1.421875 13.15625 6.1875 \nQ 5.515625 13.8125 5.515625 26.8125 \nQ 5.515625 40.234375 12.765625 48.109375 \nQ 20.015625 56 32.328125 56 \nQ 43.359375 56 49.78125 48.890625 \nQ 56.203125 41.796875 56.203125 29.59375 \nz\nM 47.21875 32.234375 \nQ 47.125 39.59375 43.09375 43.984375 \nQ 39.0625 48.390625 32.421875 48.390625 \nQ 24.90625 48.390625 20.390625 44.140625 \nQ 15.875 39.890625 15.1875 32.171875 \nz\n\" id=\"DejaVuSans-101\"/>\n       <path d=\"M 44.28125 53.078125 \nL 44.28125 44.578125 \nQ 40.484375 46.53125 36.375 47.5 \nQ 32.28125 48.484375 27.875 48.484375 \nQ 21.1875 48.484375 17.84375 46.4375 \nQ 14.5 44.390625 14.5 40.28125 \nQ 14.5 37.15625 16.890625 35.375 \nQ 19.28125 33.59375 26.515625 31.984375 \nL 29.59375 31.296875 \nQ 39.15625 29.25 43.1875 25.515625 \nQ 47.21875 21.78125 47.21875 15.09375 \nQ 47.21875 7.46875 41.1875 3.015625 \nQ 35.15625 -1.421875 24.609375 -1.421875 \nQ 20.21875 -1.421875 15.453125 -0.5625 \nQ 10.6875 0.296875 5.421875 2 \nL 5.421875 11.28125 \nQ 10.40625 8.6875 15.234375 7.390625 \nQ 20.0625 6.109375 24.8125 6.109375 \nQ 31.15625 6.109375 34.5625 8.28125 \nQ 37.984375 10.453125 37.984375 14.40625 \nQ 37.984375 18.0625 35.515625 20.015625 \nQ 33.0625 21.96875 24.703125 23.78125 \nL 21.578125 24.515625 \nQ 13.234375 26.265625 9.515625 29.90625 \nQ 5.8125 33.546875 5.8125 39.890625 \nQ 5.8125 47.609375 11.28125 51.796875 \nQ 16.75 56 26.8125 56 \nQ 31.78125 56 36.171875 55.265625 \nQ 40.578125 54.546875 44.28125 53.078125 \nz\n\" id=\"DejaVuSans-115\"/>\n      </defs>\n      <use xlink:href=\"#DejaVuSans-84\"/>\n      <use x=\"44.083984\" xlink:href=\"#DejaVuSans-101\"/>\n      <use x=\"105.607422\" xlink:href=\"#DejaVuSans-115\"/>\n      <use x=\"157.707031\" xlink:href=\"#DejaVuSans-116\"/>\n      <use x=\"196.916016\" xlink:href=\"#DejaVuSans-105\"/>\n      <use x=\"224.699219\" xlink:href=\"#DejaVuSans-110\"/>\n      <use x=\"288.078125\" xlink:href=\"#DejaVuSans-103\"/>\n      <use x=\"351.554688\" xlink:href=\"#DejaVuSans-32\"/>\n      <use x=\"383.341797\" xlink:href=\"#DejaVuSans-68\"/>\n      <use x=\"460.34375\" xlink:href=\"#DejaVuSans-97\"/>\n      <use x=\"521.623047\" xlink:href=\"#DejaVuSans-116\"/>\n      <use x=\"560.832031\" xlink:href=\"#DejaVuSans-97\"/>\n     </g>\n    </g>\n    <g id=\"PathCollection_6\">\n     <g>\n      <use style=\"fill:#ff0000;stroke:#ff0000;\" x=\"54.304688\" xlink:href=\"#m836c4f7096\" y=\"50.529687\"/>\n     </g>\n    </g>\n    <g id=\"text_20\">\n     <!-- Predictions -->\n     <g transform=\"translate(72.304688 53.154687)scale(0.1 -0.1)\">\n      <defs>\n       <path d=\"M 19.671875 64.796875 \nL 19.671875 37.40625 \nL 32.078125 37.40625 \nQ 38.96875 37.40625 42.71875 40.96875 \nQ 46.484375 44.53125 46.484375 51.125 \nQ 46.484375 57.671875 42.71875 61.234375 \nQ 38.96875 64.796875 32.078125 64.796875 \nz\nM 9.8125 72.90625 \nL 32.078125 72.90625 \nQ 44.34375 72.90625 50.609375 67.359375 \nQ 56.890625 61.8125 56.890625 51.125 \nQ 56.890625 40.328125 50.609375 34.8125 \nQ 44.34375 29.296875 32.078125 29.296875 \nL 19.671875 29.296875 \nL 19.671875 0 \nL 9.8125 0 \nz\n\" id=\"DejaVuSans-80\"/>\n       <path d=\"M 45.40625 46.390625 \nL 45.40625 75.984375 \nL 54.390625 75.984375 \nL 54.390625 0 \nL 45.40625 0 \nL 45.40625 8.203125 \nQ 42.578125 3.328125 38.25 0.953125 \nQ 33.9375 -1.421875 27.875 -1.421875 \nQ 17.96875 -1.421875 11.734375 6.484375 \nQ 5.515625 14.40625 5.515625 27.296875 \nQ 5.515625 40.1875 11.734375 48.09375 \nQ 17.96875 56 27.875 56 \nQ 33.9375 56 38.25 53.625 \nQ 42.578125 51.265625 45.40625 46.390625 \nz\nM 14.796875 27.296875 \nQ 14.796875 17.390625 18.875 11.75 \nQ 22.953125 6.109375 30.078125 6.109375 \nQ 37.203125 6.109375 41.296875 11.75 \nQ 45.40625 17.390625 45.40625 27.296875 \nQ 45.40625 37.203125 41.296875 42.84375 \nQ 37.203125 48.484375 30.078125 48.484375 \nQ 22.953125 48.484375 18.875 42.84375 \nQ 14.796875 37.203125 14.796875 27.296875 \nz\n\" id=\"DejaVuSans-100\"/>\n       <path d=\"M 48.78125 52.59375 \nL 48.78125 44.1875 \nQ 44.96875 46.296875 41.140625 47.34375 \nQ 37.3125 48.390625 33.40625 48.390625 \nQ 24.65625 48.390625 19.8125 42.84375 \nQ 14.984375 37.3125 14.984375 27.296875 \nQ 14.984375 17.28125 19.8125 11.734375 \nQ 24.65625 6.203125 33.40625 6.203125 \nQ 37.3125 6.203125 41.140625 7.25 \nQ 44.96875 8.296875 48.78125 10.40625 \nL 48.78125 2.09375 \nQ 45.015625 0.34375 40.984375 -0.53125 \nQ 36.96875 -1.421875 32.421875 -1.421875 \nQ 20.0625 -1.421875 12.78125 6.34375 \nQ 5.515625 14.109375 5.515625 27.296875 \nQ 5.515625 40.671875 12.859375 48.328125 \nQ 20.21875 56 33.015625 56 \nQ 37.15625 56 41.109375 55.140625 \nQ 45.0625 54.296875 48.78125 52.59375 \nz\n\" id=\"DejaVuSans-99\"/>\n       <path d=\"M 30.609375 48.390625 \nQ 23.390625 48.390625 19.1875 42.75 \nQ 14.984375 37.109375 14.984375 27.296875 \nQ 14.984375 17.484375 19.15625 11.84375 \nQ 23.34375 6.203125 30.609375 6.203125 \nQ 37.796875 6.203125 41.984375 11.859375 \nQ 46.1875 17.53125 46.1875 27.296875 \nQ 46.1875 37.015625 41.984375 42.703125 \nQ 37.796875 48.390625 30.609375 48.390625 \nz\nM 30.609375 56 \nQ 42.328125 56 49.015625 48.375 \nQ 55.71875 40.765625 55.71875 27.296875 \nQ 55.71875 13.875 49.015625 6.21875 \nQ 42.328125 -1.421875 30.609375 -1.421875 \nQ 18.84375 -1.421875 12.171875 6.21875 \nQ 5.515625 13.875 5.515625 27.296875 \nQ 5.515625 40.765625 12.171875 48.375 \nQ 18.84375 56 30.609375 56 \nz\n\" id=\"DejaVuSans-111\"/>\n      </defs>\n      <use xlink:href=\"#DejaVuSans-80\"/>\n      <use x=\"58.552734\" xlink:href=\"#DejaVuSans-114\"/>\n      <use x=\"97.416016\" xlink:href=\"#DejaVuSans-101\"/>\n      <use x=\"158.939453\" xlink:href=\"#DejaVuSans-100\"/>\n      <use x=\"222.416016\" xlink:href=\"#DejaVuSans-105\"/>\n      <use x=\"250.199219\" xlink:href=\"#DejaVuSans-99\"/>\n      <use x=\"305.179688\" xlink:href=\"#DejaVuSans-116\"/>\n      <use x=\"344.388672\" xlink:href=\"#DejaVuSans-105\"/>\n      <use x=\"372.171875\" xlink:href=\"#DejaVuSans-111\"/>\n      <use x=\"433.353516\" xlink:href=\"#DejaVuSans-110\"/>\n      <use x=\"496.732422\" xlink:href=\"#DejaVuSans-115\"/>\n     </g>\n    </g>\n   </g>\n  </g>\n </g>\n <defs>\n  <clipPath id=\"p4468d01f18\">\n   <rect height=\"380.52\" width=\"558\" x=\"35.304688\" y=\"7.2\"/>\n  </clipPath>\n </defs>\n</svg>\n",
      "image/png": "[encoded data removed]"
     },
     "metadata": {
      "needs_background": "light"
     }
    }
   ],
   "source": [
    "# Make and plot predictions for model_1\n",
    "y_preds_1 = model_1.predict(X_test)\n",
    "plot_predictions(train_data = X_train,\n",
    "                 train_labels = y_train,\n",
    "                 test_data = X_test,\n",
    "                 test_labels = y_test,\n",
    "                 predictions=y_preds_1)"
   ]
  },
  {
   "cell_type": "code",
   "execution_count": 117,
   "metadata": {},
   "outputs": [
    {
     "output_type": "execute_result",
     "data": {
      "text/plain": [
       "(18.745327, 353.57336)"
      ]
     },
     "metadata": {},
     "execution_count": 117
    }
   ],
   "source": [
    "# Calculate model_1 evaluation metrics\n",
    "mae_1 = mae(y_test, y_preds_1)\n",
    "mse_1 = mse(y_test, y_preds_1)\n",
    "mae_1, mse_1\n",
    "\n",
    "# On average, per MAE, each prediction is 18.74 away from where it should be"
   ]
  },
  {
   "source": [
    "# Model 2 Build and Evaluate\n",
    "\n",
    "2 Dense Layers, trained for 100 epochs"
   ],
   "cell_type": "markdown",
   "metadata": {}
  },
  {
   "cell_type": "code",
   "execution_count": 118,
   "metadata": {},
   "outputs": [
    {
     "output_type": "stream",
     "name": "stdout",
     "text": [
      "Epoch 1/100\n",
      "2/2 [==============================] - 1s 7ms/step - loss: 77.0856 - mean_absolute_error: 77.0856 - mean_squared_error: 8550.2907\n",
      "Epoch 2/100\n",
      "2/2 [==============================] - 0s 9ms/step - loss: 17.0775 - mean_absolute_error: 17.0775 - mean_squared_error: 458.0873\n",
      "Epoch 3/100\n",
      "2/2 [==============================] - 0s 8ms/step - loss: 20.1814 - mean_absolute_error: 20.1814 - mean_squared_error: 597.2403\n",
      "Epoch 4/100\n",
      "2/2 [==============================] - 0s 7ms/step - loss: 12.5192 - mean_absolute_error: 12.5192 - mean_squared_error: 196.8841\n",
      "Epoch 5/100\n",
      "2/2 [==============================] - 0s 6ms/step - loss: 14.1468 - mean_absolute_error: 14.1468 - mean_squared_error: 243.6306\n",
      "Epoch 6/100\n",
      "2/2 [==============================] - 0s 7ms/step - loss: 11.6317 - mean_absolute_error: 11.6317 - mean_squared_error: 154.1264\n",
      "Epoch 7/100\n",
      "2/2 [==============================] - 0s 7ms/step - loss: 12.8263 - mean_absolute_error: 12.8263 - mean_squared_error: 216.9939\n",
      "Epoch 8/100\n",
      "2/2 [==============================] - 0s 8ms/step - loss: 11.2822 - mean_absolute_error: 11.2822 - mean_squared_error: 156.1549\n",
      "Epoch 9/100\n",
      "2/2 [==============================] - 0s 7ms/step - loss: 41.5593 - mean_absolute_error: 41.5593 - mean_squared_error: 2650.8288\n",
      "Epoch 10/100\n",
      "2/2 [==============================] - 0s 7ms/step - loss: 27.6300 - mean_absolute_error: 27.6300 - mean_squared_error: 1072.2356\n",
      "Epoch 11/100\n",
      "2/2 [==============================] - 0s 8ms/step - loss: 10.2494 - mean_absolute_error: 10.2494 - mean_squared_error: 156.8378\n",
      "Epoch 12/100\n",
      "2/2 [==============================] - 0s 10ms/step - loss: 25.0770 - mean_absolute_error: 25.0770 - mean_squared_error: 880.9308\n",
      "Epoch 13/100\n",
      "2/2 [==============================] - 0s 8ms/step - loss: 19.1028 - mean_absolute_error: 19.1028 - mean_squared_error: 525.4263\n",
      "Epoch 14/100\n",
      "2/2 [==============================] - 0s 9ms/step - loss: 23.8938 - mean_absolute_error: 23.8938 - mean_squared_error: 878.6291\n",
      "Epoch 15/100\n",
      "2/2 [==============================] - 0s 8ms/step - loss: 15.1235 - mean_absolute_error: 15.1235 - mean_squared_error: 311.3550\n",
      "Epoch 16/100\n",
      "2/2 [==============================] - 0s 10ms/step - loss: 11.3656 - mean_absolute_error: 11.3656 - mean_squared_error: 147.6967\n",
      "Epoch 17/100\n",
      "2/2 [==============================] - 0s 11ms/step - loss: 23.1687 - mean_absolute_error: 23.1687 - mean_squared_error: 762.9239\n",
      "Epoch 18/100\n",
      "2/2 [==============================] - 0s 8ms/step - loss: 12.1538 - mean_absolute_error: 12.1538 - mean_squared_error: 224.6829\n",
      "Epoch 19/100\n",
      "2/2 [==============================] - 0s 9ms/step - loss: 16.7245 - mean_absolute_error: 16.7245 - mean_squared_error: 444.3988\n",
      "Epoch 20/100\n",
      "2/2 [==============================] - 0s 9ms/step - loss: 8.0070 - mean_absolute_error: 8.0070 - mean_squared_error: 90.2488\n",
      "Epoch 21/100\n",
      "2/2 [==============================] - 0s 8ms/step - loss: 14.4158 - mean_absolute_error: 14.4158 - mean_squared_error: 288.1830\n",
      "Epoch 22/100\n",
      "2/2 [==============================] - 0s 10ms/step - loss: 12.7941 - mean_absolute_error: 12.7941 - mean_squared_error: 236.5913\n",
      "Epoch 23/100\n",
      "2/2 [==============================] - 0s 8ms/step - loss: 15.0232 - mean_absolute_error: 15.0232 - mean_squared_error: 297.5724\n",
      "Epoch 24/100\n",
      "2/2 [==============================] - 0s 8ms/step - loss: 15.4158 - mean_absolute_error: 15.4158 - mean_squared_error: 321.6330\n",
      "Epoch 25/100\n",
      "2/2 [==============================] - 0s 8ms/step - loss: 14.0049 - mean_absolute_error: 14.0049 - mean_squared_error: 261.0064\n",
      "Epoch 26/100\n",
      "2/2 [==============================] - 0s 8ms/step - loss: 20.3367 - mean_absolute_error: 20.3367 - mean_squared_error: 606.9999\n",
      "Epoch 27/100\n",
      "2/2 [==============================] - 0s 8ms/step - loss: 11.6472 - mean_absolute_error: 11.6472 - mean_squared_error: 173.7375\n",
      "Epoch 28/100\n",
      "2/2 [==============================] - 0s 9ms/step - loss: 30.4176 - mean_absolute_error: 30.4176 - mean_squared_error: 1471.9412\n",
      "Epoch 29/100\n",
      "2/2 [==============================] - 0s 8ms/step - loss: 9.1966 - mean_absolute_error: 9.1966 - mean_squared_error: 91.2107\n",
      "Epoch 30/100\n",
      "2/2 [==============================] - 0s 7ms/step - loss: 31.9349 - mean_absolute_error: 31.9349 - mean_squared_error: 1751.0165\n",
      "Epoch 31/100\n",
      "2/2 [==============================] - 0s 7ms/step - loss: 58.1652 - mean_absolute_error: 58.1652 - mean_squared_error: 5705.2536\n",
      "Epoch 32/100\n",
      "2/2 [==============================] - 0s 7ms/step - loss: 9.5376 - mean_absolute_error: 9.5376 - mean_squared_error: 97.2989\n",
      "Epoch 33/100\n",
      "2/2 [==============================] - 0s 8ms/step - loss: 12.1845 - mean_absolute_error: 12.1845 - mean_squared_error: 183.4251\n",
      "Epoch 34/100\n",
      "2/2 [==============================] - 0s 6ms/step - loss: 24.5685 - mean_absolute_error: 24.5685 - mean_squared_error: 909.3696\n",
      "Epoch 35/100\n",
      "2/2 [==============================] - 0s 8ms/step - loss: 11.5548 - mean_absolute_error: 11.5548 - mean_squared_error: 202.3292\n",
      "Epoch 36/100\n",
      "2/2 [==============================] - 0s 7ms/step - loss: 22.6218 - mean_absolute_error: 22.6218 - mean_squared_error: 707.7555\n",
      "Epoch 37/100\n",
      "2/2 [==============================] - 0s 9ms/step - loss: 11.0027 - mean_absolute_error: 11.0027 - mean_squared_error: 135.9207\n",
      "Epoch 38/100\n",
      "2/2 [==============================] - 0s 8ms/step - loss: 13.5250 - mean_absolute_error: 13.5250 - mean_squared_error: 271.1888\n",
      "Epoch 39/100\n",
      "2/2 [==============================] - 0s 10ms/step - loss: 10.9190 - mean_absolute_error: 10.9190 - mean_squared_error: 140.9140\n",
      "Epoch 40/100\n",
      "2/2 [==============================] - 0s 8ms/step - loss: 16.3505 - mean_absolute_error: 16.3505 - mean_squared_error: 390.1536\n",
      "Epoch 41/100\n",
      "2/2 [==============================] - 0s 8ms/step - loss: 9.9779 - mean_absolute_error: 9.9779 - mean_squared_error: 142.8123\n",
      "Epoch 42/100\n",
      "2/2 [==============================] - 0s 8ms/step - loss: 8.7666 - mean_absolute_error: 8.7666 - mean_squared_error: 100.5632\n",
      "Epoch 43/100\n",
      "2/2 [==============================] - 0s 8ms/step - loss: 9.2370 - mean_absolute_error: 9.2370 - mean_squared_error: 99.8101\n",
      "Epoch 44/100\n",
      "2/2 [==============================] - 0s 8ms/step - loss: 29.1019 - mean_absolute_error: 29.1019 - mean_squared_error: 1338.2507\n",
      "Epoch 45/100\n",
      "2/2 [==============================] - 0s 10ms/step - loss: 11.0540 - mean_absolute_error: 11.0540 - mean_squared_error: 137.7350\n",
      "Epoch 46/100\n",
      "2/2 [==============================] - 0s 8ms/step - loss: 14.2725 - mean_absolute_error: 14.2725 - mean_squared_error: 298.0078\n",
      "Epoch 47/100\n",
      "2/2 [==============================] - 0s 8ms/step - loss: 13.2563 - mean_absolute_error: 13.2563 - mean_squared_error: 245.0739\n",
      "Epoch 48/100\n",
      "2/2 [==============================] - 0s 11ms/step - loss: 17.9832 - mean_absolute_error: 17.9832 - mean_squared_error: 433.0757\n",
      "Epoch 49/100\n",
      "2/2 [==============================] - 0s 8ms/step - loss: 9.4848 - mean_absolute_error: 9.4848 - mean_squared_error: 95.4112\n",
      "Epoch 50/100\n",
      "2/2 [==============================] - 0s 10ms/step - loss: 13.6692 - mean_absolute_error: 13.6692 - mean_squared_error: 249.4649\n",
      "Epoch 51/100\n",
      "2/2 [==============================] - 0s 11ms/step - loss: 11.2446 - mean_absolute_error: 11.2446 - mean_squared_error: 143.0014\n",
      "Epoch 52/100\n",
      "2/2 [==============================] - 0s 9ms/step - loss: 31.8073 - mean_absolute_error: 31.8073 - mean_squared_error: 1691.8684\n",
      "Epoch 53/100\n",
      "2/2 [==============================] - 0s 9ms/step - loss: 13.6397 - mean_absolute_error: 13.6397 - mean_squared_error: 281.5475\n",
      "Epoch 54/100\n",
      "2/2 [==============================] - 0s 10ms/step - loss: 27.2443 - mean_absolute_error: 27.2443 - mean_squared_error: 1134.9309\n",
      "Epoch 55/100\n",
      "2/2 [==============================] - 0s 8ms/step - loss: 26.7138 - mean_absolute_error: 26.7138 - mean_squared_error: 1078.3850\n",
      "Epoch 56/100\n",
      "2/2 [==============================] - 0s 9ms/step - loss: 10.4464 - mean_absolute_error: 10.4464 - mean_squared_error: 140.5566\n",
      "Epoch 57/100\n",
      "2/2 [==============================] - 0s 8ms/step - loss: 12.9866 - mean_absolute_error: 12.9866 - mean_squared_error: 209.5003\n",
      "Epoch 58/100\n",
      "2/2 [==============================] - 0s 9ms/step - loss: 9.7887 - mean_absolute_error: 9.7887 - mean_squared_error: 103.1090\n",
      "Epoch 59/100\n",
      "2/2 [==============================] - 0s 7ms/step - loss: 13.4902 - mean_absolute_error: 13.4902 - mean_squared_error: 257.1111\n",
      "Epoch 60/100\n",
      "2/2 [==============================] - 0s 6ms/step - loss: 10.8523 - mean_absolute_error: 10.8523 - mean_squared_error: 136.9984\n",
      "Epoch 61/100\n",
      "2/2 [==============================] - 0s 7ms/step - loss: 13.4220 - mean_absolute_error: 13.4220 - mean_squared_error: 244.1272\n",
      "Epoch 62/100\n",
      "2/2 [==============================] - 0s 8ms/step - loss: 17.8431 - mean_absolute_error: 17.8431 - mean_squared_error: 486.0764\n",
      "Epoch 63/100\n",
      "2/2 [==============================] - 0s 8ms/step - loss: 8.4303 - mean_absolute_error: 8.4303 - mean_squared_error: 85.3819\n",
      "Epoch 64/100\n",
      "2/2 [==============================] - 0s 10ms/step - loss: 15.8669 - mean_absolute_error: 15.8669 - mean_squared_error: 362.3839\n",
      "Epoch 65/100\n",
      "2/2 [==============================] - 0s 9ms/step - loss: 10.8842 - mean_absolute_error: 10.8842 - mean_squared_error: 149.8814\n",
      "Epoch 66/100\n",
      "2/2 [==============================] - 0s 8ms/step - loss: 22.4017 - mean_absolute_error: 22.4017 - mean_squared_error: 748.6935\n",
      "Epoch 67/100\n",
      "2/2 [==============================] - 0s 11ms/step - loss: 10.0991 - mean_absolute_error: 10.0991 - mean_squared_error: 113.7232\n",
      "Epoch 68/100\n",
      "2/2 [==============================] - 0s 7ms/step - loss: 13.3646 - mean_absolute_error: 13.3646 - mean_squared_error: 266.9550\n",
      "Epoch 69/100\n",
      "2/2 [==============================] - 0s 9ms/step - loss: 11.4516 - mean_absolute_error: 11.4516 - mean_squared_error: 162.4540\n",
      "Epoch 70/100\n",
      "2/2 [==============================] - 0s 7ms/step - loss: 13.4045 - mean_absolute_error: 13.4045 - mean_squared_error: 237.9818\n",
      "Epoch 71/100\n",
      "2/2 [==============================] - 0s 8ms/step - loss: 15.2406 - mean_absolute_error: 15.2406 - mean_squared_error: 329.4047\n",
      "Epoch 72/100\n",
      "2/2 [==============================] - 0s 8ms/step - loss: 11.6152 - mean_absolute_error: 11.6152 - mean_squared_error: 160.9967\n",
      "Epoch 73/100\n",
      "2/2 [==============================] - 0s 8ms/step - loss: 16.0014 - mean_absolute_error: 16.0014 - mean_squared_error: 351.6746\n",
      "Epoch 74/100\n",
      "2/2 [==============================] - 0s 10ms/step - loss: 24.7200 - mean_absolute_error: 24.7200 - mean_squared_error: 956.7675\n",
      "Epoch 75/100\n",
      "2/2 [==============================] - 0s 9ms/step - loss: 8.8088 - mean_absolute_error: 8.8088 - mean_squared_error: 119.8574\n",
      "Epoch 76/100\n",
      "2/2 [==============================] - 0s 7ms/step - loss: 12.0321 - mean_absolute_error: 12.0321 - mean_squared_error: 174.1860\n",
      "Epoch 77/100\n",
      "2/2 [==============================] - 0s 9ms/step - loss: 16.7166 - mean_absolute_error: 16.7166 - mean_squared_error: 436.1377\n",
      "Epoch 78/100\n",
      "2/2 [==============================] - 0s 7ms/step - loss: 9.3104 - mean_absolute_error: 9.3104 - mean_squared_error: 99.6774\n",
      "Epoch 79/100\n",
      "2/2 [==============================] - 0s 12ms/step - loss: 24.5281 - mean_absolute_error: 24.5281 - mean_squared_error: 907.5587\n",
      "Epoch 80/100\n",
      "2/2 [==============================] - 0s 11ms/step - loss: 27.5199 - mean_absolute_error: 27.5199 - mean_squared_error: 1165.7616\n",
      "Epoch 81/100\n",
      "2/2 [==============================] - 0s 8ms/step - loss: 11.7673 - mean_absolute_error: 11.7673 - mean_squared_error: 172.3191\n",
      "Epoch 82/100\n",
      "2/2 [==============================] - 0s 10ms/step - loss: 11.6598 - mean_absolute_error: 11.6598 - mean_squared_error: 195.8544\n",
      "Epoch 83/100\n",
      "2/2 [==============================] - 0s 7ms/step - loss: 17.8867 - mean_absolute_error: 17.8867 - mean_squared_error: 413.4755\n",
      "Epoch 84/100\n",
      "2/2 [==============================] - 0s 8ms/step - loss: 7.0490 - mean_absolute_error: 7.0490 - mean_squared_error: 70.2924\n",
      "Epoch 85/100\n",
      "2/2 [==============================] - 0s 7ms/step - loss: 15.1471 - mean_absolute_error: 15.1471 - mean_squared_error: 320.7408\n",
      "Epoch 86/100\n",
      "2/2 [==============================] - 0s 11ms/step - loss: 15.1523 - mean_absolute_error: 15.1523 - mean_squared_error: 311.3766\n",
      "Epoch 87/100\n",
      "2/2 [==============================] - 0s 10ms/step - loss: 19.8577 - mean_absolute_error: 19.8577 - mean_squared_error: 553.9325\n",
      "Epoch 88/100\n",
      "2/2 [==============================] - 0s 9ms/step - loss: 30.8033 - mean_absolute_error: 30.8033 - mean_squared_error: 1361.0479\n",
      "Epoch 89/100\n",
      "2/2 [==============================] - 0s 8ms/step - loss: 9.7309 - mean_absolute_error: 9.7309 - mean_squared_error: 108.9138\n",
      "Epoch 90/100\n",
      "2/2 [==============================] - 0s 9ms/step - loss: 21.5771 - mean_absolute_error: 21.5771 - mean_squared_error: 675.8902\n",
      "Epoch 91/100\n",
      "2/2 [==============================] - 0s 8ms/step - loss: 9.6058 - mean_absolute_error: 9.6058 - mean_squared_error: 128.3650\n",
      "Epoch 92/100\n",
      "2/2 [==============================] - 0s 7ms/step - loss: 18.2329 - mean_absolute_error: 18.2329 - mean_squared_error: 464.6346\n",
      "Epoch 93/100\n",
      "2/2 [==============================] - 0s 8ms/step - loss: 7.2112 - mean_absolute_error: 7.2112 - mean_squared_error: 75.7694\n",
      "Epoch 94/100\n",
      "2/2 [==============================] - 0s 7ms/step - loss: 17.4360 - mean_absolute_error: 17.4360 - mean_squared_error: 438.6095\n",
      "Epoch 95/100\n",
      "2/2 [==============================] - 0s 6ms/step - loss: 11.1896 - mean_absolute_error: 11.1896 - mean_squared_error: 164.6898\n",
      "Epoch 96/100\n",
      "2/2 [==============================] - 0s 16ms/step - loss: 18.9276 - mean_absolute_error: 18.9276 - mean_squared_error: 491.9708\n",
      "Epoch 97/100\n",
      "2/2 [==============================] - 0s 9ms/step - loss: 12.2155 - mean_absolute_error: 12.2155 - mean_squared_error: 209.1454\n",
      "Epoch 98/100\n",
      "2/2 [==============================] - 0s 9ms/step - loss: 11.3058 - mean_absolute_error: 11.3058 - mean_squared_error: 158.7311\n",
      "Epoch 99/100\n",
      "2/2 [==============================] - 0s 9ms/step - loss: 13.4578 - mean_absolute_error: 13.4578 - mean_squared_error: 254.3972\n",
      "Epoch 100/100\n",
      "2/2 [==============================] - 0s 10ms/step - loss: 20.1603 - mean_absolute_error: 20.1603 - mean_squared_error: 611.1929\n"
     ]
    },
    {
     "output_type": "execute_result",
     "data": {
      "text/plain": [
       "<tensorflow.python.keras.callbacks.History at 0x7ef190f828>"
      ]
     },
     "metadata": {},
     "execution_count": 118
    }
   ],
   "source": [
    "# 1. Create the model\n",
    "model_2 = tf.keras.Sequential([\n",
    "    tf.keras.layers.Dense(10),\n",
    "    tf.keras.layers.Dense(1)\n",
    "])\n",
    "\n",
    "# 2. Compile the model\n",
    "model_2.compile(\n",
    "    loss = tf.keras.losses.mae,\n",
    "    optimizer = tf.keras.optimizers.SGD(),\n",
    "    metrics = [tf.keras.metrics.mae, tf.keras.metrics.mse]\n",
    ")\n",
    "\n",
    "# 3. Fit the model\n",
    "model_2.fit(X_train, y_train, epochs = 100)"
   ]
  },
  {
   "cell_type": "code",
   "execution_count": 119,
   "metadata": {},
   "outputs": [
    {
     "output_type": "stream",
     "name": "stdout",
     "text": [
      "WARNING:tensorflow:6 out of the last 12 calls to <function Model.make_predict_function.<locals>.predict_function at 0x7ef1622488> triggered tf.function retracing. Tracing is expensive and the excessive number of tracings could be due to (1) creating @tf.function repeatedly in a loop, (2) passing tensors with different shapes, (3) passing Python objects instead of tensors. For (1), please define your @tf.function outside of the loop. For (2), @tf.function has experimental_relax_shapes=True option that relaxes argument shapes that can avoid unnecessary retracing. For (3), please refer to https://www.tensorflow.org/guide/function#controlling_retracing and https://www.tensorflow.org/api_docs/python/tf/function for  more details.\n"
     ]
    },
    {
     "output_type": "display_data",
     "data": {
      "text/plain": "<Figure size 720x504 with 1 Axes>",
      "image/svg+xml": "<?xml version=\"1.0\" encoding=\"utf-8\" standalone=\"no\"?>\n<!DOCTYPE svg PUBLIC \"-//W3C//DTD SVG 1.1//EN\"\n  \"http://www.w3.org/Graphics/SVG/1.1/DTD/svg11.dtd\">\n<!-- Created with matplotlib (https://matplotlib.org/) -->\n<svg height=\"411.598125pt\" version=\"1.1\" viewBox=\"0 0 606.867188 411.598125\" width=\"606.867188pt\" xmlns=\"http://www.w3.org/2000/svg\" xmlns:xlink=\"http://www.w3.org/1999/xlink\">\n <metadata>\n  <rdf:RDF xmlns:cc=\"http://creativecommons.org/ns#\" xmlns:dc=\"http://purl.org/dc/elements/1.1/\" xmlns:rdf=\"http://www.w3.org/1999/02/22-rdf-syntax-ns#\">\n   <cc:Work>\n    <dc:type rdf:resource=\"http://purl.org/dc/dcmitype/StillImage\"/>\n    <dc:date>2021-04-04T09:12:30.417680</dc:date>\n    <dc:format>image/svg+xml</dc:format>\n    <dc:creator>\n     <cc:Agent>\n      <dc:title>Matplotlib v3.3.4, https://matplotlib.org/</dc:title>\n     </cc:Agent>\n    </dc:creator>\n   </cc:Work>\n  </rdf:RDF>\n </metadata>\n <defs>\n  <style type=\"text/css\">*{stroke-linecap:butt;stroke-linejoin:round;}</style>\n </defs>\n <g id=\"figure_1\">\n  <g id=\"patch_1\">\n   <path d=\"M 0 411.598125 \nL 606.867188 411.598125 \nL 606.867188 0 \nL 0 0 \nz\n\" style=\"fill:none;\"/>\n  </g>\n  <g id=\"axes_1\">\n   <g id=\"patch_2\">\n    <path d=\"M 41.667188 387.72 \nL 599.667187 387.72 \nL 599.667187 7.2 \nL 41.667188 7.2 \nz\n\" style=\"fill:#ffffff;\"/>\n   </g>\n   <g id=\"PathCollection_1\">\n    <defs>\n     <path d=\"M 0 3 \nC 0.795609 3 1.55874 2.683901 2.12132 2.12132 \nC 2.683901 1.55874 3 0.795609 3 0 \nC 3 -0.795609 2.683901 -1.55874 2.12132 -2.12132 \nC 1.55874 -2.683901 0.795609 -3 0 -3 \nC -0.795609 -3 -1.55874 -2.683901 -2.12132 -2.12132 \nC -2.683901 -1.55874 -3 -0.795609 -3 0 \nC -3 0.795609 -2.683901 1.55874 -2.12132 2.12132 \nC -1.55874 2.683901 -0.795609 3 0 3 \nz\n\" id=\"mfcd354411e\" style=\"stroke:#0000ff;\"/>\n    </defs>\n    <g clip-path=\"url(#p3a8ce2f248)\">\n     <use style=\"fill:#0000ff;stroke:#0000ff;\" x=\"67.030824\" xlink:href=\"#mfcd354411e\" y=\"370.423636\"/>\n     <use style=\"fill:#0000ff;stroke:#0000ff;\" x=\"77.383329\" xlink:href=\"#mfcd354411e\" y=\"363.564809\"/>\n     <use style=\"fill:#0000ff;stroke:#0000ff;\" x=\"87.735833\" xlink:href=\"#mfcd354411e\" y=\"356.705982\"/>\n     <use style=\"fill:#0000ff;stroke:#0000ff;\" x=\"98.088338\" xlink:href=\"#mfcd354411e\" y=\"349.847155\"/>\n     <use style=\"fill:#0000ff;stroke:#0000ff;\" x=\"108.440842\" xlink:href=\"#mfcd354411e\" y=\"342.988328\"/>\n     <use style=\"fill:#0000ff;stroke:#0000ff;\" x=\"118.793347\" xlink:href=\"#mfcd354411e\" y=\"336.129501\"/>\n     <use style=\"fill:#0000ff;stroke:#0000ff;\" x=\"129.145852\" xlink:href=\"#mfcd354411e\" y=\"329.270673\"/>\n     <use style=\"fill:#0000ff;stroke:#0000ff;\" x=\"139.498356\" xlink:href=\"#mfcd354411e\" y=\"322.411846\"/>\n     <use style=\"fill:#0000ff;stroke:#0000ff;\" x=\"149.850861\" xlink:href=\"#mfcd354411e\" y=\"315.553019\"/>\n     <use style=\"fill:#0000ff;stroke:#0000ff;\" x=\"160.203366\" xlink:href=\"#mfcd354411e\" y=\"308.694192\"/>\n     <use style=\"fill:#0000ff;stroke:#0000ff;\" x=\"170.55587\" xlink:href=\"#mfcd354411e\" y=\"301.835365\"/>\n     <use style=\"fill:#0000ff;stroke:#0000ff;\" x=\"180.908375\" xlink:href=\"#mfcd354411e\" y=\"294.976538\"/>\n     <use style=\"fill:#0000ff;stroke:#0000ff;\" x=\"191.26088\" xlink:href=\"#mfcd354411e\" y=\"288.11771\"/>\n     <use style=\"fill:#0000ff;stroke:#0000ff;\" x=\"201.613384\" xlink:href=\"#mfcd354411e\" y=\"281.258883\"/>\n     <use style=\"fill:#0000ff;stroke:#0000ff;\" x=\"211.965889\" xlink:href=\"#mfcd354411e\" y=\"274.400056\"/>\n     <use style=\"fill:#0000ff;stroke:#0000ff;\" x=\"222.318393\" xlink:href=\"#mfcd354411e\" y=\"267.541229\"/>\n     <use style=\"fill:#0000ff;stroke:#0000ff;\" x=\"232.670898\" xlink:href=\"#mfcd354411e\" y=\"260.682402\"/>\n     <use style=\"fill:#0000ff;stroke:#0000ff;\" x=\"243.023403\" xlink:href=\"#mfcd354411e\" y=\"253.823575\"/>\n     <use style=\"fill:#0000ff;stroke:#0000ff;\" x=\"253.375907\" xlink:href=\"#mfcd354411e\" y=\"246.964748\"/>\n     <use style=\"fill:#0000ff;stroke:#0000ff;\" x=\"263.728412\" xlink:href=\"#mfcd354411e\" y=\"240.10592\"/>\n     <use style=\"fill:#0000ff;stroke:#0000ff;\" x=\"274.080917\" xlink:href=\"#mfcd354411e\" y=\"233.247093\"/>\n     <use style=\"fill:#0000ff;stroke:#0000ff;\" x=\"284.433421\" xlink:href=\"#mfcd354411e\" y=\"226.388266\"/>\n     <use style=\"fill:#0000ff;stroke:#0000ff;\" x=\"294.785926\" xlink:href=\"#mfcd354411e\" y=\"219.529439\"/>\n     <use style=\"fill:#0000ff;stroke:#0000ff;\" x=\"305.138431\" xlink:href=\"#mfcd354411e\" y=\"212.670612\"/>\n     <use style=\"fill:#0000ff;stroke:#0000ff;\" x=\"315.490935\" xlink:href=\"#mfcd354411e\" y=\"205.811785\"/>\n     <use style=\"fill:#0000ff;stroke:#0000ff;\" x=\"325.84344\" xlink:href=\"#mfcd354411e\" y=\"198.952957\"/>\n     <use style=\"fill:#0000ff;stroke:#0000ff;\" x=\"336.195944\" xlink:href=\"#mfcd354411e\" y=\"192.09413\"/>\n     <use style=\"fill:#0000ff;stroke:#0000ff;\" x=\"346.548449\" xlink:href=\"#mfcd354411e\" y=\"185.235303\"/>\n     <use style=\"fill:#0000ff;stroke:#0000ff;\" x=\"356.900954\" xlink:href=\"#mfcd354411e\" y=\"178.376476\"/>\n     <use style=\"fill:#0000ff;stroke:#0000ff;\" x=\"367.253458\" xlink:href=\"#mfcd354411e\" y=\"171.517649\"/>\n     <use style=\"fill:#0000ff;stroke:#0000ff;\" x=\"377.605963\" xlink:href=\"#mfcd354411e\" y=\"164.658822\"/>\n     <use style=\"fill:#0000ff;stroke:#0000ff;\" x=\"387.958468\" xlink:href=\"#mfcd354411e\" y=\"157.799994\"/>\n     <use style=\"fill:#0000ff;stroke:#0000ff;\" x=\"398.310972\" xlink:href=\"#mfcd354411e\" y=\"150.941167\"/>\n     <use style=\"fill:#0000ff;stroke:#0000ff;\" x=\"408.663477\" xlink:href=\"#mfcd354411e\" y=\"144.08234\"/>\n     <use style=\"fill:#0000ff;stroke:#0000ff;\" x=\"419.015982\" xlink:href=\"#mfcd354411e\" y=\"137.223513\"/>\n     <use style=\"fill:#0000ff;stroke:#0000ff;\" x=\"429.368486\" xlink:href=\"#mfcd354411e\" y=\"130.364686\"/>\n     <use style=\"fill:#0000ff;stroke:#0000ff;\" x=\"439.720991\" xlink:href=\"#mfcd354411e\" y=\"123.505859\"/>\n     <use style=\"fill:#0000ff;stroke:#0000ff;\" x=\"450.073495\" xlink:href=\"#mfcd354411e\" y=\"116.647031\"/>\n     <use style=\"fill:#0000ff;stroke:#0000ff;\" x=\"460.426\" xlink:href=\"#mfcd354411e\" y=\"109.788204\"/>\n     <use style=\"fill:#0000ff;stroke:#0000ff;\" x=\"470.778505\" xlink:href=\"#mfcd354411e\" y=\"102.929377\"/>\n    </g>\n   </g>\n   <g id=\"PathCollection_2\">\n    <defs>\n     <path d=\"M 0 3 \nC 0.795609 3 1.55874 2.683901 2.12132 2.12132 \nC 2.683901 1.55874 3 0.795609 3 0 \nC 3 -0.795609 2.683901 -1.55874 2.12132 -2.12132 \nC 1.55874 -2.683901 0.795609 -3 0 -3 \nC -0.795609 -3 -1.55874 -2.683901 -2.12132 -2.12132 \nC -2.683901 -1.55874 -3 -0.795609 -3 0 \nC -3 0.795609 -2.683901 1.55874 -2.12132 2.12132 \nC -1.55874 2.683901 -0.795609 3 0 3 \nz\n\" id=\"m2295e5b09a\" style=\"stroke:#008000;\"/>\n    </defs>\n    <g clip-path=\"url(#p3a8ce2f248)\">\n     <use style=\"fill:#008000;stroke:#008000;\" x=\"481.131009\" xlink:href=\"#m2295e5b09a\" y=\"96.07055\"/>\n     <use style=\"fill:#008000;stroke:#008000;\" x=\"491.483514\" xlink:href=\"#m2295e5b09a\" y=\"89.211723\"/>\n     <use style=\"fill:#008000;stroke:#008000;\" x=\"501.836019\" xlink:href=\"#m2295e5b09a\" y=\"82.352896\"/>\n     <use style=\"fill:#008000;stroke:#008000;\" x=\"512.188523\" xlink:href=\"#m2295e5b09a\" y=\"75.494069\"/>\n     <use style=\"fill:#008000;stroke:#008000;\" x=\"522.541028\" xlink:href=\"#m2295e5b09a\" y=\"68.635241\"/>\n     <use style=\"fill:#008000;stroke:#008000;\" x=\"532.893533\" xlink:href=\"#m2295e5b09a\" y=\"61.776414\"/>\n     <use style=\"fill:#008000;stroke:#008000;\" x=\"543.246037\" xlink:href=\"#m2295e5b09a\" y=\"54.917587\"/>\n     <use style=\"fill:#008000;stroke:#008000;\" x=\"553.598542\" xlink:href=\"#m2295e5b09a\" y=\"48.05876\"/>\n     <use style=\"fill:#008000;stroke:#008000;\" x=\"563.951046\" xlink:href=\"#m2295e5b09a\" y=\"41.199933\"/>\n     <use style=\"fill:#008000;stroke:#008000;\" x=\"574.303551\" xlink:href=\"#m2295e5b09a\" y=\"34.341106\"/>\n    </g>\n   </g>\n   <g id=\"PathCollection_3\">\n    <defs>\n     <path d=\"M 0 3 \nC 0.795609 3 1.55874 2.683901 2.12132 2.12132 \nC 2.683901 1.55874 3 0.795609 3 0 \nC 3 -0.795609 2.683901 -1.55874 2.12132 -2.12132 \nC 1.55874 -2.683901 0.795609 -3 0 -3 \nC -0.795609 -3 -1.55874 -2.683901 -2.12132 -2.12132 \nC -2.683901 -1.55874 -3 -0.795609 -3 0 \nC -3 0.795609 -2.683901 1.55874 -2.12132 2.12132 \nC -1.55874 2.683901 -0.795609 3 0 3 \nz\n\" id=\"m4e30fe578a\" style=\"stroke:#ff0000;\"/>\n    </defs>\n    <g clip-path=\"url(#p3a8ce2f248)\">\n     <use style=\"fill:#ff0000;stroke:#ff0000;\" x=\"481.131009\" xlink:href=\"#m4e30fe578a\" y=\"95.246399\"/>\n     <use style=\"fill:#ff0000;stroke:#ff0000;\" x=\"491.483514\" xlink:href=\"#m4e30fe578a\" y=\"87.385281\"/>\n     <use style=\"fill:#ff0000;stroke:#ff0000;\" x=\"501.836019\" xlink:href=\"#m4e30fe578a\" y=\"79.524163\"/>\n     <use style=\"fill:#ff0000;stroke:#ff0000;\" x=\"512.188523\" xlink:href=\"#m4e30fe578a\" y=\"71.663045\"/>\n     <use style=\"fill:#ff0000;stroke:#ff0000;\" x=\"522.541028\" xlink:href=\"#m4e30fe578a\" y=\"63.80194\"/>\n     <use style=\"fill:#ff0000;stroke:#ff0000;\" x=\"532.893533\" xlink:href=\"#m4e30fe578a\" y=\"55.940836\"/>\n     <use style=\"fill:#ff0000;stroke:#ff0000;\" x=\"543.246037\" xlink:href=\"#m4e30fe578a\" y=\"48.079718\"/>\n     <use style=\"fill:#ff0000;stroke:#ff0000;\" x=\"553.598542\" xlink:href=\"#m4e30fe578a\" y=\"40.2186\"/>\n     <use style=\"fill:#ff0000;stroke:#ff0000;\" x=\"563.951046\" xlink:href=\"#m4e30fe578a\" y=\"32.357482\"/>\n     <use style=\"fill:#ff0000;stroke:#ff0000;\" x=\"574.303551\" xlink:href=\"#m4e30fe578a\" y=\"24.496364\"/>\n    </g>\n   </g>\n   <g id=\"matplotlib.axis_1\">\n    <g id=\"xtick_1\">\n     <g id=\"line2d_1\">\n      <defs>\n       <path d=\"M 0 0 \nL 0 3.5 \n\" id=\"me1c052c363\" style=\"stroke:#000000;stroke-width:0.8;\"/>\n      </defs>\n      <g>\n       <use style=\"stroke:#000000;stroke-width:0.8;\" x=\"67.030824\" xlink:href=\"#me1c052c363\" y=\"387.72\"/>\n      </g>\n     </g>\n     <g id=\"text_1\">\n      <!-- −100 -->\n      <g transform=\"translate(53.29723 402.318437)scale(0.1 -0.1)\">\n       <defs>\n        <path d=\"M 10.59375 35.5 \nL 73.1875 35.5 \nL 73.1875 27.203125 \nL 10.59375 27.203125 \nz\n\" id=\"DejaVuSans-8722\"/>\n        <path d=\"M 12.40625 8.296875 \nL 28.515625 8.296875 \nL 28.515625 63.921875 \nL 10.984375 60.40625 \nL 10.984375 69.390625 \nL 28.421875 72.90625 \nL 38.28125 72.90625 \nL 38.28125 8.296875 \nL 54.390625 8.296875 \nL 54.390625 0 \nL 12.40625 0 \nz\n\" id=\"DejaVuSans-49\"/>\n        <path d=\"M 31.78125 66.40625 \nQ 24.171875 66.40625 20.328125 58.90625 \nQ 16.5 51.421875 16.5 36.375 \nQ 16.5 21.390625 20.328125 13.890625 \nQ 24.171875 6.390625 31.78125 6.390625 \nQ 39.453125 6.390625 43.28125 13.890625 \nQ 47.125 21.390625 47.125 36.375 \nQ 47.125 51.421875 43.28125 58.90625 \nQ 39.453125 66.40625 31.78125 66.40625 \nz\nM 31.78125 74.21875 \nQ 44.046875 74.21875 50.515625 64.515625 \nQ 56.984375 54.828125 56.984375 36.375 \nQ 56.984375 17.96875 50.515625 8.265625 \nQ 44.046875 -1.421875 31.78125 -1.421875 \nQ 19.53125 -1.421875 13.0625 8.265625 \nQ 6.59375 17.96875 6.59375 36.375 \nQ 6.59375 54.828125 13.0625 64.515625 \nQ 19.53125 74.21875 31.78125 74.21875 \nz\n\" id=\"DejaVuSans-48\"/>\n       </defs>\n       <use xlink:href=\"#DejaVuSans-8722\"/>\n       <use x=\"83.789062\" xlink:href=\"#DejaVuSans-49\"/>\n       <use x=\"147.412109\" xlink:href=\"#DejaVuSans-48\"/>\n       <use x=\"211.035156\" xlink:href=\"#DejaVuSans-48\"/>\n      </g>\n     </g>\n    </g>\n    <g id=\"xtick_2\">\n     <g id=\"line2d_2\">\n      <g>\n       <use style=\"stroke:#000000;stroke-width:0.8;\" x=\"131.733978\" xlink:href=\"#me1c052c363\" y=\"387.72\"/>\n      </g>\n     </g>\n     <g id=\"text_2\">\n      <!-- −75 -->\n      <g transform=\"translate(121.181634 402.318437)scale(0.1 -0.1)\">\n       <defs>\n        <path d=\"M 8.203125 72.90625 \nL 55.078125 72.90625 \nL 55.078125 68.703125 \nL 28.609375 0 \nL 18.3125 0 \nL 43.21875 64.59375 \nL 8.203125 64.59375 \nz\n\" id=\"DejaVuSans-55\"/>\n        <path d=\"M 10.796875 72.90625 \nL 49.515625 72.90625 \nL 49.515625 64.59375 \nL 19.828125 64.59375 \nL 19.828125 46.734375 \nQ 21.96875 47.46875 24.109375 47.828125 \nQ 26.265625 48.1875 28.421875 48.1875 \nQ 40.625 48.1875 47.75 41.5 \nQ 54.890625 34.8125 54.890625 23.390625 \nQ 54.890625 11.625 47.5625 5.09375 \nQ 40.234375 -1.421875 26.90625 -1.421875 \nQ 22.3125 -1.421875 17.546875 -0.640625 \nQ 12.796875 0.140625 7.71875 1.703125 \nL 7.71875 11.625 \nQ 12.109375 9.234375 16.796875 8.0625 \nQ 21.484375 6.890625 26.703125 6.890625 \nQ 35.15625 6.890625 40.078125 11.328125 \nQ 45.015625 15.765625 45.015625 23.390625 \nQ 45.015625 31 40.078125 35.4375 \nQ 35.15625 39.890625 26.703125 39.890625 \nQ 22.75 39.890625 18.8125 39.015625 \nQ 14.890625 38.140625 10.796875 36.28125 \nz\n\" id=\"DejaVuSans-53\"/>\n       </defs>\n       <use xlink:href=\"#DejaVuSans-8722\"/>\n       <use x=\"83.789062\" xlink:href=\"#DejaVuSans-55\"/>\n       <use x=\"147.412109\" xlink:href=\"#DejaVuSans-53\"/>\n      </g>\n     </g>\n    </g>\n    <g id=\"xtick_3\">\n     <g id=\"line2d_3\">\n      <g>\n       <use style=\"stroke:#000000;stroke-width:0.8;\" x=\"196.437132\" xlink:href=\"#me1c052c363\" y=\"387.72\"/>\n      </g>\n     </g>\n     <g id=\"text_3\">\n      <!-- −50 -->\n      <g transform=\"translate(185.884788 402.318437)scale(0.1 -0.1)\">\n       <use xlink:href=\"#DejaVuSans-8722\"/>\n       <use x=\"83.789062\" xlink:href=\"#DejaVuSans-53\"/>\n       <use x=\"147.412109\" xlink:href=\"#DejaVuSans-48\"/>\n      </g>\n     </g>\n    </g>\n    <g id=\"xtick_4\">\n     <g id=\"line2d_4\">\n      <g>\n       <use style=\"stroke:#000000;stroke-width:0.8;\" x=\"261.140286\" xlink:href=\"#me1c052c363\" y=\"387.72\"/>\n      </g>\n     </g>\n     <g id=\"text_4\">\n      <!-- −25 -->\n      <g transform=\"translate(250.587942 402.318437)scale(0.1 -0.1)\">\n       <defs>\n        <path d=\"M 19.1875 8.296875 \nL 53.609375 8.296875 \nL 53.609375 0 \nL 7.328125 0 \nL 7.328125 8.296875 \nQ 12.9375 14.109375 22.625 23.890625 \nQ 32.328125 33.6875 34.8125 36.53125 \nQ 39.546875 41.84375 41.421875 45.53125 \nQ 43.3125 49.21875 43.3125 52.78125 \nQ 43.3125 58.59375 39.234375 62.25 \nQ 35.15625 65.921875 28.609375 65.921875 \nQ 23.96875 65.921875 18.8125 64.3125 \nQ 13.671875 62.703125 7.8125 59.421875 \nL 7.8125 69.390625 \nQ 13.765625 71.78125 18.9375 73 \nQ 24.125 74.21875 28.421875 74.21875 \nQ 39.75 74.21875 46.484375 68.546875 \nQ 53.21875 62.890625 53.21875 53.421875 \nQ 53.21875 48.921875 51.53125 44.890625 \nQ 49.859375 40.875 45.40625 35.40625 \nQ 44.1875 33.984375 37.640625 27.21875 \nQ 31.109375 20.453125 19.1875 8.296875 \nz\n\" id=\"DejaVuSans-50\"/>\n       </defs>\n       <use xlink:href=\"#DejaVuSans-8722\"/>\n       <use x=\"83.789062\" xlink:href=\"#DejaVuSans-50\"/>\n       <use x=\"147.412109\" xlink:href=\"#DejaVuSans-53\"/>\n      </g>\n     </g>\n    </g>\n    <g id=\"xtick_5\">\n     <g id=\"line2d_5\">\n      <g>\n       <use style=\"stroke:#000000;stroke-width:0.8;\" x=\"325.84344\" xlink:href=\"#me1c052c363\" y=\"387.72\"/>\n      </g>\n     </g>\n     <g id=\"text_5\">\n      <!-- 0 -->\n      <g transform=\"translate(322.66219 402.318437)scale(0.1 -0.1)\">\n       <use xlink:href=\"#DejaVuSans-48\"/>\n      </g>\n     </g>\n    </g>\n    <g id=\"xtick_6\">\n     <g id=\"line2d_6\">\n      <g>\n       <use style=\"stroke:#000000;stroke-width:0.8;\" x=\"390.546594\" xlink:href=\"#me1c052c363\" y=\"387.72\"/>\n      </g>\n     </g>\n     <g id=\"text_6\">\n      <!-- 25 -->\n      <g transform=\"translate(384.184094 402.318437)scale(0.1 -0.1)\">\n       <use xlink:href=\"#DejaVuSans-50\"/>\n       <use x=\"63.623047\" xlink:href=\"#DejaVuSans-53\"/>\n      </g>\n     </g>\n    </g>\n    <g id=\"xtick_7\">\n     <g id=\"line2d_7\">\n      <g>\n       <use style=\"stroke:#000000;stroke-width:0.8;\" x=\"455.249748\" xlink:href=\"#me1c052c363\" y=\"387.72\"/>\n      </g>\n     </g>\n     <g id=\"text_7\">\n      <!-- 50 -->\n      <g transform=\"translate(448.887248 402.318437)scale(0.1 -0.1)\">\n       <use xlink:href=\"#DejaVuSans-53\"/>\n       <use x=\"63.623047\" xlink:href=\"#DejaVuSans-48\"/>\n      </g>\n     </g>\n    </g>\n    <g id=\"xtick_8\">\n     <g id=\"line2d_8\">\n      <g>\n       <use style=\"stroke:#000000;stroke-width:0.8;\" x=\"519.952902\" xlink:href=\"#me1c052c363\" y=\"387.72\"/>\n      </g>\n     </g>\n     <g id=\"text_8\">\n      <!-- 75 -->\n      <g transform=\"translate(513.590402 402.318437)scale(0.1 -0.1)\">\n       <use xlink:href=\"#DejaVuSans-55\"/>\n       <use x=\"63.623047\" xlink:href=\"#DejaVuSans-53\"/>\n      </g>\n     </g>\n    </g>\n    <g id=\"xtick_9\">\n     <g id=\"line2d_9\">\n      <g>\n       <use style=\"stroke:#000000;stroke-width:0.8;\" x=\"584.656056\" xlink:href=\"#me1c052c363\" y=\"387.72\"/>\n      </g>\n     </g>\n     <g id=\"text_9\">\n      <!-- 100 -->\n      <g transform=\"translate(575.112306 402.318437)scale(0.1 -0.1)\">\n       <use xlink:href=\"#DejaVuSans-49\"/>\n       <use x=\"63.623047\" xlink:href=\"#DejaVuSans-48\"/>\n       <use x=\"127.246094\" xlink:href=\"#DejaVuSans-48\"/>\n      </g>\n     </g>\n    </g>\n   </g>\n   <g id=\"matplotlib.axis_2\">\n    <g id=\"ytick_1\">\n     <g id=\"line2d_10\">\n      <defs>\n       <path d=\"M 0 0 \nL -3.5 0 \n\" id=\"m3189a4cf8e\" style=\"stroke:#000000;stroke-width:0.8;\"/>\n      </defs>\n      <g>\n       <use style=\"stroke:#000000;stroke-width:0.8;\" x=\"41.667188\" xlink:href=\"#m3189a4cf8e\" y=\"387.570704\"/>\n      </g>\n     </g>\n     <g id=\"text_10\">\n      <!-- −100 -->\n      <g transform=\"translate(7.2 391.369923)scale(0.1 -0.1)\">\n       <use xlink:href=\"#DejaVuSans-8722\"/>\n       <use x=\"83.789062\" xlink:href=\"#DejaVuSans-49\"/>\n       <use x=\"147.412109\" xlink:href=\"#DejaVuSans-48\"/>\n       <use x=\"211.035156\" xlink:href=\"#DejaVuSans-48\"/>\n      </g>\n     </g>\n    </g>\n    <g id=\"ytick_2\">\n     <g id=\"line2d_11\">\n      <g>\n       <use style=\"stroke:#000000;stroke-width:0.8;\" x=\"41.667188\" xlink:href=\"#m3189a4cf8e\" y=\"344.703035\"/>\n      </g>\n     </g>\n     <g id=\"text_11\">\n      <!-- −75 -->\n      <g transform=\"translate(13.5625 348.502253)scale(0.1 -0.1)\">\n       <use xlink:href=\"#DejaVuSans-8722\"/>\n       <use x=\"83.789062\" xlink:href=\"#DejaVuSans-55\"/>\n       <use x=\"147.412109\" xlink:href=\"#DejaVuSans-53\"/>\n      </g>\n     </g>\n    </g>\n    <g id=\"ytick_3\">\n     <g id=\"line2d_12\">\n      <g>\n       <use style=\"stroke:#000000;stroke-width:0.8;\" x=\"41.667188\" xlink:href=\"#m3189a4cf8e\" y=\"301.835365\"/>\n      </g>\n     </g>\n     <g id=\"text_12\">\n      <!-- −50 -->\n      <g transform=\"translate(13.5625 305.634584)scale(0.1 -0.1)\">\n       <use xlink:href=\"#DejaVuSans-8722\"/>\n       <use x=\"83.789062\" xlink:href=\"#DejaVuSans-53\"/>\n       <use x=\"147.412109\" xlink:href=\"#DejaVuSans-48\"/>\n      </g>\n     </g>\n    </g>\n    <g id=\"ytick_4\">\n     <g id=\"line2d_13\">\n      <g>\n       <use style=\"stroke:#000000;stroke-width:0.8;\" x=\"41.667188\" xlink:href=\"#m3189a4cf8e\" y=\"258.967695\"/>\n      </g>\n     </g>\n     <g id=\"text_13\">\n      <!-- −25 -->\n      <g transform=\"translate(13.5625 262.766914)scale(0.1 -0.1)\">\n       <use xlink:href=\"#DejaVuSans-8722\"/>\n       <use x=\"83.789062\" xlink:href=\"#DejaVuSans-50\"/>\n       <use x=\"147.412109\" xlink:href=\"#DejaVuSans-53\"/>\n      </g>\n     </g>\n    </g>\n    <g id=\"ytick_5\">\n     <g id=\"line2d_14\">\n      <g>\n       <use style=\"stroke:#000000;stroke-width:0.8;\" x=\"41.667188\" xlink:href=\"#m3189a4cf8e\" y=\"216.100025\"/>\n      </g>\n     </g>\n     <g id=\"text_14\">\n      <!-- 0 -->\n      <g transform=\"translate(28.304688 219.899244)scale(0.1 -0.1)\">\n       <use xlink:href=\"#DejaVuSans-48\"/>\n      </g>\n     </g>\n    </g>\n    <g id=\"ytick_6\">\n     <g id=\"line2d_15\">\n      <g>\n       <use style=\"stroke:#000000;stroke-width:0.8;\" x=\"41.667188\" xlink:href=\"#m3189a4cf8e\" y=\"173.232356\"/>\n      </g>\n     </g>\n     <g id=\"text_15\">\n      <!-- 25 -->\n      <g transform=\"translate(21.942188 177.031574)scale(0.1 -0.1)\">\n       <use xlink:href=\"#DejaVuSans-50\"/>\n       <use x=\"63.623047\" xlink:href=\"#DejaVuSans-53\"/>\n      </g>\n     </g>\n    </g>\n    <g id=\"ytick_7\">\n     <g id=\"line2d_16\">\n      <g>\n       <use style=\"stroke:#000000;stroke-width:0.8;\" x=\"41.667188\" xlink:href=\"#m3189a4cf8e\" y=\"130.364686\"/>\n      </g>\n     </g>\n     <g id=\"text_16\">\n      <!-- 50 -->\n      <g transform=\"translate(21.942188 134.163905)scale(0.1 -0.1)\">\n       <use xlink:href=\"#DejaVuSans-53\"/>\n       <use x=\"63.623047\" xlink:href=\"#DejaVuSans-48\"/>\n      </g>\n     </g>\n    </g>\n    <g id=\"ytick_8\">\n     <g id=\"line2d_17\">\n      <g>\n       <use style=\"stroke:#000000;stroke-width:0.8;\" x=\"41.667188\" xlink:href=\"#m3189a4cf8e\" y=\"87.497016\"/>\n      </g>\n     </g>\n     <g id=\"text_17\">\n      <!-- 75 -->\n      <g transform=\"translate(21.942188 91.296235)scale(0.1 -0.1)\">\n       <use xlink:href=\"#DejaVuSans-55\"/>\n       <use x=\"63.623047\" xlink:href=\"#DejaVuSans-53\"/>\n      </g>\n     </g>\n    </g>\n    <g id=\"ytick_9\">\n     <g id=\"line2d_18\">\n      <g>\n       <use style=\"stroke:#000000;stroke-width:0.8;\" x=\"41.667188\" xlink:href=\"#m3189a4cf8e\" y=\"44.629346\"/>\n      </g>\n     </g>\n     <g id=\"text_18\">\n      <!-- 100 -->\n      <g transform=\"translate(15.579688 48.428565)scale(0.1 -0.1)\">\n       <use xlink:href=\"#DejaVuSans-49\"/>\n       <use x=\"63.623047\" xlink:href=\"#DejaVuSans-48\"/>\n       <use x=\"127.246094\" xlink:href=\"#DejaVuSans-48\"/>\n      </g>\n     </g>\n    </g>\n   </g>\n   <g id=\"patch_3\">\n    <path d=\"M 41.667188 387.72 \nL 41.667188 7.2 \n\" style=\"fill:none;stroke:#000000;stroke-linecap:square;stroke-linejoin:miter;stroke-width:0.8;\"/>\n   </g>\n   <g id=\"patch_4\">\n    <path d=\"M 599.667187 387.72 \nL 599.667187 7.2 \n\" style=\"fill:none;stroke:#000000;stroke-linecap:square;stroke-linejoin:miter;stroke-width:0.8;\"/>\n   </g>\n   <g id=\"patch_5\">\n    <path d=\"M 41.667188 387.72 \nL 599.667188 387.72 \n\" style=\"fill:none;stroke:#000000;stroke-linecap:square;stroke-linejoin:miter;stroke-width:0.8;\"/>\n   </g>\n   <g id=\"patch_6\">\n    <path d=\"M 41.667188 7.2 \nL 599.667188 7.2 \n\" style=\"fill:none;stroke:#000000;stroke-linecap:square;stroke-linejoin:miter;stroke-width:0.8;\"/>\n   </g>\n   <g id=\"legend_1\">\n    <g id=\"patch_7\">\n     <path d=\"M 48.667188 59.234375 \nL 147.173438 59.234375 \nQ 149.173438 59.234375 149.173438 57.234375 \nL 149.173438 14.2 \nQ 149.173438 12.2 147.173438 12.2 \nL 48.667188 12.2 \nQ 46.667188 12.2 46.667188 14.2 \nL 46.667188 57.234375 \nQ 46.667188 59.234375 48.667188 59.234375 \nz\n\" style=\"fill:#ffffff;opacity:0.8;stroke:#cccccc;stroke-linejoin:miter;\"/>\n    </g>\n    <g id=\"PathCollection_4\">\n     <g>\n      <use style=\"fill:#0000ff;stroke:#0000ff;\" x=\"60.667188\" xlink:href=\"#mfcd354411e\" y=\"21.173437\"/>\n     </g>\n    </g>\n    <g id=\"text_19\">\n     <!-- Training Data -->\n     <g transform=\"translate(78.667188 23.798437)scale(0.1 -0.1)\">\n      <defs>\n       <path d=\"M -0.296875 72.90625 \nL 61.375 72.90625 \nL 61.375 64.59375 \nL 35.5 64.59375 \nL 35.5 0 \nL 25.59375 0 \nL 25.59375 64.59375 \nL -0.296875 64.59375 \nz\n\" id=\"DejaVuSans-84\"/>\n       <path d=\"M 41.109375 46.296875 \nQ 39.59375 47.171875 37.8125 47.578125 \nQ 36.03125 48 33.890625 48 \nQ 26.265625 48 22.1875 43.046875 \nQ 18.109375 38.09375 18.109375 28.8125 \nL 18.109375 0 \nL 9.078125 0 \nL 9.078125 54.6875 \nL 18.109375 54.6875 \nL 18.109375 46.1875 \nQ 20.953125 51.171875 25.484375 53.578125 \nQ 30.03125 56 36.53125 56 \nQ 37.453125 56 38.578125 55.875 \nQ 39.703125 55.765625 41.0625 55.515625 \nz\n\" id=\"DejaVuSans-114\"/>\n       <path d=\"M 34.28125 27.484375 \nQ 23.390625 27.484375 19.1875 25 \nQ 14.984375 22.515625 14.984375 16.5 \nQ 14.984375 11.71875 18.140625 8.90625 \nQ 21.296875 6.109375 26.703125 6.109375 \nQ 34.1875 6.109375 38.703125 11.40625 \nQ 43.21875 16.703125 43.21875 25.484375 \nL 43.21875 27.484375 \nz\nM 52.203125 31.203125 \nL 52.203125 0 \nL 43.21875 0 \nL 43.21875 8.296875 \nQ 40.140625 3.328125 35.546875 0.953125 \nQ 30.953125 -1.421875 24.3125 -1.421875 \nQ 15.921875 -1.421875 10.953125 3.296875 \nQ 6 8.015625 6 15.921875 \nQ 6 25.140625 12.171875 29.828125 \nQ 18.359375 34.515625 30.609375 34.515625 \nL 43.21875 34.515625 \nL 43.21875 35.40625 \nQ 43.21875 41.609375 39.140625 45 \nQ 35.0625 48.390625 27.6875 48.390625 \nQ 23 48.390625 18.546875 47.265625 \nQ 14.109375 46.140625 10.015625 43.890625 \nL 10.015625 52.203125 \nQ 14.9375 54.109375 19.578125 55.046875 \nQ 24.21875 56 28.609375 56 \nQ 40.484375 56 46.34375 49.84375 \nQ 52.203125 43.703125 52.203125 31.203125 \nz\n\" id=\"DejaVuSans-97\"/>\n       <path d=\"M 9.421875 54.6875 \nL 18.40625 54.6875 \nL 18.40625 0 \nL 9.421875 0 \nz\nM 9.421875 75.984375 \nL 18.40625 75.984375 \nL 18.40625 64.59375 \nL 9.421875 64.59375 \nz\n\" id=\"DejaVuSans-105\"/>\n       <path d=\"M 54.890625 33.015625 \nL 54.890625 0 \nL 45.90625 0 \nL 45.90625 32.71875 \nQ 45.90625 40.484375 42.875 44.328125 \nQ 39.84375 48.1875 33.796875 48.1875 \nQ 26.515625 48.1875 22.3125 43.546875 \nQ 18.109375 38.921875 18.109375 30.90625 \nL 18.109375 0 \nL 9.078125 0 \nL 9.078125 54.6875 \nL 18.109375 54.6875 \nL 18.109375 46.1875 \nQ 21.34375 51.125 25.703125 53.5625 \nQ 30.078125 56 35.796875 56 \nQ 45.21875 56 50.046875 50.171875 \nQ 54.890625 44.34375 54.890625 33.015625 \nz\n\" id=\"DejaVuSans-110\"/>\n       <path d=\"M 45.40625 27.984375 \nQ 45.40625 37.75 41.375 43.109375 \nQ 37.359375 48.484375 30.078125 48.484375 \nQ 22.859375 48.484375 18.828125 43.109375 \nQ 14.796875 37.75 14.796875 27.984375 \nQ 14.796875 18.265625 18.828125 12.890625 \nQ 22.859375 7.515625 30.078125 7.515625 \nQ 37.359375 7.515625 41.375 12.890625 \nQ 45.40625 18.265625 45.40625 27.984375 \nz\nM 54.390625 6.78125 \nQ 54.390625 -7.171875 48.1875 -13.984375 \nQ 42 -20.796875 29.203125 -20.796875 \nQ 24.46875 -20.796875 20.265625 -20.09375 \nQ 16.0625 -19.390625 12.109375 -17.921875 \nL 12.109375 -9.1875 \nQ 16.0625 -11.328125 19.921875 -12.34375 \nQ 23.78125 -13.375 27.78125 -13.375 \nQ 36.625 -13.375 41.015625 -8.765625 \nQ 45.40625 -4.15625 45.40625 5.171875 \nL 45.40625 9.625 \nQ 42.625 4.78125 38.28125 2.390625 \nQ 33.9375 0 27.875 0 \nQ 17.828125 0 11.671875 7.65625 \nQ 5.515625 15.328125 5.515625 27.984375 \nQ 5.515625 40.671875 11.671875 48.328125 \nQ 17.828125 56 27.875 56 \nQ 33.9375 56 38.28125 53.609375 \nQ 42.625 51.21875 45.40625 46.390625 \nL 45.40625 54.6875 \nL 54.390625 54.6875 \nz\n\" id=\"DejaVuSans-103\"/>\n       <path id=\"DejaVuSans-32\"/>\n       <path d=\"M 19.671875 64.796875 \nL 19.671875 8.109375 \nL 31.59375 8.109375 \nQ 46.6875 8.109375 53.6875 14.9375 \nQ 60.6875 21.78125 60.6875 36.53125 \nQ 60.6875 51.171875 53.6875 57.984375 \nQ 46.6875 64.796875 31.59375 64.796875 \nz\nM 9.8125 72.90625 \nL 30.078125 72.90625 \nQ 51.265625 72.90625 61.171875 64.09375 \nQ 71.09375 55.28125 71.09375 36.53125 \nQ 71.09375 17.671875 61.125 8.828125 \nQ 51.171875 0 30.078125 0 \nL 9.8125 0 \nz\n\" id=\"DejaVuSans-68\"/>\n       <path d=\"M 18.3125 70.21875 \nL 18.3125 54.6875 \nL 36.8125 54.6875 \nL 36.8125 47.703125 \nL 18.3125 47.703125 \nL 18.3125 18.015625 \nQ 18.3125 11.328125 20.140625 9.421875 \nQ 21.96875 7.515625 27.59375 7.515625 \nL 36.8125 7.515625 \nL 36.8125 0 \nL 27.59375 0 \nQ 17.1875 0 13.234375 3.875 \nQ 9.28125 7.765625 9.28125 18.015625 \nL 9.28125 47.703125 \nL 2.6875 47.703125 \nL 2.6875 54.6875 \nL 9.28125 54.6875 \nL 9.28125 70.21875 \nz\n\" id=\"DejaVuSans-116\"/>\n      </defs>\n      <use xlink:href=\"#DejaVuSans-84\"/>\n      <use x=\"46.333984\" xlink:href=\"#DejaVuSans-114\"/>\n      <use x=\"87.447266\" xlink:href=\"#DejaVuSans-97\"/>\n      <use x=\"148.726562\" xlink:href=\"#DejaVuSans-105\"/>\n      <use x=\"176.509766\" xlink:href=\"#DejaVuSans-110\"/>\n      <use x=\"239.888672\" xlink:href=\"#DejaVuSans-105\"/>\n      <use x=\"267.671875\" xlink:href=\"#DejaVuSans-110\"/>\n      <use x=\"331.050781\" xlink:href=\"#DejaVuSans-103\"/>\n      <use x=\"394.527344\" xlink:href=\"#DejaVuSans-32\"/>\n      <use x=\"426.314453\" xlink:href=\"#DejaVuSans-68\"/>\n      <use x=\"503.316406\" xlink:href=\"#DejaVuSans-97\"/>\n      <use x=\"564.595703\" xlink:href=\"#DejaVuSans-116\"/>\n      <use x=\"603.804688\" xlink:href=\"#DejaVuSans-97\"/>\n     </g>\n    </g>\n    <g id=\"PathCollection_5\">\n     <g>\n      <use style=\"fill:#008000;stroke:#008000;\" x=\"60.667188\" xlink:href=\"#m2295e5b09a\" y=\"35.851562\"/>\n     </g>\n    </g>\n    <g id=\"text_20\">\n     <!-- Testing Data -->\n     <g transform=\"translate(78.667188 38.476562)scale(0.1 -0.1)\">\n      <defs>\n       <path d=\"M 56.203125 29.59375 \nL 56.203125 25.203125 \nL 14.890625 25.203125 \nQ 15.484375 15.921875 20.484375 11.0625 \nQ 25.484375 6.203125 34.421875 6.203125 \nQ 39.59375 6.203125 44.453125 7.46875 \nQ 49.3125 8.734375 54.109375 11.28125 \nL 54.109375 2.78125 \nQ 49.265625 0.734375 44.1875 -0.34375 \nQ 39.109375 -1.421875 33.890625 -1.421875 \nQ 20.796875 -1.421875 13.15625 6.1875 \nQ 5.515625 13.8125 5.515625 26.8125 \nQ 5.515625 40.234375 12.765625 48.109375 \nQ 20.015625 56 32.328125 56 \nQ 43.359375 56 49.78125 48.890625 \nQ 56.203125 41.796875 56.203125 29.59375 \nz\nM 47.21875 32.234375 \nQ 47.125 39.59375 43.09375 43.984375 \nQ 39.0625 48.390625 32.421875 48.390625 \nQ 24.90625 48.390625 20.390625 44.140625 \nQ 15.875 39.890625 15.1875 32.171875 \nz\n\" id=\"DejaVuSans-101\"/>\n       <path d=\"M 44.28125 53.078125 \nL 44.28125 44.578125 \nQ 40.484375 46.53125 36.375 47.5 \nQ 32.28125 48.484375 27.875 48.484375 \nQ 21.1875 48.484375 17.84375 46.4375 \nQ 14.5 44.390625 14.5 40.28125 \nQ 14.5 37.15625 16.890625 35.375 \nQ 19.28125 33.59375 26.515625 31.984375 \nL 29.59375 31.296875 \nQ 39.15625 29.25 43.1875 25.515625 \nQ 47.21875 21.78125 47.21875 15.09375 \nQ 47.21875 7.46875 41.1875 3.015625 \nQ 35.15625 -1.421875 24.609375 -1.421875 \nQ 20.21875 -1.421875 15.453125 -0.5625 \nQ 10.6875 0.296875 5.421875 2 \nL 5.421875 11.28125 \nQ 10.40625 8.6875 15.234375 7.390625 \nQ 20.0625 6.109375 24.8125 6.109375 \nQ 31.15625 6.109375 34.5625 8.28125 \nQ 37.984375 10.453125 37.984375 14.40625 \nQ 37.984375 18.0625 35.515625 20.015625 \nQ 33.0625 21.96875 24.703125 23.78125 \nL 21.578125 24.515625 \nQ 13.234375 26.265625 9.515625 29.90625 \nQ 5.8125 33.546875 5.8125 39.890625 \nQ 5.8125 47.609375 11.28125 51.796875 \nQ 16.75 56 26.8125 56 \nQ 31.78125 56 36.171875 55.265625 \nQ 40.578125 54.546875 44.28125 53.078125 \nz\n\" id=\"DejaVuSans-115\"/>\n      </defs>\n      <use xlink:href=\"#DejaVuSans-84\"/>\n      <use x=\"44.083984\" xlink:href=\"#DejaVuSans-101\"/>\n      <use x=\"105.607422\" xlink:href=\"#DejaVuSans-115\"/>\n      <use x=\"157.707031\" xlink:href=\"#DejaVuSans-116\"/>\n      <use x=\"196.916016\" xlink:href=\"#DejaVuSans-105\"/>\n      <use x=\"224.699219\" xlink:href=\"#DejaVuSans-110\"/>\n      <use x=\"288.078125\" xlink:href=\"#DejaVuSans-103\"/>\n      <use x=\"351.554688\" xlink:href=\"#DejaVuSans-32\"/>\n      <use x=\"383.341797\" xlink:href=\"#DejaVuSans-68\"/>\n      <use x=\"460.34375\" xlink:href=\"#DejaVuSans-97\"/>\n      <use x=\"521.623047\" xlink:href=\"#DejaVuSans-116\"/>\n      <use x=\"560.832031\" xlink:href=\"#DejaVuSans-97\"/>\n     </g>\n    </g>\n    <g id=\"PathCollection_6\">\n     <g>\n      <use style=\"fill:#ff0000;stroke:#ff0000;\" x=\"60.667188\" xlink:href=\"#m4e30fe578a\" y=\"50.529687\"/>\n     </g>\n    </g>\n    <g id=\"text_21\">\n     <!-- Predictions -->\n     <g transform=\"translate(78.667188 53.154687)scale(0.1 -0.1)\">\n      <defs>\n       <path d=\"M 19.671875 64.796875 \nL 19.671875 37.40625 \nL 32.078125 37.40625 \nQ 38.96875 37.40625 42.71875 40.96875 \nQ 46.484375 44.53125 46.484375 51.125 \nQ 46.484375 57.671875 42.71875 61.234375 \nQ 38.96875 64.796875 32.078125 64.796875 \nz\nM 9.8125 72.90625 \nL 32.078125 72.90625 \nQ 44.34375 72.90625 50.609375 67.359375 \nQ 56.890625 61.8125 56.890625 51.125 \nQ 56.890625 40.328125 50.609375 34.8125 \nQ 44.34375 29.296875 32.078125 29.296875 \nL 19.671875 29.296875 \nL 19.671875 0 \nL 9.8125 0 \nz\n\" id=\"DejaVuSans-80\"/>\n       <path d=\"M 45.40625 46.390625 \nL 45.40625 75.984375 \nL 54.390625 75.984375 \nL 54.390625 0 \nL 45.40625 0 \nL 45.40625 8.203125 \nQ 42.578125 3.328125 38.25 0.953125 \nQ 33.9375 -1.421875 27.875 -1.421875 \nQ 17.96875 -1.421875 11.734375 6.484375 \nQ 5.515625 14.40625 5.515625 27.296875 \nQ 5.515625 40.1875 11.734375 48.09375 \nQ 17.96875 56 27.875 56 \nQ 33.9375 56 38.25 53.625 \nQ 42.578125 51.265625 45.40625 46.390625 \nz\nM 14.796875 27.296875 \nQ 14.796875 17.390625 18.875 11.75 \nQ 22.953125 6.109375 30.078125 6.109375 \nQ 37.203125 6.109375 41.296875 11.75 \nQ 45.40625 17.390625 45.40625 27.296875 \nQ 45.40625 37.203125 41.296875 42.84375 \nQ 37.203125 48.484375 30.078125 48.484375 \nQ 22.953125 48.484375 18.875 42.84375 \nQ 14.796875 37.203125 14.796875 27.296875 \nz\n\" id=\"DejaVuSans-100\"/>\n       <path d=\"M 48.78125 52.59375 \nL 48.78125 44.1875 \nQ 44.96875 46.296875 41.140625 47.34375 \nQ 37.3125 48.390625 33.40625 48.390625 \nQ 24.65625 48.390625 19.8125 42.84375 \nQ 14.984375 37.3125 14.984375 27.296875 \nQ 14.984375 17.28125 19.8125 11.734375 \nQ 24.65625 6.203125 33.40625 6.203125 \nQ 37.3125 6.203125 41.140625 7.25 \nQ 44.96875 8.296875 48.78125 10.40625 \nL 48.78125 2.09375 \nQ 45.015625 0.34375 40.984375 -0.53125 \nQ 36.96875 -1.421875 32.421875 -1.421875 \nQ 20.0625 -1.421875 12.78125 6.34375 \nQ 5.515625 14.109375 5.515625 27.296875 \nQ 5.515625 40.671875 12.859375 48.328125 \nQ 20.21875 56 33.015625 56 \nQ 37.15625 56 41.109375 55.140625 \nQ 45.0625 54.296875 48.78125 52.59375 \nz\n\" id=\"DejaVuSans-99\"/>\n       <path d=\"M 30.609375 48.390625 \nQ 23.390625 48.390625 19.1875 42.75 \nQ 14.984375 37.109375 14.984375 27.296875 \nQ 14.984375 17.484375 19.15625 11.84375 \nQ 23.34375 6.203125 30.609375 6.203125 \nQ 37.796875 6.203125 41.984375 11.859375 \nQ 46.1875 17.53125 46.1875 27.296875 \nQ 46.1875 37.015625 41.984375 42.703125 \nQ 37.796875 48.390625 30.609375 48.390625 \nz\nM 30.609375 56 \nQ 42.328125 56 49.015625 48.375 \nQ 55.71875 40.765625 55.71875 27.296875 \nQ 55.71875 13.875 49.015625 6.21875 \nQ 42.328125 -1.421875 30.609375 -1.421875 \nQ 18.84375 -1.421875 12.171875 6.21875 \nQ 5.515625 13.875 5.515625 27.296875 \nQ 5.515625 40.765625 12.171875 48.375 \nQ 18.84375 56 30.609375 56 \nz\n\" id=\"DejaVuSans-111\"/>\n      </defs>\n      <use xlink:href=\"#DejaVuSans-80\"/>\n      <use x=\"58.552734\" xlink:href=\"#DejaVuSans-114\"/>\n      <use x=\"97.416016\" xlink:href=\"#DejaVuSans-101\"/>\n      <use x=\"158.939453\" xlink:href=\"#DejaVuSans-100\"/>\n      <use x=\"222.416016\" xlink:href=\"#DejaVuSans-105\"/>\n      <use x=\"250.199219\" xlink:href=\"#DejaVuSans-99\"/>\n      <use x=\"305.179688\" xlink:href=\"#DejaVuSans-116\"/>\n      <use x=\"344.388672\" xlink:href=\"#DejaVuSans-105\"/>\n      <use x=\"372.171875\" xlink:href=\"#DejaVuSans-111\"/>\n      <use x=\"433.353516\" xlink:href=\"#DejaVuSans-110\"/>\n      <use x=\"496.732422\" xlink:href=\"#DejaVuSans-115\"/>\n     </g>\n    </g>\n   </g>\n  </g>\n </g>\n <defs>\n  <clipPath id=\"p3a8ce2f248\">\n   <rect height=\"380.52\" width=\"558\" x=\"41.667188\" y=\"7.2\"/>\n  </clipPath>\n </defs>\n</svg>\n",
      "image/png": "[encoded data removed]"
     },
     "metadata": {
      "needs_background": "light"
     }
    }
   ],
   "source": [
    "y_preds_2 = model_2.predict(X_test)\n",
    "plot_predictions(train_data = X_train,\n",
    "                 train_labels = y_train,\n",
    "                 test_data = X_test,\n",
    "                 test_labels = y_test,\n",
    "                 predictions=y_preds_2)\n",
    "\n"
   ]
  },
  {
   "cell_type": "code",
   "execution_count": 120,
   "metadata": {},
   "outputs": [
    {
     "output_type": "execute_result",
     "data": {
      "text/plain": [
       "(3.1109955, 12.497055)"
      ]
     },
     "metadata": {},
     "execution_count": 120
    }
   ],
   "source": [
    "# Calculate model_2 evaluation metrics\n",
    "mae_2 = mae(y_test, y_preds_2)\n",
    "mse_2 = mse(y_test, y_preds_2)\n",
    "mae_2, mse_2\n"
   ]
  },
  {
   "source": [
    "# Model 3 Build and Evaluate\n",
    "\n",
    "2 Dense Layers, trained for 500 epochs\n",
    "\n",
    "This model, because we train for too long ends up overfitting."
   ],
   "cell_type": "markdown",
   "metadata": {}
  },
  {
   "cell_type": "code",
   "execution_count": 121,
   "metadata": {
    "tags": [
     "outputPrepend"
    ]
   },
   "outputs": [
    {
     "output_type": "stream",
     "name": "stdout",
     "text": [
      "_squared_error: 669.5442\n",
      "Epoch 361/500\n",
      "2/2 [==============================] - 0s 9ms/step - loss: 10.0973 - mean_absolute_error: 10.0973 - mean_squared_error: 181.6470\n",
      "Epoch 362/500\n",
      "2/2 [==============================] - 0s 9ms/step - loss: 6.0635 - mean_absolute_error: 6.0635 - mean_squared_error: 59.0141\n",
      "Epoch 363/500\n",
      "2/2 [==============================] - 0s 9ms/step - loss: 24.1833 - mean_absolute_error: 24.1833 - mean_squared_error: 862.0324\n",
      "Epoch 364/500\n",
      "2/2 [==============================] - 0s 8ms/step - loss: 30.5319 - mean_absolute_error: 30.5319 - mean_squared_error: 1338.0711\n",
      "Epoch 365/500\n",
      "2/2 [==============================] - 0s 9ms/step - loss: 7.7323 - mean_absolute_error: 7.7323 - mean_squared_error: 88.4881\n",
      "Epoch 366/500\n",
      "2/2 [==============================] - 0s 11ms/step - loss: 5.7053 - mean_absolute_error: 5.7053 - mean_squared_error: 40.7557\n",
      "Epoch 367/500\n",
      "2/2 [==============================] - 0s 7ms/step - loss: 36.5130 - mean_absolute_error: 36.5130 - mean_squared_error: 1958.5283\n",
      "Epoch 368/500\n",
      "2/2 [==============================] - 0s 10ms/step - loss: 6.6049 - mean_absolute_error: 6.6049 - mean_squared_error: 75.8492\n",
      "Epoch 369/500\n",
      "2/2 [==============================] - 0s 11ms/step - loss: 8.4231 - mean_absolute_error: 8.4231 - mean_squared_error: 107.5753\n",
      "Epoch 370/500\n",
      "2/2 [==============================] - 0s 9ms/step - loss: 9.8390 - mean_absolute_error: 9.8390 - mean_squared_error: 166.2474\n",
      "Epoch 371/500\n",
      "2/2 [==============================] - 0s 8ms/step - loss: 8.2014 - mean_absolute_error: 8.2014 - mean_squared_error: 108.1426\n",
      "Epoch 372/500\n",
      "2/2 [==============================] - 0s 9ms/step - loss: 5.6493 - mean_absolute_error: 5.6493 - mean_squared_error: 61.7234\n",
      "Epoch 373/500\n",
      "2/2 [==============================] - 0s 8ms/step - loss: 23.9657 - mean_absolute_error: 23.9657 - mean_squared_error: 844.2928\n",
      "Epoch 374/500\n",
      "2/2 [==============================] - 0s 10ms/step - loss: 9.3769 - mean_absolute_error: 9.3769 - mean_squared_error: 159.3189\n",
      "Epoch 375/500\n",
      "2/2 [==============================] - 0s 11ms/step - loss: 12.8039 - mean_absolute_error: 12.8039 - mean_squared_error: 227.8960\n",
      "Epoch 376/500\n",
      "2/2 [==============================] - 0s 9ms/step - loss: 15.5478 - mean_absolute_error: 15.5478 - mean_squared_error: 346.4512\n",
      "Epoch 377/500\n",
      "2/2 [==============================] - 0s 10ms/step - loss: 14.4239 - mean_absolute_error: 14.4239 - mean_squared_error: 276.3966\n",
      "Epoch 378/500\n",
      "2/2 [==============================] - 0s 11ms/step - loss: 17.3682 - mean_absolute_error: 17.3682 - mean_squared_error: 454.8564\n",
      "Epoch 379/500\n",
      "2/2 [==============================] - 0s 13ms/step - loss: 21.5953 - mean_absolute_error: 21.5953 - mean_squared_error: 633.4202\n",
      "Epoch 380/500\n",
      "2/2 [==============================] - 0s 13ms/step - loss: 34.8999 - mean_absolute_error: 34.8999 - mean_squared_error: 1775.2950\n",
      "Epoch 381/500\n",
      "2/2 [==============================] - 0s 10ms/step - loss: 7.6275 - mean_absolute_error: 7.6275 - mean_squared_error: 84.7044\n",
      "Epoch 382/500\n",
      "2/2 [==============================] - 0s 10ms/step - loss: 12.4562 - mean_absolute_error: 12.4562 - mean_squared_error: 254.3470\n",
      "Epoch 383/500\n",
      "2/2 [==============================] - 0s 12ms/step - loss: 7.7614 - mean_absolute_error: 7.7614 - mean_squared_error: 102.1557\n",
      "Epoch 384/500\n",
      "2/2 [==============================] - 0s 11ms/step - loss: 6.5145 - mean_absolute_error: 6.5145 - mean_squared_error: 57.9195\n",
      "Epoch 385/500\n",
      "2/2 [==============================] - 0s 10ms/step - loss: 9.5373 - mean_absolute_error: 9.5373 - mean_squared_error: 184.9953\n",
      "Epoch 386/500\n",
      "2/2 [==============================] - 0s 12ms/step - loss: 21.0595 - mean_absolute_error: 21.0595 - mean_squared_error: 651.5231\n",
      "Epoch 387/500\n",
      "2/2 [==============================] - 0s 11ms/step - loss: 25.2123 - mean_absolute_error: 25.2123 - mean_squared_error: 917.6563\n",
      "Epoch 388/500\n",
      "2/2 [==============================] - 0s 8ms/step - loss: 8.0540 - mean_absolute_error: 8.0540 - mean_squared_error: 106.0630\n",
      "Epoch 389/500\n",
      "2/2 [==============================] - 0s 17ms/step - loss: 5.8884 - mean_absolute_error: 5.8884 - mean_squared_error: 47.1055\n",
      "Epoch 390/500\n",
      "2/2 [==============================] - 0s 10ms/step - loss: 24.8314 - mean_absolute_error: 24.8314 - mean_squared_error: 909.5868\n",
      "Epoch 391/500\n",
      "2/2 [==============================] - 0s 8ms/step - loss: 5.2966 - mean_absolute_error: 5.2966 - mean_squared_error: 55.4867\n",
      "Epoch 392/500\n",
      "2/2 [==============================] - 0s 10ms/step - loss: 15.2902 - mean_absolute_error: 15.2902 - mean_squared_error: 334.7487\n",
      "Epoch 393/500\n",
      "2/2 [==============================] - 0s 11ms/step - loss: 5.7846 - mean_absolute_error: 5.7846 - mean_squared_error: 54.2052\n",
      "Epoch 394/500\n",
      "2/2 [==============================] - 0s 10ms/step - loss: 11.4998 - mean_absolute_error: 11.4998 - mean_squared_error: 217.2115\n",
      "Epoch 395/500\n",
      "2/2 [==============================] - 0s 10ms/step - loss: 11.3952 - mean_absolute_error: 11.3952 - mean_squared_error: 213.3883\n",
      "Epoch 396/500\n",
      "2/2 [==============================] - 0s 8ms/step - loss: 6.4872 - mean_absolute_error: 6.4872 - mean_squared_error: 75.8667\n",
      "Epoch 397/500\n",
      "2/2 [==============================] - 0s 8ms/step - loss: 7.0921 - mean_absolute_error: 7.0921 - mean_squared_error: 78.8118\n",
      "Epoch 398/500\n",
      "2/2 [==============================] - 0s 11ms/step - loss: 20.2485 - mean_absolute_error: 20.2485 - mean_squared_error: 572.5323\n",
      "Epoch 399/500\n",
      "2/2 [==============================] - 0s 8ms/step - loss: 5.1749 - mean_absolute_error: 5.1749 - mean_squared_error: 52.4506\n",
      "Epoch 400/500\n",
      "2/2 [==============================] - 0s 8ms/step - loss: 25.9137 - mean_absolute_error: 25.9137 - mean_squared_error: 967.7784\n",
      "Epoch 401/500\n",
      "2/2 [==============================] - 0s 12ms/step - loss: 12.5886 - mean_absolute_error: 12.5886 - mean_squared_error: 260.0591\n",
      "Epoch 402/500\n",
      "2/2 [==============================] - 0s 9ms/step - loss: 7.5657 - mean_absolute_error: 7.5657 - mean_squared_error: 89.7372\n",
      "Epoch 403/500\n",
      "2/2 [==============================] - 0s 10ms/step - loss: 9.2265 - mean_absolute_error: 9.2265 - mean_squared_error: 153.3271\n",
      "Epoch 404/500\n",
      "2/2 [==============================] - 0s 10ms/step - loss: 9.1550 - mean_absolute_error: 9.1550 - mean_squared_error: 162.6374\n",
      "Epoch 405/500\n",
      "2/2 [==============================] - 0s 12ms/step - loss: 5.7175 - mean_absolute_error: 5.7175 - mean_squared_error: 52.8371\n",
      "Epoch 406/500\n",
      "2/2 [==============================] - 0s 10ms/step - loss: 19.5167 - mean_absolute_error: 19.5167 - mean_squared_error: 574.3863\n",
      "Epoch 407/500\n",
      "2/2 [==============================] - 0s 11ms/step - loss: 8.6530 - mean_absolute_error: 8.6530 - mean_squared_error: 185.5480\n",
      "Epoch 408/500\n",
      "2/2 [==============================] - 0s 7ms/step - loss: 22.0106 - mean_absolute_error: 22.0106 - mean_squared_error: 719.9145\n",
      "Epoch 409/500\n",
      "2/2 [==============================] - 0s 9ms/step - loss: 32.4262 - mean_absolute_error: 32.4262 - mean_squared_error: 1577.7631\n",
      "Epoch 410/500\n",
      "2/2 [==============================] - 0s 9ms/step - loss: 8.0971 - mean_absolute_error: 8.0971 - mean_squared_error: 159.4207\n",
      "Epoch 411/500\n",
      "2/2 [==============================] - 0s 9ms/step - loss: 14.8502 - mean_absolute_error: 14.8502 - mean_squared_error: 285.4506\n",
      "Epoch 412/500\n",
      "2/2 [==============================] - 0s 9ms/step - loss: 23.3298 - mean_absolute_error: 23.3298 - mean_squared_error: 787.5286\n",
      "Epoch 413/500\n",
      "2/2 [==============================] - 0s 9ms/step - loss: 11.5851 - mean_absolute_error: 11.5851 - mean_squared_error: 212.0737\n",
      "Epoch 414/500\n",
      "2/2 [==============================] - 0s 12ms/step - loss: 5.7296 - mean_absolute_error: 5.7296 - mean_squared_error: 81.9805\n",
      "Epoch 415/500\n",
      "2/2 [==============================] - 0s 10ms/step - loss: 12.2300 - mean_absolute_error: 12.2300 - mean_squared_error: 209.9159\n",
      "Epoch 416/500\n",
      "2/2 [==============================] - 0s 10ms/step - loss: 27.5187 - mean_absolute_error: 27.5187 - mean_squared_error: 1043.7285\n",
      "Epoch 417/500\n",
      "2/2 [==============================] - 0s 10ms/step - loss: 11.5171 - mean_absolute_error: 11.5171 - mean_squared_error: 220.0987\n",
      "Epoch 418/500\n",
      "2/2 [==============================] - 0s 11ms/step - loss: 12.7947 - mean_absolute_error: 12.7947 - mean_squared_error: 231.8098\n",
      "Epoch 419/500\n",
      "2/2 [==============================] - 0s 9ms/step - loss: 16.9980 - mean_absolute_error: 16.9980 - mean_squared_error: 420.4476\n",
      "Epoch 420/500\n",
      "2/2 [==============================] - 0s 11ms/step - loss: 25.9070 - mean_absolute_error: 25.9070 - mean_squared_error: 916.7834\n",
      "Epoch 421/500\n",
      "2/2 [==============================] - 0s 8ms/step - loss: 15.9953 - mean_absolute_error: 15.9953 - mean_squared_error: 380.7331\n",
      "Epoch 422/500\n",
      "2/2 [==============================] - 0s 10ms/step - loss: 7.2348 - mean_absolute_error: 7.2348 - mean_squared_error: 138.2409\n",
      "Epoch 423/500\n",
      "2/2 [==============================] - 0s 25ms/step - loss: 25.7180 - mean_absolute_error: 25.7180 - mean_squared_error: 922.2301\n",
      "Epoch 424/500\n",
      "2/2 [==============================] - 0s 10ms/step - loss: 15.9229 - mean_absolute_error: 15.9229 - mean_squared_error: 390.7527\n",
      "Epoch 425/500\n",
      "2/2 [==============================] - 0s 10ms/step - loss: 6.6324 - mean_absolute_error: 6.6324 - mean_squared_error: 62.6336\n",
      "Epoch 426/500\n",
      "2/2 [==============================] - 0s 22ms/step - loss: 20.3758 - mean_absolute_error: 20.3758 - mean_squared_error: 583.4506\n",
      "Epoch 427/500\n",
      "2/2 [==============================] - 0s 12ms/step - loss: 5.5591 - mean_absolute_error: 5.5591 - mean_squared_error: 61.0636\n",
      "Epoch 428/500\n",
      "2/2 [==============================] - 0s 12ms/step - loss: 12.1533 - mean_absolute_error: 12.1533 - mean_squared_error: 246.1993\n",
      "Epoch 429/500\n",
      "2/2 [==============================] - 0s 9ms/step - loss: 9.9591 - mean_absolute_error: 9.9591 - mean_squared_error: 165.5816\n",
      "Epoch 430/500\n",
      "2/2 [==============================] - 0s 12ms/step - loss: 10.7963 - mean_absolute_error: 10.7963 - mean_squared_error: 217.7090\n",
      "Epoch 431/500\n",
      "2/2 [==============================] - 0s 14ms/step - loss: 7.6270 - mean_absolute_error: 7.6270 - mean_squared_error: 108.4412\n",
      "Epoch 432/500\n",
      "2/2 [==============================] - 0s 12ms/step - loss: 18.1502 - mean_absolute_error: 18.1502 - mean_squared_error: 462.9178\n",
      "Epoch 433/500\n",
      "2/2 [==============================] - 0s 13ms/step - loss: 8.3969 - mean_absolute_error: 8.3969 - mean_squared_error: 178.6527\n",
      "Epoch 434/500\n",
      "2/2 [==============================] - 0s 11ms/step - loss: 31.3239 - mean_absolute_error: 31.3239 - mean_squared_error: 1373.5924\n",
      "Epoch 435/500\n",
      "2/2 [==============================] - 0s 8ms/step - loss: 9.3950 - mean_absolute_error: 9.3950 - mean_squared_error: 217.4548\n",
      "Epoch 436/500\n",
      "2/2 [==============================] - 0s 9ms/step - loss: 30.2965 - mean_absolute_error: 30.2965 - mean_squared_error: 1297.6618\n",
      "Epoch 437/500\n",
      "2/2 [==============================] - 0s 10ms/step - loss: 6.7802 - mean_absolute_error: 6.7802 - mean_squared_error: 129.8738\n",
      "Epoch 438/500\n",
      "2/2 [==============================] - 0s 8ms/step - loss: 11.8037 - mean_absolute_error: 11.8037 - mean_squared_error: 209.6354\n",
      "Epoch 439/500\n",
      "2/2 [==============================] - 0s 9ms/step - loss: 34.2381 - mean_absolute_error: 34.2381 - mean_squared_error: 1624.3862\n",
      "Epoch 440/500\n",
      "2/2 [==============================] - 0s 10ms/step - loss: 15.5087 - mean_absolute_error: 15.5087 - mean_squared_error: 313.3762\n",
      "Epoch 441/500\n",
      "2/2 [==============================] - 0s 8ms/step - loss: 19.0659 - mean_absolute_error: 19.0659 - mean_squared_error: 555.8788\n",
      "Epoch 442/500\n",
      "2/2 [==============================] - 0s 9ms/step - loss: 5.4871 - mean_absolute_error: 5.4871 - mean_squared_error: 61.4338\n",
      "Epoch 443/500\n",
      "2/2 [==============================] - 0s 7ms/step - loss: 11.8322 - mean_absolute_error: 11.8322 - mean_squared_error: 228.5934\n",
      "Epoch 444/500\n",
      "2/2 [==============================] - 0s 12ms/step - loss: 4.9570 - mean_absolute_error: 4.9570 - mean_squared_error: 50.2432\n",
      "Epoch 445/500\n",
      "2/2 [==============================] - 0s 8ms/step - loss: 8.2977 - mean_absolute_error: 8.2977 - mean_squared_error: 161.0806\n",
      "Epoch 446/500\n",
      "2/2 [==============================] - 0s 10ms/step - loss: 15.8530 - mean_absolute_error: 15.8530 - mean_squared_error: 368.0012\n",
      "Epoch 447/500\n",
      "2/2 [==============================] - 0s 9ms/step - loss: 23.8423 - mean_absolute_error: 23.8423 - mean_squared_error: 824.2548\n",
      "Epoch 448/500\n",
      "2/2 [==============================] - 0s 9ms/step - loss: 13.0590 - mean_absolute_error: 13.0590 - mean_squared_error: 259.2570\n",
      "Epoch 449/500\n",
      "2/2 [==============================] - 0s 7ms/step - loss: 10.7036 - mean_absolute_error: 10.7036 - mean_squared_error: 209.1076\n",
      "Epoch 450/500\n",
      "2/2 [==============================] - 0s 8ms/step - loss: 15.6367 - mean_absolute_error: 15.6367 - mean_squared_error: 336.1581\n",
      "Epoch 451/500\n",
      "2/2 [==============================] - 0s 9ms/step - loss: 18.0513 - mean_absolute_error: 18.0513 - mean_squared_error: 511.1408\n",
      "Epoch 452/500\n",
      "2/2 [==============================] - 0s 8ms/step - loss: 48.4352 - mean_absolute_error: 48.4352 - mean_squared_error: 3908.4533\n",
      "Epoch 453/500\n",
      "2/2 [==============================] - 0s 10ms/step - loss: 26.6041 - mean_absolute_error: 26.6041 - mean_squared_error: 1024.9581\n",
      "Epoch 454/500\n",
      "2/2 [==============================] - 0s 8ms/step - loss: 22.9960 - mean_absolute_error: 22.9960 - mean_squared_error: 771.5597\n",
      "Epoch 455/500\n",
      "2/2 [==============================] - 0s 9ms/step - loss: 7.4147 - mean_absolute_error: 7.4147 - mean_squared_error: 98.0205\n",
      "Epoch 456/500\n",
      "2/2 [==============================] - 0s 7ms/step - loss: 8.8586 - mean_absolute_error: 8.8586 - mean_squared_error: 208.0587\n",
      "Epoch 457/500\n",
      "2/2 [==============================] - 0s 9ms/step - loss: 15.4897 - mean_absolute_error: 15.4897 - mean_squared_error: 330.9647\n",
      "Epoch 458/500\n",
      "2/2 [==============================] - 0s 11ms/step - loss: 17.7291 - mean_absolute_error: 17.7291 - mean_squared_error: 475.8475\n",
      "Epoch 459/500\n",
      "2/2 [==============================] - 0s 8ms/step - loss: 27.5684 - mean_absolute_error: 27.5684 - mean_squared_error: 1085.5689\n",
      "Epoch 460/500\n",
      "2/2 [==============================] - 0s 8ms/step - loss: 11.7161 - mean_absolute_error: 11.7161 - mean_squared_error: 218.1904\n",
      "Epoch 461/500\n",
      "2/2 [==============================] - 0s 11ms/step - loss: 11.6139 - mean_absolute_error: 11.6139 - mean_squared_error: 223.6547\n",
      "Epoch 462/500\n",
      "2/2 [==============================] - 0s 8ms/step - loss: 13.2394 - mean_absolute_error: 13.2394 - mean_squared_error: 241.3862\n",
      "Epoch 463/500\n",
      "2/2 [==============================] - 0s 7ms/step - loss: 30.3568 - mean_absolute_error: 30.3568 - mean_squared_error: 1274.2770\n",
      "Epoch 464/500\n",
      "2/2 [==============================] - 0s 9ms/step - loss: 3.3403 - mean_absolute_error: 3.3403 - mean_squared_error: 19.2812\n",
      "Epoch 465/500\n",
      "2/2 [==============================] - 0s 8ms/step - loss: 15.9533 - mean_absolute_error: 15.9533 - mean_squared_error: 378.1276\n",
      "Epoch 466/500\n",
      "2/2 [==============================] - 0s 7ms/step - loss: 21.7971 - mean_absolute_error: 21.7971 - mean_squared_error: 697.4342\n",
      "Epoch 467/500\n",
      "2/2 [==============================] - 0s 9ms/step - loss: 31.5991 - mean_absolute_error: 31.5991 - mean_squared_error: 1502.1630\n",
      "Epoch 468/500\n",
      "2/2 [==============================] - 0s 9ms/step - loss: 9.5926 - mean_absolute_error: 9.5926 - mean_squared_error: 179.3385\n",
      "Epoch 469/500\n",
      "2/2 [==============================] - 0s 9ms/step - loss: 11.7772 - mean_absolute_error: 11.7772 - mean_squared_error: 232.1081\n",
      "Epoch 470/500\n",
      "2/2 [==============================] - 0s 8ms/step - loss: 3.2162 - mean_absolute_error: 3.2162 - mean_squared_error: 14.2717\n",
      "Epoch 471/500\n",
      "2/2 [==============================] - 0s 9ms/step - loss: 17.3564 - mean_absolute_error: 17.3564 - mean_squared_error: 392.7038\n",
      "Epoch 472/500\n",
      "2/2 [==============================] - 0s 9ms/step - loss: 12.9947 - mean_absolute_error: 12.9947 - mean_squared_error: 234.1815\n",
      "Epoch 473/500\n",
      "2/2 [==============================] - 0s 9ms/step - loss: 16.3651 - mean_absolute_error: 16.3651 - mean_squared_error: 430.2913\n",
      "Epoch 474/500\n",
      "2/2 [==============================] - 0s 9ms/step - loss: 10.4715 - mean_absolute_error: 10.4715 - mean_squared_error: 229.7697\n",
      "Epoch 475/500\n",
      "2/2 [==============================] - 0s 9ms/step - loss: 17.3428 - mean_absolute_error: 17.3428 - mean_squared_error: 427.4697\n",
      "Epoch 476/500\n",
      "2/2 [==============================] - 0s 9ms/step - loss: 14.0360 - mean_absolute_error: 14.0360 - mean_squared_error: 283.3089\n",
      "Epoch 477/500\n",
      "2/2 [==============================] - 0s 8ms/step - loss: 31.4049 - mean_absolute_error: 31.4049 - mean_squared_error: 1362.4705\n",
      "Epoch 478/500\n",
      "2/2 [==============================] - 0s 7ms/step - loss: 7.5170 - mean_absolute_error: 7.5170 - mean_squared_error: 138.3185\n",
      "Epoch 479/500\n",
      "2/2 [==============================] - 0s 8ms/step - loss: 9.4022 - mean_absolute_error: 9.4022 - mean_squared_error: 193.6370\n",
      "Epoch 480/500\n",
      "2/2 [==============================] - 0s 9ms/step - loss: 19.0601 - mean_absolute_error: 19.0601 - mean_squared_error: 525.2082\n",
      "Epoch 481/500\n",
      "2/2 [==============================] - 0s 9ms/step - loss: 16.5992 - mean_absolute_error: 16.5992 - mean_squared_error: 395.6449\n",
      "Epoch 482/500\n",
      "2/2 [==============================] - 0s 8ms/step - loss: 22.3416 - mean_absolute_error: 22.3416 - mean_squared_error: 749.8550\n",
      "Epoch 483/500\n",
      "2/2 [==============================] - 0s 7ms/step - loss: 25.7703 - mean_absolute_error: 25.7703 - mean_squared_error: 990.6108\n",
      "Epoch 484/500\n",
      "2/2 [==============================] - 0s 7ms/step - loss: 23.9815 - mean_absolute_error: 23.9815 - mean_squared_error: 820.8389\n",
      "Epoch 485/500\n",
      "2/2 [==============================] - 0s 8ms/step - loss: 5.2766 - mean_absolute_error: 5.2766 - mean_squared_error: 42.4638\n",
      "Epoch 486/500\n",
      "2/2 [==============================] - 0s 9ms/step - loss: 20.2691 - mean_absolute_error: 20.2691 - mean_squared_error: 576.4903\n",
      "Epoch 487/500\n",
      "2/2 [==============================] - 0s 8ms/step - loss: 14.4138 - mean_absolute_error: 14.4138 - mean_squared_error: 300.5329\n",
      "Epoch 488/500\n",
      "2/2 [==============================] - 0s 9ms/step - loss: 32.0488 - mean_absolute_error: 32.0488 - mean_squared_error: 1423.8407\n",
      "Epoch 489/500\n",
      "2/2 [==============================] - 0s 8ms/step - loss: 11.2471 - mean_absolute_error: 11.2471 - mean_squared_error: 198.4353\n",
      "Epoch 490/500\n",
      "2/2 [==============================] - 0s 10ms/step - loss: 11.9890 - mean_absolute_error: 11.9890 - mean_squared_error: 216.5802\n",
      "Epoch 491/500\n",
      "2/2 [==============================] - 0s 8ms/step - loss: 24.7321 - mean_absolute_error: 24.7321 - mean_squared_error: 898.6506\n",
      "Epoch 492/500\n",
      "2/2 [==============================] - 0s 13ms/step - loss: 20.2060 - mean_absolute_error: 20.2060 - mean_squared_error: 578.3157\n",
      "Epoch 493/500\n",
      "2/2 [==============================] - 0s 8ms/step - loss: 4.5620 - mean_absolute_error: 4.5620 - mean_squared_error: 36.9195\n",
      "Epoch 494/500\n",
      "2/2 [==============================] - 0s 8ms/step - loss: 12.0744 - mean_absolute_error: 12.0744 - mean_squared_error: 218.9992\n",
      "Epoch 495/500\n",
      "2/2 [==============================] - 0s 10ms/step - loss: 13.4881 - mean_absolute_error: 13.4881 - mean_squared_error: 242.8773\n",
      "Epoch 496/500\n",
      "2/2 [==============================] - 0s 10ms/step - loss: 12.0936 - mean_absolute_error: 12.0936 - mean_squared_error: 214.5901\n",
      "Epoch 497/500\n",
      "2/2 [==============================] - 0s 11ms/step - loss: 18.9511 - mean_absolute_error: 18.9511 - mean_squared_error: 560.7508\n",
      "Epoch 498/500\n",
      "2/2 [==============================] - 0s 9ms/step - loss: 23.6498 - mean_absolute_error: 23.6498 - mean_squared_error: 832.8201\n",
      "Epoch 499/500\n",
      "2/2 [==============================] - 0s 10ms/step - loss: 8.8007 - mean_absolute_error: 8.8007 - mean_squared_error: 120.2690\n",
      "Epoch 500/500\n",
      "2/2 [==============================] - 0s 11ms/step - loss: 14.6015 - mean_absolute_error: 14.6015 - mean_squared_error: 282.4501\n"
     ]
    },
    {
     "output_type": "execute_result",
     "data": {
      "text/plain": [
       "<tensorflow.python.keras.callbacks.History at 0x7ef2922240>"
      ]
     },
     "metadata": {},
     "execution_count": 121
    }
   ],
   "source": [
    "# 1. Create the model\n",
    "model_3 = tf.keras.Sequential([\n",
    "    tf.keras.layers.Dense(10),\n",
    "    tf.keras.layers.Dense(1)\n",
    "])\n",
    "\n",
    "# 2. Compile the model\n",
    "model_3.compile (\n",
    "    loss = tf.keras.losses.mae,\n",
    "    optimizer = tf.keras.optimizers.SGD(),\n",
    "    metrics = [tf.keras.metrics.mae, tf.keras.metrics.mse]\n",
    ")\n",
    "\n",
    "# 3. Fit the model\n",
    "model_3.fit(X_train, y_train, epochs = 500)\n"
   ]
  },
  {
   "cell_type": "code",
   "execution_count": 122,
   "metadata": {},
   "outputs": [
    {
     "output_type": "stream",
     "name": "stdout",
     "text": [
      "WARNING:tensorflow:7 out of the last 13 calls to <function Model.make_predict_function.<locals>.predict_function at 0x7ef1834950> triggered tf.function retracing. Tracing is expensive and the excessive number of tracings could be due to (1) creating @tf.function repeatedly in a loop, (2) passing tensors with different shapes, (3) passing Python objects instead of tensors. For (1), please define your @tf.function outside of the loop. For (2), @tf.function has experimental_relax_shapes=True option that relaxes argument shapes that can avoid unnecessary retracing. For (3), please refer to https://www.tensorflow.org/guide/function#controlling_retracing and https://www.tensorflow.org/api_docs/python/tf/function for  more details.\n"
     ]
    },
    {
     "output_type": "display_data",
     "data": {
      "text/plain": "<Figure size 720x504 with 1 Axes>",
      "image/svg+xml": "<?xml version=\"1.0\" encoding=\"utf-8\" standalone=\"no\"?>\n<!DOCTYPE svg PUBLIC \"-//W3C//DTD SVG 1.1//EN\"\n  \"http://www.w3.org/Graphics/SVG/1.1/DTD/svg11.dtd\">\n<!-- Created with matplotlib (https://matplotlib.org/) -->\n<svg height=\"411.598125pt\" version=\"1.1\" viewBox=\"0 0 600.504688 411.598125\" width=\"600.504688pt\" xmlns=\"http://www.w3.org/2000/svg\" xmlns:xlink=\"http://www.w3.org/1999/xlink\">\n <metadata>\n  <rdf:RDF xmlns:cc=\"http://creativecommons.org/ns#\" xmlns:dc=\"http://purl.org/dc/elements/1.1/\" xmlns:rdf=\"http://www.w3.org/1999/02/22-rdf-syntax-ns#\">\n   <cc:Work>\n    <dc:type rdf:resource=\"http://purl.org/dc/dcmitype/StillImage\"/>\n    <dc:date>2021-04-04T09:12:47.649045</dc:date>\n    <dc:format>image/svg+xml</dc:format>\n    <dc:creator>\n     <cc:Agent>\n      <dc:title>Matplotlib v3.3.4, https://matplotlib.org/</dc:title>\n     </cc:Agent>\n    </dc:creator>\n   </cc:Work>\n  </rdf:RDF>\n </metadata>\n <defs>\n  <style type=\"text/css\">*{stroke-linecap:butt;stroke-linejoin:round;}</style>\n </defs>\n <g id=\"figure_1\">\n  <g id=\"patch_1\">\n   <path d=\"M 0 411.598125 \nL 600.504688 411.598125 \nL 600.504688 0 \nL 0 0 \nz\n\" style=\"fill:none;\"/>\n  </g>\n  <g id=\"axes_1\">\n   <g id=\"patch_2\">\n    <path d=\"M 35.304688 387.72 \nL 593.304688 387.72 \nL 593.304688 7.2 \nL 35.304688 7.2 \nz\n\" style=\"fill:#ffffff;\"/>\n   </g>\n   <g id=\"PathCollection_1\">\n    <defs>\n     <path d=\"M 0 3 \nC 0.795609 3 1.55874 2.683901 2.12132 2.12132 \nC 2.683901 1.55874 3 0.795609 3 0 \nC 3 -0.795609 2.683901 -1.55874 2.12132 -2.12132 \nC 1.55874 -2.683901 0.795609 -3 0 -3 \nC -0.795609 -3 -1.55874 -2.683901 -2.12132 -2.12132 \nC -2.683901 -1.55874 -3 -0.795609 -3 0 \nC -3 0.795609 -2.683901 1.55874 -2.12132 2.12132 \nC -1.55874 2.683901 -0.795609 3 0 3 \nz\n\" id=\"mbda7ed6991\" style=\"stroke:#0000ff;\"/>\n    </defs>\n    <g clip-path=\"url(#p35ef57b966)\">\n     <use style=\"fill:#0000ff;stroke:#0000ff;\" x=\"60.668324\" xlink:href=\"#mbda7ed6991\" y=\"370.423636\"/>\n     <use style=\"fill:#0000ff;stroke:#0000ff;\" x=\"71.020829\" xlink:href=\"#mbda7ed6991\" y=\"363.363896\"/>\n     <use style=\"fill:#0000ff;stroke:#0000ff;\" x=\"81.373333\" xlink:href=\"#mbda7ed6991\" y=\"356.304156\"/>\n     <use style=\"fill:#0000ff;stroke:#0000ff;\" x=\"91.725838\" xlink:href=\"#mbda7ed6991\" y=\"349.244416\"/>\n     <use style=\"fill:#0000ff;stroke:#0000ff;\" x=\"102.078342\" xlink:href=\"#mbda7ed6991\" y=\"342.184675\"/>\n     <use style=\"fill:#0000ff;stroke:#0000ff;\" x=\"112.430847\" xlink:href=\"#mbda7ed6991\" y=\"335.124935\"/>\n     <use style=\"fill:#0000ff;stroke:#0000ff;\" x=\"122.783352\" xlink:href=\"#mbda7ed6991\" y=\"328.065195\"/>\n     <use style=\"fill:#0000ff;stroke:#0000ff;\" x=\"133.135856\" xlink:href=\"#mbda7ed6991\" y=\"321.005455\"/>\n     <use style=\"fill:#0000ff;stroke:#0000ff;\" x=\"143.488361\" xlink:href=\"#mbda7ed6991\" y=\"313.945714\"/>\n     <use style=\"fill:#0000ff;stroke:#0000ff;\" x=\"153.840866\" xlink:href=\"#mbda7ed6991\" y=\"306.885974\"/>\n     <use style=\"fill:#0000ff;stroke:#0000ff;\" x=\"164.19337\" xlink:href=\"#mbda7ed6991\" y=\"299.826234\"/>\n     <use style=\"fill:#0000ff;stroke:#0000ff;\" x=\"174.545875\" xlink:href=\"#mbda7ed6991\" y=\"292.766494\"/>\n     <use style=\"fill:#0000ff;stroke:#0000ff;\" x=\"184.89838\" xlink:href=\"#mbda7ed6991\" y=\"285.706753\"/>\n     <use style=\"fill:#0000ff;stroke:#0000ff;\" x=\"195.250884\" xlink:href=\"#mbda7ed6991\" y=\"278.647013\"/>\n     <use style=\"fill:#0000ff;stroke:#0000ff;\" x=\"205.603389\" xlink:href=\"#mbda7ed6991\" y=\"271.587273\"/>\n     <use style=\"fill:#0000ff;stroke:#0000ff;\" x=\"215.955893\" xlink:href=\"#mbda7ed6991\" y=\"264.527532\"/>\n     <use style=\"fill:#0000ff;stroke:#0000ff;\" x=\"226.308398\" xlink:href=\"#mbda7ed6991\" y=\"257.467792\"/>\n     <use style=\"fill:#0000ff;stroke:#0000ff;\" x=\"236.660903\" xlink:href=\"#mbda7ed6991\" y=\"250.408052\"/>\n     <use style=\"fill:#0000ff;stroke:#0000ff;\" x=\"247.013407\" xlink:href=\"#mbda7ed6991\" y=\"243.348312\"/>\n     <use style=\"fill:#0000ff;stroke:#0000ff;\" x=\"257.365912\" xlink:href=\"#mbda7ed6991\" y=\"236.288571\"/>\n     <use style=\"fill:#0000ff;stroke:#0000ff;\" x=\"267.718417\" xlink:href=\"#mbda7ed6991\" y=\"229.228831\"/>\n     <use style=\"fill:#0000ff;stroke:#0000ff;\" x=\"278.070921\" xlink:href=\"#mbda7ed6991\" y=\"222.169091\"/>\n     <use style=\"fill:#0000ff;stroke:#0000ff;\" x=\"288.423426\" xlink:href=\"#mbda7ed6991\" y=\"215.109351\"/>\n     <use style=\"fill:#0000ff;stroke:#0000ff;\" x=\"298.775931\" xlink:href=\"#mbda7ed6991\" y=\"208.04961\"/>\n     <use style=\"fill:#0000ff;stroke:#0000ff;\" x=\"309.128435\" xlink:href=\"#mbda7ed6991\" y=\"200.98987\"/>\n     <use style=\"fill:#0000ff;stroke:#0000ff;\" x=\"319.48094\" xlink:href=\"#mbda7ed6991\" y=\"193.93013\"/>\n     <use style=\"fill:#0000ff;stroke:#0000ff;\" x=\"329.833444\" xlink:href=\"#mbda7ed6991\" y=\"186.87039\"/>\n     <use style=\"fill:#0000ff;stroke:#0000ff;\" x=\"340.185949\" xlink:href=\"#mbda7ed6991\" y=\"179.810649\"/>\n     <use style=\"fill:#0000ff;stroke:#0000ff;\" x=\"350.538454\" xlink:href=\"#mbda7ed6991\" y=\"172.750909\"/>\n     <use style=\"fill:#0000ff;stroke:#0000ff;\" x=\"360.890958\" xlink:href=\"#mbda7ed6991\" y=\"165.691169\"/>\n     <use style=\"fill:#0000ff;stroke:#0000ff;\" x=\"371.243463\" xlink:href=\"#mbda7ed6991\" y=\"158.631429\"/>\n     <use style=\"fill:#0000ff;stroke:#0000ff;\" x=\"381.595968\" xlink:href=\"#mbda7ed6991\" y=\"151.571688\"/>\n     <use style=\"fill:#0000ff;stroke:#0000ff;\" x=\"391.948472\" xlink:href=\"#mbda7ed6991\" y=\"144.511948\"/>\n     <use style=\"fill:#0000ff;stroke:#0000ff;\" x=\"402.300977\" xlink:href=\"#mbda7ed6991\" y=\"137.452208\"/>\n     <use style=\"fill:#0000ff;stroke:#0000ff;\" x=\"412.653482\" xlink:href=\"#mbda7ed6991\" y=\"130.392468\"/>\n     <use style=\"fill:#0000ff;stroke:#0000ff;\" x=\"423.005986\" xlink:href=\"#mbda7ed6991\" y=\"123.332727\"/>\n     <use style=\"fill:#0000ff;stroke:#0000ff;\" x=\"433.358491\" xlink:href=\"#mbda7ed6991\" y=\"116.272987\"/>\n     <use style=\"fill:#0000ff;stroke:#0000ff;\" x=\"443.710995\" xlink:href=\"#mbda7ed6991\" y=\"109.213247\"/>\n     <use style=\"fill:#0000ff;stroke:#0000ff;\" x=\"454.0635\" xlink:href=\"#mbda7ed6991\" y=\"102.153506\"/>\n     <use style=\"fill:#0000ff;stroke:#0000ff;\" x=\"464.416005\" xlink:href=\"#mbda7ed6991\" y=\"95.093766\"/>\n    </g>\n   </g>\n   <g id=\"PathCollection_2\">\n    <defs>\n     <path d=\"M 0 3 \nC 0.795609 3 1.55874 2.683901 2.12132 2.12132 \nC 2.683901 1.55874 3 0.795609 3 0 \nC 3 -0.795609 2.683901 -1.55874 2.12132 -2.12132 \nC 1.55874 -2.683901 0.795609 -3 0 -3 \nC -0.795609 -3 -1.55874 -2.683901 -2.12132 -2.12132 \nC -2.683901 -1.55874 -3 -0.795609 -3 0 \nC -3 0.795609 -2.683901 1.55874 -2.12132 2.12132 \nC -1.55874 2.683901 -0.795609 3 0 3 \nz\n\" id=\"m32dce2f8ea\" style=\"stroke:#008000;\"/>\n    </defs>\n    <g clip-path=\"url(#p35ef57b966)\">\n     <use style=\"fill:#008000;stroke:#008000;\" x=\"474.768509\" xlink:href=\"#m32dce2f8ea\" y=\"88.034026\"/>\n     <use style=\"fill:#008000;stroke:#008000;\" x=\"485.121014\" xlink:href=\"#m32dce2f8ea\" y=\"80.974286\"/>\n     <use style=\"fill:#008000;stroke:#008000;\" x=\"495.473519\" xlink:href=\"#m32dce2f8ea\" y=\"73.914545\"/>\n     <use style=\"fill:#008000;stroke:#008000;\" x=\"505.826023\" xlink:href=\"#m32dce2f8ea\" y=\"66.854805\"/>\n     <use style=\"fill:#008000;stroke:#008000;\" x=\"516.178528\" xlink:href=\"#m32dce2f8ea\" y=\"59.795065\"/>\n     <use style=\"fill:#008000;stroke:#008000;\" x=\"526.531033\" xlink:href=\"#m32dce2f8ea\" y=\"52.735325\"/>\n     <use style=\"fill:#008000;stroke:#008000;\" x=\"536.883537\" xlink:href=\"#m32dce2f8ea\" y=\"45.675584\"/>\n     <use style=\"fill:#008000;stroke:#008000;\" x=\"547.236042\" xlink:href=\"#m32dce2f8ea\" y=\"38.615844\"/>\n     <use style=\"fill:#008000;stroke:#008000;\" x=\"557.588546\" xlink:href=\"#m32dce2f8ea\" y=\"31.556104\"/>\n     <use style=\"fill:#008000;stroke:#008000;\" x=\"567.941051\" xlink:href=\"#m32dce2f8ea\" y=\"24.496364\"/>\n    </g>\n   </g>\n   <g id=\"PathCollection_3\">\n    <defs>\n     <path d=\"M 0 3 \nC 0.795609 3 1.55874 2.683901 2.12132 2.12132 \nC 2.683901 1.55874 3 0.795609 3 0 \nC 3 -0.795609 2.683901 -1.55874 2.12132 -2.12132 \nC 1.55874 -2.683901 0.795609 -3 0 -3 \nC -0.795609 -3 -1.55874 -2.683901 -2.12132 -2.12132 \nC -2.683901 -1.55874 -3 -0.795609 -3 0 \nC -3 0.795609 -2.683901 1.55874 -2.12132 2.12132 \nC -1.55874 2.683901 -0.795609 3 0 3 \nz\n\" id=\"mdde7c1c859\" style=\"stroke:#ff0000;\"/>\n    </defs>\n    <g clip-path=\"url(#p35ef57b966)\">\n     <use style=\"fill:#ff0000;stroke:#ff0000;\" x=\"474.768509\" xlink:href=\"#mdde7c1c859\" y=\"182.493792\"/>\n     <use style=\"fill:#ff0000;stroke:#ff0000;\" x=\"485.121014\" xlink:href=\"#mdde7c1c859\" y=\"181.077648\"/>\n     <use style=\"fill:#ff0000;stroke:#ff0000;\" x=\"495.473519\" xlink:href=\"#mdde7c1c859\" y=\"179.661503\"/>\n     <use style=\"fill:#ff0000;stroke:#ff0000;\" x=\"505.826023\" xlink:href=\"#mdde7c1c859\" y=\"178.245355\"/>\n     <use style=\"fill:#ff0000;stroke:#ff0000;\" x=\"516.178528\" xlink:href=\"#mdde7c1c859\" y=\"176.829214\"/>\n     <use style=\"fill:#ff0000;stroke:#ff0000;\" x=\"526.531033\" xlink:href=\"#mdde7c1c859\" y=\"175.41307\"/>\n     <use style=\"fill:#ff0000;stroke:#ff0000;\" x=\"536.883537\" xlink:href=\"#mdde7c1c859\" y=\"173.996925\"/>\n     <use style=\"fill:#ff0000;stroke:#ff0000;\" x=\"547.236042\" xlink:href=\"#mdde7c1c859\" y=\"172.580777\"/>\n     <use style=\"fill:#ff0000;stroke:#ff0000;\" x=\"557.588546\" xlink:href=\"#mdde7c1c859\" y=\"171.164633\"/>\n     <use style=\"fill:#ff0000;stroke:#ff0000;\" x=\"567.941051\" xlink:href=\"#mdde7c1c859\" y=\"169.748488\"/>\n    </g>\n   </g>\n   <g id=\"matplotlib.axis_1\">\n    <g id=\"xtick_1\">\n     <g id=\"line2d_1\">\n      <defs>\n       <path d=\"M 0 0 \nL 0 3.5 \n\" id=\"m7262e16e6e\" style=\"stroke:#000000;stroke-width:0.8;\"/>\n      </defs>\n      <g>\n       <use style=\"stroke:#000000;stroke-width:0.8;\" x=\"60.668324\" xlink:href=\"#m7262e16e6e\" y=\"387.72\"/>\n      </g>\n     </g>\n     <g id=\"text_1\">\n      <!-- −100 -->\n      <g transform=\"translate(46.93473 402.318437)scale(0.1 -0.1)\">\n       <defs>\n        <path d=\"M 10.59375 35.5 \nL 73.1875 35.5 \nL 73.1875 27.203125 \nL 10.59375 27.203125 \nz\n\" id=\"DejaVuSans-8722\"/>\n        <path d=\"M 12.40625 8.296875 \nL 28.515625 8.296875 \nL 28.515625 63.921875 \nL 10.984375 60.40625 \nL 10.984375 69.390625 \nL 28.421875 72.90625 \nL 38.28125 72.90625 \nL 38.28125 8.296875 \nL 54.390625 8.296875 \nL 54.390625 0 \nL 12.40625 0 \nz\n\" id=\"DejaVuSans-49\"/>\n        <path d=\"M 31.78125 66.40625 \nQ 24.171875 66.40625 20.328125 58.90625 \nQ 16.5 51.421875 16.5 36.375 \nQ 16.5 21.390625 20.328125 13.890625 \nQ 24.171875 6.390625 31.78125 6.390625 \nQ 39.453125 6.390625 43.28125 13.890625 \nQ 47.125 21.390625 47.125 36.375 \nQ 47.125 51.421875 43.28125 58.90625 \nQ 39.453125 66.40625 31.78125 66.40625 \nz\nM 31.78125 74.21875 \nQ 44.046875 74.21875 50.515625 64.515625 \nQ 56.984375 54.828125 56.984375 36.375 \nQ 56.984375 17.96875 50.515625 8.265625 \nQ 44.046875 -1.421875 31.78125 -1.421875 \nQ 19.53125 -1.421875 13.0625 8.265625 \nQ 6.59375 17.96875 6.59375 36.375 \nQ 6.59375 54.828125 13.0625 64.515625 \nQ 19.53125 74.21875 31.78125 74.21875 \nz\n\" id=\"DejaVuSans-48\"/>\n       </defs>\n       <use xlink:href=\"#DejaVuSans-8722\"/>\n       <use x=\"83.789062\" xlink:href=\"#DejaVuSans-49\"/>\n       <use x=\"147.412109\" xlink:href=\"#DejaVuSans-48\"/>\n       <use x=\"211.035156\" xlink:href=\"#DejaVuSans-48\"/>\n      </g>\n     </g>\n    </g>\n    <g id=\"xtick_2\">\n     <g id=\"line2d_2\">\n      <g>\n       <use style=\"stroke:#000000;stroke-width:0.8;\" x=\"125.371478\" xlink:href=\"#m7262e16e6e\" y=\"387.72\"/>\n      </g>\n     </g>\n     <g id=\"text_2\">\n      <!-- −75 -->\n      <g transform=\"translate(114.819134 402.318437)scale(0.1 -0.1)\">\n       <defs>\n        <path d=\"M 8.203125 72.90625 \nL 55.078125 72.90625 \nL 55.078125 68.703125 \nL 28.609375 0 \nL 18.3125 0 \nL 43.21875 64.59375 \nL 8.203125 64.59375 \nz\n\" id=\"DejaVuSans-55\"/>\n        <path d=\"M 10.796875 72.90625 \nL 49.515625 72.90625 \nL 49.515625 64.59375 \nL 19.828125 64.59375 \nL 19.828125 46.734375 \nQ 21.96875 47.46875 24.109375 47.828125 \nQ 26.265625 48.1875 28.421875 48.1875 \nQ 40.625 48.1875 47.75 41.5 \nQ 54.890625 34.8125 54.890625 23.390625 \nQ 54.890625 11.625 47.5625 5.09375 \nQ 40.234375 -1.421875 26.90625 -1.421875 \nQ 22.3125 -1.421875 17.546875 -0.640625 \nQ 12.796875 0.140625 7.71875 1.703125 \nL 7.71875 11.625 \nQ 12.109375 9.234375 16.796875 8.0625 \nQ 21.484375 6.890625 26.703125 6.890625 \nQ 35.15625 6.890625 40.078125 11.328125 \nQ 45.015625 15.765625 45.015625 23.390625 \nQ 45.015625 31 40.078125 35.4375 \nQ 35.15625 39.890625 26.703125 39.890625 \nQ 22.75 39.890625 18.8125 39.015625 \nQ 14.890625 38.140625 10.796875 36.28125 \nz\n\" id=\"DejaVuSans-53\"/>\n       </defs>\n       <use xlink:href=\"#DejaVuSans-8722\"/>\n       <use x=\"83.789062\" xlink:href=\"#DejaVuSans-55\"/>\n       <use x=\"147.412109\" xlink:href=\"#DejaVuSans-53\"/>\n      </g>\n     </g>\n    </g>\n    <g id=\"xtick_3\">\n     <g id=\"line2d_3\">\n      <g>\n       <use style=\"stroke:#000000;stroke-width:0.8;\" x=\"190.074632\" xlink:href=\"#m7262e16e6e\" y=\"387.72\"/>\n      </g>\n     </g>\n     <g id=\"text_3\">\n      <!-- −50 -->\n      <g transform=\"translate(179.522288 402.318437)scale(0.1 -0.1)\">\n       <use xlink:href=\"#DejaVuSans-8722\"/>\n       <use x=\"83.789062\" xlink:href=\"#DejaVuSans-53\"/>\n       <use x=\"147.412109\" xlink:href=\"#DejaVuSans-48\"/>\n      </g>\n     </g>\n    </g>\n    <g id=\"xtick_4\">\n     <g id=\"line2d_4\">\n      <g>\n       <use style=\"stroke:#000000;stroke-width:0.8;\" x=\"254.777786\" xlink:href=\"#m7262e16e6e\" y=\"387.72\"/>\n      </g>\n     </g>\n     <g id=\"text_4\">\n      <!-- −25 -->\n      <g transform=\"translate(244.225442 402.318437)scale(0.1 -0.1)\">\n       <defs>\n        <path d=\"M 19.1875 8.296875 \nL 53.609375 8.296875 \nL 53.609375 0 \nL 7.328125 0 \nL 7.328125 8.296875 \nQ 12.9375 14.109375 22.625 23.890625 \nQ 32.328125 33.6875 34.8125 36.53125 \nQ 39.546875 41.84375 41.421875 45.53125 \nQ 43.3125 49.21875 43.3125 52.78125 \nQ 43.3125 58.59375 39.234375 62.25 \nQ 35.15625 65.921875 28.609375 65.921875 \nQ 23.96875 65.921875 18.8125 64.3125 \nQ 13.671875 62.703125 7.8125 59.421875 \nL 7.8125 69.390625 \nQ 13.765625 71.78125 18.9375 73 \nQ 24.125 74.21875 28.421875 74.21875 \nQ 39.75 74.21875 46.484375 68.546875 \nQ 53.21875 62.890625 53.21875 53.421875 \nQ 53.21875 48.921875 51.53125 44.890625 \nQ 49.859375 40.875 45.40625 35.40625 \nQ 44.1875 33.984375 37.640625 27.21875 \nQ 31.109375 20.453125 19.1875 8.296875 \nz\n\" id=\"DejaVuSans-50\"/>\n       </defs>\n       <use xlink:href=\"#DejaVuSans-8722\"/>\n       <use x=\"83.789062\" xlink:href=\"#DejaVuSans-50\"/>\n       <use x=\"147.412109\" xlink:href=\"#DejaVuSans-53\"/>\n      </g>\n     </g>\n    </g>\n    <g id=\"xtick_5\">\n     <g id=\"line2d_5\">\n      <g>\n       <use style=\"stroke:#000000;stroke-width:0.8;\" x=\"319.48094\" xlink:href=\"#m7262e16e6e\" y=\"387.72\"/>\n      </g>\n     </g>\n     <g id=\"text_5\">\n      <!-- 0 -->\n      <g transform=\"translate(316.29969 402.318437)scale(0.1 -0.1)\">\n       <use xlink:href=\"#DejaVuSans-48\"/>\n      </g>\n     </g>\n    </g>\n    <g id=\"xtick_6\">\n     <g id=\"line2d_6\">\n      <g>\n       <use style=\"stroke:#000000;stroke-width:0.8;\" x=\"384.184094\" xlink:href=\"#m7262e16e6e\" y=\"387.72\"/>\n      </g>\n     </g>\n     <g id=\"text_6\">\n      <!-- 25 -->\n      <g transform=\"translate(377.821594 402.318437)scale(0.1 -0.1)\">\n       <use xlink:href=\"#DejaVuSans-50\"/>\n       <use x=\"63.623047\" xlink:href=\"#DejaVuSans-53\"/>\n      </g>\n     </g>\n    </g>\n    <g id=\"xtick_7\">\n     <g id=\"line2d_7\">\n      <g>\n       <use style=\"stroke:#000000;stroke-width:0.8;\" x=\"448.887248\" xlink:href=\"#m7262e16e6e\" y=\"387.72\"/>\n      </g>\n     </g>\n     <g id=\"text_7\">\n      <!-- 50 -->\n      <g transform=\"translate(442.524748 402.318437)scale(0.1 -0.1)\">\n       <use xlink:href=\"#DejaVuSans-53\"/>\n       <use x=\"63.623047\" xlink:href=\"#DejaVuSans-48\"/>\n      </g>\n     </g>\n    </g>\n    <g id=\"xtick_8\">\n     <g id=\"line2d_8\">\n      <g>\n       <use style=\"stroke:#000000;stroke-width:0.8;\" x=\"513.590402\" xlink:href=\"#m7262e16e6e\" y=\"387.72\"/>\n      </g>\n     </g>\n     <g id=\"text_8\">\n      <!-- 75 -->\n      <g transform=\"translate(507.227902 402.318437)scale(0.1 -0.1)\">\n       <use xlink:href=\"#DejaVuSans-55\"/>\n       <use x=\"63.623047\" xlink:href=\"#DejaVuSans-53\"/>\n      </g>\n     </g>\n    </g>\n    <g id=\"xtick_9\">\n     <g id=\"line2d_9\">\n      <g>\n       <use style=\"stroke:#000000;stroke-width:0.8;\" x=\"578.293556\" xlink:href=\"#m7262e16e6e\" y=\"387.72\"/>\n      </g>\n     </g>\n     <g id=\"text_9\">\n      <!-- 100 -->\n      <g transform=\"translate(568.749806 402.318437)scale(0.1 -0.1)\">\n       <use xlink:href=\"#DejaVuSans-49\"/>\n       <use x=\"63.623047\" xlink:href=\"#DejaVuSans-48\"/>\n       <use x=\"127.246094\" xlink:href=\"#DejaVuSans-48\"/>\n      </g>\n     </g>\n    </g>\n   </g>\n   <g id=\"matplotlib.axis_2\">\n    <g id=\"ytick_1\">\n     <g id=\"line2d_10\">\n      <defs>\n       <path d=\"M 0 0 \nL -3.5 0 \n\" id=\"m97c8e4ed8d\" style=\"stroke:#000000;stroke-width:0.8;\"/>\n      </defs>\n      <g>\n       <use style=\"stroke:#000000;stroke-width:0.8;\" x=\"35.304688\" xlink:href=\"#m97c8e4ed8d\" y=\"343.94961\"/>\n      </g>\n     </g>\n     <g id=\"text_10\">\n      <!-- −75 -->\n      <g transform=\"translate(7.2 347.748829)scale(0.1 -0.1)\">\n       <use xlink:href=\"#DejaVuSans-8722\"/>\n       <use x=\"83.789062\" xlink:href=\"#DejaVuSans-55\"/>\n       <use x=\"147.412109\" xlink:href=\"#DejaVuSans-53\"/>\n      </g>\n     </g>\n    </g>\n    <g id=\"ytick_2\">\n     <g id=\"line2d_11\">\n      <g>\n       <use style=\"stroke:#000000;stroke-width:0.8;\" x=\"35.304688\" xlink:href=\"#m97c8e4ed8d\" y=\"299.826234\"/>\n      </g>\n     </g>\n     <g id=\"text_11\">\n      <!-- −50 -->\n      <g transform=\"translate(7.2 303.625453)scale(0.1 -0.1)\">\n       <use xlink:href=\"#DejaVuSans-8722\"/>\n       <use x=\"83.789062\" xlink:href=\"#DejaVuSans-53\"/>\n       <use x=\"147.412109\" xlink:href=\"#DejaVuSans-48\"/>\n      </g>\n     </g>\n    </g>\n    <g id=\"ytick_3\">\n     <g id=\"line2d_12\">\n      <g>\n       <use style=\"stroke:#000000;stroke-width:0.8;\" x=\"35.304688\" xlink:href=\"#m97c8e4ed8d\" y=\"255.702857\"/>\n      </g>\n     </g>\n     <g id=\"text_12\">\n      <!-- −25 -->\n      <g transform=\"translate(7.2 259.502076)scale(0.1 -0.1)\">\n       <use xlink:href=\"#DejaVuSans-8722\"/>\n       <use x=\"83.789062\" xlink:href=\"#DejaVuSans-50\"/>\n       <use x=\"147.412109\" xlink:href=\"#DejaVuSans-53\"/>\n      </g>\n     </g>\n    </g>\n    <g id=\"ytick_4\">\n     <g id=\"line2d_13\">\n      <g>\n       <use style=\"stroke:#000000;stroke-width:0.8;\" x=\"35.304688\" xlink:href=\"#m97c8e4ed8d\" y=\"211.579481\"/>\n      </g>\n     </g>\n     <g id=\"text_13\">\n      <!-- 0 -->\n      <g transform=\"translate(21.942187 215.378699)scale(0.1 -0.1)\">\n       <use xlink:href=\"#DejaVuSans-48\"/>\n      </g>\n     </g>\n    </g>\n    <g id=\"ytick_5\">\n     <g id=\"line2d_14\">\n      <g>\n       <use style=\"stroke:#000000;stroke-width:0.8;\" x=\"35.304688\" xlink:href=\"#m97c8e4ed8d\" y=\"167.456104\"/>\n      </g>\n     </g>\n     <g id=\"text_14\">\n      <!-- 25 -->\n      <g transform=\"translate(15.579687 171.255323)scale(0.1 -0.1)\">\n       <use xlink:href=\"#DejaVuSans-50\"/>\n       <use x=\"63.623047\" xlink:href=\"#DejaVuSans-53\"/>\n      </g>\n     </g>\n    </g>\n    <g id=\"ytick_6\">\n     <g id=\"line2d_15\">\n      <g>\n       <use style=\"stroke:#000000;stroke-width:0.8;\" x=\"35.304688\" xlink:href=\"#m97c8e4ed8d\" y=\"123.332727\"/>\n      </g>\n     </g>\n     <g id=\"text_15\">\n      <!-- 50 -->\n      <g transform=\"translate(15.579687 127.131946)scale(0.1 -0.1)\">\n       <use xlink:href=\"#DejaVuSans-53\"/>\n       <use x=\"63.623047\" xlink:href=\"#DejaVuSans-48\"/>\n      </g>\n     </g>\n    </g>\n    <g id=\"ytick_7\">\n     <g id=\"line2d_16\">\n      <g>\n       <use style=\"stroke:#000000;stroke-width:0.8;\" x=\"35.304688\" xlink:href=\"#m97c8e4ed8d\" y=\"79.209351\"/>\n      </g>\n     </g>\n     <g id=\"text_16\">\n      <!-- 75 -->\n      <g transform=\"translate(15.579687 83.008569)scale(0.1 -0.1)\">\n       <use xlink:href=\"#DejaVuSans-55\"/>\n       <use x=\"63.623047\" xlink:href=\"#DejaVuSans-53\"/>\n      </g>\n     </g>\n    </g>\n    <g id=\"ytick_8\">\n     <g id=\"line2d_17\">\n      <g>\n       <use style=\"stroke:#000000;stroke-width:0.8;\" x=\"35.304688\" xlink:href=\"#m97c8e4ed8d\" y=\"35.085974\"/>\n      </g>\n     </g>\n     <g id=\"text_17\">\n      <!-- 100 -->\n      <g transform=\"translate(9.217187 38.885193)scale(0.1 -0.1)\">\n       <use xlink:href=\"#DejaVuSans-49\"/>\n       <use x=\"63.623047\" xlink:href=\"#DejaVuSans-48\"/>\n       <use x=\"127.246094\" xlink:href=\"#DejaVuSans-48\"/>\n      </g>\n     </g>\n    </g>\n   </g>\n   <g id=\"patch_3\">\n    <path d=\"M 35.304688 387.72 \nL 35.304688 7.2 \n\" style=\"fill:none;stroke:#000000;stroke-linecap:square;stroke-linejoin:miter;stroke-width:0.8;\"/>\n   </g>\n   <g id=\"patch_4\">\n    <path d=\"M 593.304688 387.72 \nL 593.304688 7.2 \n\" style=\"fill:none;stroke:#000000;stroke-linecap:square;stroke-linejoin:miter;stroke-width:0.8;\"/>\n   </g>\n   <g id=\"patch_5\">\n    <path d=\"M 35.304688 387.72 \nL 593.304688 387.72 \n\" style=\"fill:none;stroke:#000000;stroke-linecap:square;stroke-linejoin:miter;stroke-width:0.8;\"/>\n   </g>\n   <g id=\"patch_6\">\n    <path d=\"M 35.304688 7.2 \nL 593.304688 7.2 \n\" style=\"fill:none;stroke:#000000;stroke-linecap:square;stroke-linejoin:miter;stroke-width:0.8;\"/>\n   </g>\n   <g id=\"legend_1\">\n    <g id=\"patch_7\">\n     <path d=\"M 42.304688 59.234375 \nL 140.810938 59.234375 \nQ 142.810938 59.234375 142.810938 57.234375 \nL 142.810938 14.2 \nQ 142.810938 12.2 140.810938 12.2 \nL 42.304688 12.2 \nQ 40.304688 12.2 40.304688 14.2 \nL 40.304688 57.234375 \nQ 40.304688 59.234375 42.304688 59.234375 \nz\n\" style=\"fill:#ffffff;opacity:0.8;stroke:#cccccc;stroke-linejoin:miter;\"/>\n    </g>\n    <g id=\"PathCollection_4\">\n     <g>\n      <use style=\"fill:#0000ff;stroke:#0000ff;\" x=\"54.304688\" xlink:href=\"#mbda7ed6991\" y=\"21.173437\"/>\n     </g>\n    </g>\n    <g id=\"text_18\">\n     <!-- Training Data -->\n     <g transform=\"translate(72.304688 23.798437)scale(0.1 -0.1)\">\n      <defs>\n       <path d=\"M -0.296875 72.90625 \nL 61.375 72.90625 \nL 61.375 64.59375 \nL 35.5 64.59375 \nL 35.5 0 \nL 25.59375 0 \nL 25.59375 64.59375 \nL -0.296875 64.59375 \nz\n\" id=\"DejaVuSans-84\"/>\n       <path d=\"M 41.109375 46.296875 \nQ 39.59375 47.171875 37.8125 47.578125 \nQ 36.03125 48 33.890625 48 \nQ 26.265625 48 22.1875 43.046875 \nQ 18.109375 38.09375 18.109375 28.8125 \nL 18.109375 0 \nL 9.078125 0 \nL 9.078125 54.6875 \nL 18.109375 54.6875 \nL 18.109375 46.1875 \nQ 20.953125 51.171875 25.484375 53.578125 \nQ 30.03125 56 36.53125 56 \nQ 37.453125 56 38.578125 55.875 \nQ 39.703125 55.765625 41.0625 55.515625 \nz\n\" id=\"DejaVuSans-114\"/>\n       <path d=\"M 34.28125 27.484375 \nQ 23.390625 27.484375 19.1875 25 \nQ 14.984375 22.515625 14.984375 16.5 \nQ 14.984375 11.71875 18.140625 8.90625 \nQ 21.296875 6.109375 26.703125 6.109375 \nQ 34.1875 6.109375 38.703125 11.40625 \nQ 43.21875 16.703125 43.21875 25.484375 \nL 43.21875 27.484375 \nz\nM 52.203125 31.203125 \nL 52.203125 0 \nL 43.21875 0 \nL 43.21875 8.296875 \nQ 40.140625 3.328125 35.546875 0.953125 \nQ 30.953125 -1.421875 24.3125 -1.421875 \nQ 15.921875 -1.421875 10.953125 3.296875 \nQ 6 8.015625 6 15.921875 \nQ 6 25.140625 12.171875 29.828125 \nQ 18.359375 34.515625 30.609375 34.515625 \nL 43.21875 34.515625 \nL 43.21875 35.40625 \nQ 43.21875 41.609375 39.140625 45 \nQ 35.0625 48.390625 27.6875 48.390625 \nQ 23 48.390625 18.546875 47.265625 \nQ 14.109375 46.140625 10.015625 43.890625 \nL 10.015625 52.203125 \nQ 14.9375 54.109375 19.578125 55.046875 \nQ 24.21875 56 28.609375 56 \nQ 40.484375 56 46.34375 49.84375 \nQ 52.203125 43.703125 52.203125 31.203125 \nz\n\" id=\"DejaVuSans-97\"/>\n       <path d=\"M 9.421875 54.6875 \nL 18.40625 54.6875 \nL 18.40625 0 \nL 9.421875 0 \nz\nM 9.421875 75.984375 \nL 18.40625 75.984375 \nL 18.40625 64.59375 \nL 9.421875 64.59375 \nz\n\" id=\"DejaVuSans-105\"/>\n       <path d=\"M 54.890625 33.015625 \nL 54.890625 0 \nL 45.90625 0 \nL 45.90625 32.71875 \nQ 45.90625 40.484375 42.875 44.328125 \nQ 39.84375 48.1875 33.796875 48.1875 \nQ 26.515625 48.1875 22.3125 43.546875 \nQ 18.109375 38.921875 18.109375 30.90625 \nL 18.109375 0 \nL 9.078125 0 \nL 9.078125 54.6875 \nL 18.109375 54.6875 \nL 18.109375 46.1875 \nQ 21.34375 51.125 25.703125 53.5625 \nQ 30.078125 56 35.796875 56 \nQ 45.21875 56 50.046875 50.171875 \nQ 54.890625 44.34375 54.890625 33.015625 \nz\n\" id=\"DejaVuSans-110\"/>\n       <path d=\"M 45.40625 27.984375 \nQ 45.40625 37.75 41.375 43.109375 \nQ 37.359375 48.484375 30.078125 48.484375 \nQ 22.859375 48.484375 18.828125 43.109375 \nQ 14.796875 37.75 14.796875 27.984375 \nQ 14.796875 18.265625 18.828125 12.890625 \nQ 22.859375 7.515625 30.078125 7.515625 \nQ 37.359375 7.515625 41.375 12.890625 \nQ 45.40625 18.265625 45.40625 27.984375 \nz\nM 54.390625 6.78125 \nQ 54.390625 -7.171875 48.1875 -13.984375 \nQ 42 -20.796875 29.203125 -20.796875 \nQ 24.46875 -20.796875 20.265625 -20.09375 \nQ 16.0625 -19.390625 12.109375 -17.921875 \nL 12.109375 -9.1875 \nQ 16.0625 -11.328125 19.921875 -12.34375 \nQ 23.78125 -13.375 27.78125 -13.375 \nQ 36.625 -13.375 41.015625 -8.765625 \nQ 45.40625 -4.15625 45.40625 5.171875 \nL 45.40625 9.625 \nQ 42.625 4.78125 38.28125 2.390625 \nQ 33.9375 0 27.875 0 \nQ 17.828125 0 11.671875 7.65625 \nQ 5.515625 15.328125 5.515625 27.984375 \nQ 5.515625 40.671875 11.671875 48.328125 \nQ 17.828125 56 27.875 56 \nQ 33.9375 56 38.28125 53.609375 \nQ 42.625 51.21875 45.40625 46.390625 \nL 45.40625 54.6875 \nL 54.390625 54.6875 \nz\n\" id=\"DejaVuSans-103\"/>\n       <path id=\"DejaVuSans-32\"/>\n       <path d=\"M 19.671875 64.796875 \nL 19.671875 8.109375 \nL 31.59375 8.109375 \nQ 46.6875 8.109375 53.6875 14.9375 \nQ 60.6875 21.78125 60.6875 36.53125 \nQ 60.6875 51.171875 53.6875 57.984375 \nQ 46.6875 64.796875 31.59375 64.796875 \nz\nM 9.8125 72.90625 \nL 30.078125 72.90625 \nQ 51.265625 72.90625 61.171875 64.09375 \nQ 71.09375 55.28125 71.09375 36.53125 \nQ 71.09375 17.671875 61.125 8.828125 \nQ 51.171875 0 30.078125 0 \nL 9.8125 0 \nz\n\" id=\"DejaVuSans-68\"/>\n       <path d=\"M 18.3125 70.21875 \nL 18.3125 54.6875 \nL 36.8125 54.6875 \nL 36.8125 47.703125 \nL 18.3125 47.703125 \nL 18.3125 18.015625 \nQ 18.3125 11.328125 20.140625 9.421875 \nQ 21.96875 7.515625 27.59375 7.515625 \nL 36.8125 7.515625 \nL 36.8125 0 \nL 27.59375 0 \nQ 17.1875 0 13.234375 3.875 \nQ 9.28125 7.765625 9.28125 18.015625 \nL 9.28125 47.703125 \nL 2.6875 47.703125 \nL 2.6875 54.6875 \nL 9.28125 54.6875 \nL 9.28125 70.21875 \nz\n\" id=\"DejaVuSans-116\"/>\n      </defs>\n      <use xlink:href=\"#DejaVuSans-84\"/>\n      <use x=\"46.333984\" xlink:href=\"#DejaVuSans-114\"/>\n      <use x=\"87.447266\" xlink:href=\"#DejaVuSans-97\"/>\n      <use x=\"148.726562\" xlink:href=\"#DejaVuSans-105\"/>\n      <use x=\"176.509766\" xlink:href=\"#DejaVuSans-110\"/>\n      <use x=\"239.888672\" xlink:href=\"#DejaVuSans-105\"/>\n      <use x=\"267.671875\" xlink:href=\"#DejaVuSans-110\"/>\n      <use x=\"331.050781\" xlink:href=\"#DejaVuSans-103\"/>\n      <use x=\"394.527344\" xlink:href=\"#DejaVuSans-32\"/>\n      <use x=\"426.314453\" xlink:href=\"#DejaVuSans-68\"/>\n      <use x=\"503.316406\" xlink:href=\"#DejaVuSans-97\"/>\n      <use x=\"564.595703\" xlink:href=\"#DejaVuSans-116\"/>\n      <use x=\"603.804688\" xlink:href=\"#DejaVuSans-97\"/>\n     </g>\n    </g>\n    <g id=\"PathCollection_5\">\n     <g>\n      <use style=\"fill:#008000;stroke:#008000;\" x=\"54.304688\" xlink:href=\"#m32dce2f8ea\" y=\"35.851562\"/>\n     </g>\n    </g>\n    <g id=\"text_19\">\n     <!-- Testing Data -->\n     <g transform=\"translate(72.304688 38.476562)scale(0.1 -0.1)\">\n      <defs>\n       <path d=\"M 56.203125 29.59375 \nL 56.203125 25.203125 \nL 14.890625 25.203125 \nQ 15.484375 15.921875 20.484375 11.0625 \nQ 25.484375 6.203125 34.421875 6.203125 \nQ 39.59375 6.203125 44.453125 7.46875 \nQ 49.3125 8.734375 54.109375 11.28125 \nL 54.109375 2.78125 \nQ 49.265625 0.734375 44.1875 -0.34375 \nQ 39.109375 -1.421875 33.890625 -1.421875 \nQ 20.796875 -1.421875 13.15625 6.1875 \nQ 5.515625 13.8125 5.515625 26.8125 \nQ 5.515625 40.234375 12.765625 48.109375 \nQ 20.015625 56 32.328125 56 \nQ 43.359375 56 49.78125 48.890625 \nQ 56.203125 41.796875 56.203125 29.59375 \nz\nM 47.21875 32.234375 \nQ 47.125 39.59375 43.09375 43.984375 \nQ 39.0625 48.390625 32.421875 48.390625 \nQ 24.90625 48.390625 20.390625 44.140625 \nQ 15.875 39.890625 15.1875 32.171875 \nz\n\" id=\"DejaVuSans-101\"/>\n       <path d=\"M 44.28125 53.078125 \nL 44.28125 44.578125 \nQ 40.484375 46.53125 36.375 47.5 \nQ 32.28125 48.484375 27.875 48.484375 \nQ 21.1875 48.484375 17.84375 46.4375 \nQ 14.5 44.390625 14.5 40.28125 \nQ 14.5 37.15625 16.890625 35.375 \nQ 19.28125 33.59375 26.515625 31.984375 \nL 29.59375 31.296875 \nQ 39.15625 29.25 43.1875 25.515625 \nQ 47.21875 21.78125 47.21875 15.09375 \nQ 47.21875 7.46875 41.1875 3.015625 \nQ 35.15625 -1.421875 24.609375 -1.421875 \nQ 20.21875 -1.421875 15.453125 -0.5625 \nQ 10.6875 0.296875 5.421875 2 \nL 5.421875 11.28125 \nQ 10.40625 8.6875 15.234375 7.390625 \nQ 20.0625 6.109375 24.8125 6.109375 \nQ 31.15625 6.109375 34.5625 8.28125 \nQ 37.984375 10.453125 37.984375 14.40625 \nQ 37.984375 18.0625 35.515625 20.015625 \nQ 33.0625 21.96875 24.703125 23.78125 \nL 21.578125 24.515625 \nQ 13.234375 26.265625 9.515625 29.90625 \nQ 5.8125 33.546875 5.8125 39.890625 \nQ 5.8125 47.609375 11.28125 51.796875 \nQ 16.75 56 26.8125 56 \nQ 31.78125 56 36.171875 55.265625 \nQ 40.578125 54.546875 44.28125 53.078125 \nz\n\" id=\"DejaVuSans-115\"/>\n      </defs>\n      <use xlink:href=\"#DejaVuSans-84\"/>\n      <use x=\"44.083984\" xlink:href=\"#DejaVuSans-101\"/>\n      <use x=\"105.607422\" xlink:href=\"#DejaVuSans-115\"/>\n      <use x=\"157.707031\" xlink:href=\"#DejaVuSans-116\"/>\n      <use x=\"196.916016\" xlink:href=\"#DejaVuSans-105\"/>\n      <use x=\"224.699219\" xlink:href=\"#DejaVuSans-110\"/>\n      <use x=\"288.078125\" xlink:href=\"#DejaVuSans-103\"/>\n      <use x=\"351.554688\" xlink:href=\"#DejaVuSans-32\"/>\n      <use x=\"383.341797\" xlink:href=\"#DejaVuSans-68\"/>\n      <use x=\"460.34375\" xlink:href=\"#DejaVuSans-97\"/>\n      <use x=\"521.623047\" xlink:href=\"#DejaVuSans-116\"/>\n      <use x=\"560.832031\" xlink:href=\"#DejaVuSans-97\"/>\n     </g>\n    </g>\n    <g id=\"PathCollection_6\">\n     <g>\n      <use style=\"fill:#ff0000;stroke:#ff0000;\" x=\"54.304688\" xlink:href=\"#mdde7c1c859\" y=\"50.529687\"/>\n     </g>\n    </g>\n    <g id=\"text_20\">\n     <!-- Predictions -->\n     <g transform=\"translate(72.304688 53.154687)scale(0.1 -0.1)\">\n      <defs>\n       <path d=\"M 19.671875 64.796875 \nL 19.671875 37.40625 \nL 32.078125 37.40625 \nQ 38.96875 37.40625 42.71875 40.96875 \nQ 46.484375 44.53125 46.484375 51.125 \nQ 46.484375 57.671875 42.71875 61.234375 \nQ 38.96875 64.796875 32.078125 64.796875 \nz\nM 9.8125 72.90625 \nL 32.078125 72.90625 \nQ 44.34375 72.90625 50.609375 67.359375 \nQ 56.890625 61.8125 56.890625 51.125 \nQ 56.890625 40.328125 50.609375 34.8125 \nQ 44.34375 29.296875 32.078125 29.296875 \nL 19.671875 29.296875 \nL 19.671875 0 \nL 9.8125 0 \nz\n\" id=\"DejaVuSans-80\"/>\n       <path d=\"M 45.40625 46.390625 \nL 45.40625 75.984375 \nL 54.390625 75.984375 \nL 54.390625 0 \nL 45.40625 0 \nL 45.40625 8.203125 \nQ 42.578125 3.328125 38.25 0.953125 \nQ 33.9375 -1.421875 27.875 -1.421875 \nQ 17.96875 -1.421875 11.734375 6.484375 \nQ 5.515625 14.40625 5.515625 27.296875 \nQ 5.515625 40.1875 11.734375 48.09375 \nQ 17.96875 56 27.875 56 \nQ 33.9375 56 38.25 53.625 \nQ 42.578125 51.265625 45.40625 46.390625 \nz\nM 14.796875 27.296875 \nQ 14.796875 17.390625 18.875 11.75 \nQ 22.953125 6.109375 30.078125 6.109375 \nQ 37.203125 6.109375 41.296875 11.75 \nQ 45.40625 17.390625 45.40625 27.296875 \nQ 45.40625 37.203125 41.296875 42.84375 \nQ 37.203125 48.484375 30.078125 48.484375 \nQ 22.953125 48.484375 18.875 42.84375 \nQ 14.796875 37.203125 14.796875 27.296875 \nz\n\" id=\"DejaVuSans-100\"/>\n       <path d=\"M 48.78125 52.59375 \nL 48.78125 44.1875 \nQ 44.96875 46.296875 41.140625 47.34375 \nQ 37.3125 48.390625 33.40625 48.390625 \nQ 24.65625 48.390625 19.8125 42.84375 \nQ 14.984375 37.3125 14.984375 27.296875 \nQ 14.984375 17.28125 19.8125 11.734375 \nQ 24.65625 6.203125 33.40625 6.203125 \nQ 37.3125 6.203125 41.140625 7.25 \nQ 44.96875 8.296875 48.78125 10.40625 \nL 48.78125 2.09375 \nQ 45.015625 0.34375 40.984375 -0.53125 \nQ 36.96875 -1.421875 32.421875 -1.421875 \nQ 20.0625 -1.421875 12.78125 6.34375 \nQ 5.515625 14.109375 5.515625 27.296875 \nQ 5.515625 40.671875 12.859375 48.328125 \nQ 20.21875 56 33.015625 56 \nQ 37.15625 56 41.109375 55.140625 \nQ 45.0625 54.296875 48.78125 52.59375 \nz\n\" id=\"DejaVuSans-99\"/>\n       <path d=\"M 30.609375 48.390625 \nQ 23.390625 48.390625 19.1875 42.75 \nQ 14.984375 37.109375 14.984375 27.296875 \nQ 14.984375 17.484375 19.15625 11.84375 \nQ 23.34375 6.203125 30.609375 6.203125 \nQ 37.796875 6.203125 41.984375 11.859375 \nQ 46.1875 17.53125 46.1875 27.296875 \nQ 46.1875 37.015625 41.984375 42.703125 \nQ 37.796875 48.390625 30.609375 48.390625 \nz\nM 30.609375 56 \nQ 42.328125 56 49.015625 48.375 \nQ 55.71875 40.765625 55.71875 27.296875 \nQ 55.71875 13.875 49.015625 6.21875 \nQ 42.328125 -1.421875 30.609375 -1.421875 \nQ 18.84375 -1.421875 12.171875 6.21875 \nQ 5.515625 13.875 5.515625 27.296875 \nQ 5.515625 40.765625 12.171875 48.375 \nQ 18.84375 56 30.609375 56 \nz\n\" id=\"DejaVuSans-111\"/>\n      </defs>\n      <use xlink:href=\"#DejaVuSans-80\"/>\n      <use x=\"58.552734\" xlink:href=\"#DejaVuSans-114\"/>\n      <use x=\"97.416016\" xlink:href=\"#DejaVuSans-101\"/>\n      <use x=\"158.939453\" xlink:href=\"#DejaVuSans-100\"/>\n      <use x=\"222.416016\" xlink:href=\"#DejaVuSans-105\"/>\n      <use x=\"250.199219\" xlink:href=\"#DejaVuSans-99\"/>\n      <use x=\"305.179688\" xlink:href=\"#DejaVuSans-116\"/>\n      <use x=\"344.388672\" xlink:href=\"#DejaVuSans-105\"/>\n      <use x=\"372.171875\" xlink:href=\"#DejaVuSans-111\"/>\n      <use x=\"433.353516\" xlink:href=\"#DejaVuSans-110\"/>\n      <use x=\"496.732422\" xlink:href=\"#DejaVuSans-115\"/>\n     </g>\n    </g>\n   </g>\n  </g>\n </g>\n <defs>\n  <clipPath id=\"p35ef57b966\">\n   <rect height=\"380.52\" width=\"558\" x=\"35.304688\" y=\"7.2\"/>\n  </clipPath>\n </defs>\n</svg>\n",
      "image/png": "[encoded data removed]"
     },
     "metadata": {
      "needs_background": "light"
     }
    }
   ],
   "source": [
    "y_preds_3 = model_3.predict(X_test)\n",
    "plot_predictions(train_data = X_train,\n",
    "                 train_labels = y_train,\n",
    "                 test_data = X_test,\n",
    "                 test_labels = y_test,\n",
    "                 predictions=y_preds_3)\n"
   ]
  },
  {
   "cell_type": "code",
   "execution_count": 123,
   "metadata": {},
   "outputs": [
    {
     "output_type": "execute_result",
     "data": {
      "text/plain": [
       "(67.90955, 4696.0615)"
      ]
     },
     "metadata": {},
     "execution_count": 123
    }
   ],
   "source": [
    "# Calculate model_2 evaluation metrics\n",
    "mae_3 = mae(y_test, y_preds_3)\n",
    "mse_3 = mse(y_test, y_preds_3)\n",
    "mae_3, mse_3"
   ]
  },
  {
   "source": [
    "# Comparing the results of our experiments\n",
    "\n",
    "We've run a few experiments now, let's compare the results.\n",
    "\n",
    "### Tracking your experiments\n",
    "One really good habit in machine learning modeling is to track the results of your experiments.\n",
    "When doing so, it can be tedious if you are running lots of experiments. Luckily there are tools to help us.\n",
    "As you build more models you'll want to look into using:\n",
    "\n",
    "* TensorBoard - a component of the tensorflow library to help track modelling experiments.\n",
    "* Weights and Biases - a tool for tracking all kinds of machine learning experiments. Plugs straight into tensorboard.\n"
   ],
   "cell_type": "markdown",
   "metadata": {}
  },
  {
   "cell_type": "code",
   "execution_count": 124,
   "metadata": {},
   "outputs": [
    {
     "output_type": "execute_result",
     "data": {
      "text/plain": [
       "     model        mae          mse\n",
       "0  model_1  18.745327   353.573364\n",
       "1  model_2   3.110996    12.497055\n",
       "2  model_3  67.909554  4696.061523"
      ],
      "text/html": "<div>\n<style scoped>\n    .dataframe tbody tr th:only-of-type {\n        vertical-align: middle;\n    }\n\n    .dataframe tbody tr th {\n        vertical-align: top;\n    }\n\n    .dataframe thead th {\n        text-align: right;\n    }\n</style>\n<table border=\"1\" class=\"dataframe\">\n  <thead>\n    <tr style=\"text-align: right;\">\n      <th></th>\n      <th>model</th>\n      <th>mae</th>\n      <th>mse</th>\n    </tr>\n  </thead>\n  <tbody>\n    <tr>\n      <th>0</th>\n      <td>model_1</td>\n      <td>18.745327</td>\n      <td>353.573364</td>\n    </tr>\n    <tr>\n      <th>1</th>\n      <td>model_2</td>\n      <td>3.110996</td>\n      <td>12.497055</td>\n    </tr>\n    <tr>\n      <th>2</th>\n      <td>model_3</td>\n      <td>67.909554</td>\n      <td>4696.061523</td>\n    </tr>\n  </tbody>\n</table>\n</div>"
     },
     "metadata": {},
     "execution_count": 124
    }
   ],
   "source": [
    "# Lets compare our models results using a pandas dataframe\n",
    "model_results = [\n",
    "    [\"model_1\", mae_1, mse_1],\n",
    "    [\"model_2\", mae_2, mse_2],\n",
    "    [\"model_3\", mae_3, mse_3]\n",
    "]\n",
    "\n",
    "all_results = pd.DataFrame(model_results, columns=[\"model\", \"mae\", \"mse\"])\n",
    "all_results"
   ]
  },
  {
   "cell_type": "code",
   "execution_count": 125,
   "metadata": {},
   "outputs": [
    {
     "output_type": "stream",
     "name": "stdout",
     "text": [
      "Model: \"sequential_23\"\n_________________________________________________________________\nLayer (type)                 Output Shape              Param #   \n=================================================================\ndense_38 (Dense)             (None, 10)                20        \n_________________________________________________________________\ndense_39 (Dense)             (None, 1)                 11        \n=================================================================\nTotal params: 31\nTrainable params: 31\nNon-trainable params: 0\n_________________________________________________________________\n"
     ]
    }
   ],
   "source": [
    "# Model 2 performed the best, lets look at it\n",
    "model_2.summary()"
   ]
  },
  {
   "source": [],
   "cell_type": "markdown",
   "metadata": {}
  },
  {
   "source": [
    "# Saving and Loading Models\n",
    "\n",
    "There are two main formats we can save our model to:\n",
    "\n",
    "1. SavedModel format - pb file (protobuf file)\n",
    "\n",
    "2. HDF5 format - hierarchical data format, this may be better if we will be using the model outside of pure tensorflow code"
   ],
   "cell_type": "markdown",
   "metadata": {}
  },
  {
   "cell_type": "code",
   "execution_count": 130,
   "metadata": {},
   "outputs": [
    {
     "output_type": "stream",
     "name": "stdout",
     "text": [
      "INFO:tensorflow:Assets written to: ./saved_model_2/assets\n"
     ]
    }
   ],
   "source": [
    "# Save the model in both pb and hdf5 formats\n",
    "model_2.save(\"./saved_model_2\") #saves in pb format\n",
    "model_2.save(\"./saved_model_2.h5\") #saves in hdf5 form, just by adding .h5 to the extension"
   ]
  },
  {
   "cell_type": "code",
   "execution_count": 132,
   "metadata": {},
   "outputs": [
    {
     "output_type": "stream",
     "name": "stdout",
     "text": [
      "Model: \"sequential_23\"\n_________________________________________________________________\nLayer (type)                 Output Shape              Param #   \n=================================================================\ndense_38 (Dense)             (None, 10)                20        \n_________________________________________________________________\ndense_39 (Dense)             (None, 1)                 11        \n=================================================================\nTotal params: 31\nTrainable params: 31\nNon-trainable params: 0\n_________________________________________________________________\n"
     ]
    }
   ],
   "source": [
    "# Loading in a saved model (pb format)\n",
    "loaded_SavedModel_pb = tf.keras.models.load_model(\"./saved_model_2\")\n",
    "loaded_SavedModel_pb.summary()"
   ]
  },
  {
   "cell_type": "code",
   "execution_count": 137,
   "metadata": {},
   "outputs": [
    {
     "output_type": "execute_result",
     "data": {
      "text/plain": [
       "(3.1109955,\n",
       " 3.1109955,\n",
       " array([[ True],\n",
       "        [ True],\n",
       "        [ True],\n",
       "        [ True],\n",
       "        [ True],\n",
       "        [ True],\n",
       "        [ True],\n",
       "        [ True],\n",
       "        [ True],\n",
       "        [ True]]))"
      ]
     },
     "metadata": {},
     "execution_count": 137
    }
   ],
   "source": [
    "# Compare model_2 predictions with SavedModel format model predictions\n",
    "model_2_preds = model_2.predict(X_test)\n",
    "loaded_savedmodel_2_pb_preds = loaded_SavedModel_pb.predict(X_test)\n",
    "mae(y_true = y_test, y_pred=model_2_preds), mae(y_true = y_test, y_pred=loaded_savedmodel_2_pb_preds), model_2_preds == loaded_savedmodel_2_pb_preds"
   ]
  },
  {
   "cell_type": "code",
   "execution_count": 136,
   "metadata": {},
   "outputs": [
    {
     "output_type": "stream",
     "name": "stdout",
     "text": [
      "Model: \"sequential_23\"\n_________________________________________________________________\nLayer (type)                 Output Shape              Param #   \n=================================================================\ndense_38 (Dense)             (None, 10)                20        \n_________________________________________________________________\ndense_39 (Dense)             (None, 1)                 11        \n=================================================================\nTotal params: 31\nTrainable params: 31\nNon-trainable params: 0\n_________________________________________________________________\n"
     ]
    }
   ],
   "source": [
    "# Loading in a saved model (hdf5 format)\n",
    "loaded_SavedModel_h5 = tf.keras.models.load_model(\"./saved_model_2.h5\")\n",
    "loaded_SavedModel_h5.summary()"
   ]
  },
  {
   "cell_type": "code",
   "execution_count": 138,
   "metadata": {},
   "outputs": [
    {
     "output_type": "execute_result",
     "data": {
      "text/plain": [
       "(3.1109955,\n",
       " 3.1109955,\n",
       " array([[ True],\n",
       "        [ True],\n",
       "        [ True],\n",
       "        [ True],\n",
       "        [ True],\n",
       "        [ True],\n",
       "        [ True],\n",
       "        [ True],\n",
       "        [ True],\n",
       "        [ True]]))"
      ]
     },
     "metadata": {},
     "execution_count": 138
    }
   ],
   "source": [
    "# Compare model_2 predictions with SavedModel format model predictions\n",
    "model_2_preds = model_2.predict(X_test)\n",
    "loaded_savedmodel_2_h5_preds = loaded_SavedModel_h5.predict(X_test)\n",
    "mae(y_true = y_test, y_pred=model_2_preds), mae(y_true = y_test, y_pred=loaded_savedmodel_2_h5_preds), model_2_preds == loaded_savedmodel_2_h5_preds"
   ]
  }
 ]
}